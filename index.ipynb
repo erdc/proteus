{
 "cells": [
  {
   "cell_type": "markdown",
   "metadata": {},
   "source": [
    "- [adr-complete-parallel](notebooks/Tutorials/Tutorial_2/adr-complete-parallel.ipynb)\n",
    "- [adr-complete-serial](notebooks/Tutorials/Tutorial_2/adr-complete-serial.ipynb)\n",
    "- [Flume](notebooks/Applications/wavetank2d/Flume.ipynb)\n",
    "- [Introduction](notebooks/Tutorials/Tutorial_1/Introduction.ipynb)\n",
    "- [navier_stokes](notebooks/Tutorials/Tutorial_4/navier_stokes.ipynb)\n",
    "- [Proteus_Applications](notebooks/Applications/Proteus_Applications.ipynb)\n",
    "- [Proteus_Notebooks_Home](notebooks/Proteus_Notebooks_Home.ipynb)\n",
    "- [Proteus_Tutorials](notebooks/Tutorials/Proteus_Tutorials.ipynb)"
   ]
  }
 ],
 "metadata": {
  "kernelspec": {
   "display_name": "Python 2",
   "language": "python",
   "name": "python2"
  },
  "language_info": {
   "codemirror_mode": {
    "name": "ipython",
    "version": 2
   },
   "file_extension": ".py",
   "mimetype": "text/x-python",
   "name": "python",
   "nbconvert_exporter": "python",
   "pygments_lexer": "ipython2",
   "version": "2.7.11"
  }
 },
 "nbformat": 4,
 "nbformat_minor": 2
}
