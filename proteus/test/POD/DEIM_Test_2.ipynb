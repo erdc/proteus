{
 "metadata": {
  "name": "",
  "signature": "sha256:cb94af408e1a1190cc37f0300a21a20f164345703dcd1ba5bcf53e8ceeedac7b"
 },
 "nbformat": 3,
 "nbformat_minor": 0,
 "worksheets": [
  {
   "cells": [
    {
     "cell_type": "markdown",
     "metadata": {},
     "source": [
      "#DEIM Example?\n",
      "Try to work through the discrete empirical interpolation method (DEIM) on a simple ODE\n",
      "\n",
      "$$\n",
      "\\frac{\\mathrm d \\vec y}{\\mathrm d t} = \\mathbf{A}\\vec y - \\vec F (\\vec y) \\\\\n",
      "\\vec F(y) = \\vec y^2, \n",
      "$$\n",
      "Here $\\mathbf{A}$ is diagonal and $F_i = y_i^2$, where $\\vec y \\in R^n$. In other words, we have $n$ uncoupled equations\n",
      "$$\n",
      "\\frac{\\mathrm d y_i}{\\mathrm d t} = a_{ii}y_i - y_i^2 \\\\\n",
      "$$\n"
     ]
    },
    {
     "cell_type": "markdown",
     "metadata": {},
     "source": [
      "##Problem setup"
     ]
    },
    {
     "cell_type": "code",
     "collapsed": false,
     "input": [
      "import numpy as np\n",
      "import scipy\n",
      "import matplotlib.pyplot as plt\n",
      "from scipy import integrate"
     ],
     "language": "python",
     "metadata": {},
     "outputs": []
    },
    {
     "cell_type": "code",
     "collapsed": false,
     "input": [
      "%matplotlib inline"
     ],
     "language": "python",
     "metadata": {},
     "outputs": []
    },
    {
     "cell_type": "markdown",
     "metadata": {},
     "source": [
      "###Define the functions, parameters, and temporal domain"
     ]
    },
    {
     "cell_type": "code",
     "collapsed": false,
     "input": [
      "def F(y):\n",
      "    \"\"\"nonlinear function testing\"\"\"\n",
      "    return y*y\n"
     ],
     "language": "python",
     "metadata": {},
     "outputs": []
    },
    {
     "cell_type": "markdown",
     "metadata": {},
     "source": [
      "Treat each component as a member of a 'grid' (e.g., MOL) to help build up the example to a PDE."
     ]
    },
    {
     "cell_type": "code",
     "collapsed": false,
     "input": [
      "#spatial interval\n",
      "xL=0.0; Lx=2.0\n",
      "#time interval\n",
      "T=1.0"
     ],
     "language": "python",
     "metadata": {},
     "outputs": []
    },
    {
     "cell_type": "code",
     "collapsed": false,
     "input": [
      "#number of nodes in grid\n",
      "n = 101\n",
      "x = np.linspace(xL,xL+Lx,101)\n",
      "#'spatially varying parameter\n",
      "a = -x*x\n",
      "#number of time steps \n",
      "n_t = 50\n",
      "dt = T/float(n_t)\n",
      "#initial time\n",
      "t=0.\n",
      "tnList = np.linspace(0,T,n_t+1)\n",
      "#initial condition\n",
      "y0 = np.sin(2.0*np.pi*x)**2"
     ],
     "language": "python",
     "metadata": {},
     "outputs": []
    },
    {
     "cell_type": "markdown",
     "metadata": {},
     "source": [
      "###The right hand side function for the ode"
     ]
    },
    {
     "cell_type": "code",
     "collapsed": false,
     "input": [
      "def rhs(y,t,A,Fh):\n",
      "    return np.dot(A,y)-Fh(y)"
     ],
     "language": "python",
     "metadata": {},
     "outputs": []
    },
    {
     "cell_type": "markdown",
     "metadata": {},
     "source": [
      "Check the function implementations"
     ]
    },
    {
     "cell_type": "code",
     "collapsed": false,
     "input": [
      "f = F(y0)"
     ],
     "language": "python",
     "metadata": {},
     "outputs": []
    },
    {
     "cell_type": "code",
     "collapsed": false,
     "input": [
      "fig = plt.figure()\n",
      "ax = fig.gca()\n",
      "ax.plot(x,y0,'b',x,f,'r')\n",
      "plt.xlabel('x')\n",
      "plt.ylabel('y')\n",
      "leg=ax.legend(['$y^0$','$f(y^0)$'],loc=3)"
     ],
     "language": "python",
     "metadata": {},
     "outputs": []
    },
    {
     "cell_type": "markdown",
     "metadata": {},
     "source": [
      "##Generate Snapshots"
     ]
    },
    {
     "cell_type": "markdown",
     "metadata": {},
     "source": [
      "###\"Run\" forward problem\n",
      "March from $[0,T]$ in $n_t$ steps by solving ODE"
     ]
    },
    {
     "cell_type": "code",
     "collapsed": false,
     "input": [
      "y,infodict = integrate.odeint(rhs,y0,tnList,(np.diag(a),F,),full_output=True)\n",
      "Ysnap=y[1:,:].T"
     ],
     "language": "python",
     "metadata": {},
     "outputs": []
    },
    {
     "cell_type": "markdown",
     "metadata": {},
     "source": [
      "Collect snapshots"
     ]
    },
    {
     "cell_type": "code",
     "collapsed": false,
     "input": [
      "Fsnap=np.zeros((n,n_t))\n",
      "for j in range(n_t):    \n",
      "    Fsnap[:,j]=F(Ysnap[:,j])"
     ],
     "language": "python",
     "metadata": {},
     "outputs": []
    },
    {
     "cell_type": "markdown",
     "metadata": {},
     "source": [
      "Just check the solutions at different times"
     ]
    },
    {
     "cell_type": "code",
     "collapsed": false,
     "input": [
      "index = n_t-1#2#n_t-10\n",
      "\n",
      "fig = plt.figure()\n",
      "ax = fig.gca()\n",
      "ax.plot(x,Ysnap[:,index],'b',x,Fsnap[:,index],'r')\n",
      "plt.xlabel('x')\n",
      "plt.ylabel('y')\n",
      "plt.title('Snapshots at time $t^i=%12.3f$' % (index*dt))\n",
      "leg=ax.legend(['$y^i$','$F(y^i)$'],loc=2)"
     ],
     "language": "python",
     "metadata": {},
     "outputs": []
    },
    {
     "cell_type": "markdown",
     "metadata": {},
     "source": [
      "##Singular Value Decompositions"
     ]
    },
    {
     "cell_type": "markdown",
     "metadata": {},
     "source": [
      "Perform SVD for both snapshots\n",
      "$$\n",
      "\\mathbf{VSW}^{T} = \\mathbf{Y}\n",
      "$$\n",
      "and \n",
      "$$\n",
      "\\mathbf{U}\\mathbf{S}_F\\mathbf{W}_F^T=\\mathbf{F}\n",
      "$$"
     ]
    },
    {
     "cell_type": "code",
     "collapsed": false,
     "input": [
      "V,S,W = np.linalg.svd(Ysnap,full_matrices=True)"
     ],
     "language": "python",
     "metadata": {},
     "outputs": []
    },
    {
     "cell_type": "code",
     "collapsed": false,
     "input": [
      "U,Sf,Wf=np.linalg.svd(Fsnap,full_matrices=True)"
     ],
     "language": "python",
     "metadata": {},
     "outputs": []
    },
    {
     "cell_type": "markdown",
     "metadata": {},
     "source": [
      "Look at the eigenvalues for the decompositions"
     ]
    },
    {
     "cell_type": "code",
     "collapsed": false,
     "input": [
      "fig=plt.figure()\n",
      "ax = fig.gca()\n",
      "plt.subplot(1,2,1)\n",
      "plt.plot(np.log(S),'b*',label='S')\n",
      "plt.ylabel('singular values, $\\mathbf{Y}$')\n",
      "plt.subplot(1,2,2)\n",
      "plt.plot(np.log(Sf),'r*',label='$S_f$')\n",
      "plt.ylabel('singular values, $\\mathbf{F}$')\n"
     ],
     "language": "python",
     "metadata": {},
     "outputs": []
    },
    {
     "cell_type": "markdown",
     "metadata": {},
     "source": [
      "Test reduced representation"
     ]
    },
    {
     "cell_type": "code",
     "collapsed": false,
     "input": [
      "#truncate solution snapshots\n",
      "n_k = 10\n",
      "V_k = V[:,0:n_k]\n",
      "V_kT= V_k.conj().T\n",
      "V_kT.shape"
     ],
     "language": "python",
     "metadata": {},
     "outputs": []
    },
    {
     "cell_type": "markdown",
     "metadata": {},
     "source": [
      "##Evolve the reduced system \n",
      "\n",
      "###compute the reduced linear part\n",
      "$$\n",
      "\\hat{\\mathbf{A}} = \\mathbf{V}_k^{T}\\mathbf{A}\\mathbf{V}_k\n",
      "$$"
     ]
    },
    {
     "cell_type": "code",
     "collapsed": false,
     "input": [
      "Ahat=V_kT.dot(np.dot(np.diag(a),V_k))"
     ],
     "language": "python",
     "metadata": {},
     "outputs": []
    },
    {
     "cell_type": "markdown",
     "metadata": {},
     "source": [
      "##define a brute force evaluation on the fine grid"
     ]
    },
    {
     "cell_type": "code",
     "collapsed": false,
     "input": [
      "def Ff2c(yc):\n",
      "    \"\"\"\n",
      "    evaluate F for the reduced model by projecting to the fine grid, evaluating, \n",
      "    and then restricting\n",
      "    \n",
      "    returns V_k^T (V_k y)^2\n",
      "    Here the square means component\n",
      "    \"\"\"\n",
      "    yf = np.dot(V_k,yc)\n",
      "    yf *= yf\n",
      "    return np.dot(V_kT,yf)\n"
     ],
     "language": "python",
     "metadata": {},
     "outputs": []
    },
    {
     "cell_type": "markdown",
     "metadata": {},
     "source": [
      "###integrate forward in time"
     ]
    },
    {
     "cell_type": "code",
     "collapsed": false,
     "input": [
      "yc0 = np.dot(V_kT,y0)\n",
      "yc,infodict = integrate.odeint(rhs,yc0,tnList,(Ahat,Ff2c,),full_output=True)"
     ],
     "language": "python",
     "metadata": {},
     "outputs": []
    },
    {
     "cell_type": "markdown",
     "metadata": {},
     "source": [
      "##project back to fine grid for comparison\n",
      "\n",
      "Recall output of `odeint` is (n_t+1) x n_k"
     ]
    },
    {
     "cell_type": "code",
     "collapsed": false,
     "input": [
      "yc2f = np.zeros((yc.shape[0],n))\n",
      "for i in range(yc.shape[0]):\n",
      "    yc2f[i,:] = np.dot(V_k,yc[i,:])\n",
      "    "
     ],
     "language": "python",
     "metadata": {},
     "outputs": []
    },
    {
     "cell_type": "markdown",
     "metadata": {},
     "source": [
      "##compare reduced solution to fine grid for different times\n"
     ]
    },
    {
     "cell_type": "code",
     "collapsed": false,
     "input": [
      "index = n_t-2#2#n_t-10\n",
      "#note y,y2cf are (n_t+1) x n which is transpose of snapshots\n",
      "fig = plt.figure()\n",
      "ax = fig.gca()\n",
      "ax.plot(x,y[index,:],'b',x,yc2f[index,:],'r')\n",
      "plt.xlabel('x')\n",
      "plt.ylabel('y')\n",
      "plt.title('solutions at time $t^i=%12.3f$' % (tnList[index]))\n",
      "leg=ax.legend(['$y^i$','$\\hat{y}^i$'],loc=1)"
     ],
     "language": "python",
     "metadata": {},
     "outputs": []
    },
    {
     "cell_type": "markdown",
     "metadata": {},
     "source": [
      "###try a widget for practice"
     ]
    },
    {
     "cell_type": "code",
     "collapsed": false,
     "input": [
      "from IPython.html import widgets\n",
      "from IPython.display import display"
     ],
     "language": "python",
     "metadata": {},
     "outputs": []
    },
    {
     "cell_type": "code",
     "collapsed": false,
     "input": [
      "widgets.interact?"
     ],
     "language": "python",
     "metadata": {},
     "outputs": []
    },
    {
     "cell_type": "code",
     "collapsed": false,
     "input": [
      "def plot_k(index):\n",
      "    plt.plot(x,y[index,:],'b',x,yc2f[index,:],'r')\n",
      "    plt.xlabel('x'); plt.ylabel('y')\n",
      "    plt.title('POD and full solutions at time $t^i=%12.3f$' % (tnList[index]))\n",
      "    leg=plt.legend(['$y^i$','$\\hat{y}^i$'],loc=1)\n",
      "\n",
      "wid = widgets.interact(plot_k,\n",
      "                       index=widgets.IntSliderWidget(min=0,max=n_t))\n",
      "display(wid)"
     ],
     "language": "python",
     "metadata": {},
     "outputs": []
    },
    {
     "cell_type": "markdown",
     "metadata": {},
     "source": [
      "##Now actually try DEIM for evaluating nonlinearity"
     ]
    },
    {
     "cell_type": "markdown",
     "metadata": {},
     "source": [
      "###Basic procedure\n",
      "\n",
      "- pick $m$, dimension for $F$ reduced basis $\\mathbf{U}_m$\n",
      "- call DEIM algorithm to determine $\\vec \\rho$. \n",
      "- build $\\mathbf{P}$ from $\\rho$ as \n",
      "$$\n",
      "\\mathbf{P} = [\\vec e_{\\rho_1},\\vec e_{\\rho_2},\\dots,\\vec e_{\\rho_m}]\n",
      "$$\n",
      "- invert $\\mathbf{P}^T\\mathbf{U}_m$\n",
      "- set $\\mathbf{P}_F=\\mathbf{U}_m(\\mathbf{P}^T\\mathbf{U}_m)^{-1}$\n",
      "- During evolution\n",
      "    - project to fine grid $\\vec y = \\mathbf{V}_k \\vec y_c$\n",
      "    - evaluate $\\vec F(V_k\\vec y_c)$ at indices in $\\vec \\rho \\rightarrow \\vec c$\n",
      "    - apply DEIM interpolant $\\vec F_c = \\mathbf{V}_k^T\\mathbf{P}_F\\vec c$\n",
      "    - use $\\vec F_c$ in right hand side of reduced ODE"
     ]
    },
    {
     "cell_type": "code",
     "collapsed": false,
     "input": [
      "def DEIM(Uin):\n",
      "    \"\"\"\n",
      "    input: Uin n x m array of basis vectors for nonlinear function snapshots\n",
      "    output: rho, m vector of indices \\rho_i for extracting $\\vec F$ values\n",
      "\n",
      "    \"\"\"\n",
      "    n,m=Uin.shape\n",
      "    rind = np.argmax(np.absolute(Uin[:,0]))\n",
      "    U=np.array(Uin[:,0])\n",
      "    rho=np.array([rind],'i')\n",
      "    #Pt = np.zeros((1,n),'d')\n",
      "    #P[0,rind]=1.0\n",
      "    for j in range(1,m):\n",
      "        u = Uin[:,j]        \n",
      "        Up=U[rho]#Up= np.dot(Pt,U)\n",
      "        up=u[rho]#up= np.dot(Pt,u)\n",
      "        if j==1:\n",
      "            c=up/Up\n",
      "            r=u-U*c\n",
      "        else:\n",
      "            c =np.linalg.solve(Up,up)\n",
      "            r=u-np.dot(U,c)          \n",
      "        rind=np.argmax(np.absolute(r))\n",
      "        rho_new = np.zeros(j+1,'i'); \n",
      "        rho_new[:-1]=rho; rho_new[-1]=rind; rho = rho_new\n",
      "        U_new=np.zeros((n,j+1),'d')\n",
      "        U_new[:,:-1]=U.reshape(n,j); U_new[:,-1]=u\n",
      "        U=U_new\n",
      "    #\n",
      "    return rho"
     ],
     "language": "python",
     "metadata": {},
     "outputs": []
    },
    {
     "cell_type": "code",
     "collapsed": false,
     "input": [
      "#truncate basis\n",
      "m = 2\n",
      "Um = U[:,0:m]\n",
      "\n"
     ],
     "language": "python",
     "metadata": {},
     "outputs": []
    },
    {
     "cell_type": "code",
     "collapsed": false,
     "input": [
      "rho = DEIM(Um)\n",
      "print 'after calling DEIM, rho=',rho"
     ],
     "language": "python",
     "metadata": {},
     "outputs": []
    },
    {
     "cell_type": "markdown",
     "metadata": {},
     "source": [
      "###Calculate $\\mathbf{P}^T\\mathbf{U}_m$ by just extracting rows in numpy \n",
      "\n",
      "###Then invert and set $\\mathbf{P}_F=\\mathbf{U}_m (\\mathbf{P}^T\\mathbf{U}_m)^{-1})$"
     ]
    },
    {
     "cell_type": "code",
     "collapsed": false,
     "input": [
      "PtUm = Um[rho]\n",
      "assert PtUm.shape == (m,m)\n",
      "\n",
      "PtUmInv = np.linalg.inv(PtUm)\n",
      "PF= np.dot(Um,PtUmInv)"
     ],
     "language": "python",
     "metadata": {},
     "outputs": []
    },
    {
     "cell_type": "markdown",
     "metadata": {},
     "source": [
      "##Now define the right hand side term that uses DEIM"
     ]
    },
    {
     "cell_type": "code",
     "collapsed": false,
     "input": [
      "def Fdeim(yc):\n",
      "    \"\"\"\n",
      "    evaluate F for the reduced model by DEIM interpolant \n",
      "    and then restricting\n",
      "    \n",
      "    compute projection of coarse to fine grid\n",
      "    extracts DEIM indices in rho from nonlinear function of F\n",
      "    \n",
      "    Then projects this back up\n",
      "    \n",
      "    returns V_k^T P_F V_k \\hat{y}    \n",
      "    \"\"\"\n",
      "    yf = np.dot(V_k,yc)#projection to fine\n",
      "    Ff = F(yf[rho]) #calculate value of F at DEIM indices on fine grid\n",
      "    return np.dot(V_kT,np.dot(PF,Ff))\n"
     ],
     "language": "python",
     "metadata": {},
     "outputs": []
    },
    {
     "cell_type": "markdown",
     "metadata": {},
     "source": [
      "##perform the evolution"
     ]
    },
    {
     "cell_type": "code",
     "collapsed": false,
     "input": [
      "yc0 = np.dot(V_kT,y0)\n",
      "yc_deim,infodict = integrate.odeint(rhs,yc0,tnList,(Ahat,Fdeim,),full_output=True)"
     ],
     "language": "python",
     "metadata": {},
     "outputs": []
    },
    {
     "cell_type": "code",
     "collapsed": false,
     "input": [
      "yc2f_deim = np.zeros((yc_deim.shape[0],n))\n",
      "for i in range(yc_deim.shape[0]):\n",
      "    yc2f_deim[i,:] = np.dot(V_k,yc_deim[i,:])\n"
     ],
     "language": "python",
     "metadata": {},
     "outputs": []
    },
    {
     "cell_type": "code",
     "collapsed": false,
     "input": [
      "index = n_t-2#2#n_t-10\n",
      "#note y,y2cf are (n_t+1) x n which is transpose of snapshots\n",
      "fig = plt.figure()\n",
      "ax = fig.gca()\n",
      "ax.plot(x,y[index,:],'b',x,yc2f_deim[index,:],'r')\n",
      "plt.xlabel('x')\n",
      "plt.ylabel('y')\n",
      "plt.title('DEIM solutions at time $t^i=%12.3f$' % (tnList[index]))\n",
      "leg=ax.legend(['$y^i$','$\\hat{y}^i$'],loc=1)"
     ],
     "language": "python",
     "metadata": {},
     "outputs": []
    },
    {
     "cell_type": "code",
     "collapsed": false,
     "input": [
      "def plot_k(index):\n",
      "    plt.plot(x,y[index,:],'b',x,yc2f_deim[index,:],'r')\n",
      "    plt.xlabel('x'); plt.ylabel('y')\n",
      "    plt.title('POD+DEIM and full solutions at time $t^i=%12.3f$' % (tnList[index]))\n",
      "    leg=plt.legend(['$y^i$','$\\hat{y}^i$'],loc=3)\n",
      "\n",
      "wid = widgets.interact(plot_k,\n",
      "                       index=widgets.IntSliderWidget(min=0,max=n_t))\n",
      "display(wid)"
     ],
     "language": "python",
     "metadata": {},
     "outputs": []
    },
    {
     "cell_type": "code",
     "collapsed": false,
     "input": [],
     "language": "python",
     "metadata": {},
     "outputs": []
    },
    {
     "cell_type": "code",
     "collapsed": false,
     "input": [],
     "language": "python",
     "metadata": {},
     "outputs": []
    },
    {
     "cell_type": "code",
     "collapsed": false,
     "input": [],
     "language": "python",
     "metadata": {},
     "outputs": []
    }
   ],
   "metadata": {}
  }
 ]
}