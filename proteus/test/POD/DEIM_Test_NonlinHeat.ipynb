{
 "metadata": {
  "name": "",
  "signature": "sha256:9f53b5b2549d862ae22019f2c98c63db886efa8899fd224680cc870d311d1648"
 },
 "nbformat": 3,
 "nbformat_minor": 0,
 "worksheets": [
  {
   "cells": [
    {
     "cell_type": "markdown",
     "metadata": {},
     "source": [
      "#DEIM Example?\n",
      "Try to work through the discrete empirical interpolation method (DEIM) on a method of lines discretization of a simple nonlinear heat equation with constant boundary conditions\n",
      "\n",
      "$$\n",
      "\\frac{\\mathrm d \\vec y}{\\mathrm d t} = \\vec F (\\vec y) \\\\\n",
      "F(y)_i = \\frac{1}{\\Delta x}\\left[k_r(y_{i+1},y_{i})K\\frac{(y_{i+1}-y_{i})}{\\Delta x} - \n",
      "  k_r(y_{i},y_{i-1})K\\frac{(y_{i}-y_{i-1})}{\\Delta x}\\right], \\ i=1,\\dots,n_c-2 \\\\\n",
      "F(y)_0 = 0 \\\\ \n",
      "F(y)_{n_c-1} = 0  \n",
      "$$\n",
      "With boundary conditions\n",
      "$$\n",
      "y_0 = y_l \\\\\n",
      "y_{n_c-1}=y_r\n",
      "$$\n",
      "and initial conditions, $y_i=y_r, i=1,\\dots,n_c$.\n"
     ]
    },
    {
     "cell_type": "markdown",
     "metadata": {},
     "source": [
      "##Problem setup"
     ]
    },
    {
     "cell_type": "code",
     "collapsed": false,
     "input": [
      "import numpy as np\n",
      "import scipy\n",
      "import matplotlib.pyplot as plt\n",
      "from scipy import integrate"
     ],
     "language": "python",
     "metadata": {},
     "outputs": [],
     "prompt_number": 2
    },
    {
     "cell_type": "code",
     "collapsed": false,
     "input": [
      "%matplotlib inline"
     ],
     "language": "python",
     "metadata": {},
     "outputs": [],
     "prompt_number": 3
    },
    {
     "cell_type": "markdown",
     "metadata": {},
     "source": [
      "###Define the functions, parameters, and temporal domain"
     ]
    },
    {
     "cell_type": "code",
     "collapsed": false,
     "input": [
      "#material parameters\n",
      "K = 1.0 #conductivity\n",
      "#relative perm\n",
      "def relperm(y):\n",
      "    return y**2#np.ones(y.shape)#y**2\n",
      "def drelperm(y):\n",
      "    return 2.0*y#np.zeros(y.shape)#y**2\n",
      "\n",
      "#boundary conditions\n",
      "y_r= 0.\n",
      "y_l= 1."
     ],
     "language": "python",
     "metadata": {},
     "outputs": [],
     "prompt_number": 5
    },
    {
     "cell_type": "markdown",
     "metadata": {},
     "source": [
      "Treat each component as a member of a 'grid' (e.g., MOL) to help build up the example to a PDE."
     ]
    },
    {
     "cell_type": "code",
     "collapsed": false,
     "input": [
      "#spatial interval\n",
      "xL=0.0; Lx=2.0\n",
      "#time interval\n",
      "T=5.0"
     ],
     "language": "python",
     "metadata": {},
     "outputs": [],
     "prompt_number": 6
    },
    {
     "cell_type": "code",
     "collapsed": false,
     "input": [
      "#number of cells in grid\n",
      "nc = 100\n",
      "dx = Lx/nc\n",
      "dxinv=1.0/dx"
     ],
     "language": "python",
     "metadata": {},
     "outputs": [],
     "prompt_number": 7
    },
    {
     "cell_type": "markdown",
     "metadata": {},
     "source": [
      "##Setup the quasilinear operator for right hand side"
     ]
    },
    {
     "cell_type": "code",
     "collapsed": false,
     "input": [
      "#start as full\n",
      "Alin = np.zeros((nc,nc))\n",
      "I = np.arange(1,nc-1)\n",
      "Im= I-1\n",
      "Ip= I+1\n",
      "#linear version\n",
      "Alin[I,I]=-2.0*K*dxinv\n",
      "Alin[I,Im]=dxinv*K\n",
      "Alin[I,Ip]=dxinv*K"
     ],
     "language": "python",
     "metadata": {},
     "outputs": [],
     "prompt_number": 16
    },
    {
     "cell_type": "code",
     "collapsed": false,
     "input": [
      "Alin"
     ],
     "language": "python",
     "metadata": {},
     "outputs": [
      {
       "metadata": {},
       "output_type": "pyout",
       "prompt_number": 15,
       "text": [
        "array([[   0.,    0.,    0., ...,    0.,    0.,    0.],\n",
        "       [  50., -100.,   50., ...,    0.,    0.,    0.],\n",
        "       [   0.,   50., -100., ...,    0.,    0.,    0.],\n",
        "       ..., \n",
        "       [   0.,    0.,    0., ..., -100.,   50.,    0.],\n",
        "       [   0.,    0.,    0., ...,   50., -100.,   50.],\n",
        "       [   0.,    0.,    0., ...,    0.,    0.,    0.]])"
       ]
      }
     ],
     "prompt_number": 15
    },
    {
     "cell_type": "code",
     "collapsed": false,
     "input": [
      "def mdivKgrad(y,A,k_r,dk_r):\n",
      "    A[:,:]=Alin[:,:]\n"
     ],
     "language": "python",
     "metadata": {},
     "outputs": [],
     "prompt_number": 6
    },
    {
     "cell_type": "code",
     "collapsed": false,
     "input": [
      "def mdivKgrad_v2(y,K,k_r,dk_r,I,Im,Ip):\n",
      "    \"\"\"standard cell centered discretization with averaged rel-perms\n",
      "    returns negative of div(K*k_r*grad(y)) \n",
      "    \n",
      "    Uses array I to set which cells to calculate divergence for\n",
      "    Im are left neighbors and Ip are right neighbors\n",
      "    \"\"\"\n",
      "    k_ri = k_r(y[I])\n",
      "    k_rm = k_r(y[Im]); k_rp=k_r(y[Ip])\n",
      "    k_intm= 0.5*(k_rm+k_ri)*K; k_intp=0.5*(k_ri+k_rp)\n",
      "    grad_ym = y[I]-y[Im]; grad_yp =y[Ip]-y[I]\n",
      "    grad_ym *=dxinv ; grad_yp *= dxinv\n",
      "    mdiv = np.zeros(y[I].shape)\n",
      "    mdiv = k_intp*grad_yp-k_intm*grad_ym\n",
      "    mdiv *= dxinv\n",
      "    #handle boundary conditions\n",
      "    mdiv = np.where(I == 0,0.,mdiv)\n",
      "    mdiv = np.where(I == nc-1,0.,mdiv)\n",
      "    return mdiv"
     ],
     "language": "python",
     "metadata": {},
     "outputs": [],
     "prompt_number": 7
    },
    {
     "cell_type": "code",
     "collapsed": false,
     "input": [
      "x = np.linspace(xL+0.5*dx,xL+Lx-0.5*dx,nc)\n",
      "#number of time steps \n",
      "n_t = 50\n",
      "dt = T/float(n_t)\n",
      "#initial time\n",
      "t=0.\n",
      "tnList = np.linspace(0,T,n_t+1)\n",
      "#initial condition with boundary conditions included\n",
      "y0 = np.zeros((nc,)); y0[:]=y_r; y0[0]=y_l"
     ],
     "language": "python",
     "metadata": {},
     "outputs": [],
     "prompt_number": 8
    },
    {
     "cell_type": "markdown",
     "metadata": {},
     "source": [
      "###The right hand side function for the MOL"
     ]
    },
    {
     "cell_type": "code",
     "collapsed": false,
     "input": [
      "def rhs(y,t,K,k_r,dk_r,mdiv):\n",
      "    return mdiv(y,K,k_r,dk_r)"
     ],
     "language": "python",
     "metadata": {},
     "outputs": [],
     "prompt_number": 9
    },
    {
     "cell_type": "code",
     "collapsed": false,
     "input": [
      "ml=mu=1\n",
      "J=np.zeros((ml+mu+1,nc),'d')\n",
      "Jf=np.zeros((nc,nc),'d')\n",
      "col_deriv=False\n",
      "def Drhs_pic(y,t,K,k_r,dk_r,mdiv):\n",
      "    \"\"\"Banded Picard Jacobian standard cell centered discretization with averaged rel-perms\n",
      "    returns negative of div(K*k_r*grad(y))\n",
      "\n",
      "    The shape of jacobian is (ml+mu+1,nc)\n",
      "    J[i-j+mu,j] = J[i,j]\n",
      "\n",
      "     state variable.  If `col_deriv` is True, the transpose of this\n",
      "    `jac` must be returned.\n",
      "    \"\"\"\n",
      "    J.fill(0.)\n",
      "    k_ri = k_r(y)\n",
      "    k_int= 0.5*(k_ri[1:]+k_ri[0:-1])*K #k_int[i]=k_{i+1/2}\n",
      "    #diagonal\n",
      "    for i in range(1,nc-1):\n",
      "        #diagonal, J[i,j]\n",
      "        j=i\n",
      "        J[i-j+mu,j]=-dxinv*dxinv*(k_int[i]+k_int[i-1])\n",
      "        #left neighbor, J[i,j-1]\n",
      "        j=i-1\n",
      "        J[i-j+mu,j]=dxinv*dxinv*k_int[i-1]\n",
      "        #right neighbor, J[i,j+1]\n",
      "        j=i+1\n",
      "        J[i-j+mu,j]=dxinv*dxinv*k_int[i]\n",
      "    #\n",
      "    if col_deriv:\n",
      "        return J.T\n",
      "    return J\n",
      "\n",
      "def Drhs_newt(y,t,K,k_r,dk_r,mdiv):\n",
      "    \"\"\"Banded Jacobian standard cell centered discretization with averaged rel-perms\n",
      "    returns negative of div(K*k_r*grad(y))\n",
      "\n",
      "    The shape of jacobian is (ml+mu+1,nc)\n",
      "    J[i-j+mu,j] = J[i,j]\n",
      "\n",
      "     state variable.  If `col_deriv` is True, the transpose of this\n",
      "    `jac` must be returned.\n",
      "    \"\"\"\n",
      "    J.fill(0.)\n",
      "    k_ri = k_r(y)\n",
      "    k_int= 0.5*(k_ri[1:]+k_ri[0:-1])*K #k_int[i]=k_{i+1/2}\n",
      "    dk_ri = dk_r(y)\n",
      "    dk_intm= 0.5*dk_ri[0:-1]*K #dk_intm[i]=dk_{i+1/2}/dy_i\n",
      "    dk_intp= 0.5*dk_ri[1:]*K  #dk_intp[i]=dk_{i+1/2}/dy_{i+1}\n",
      "    grad_y = y[1:]-y[0:-1]#grad_y[i] = \\Delta y_{i+1/2}\n",
      "    grad_y *=dxinv\n",
      "    for i in range(1,nc-1):\n",
      "        #mdiv[1:-1] = k_int[1:]*grad_y[1:]-k_int[0:-1]*grad_y[0:-1] \n",
      "        #'Picard' piece\n",
      "        #diagonal, J[i,j]\n",
      "        j=i\n",
      "        J[i-j+mu,j]=-dxinv*dxinv*(k_int[i]+k_int[i-1])\n",
      "        #left neighbor, J[i,j-1]\n",
      "        j=i-1\n",
      "        J[i-j+mu,j]=dxinv*dxinv*k_int[i-1]\n",
      "        #right neighbor, J[i,j+1]\n",
      "        j=i+1\n",
      "        J[i-j+mu,j]=dxinv*dxinv*k_int[i]\n",
      "        #additional coefficient derivatives\n",
      "        j=i\n",
      "        J[i-j+mu,j]+=-dxinv*(0.5*dk_r[i+1]*grad_y[i]+0.5*dk_ri[i-1]*grad_y[i-1])\n",
      "        #left neighbor, J[i,j-1]\n",
      "        j=i-1\n",
      "        J[i-j+mu,j]+=dxinv*0.5*dk_ri[i-1]*grad_y[i-1]\n",
      "        #right neighbor, J[i,j+1]\n",
      "        j=i+1\n",
      "        J[i-j+mu,j]+=dxinv*0.5*dk_ri[i+1]*grad_y[i]\n",
      "    #\n",
      "    if col_deriv:\n",
      "        return J.T\n",
      "    return J\n",
      "def Drhs_newt_dense(y,t,K,k_r,dk_r,mdiv):\n",
      "    \"\"\"Banded Jacobian standard cell centered discretization with averaged rel-perms\n",
      "    returns negative of div(K*k_r*grad(y))\n",
      "\n",
      "    The shape of jacobian is (ml+mu+1,nc)\n",
      "    J[i-j+mu,j] = J[i,j]\n",
      "\n",
      "     state variable.  If `col_deriv` is True, the transpose of this\n",
      "    `jac` must be returned.\n",
      "    \"\"\"\n",
      "    Jf.fill(0.)\n",
      "    k_ri = k_r(y)\n",
      "    k_int= 0.5*(k_ri[1:]+k_ri[0:-1])*K #k_int[i]=k_{i+1/2}\n",
      "    dk_ri = dk_r(y)\n",
      "    dk_intm= 0.5*dk_ri[0:-1]*K #dk_intm[i]=dk_{i+1/2}/dy_i\n",
      "    dk_intp= 0.5*dk_ri[1:]*K  #dk_intp[i]=dk_{i+1/2}/dy_{i+1}\n",
      "    grad_y = y[1:]-y[0:-1]#grad_y[i] = \\Delta y_{i+1/2}\n",
      "    grad_y *=dxinv\n",
      "    for i in range(1,nc-1):\n",
      "        #mdiv[1:-1] = k_int[1:]*grad_y[1:]-k_int[0:-1]*grad_y[0:-1] \n",
      "        #'Picard' piece\n",
      "        #diagonal, J[i,j]\n",
      "        j=i\n",
      "        Jf[i,j]=-dxinv*dxinv*(k_int[i]+k_int[i-1])\n",
      "        #left neighbor, J[i,j-1]\n",
      "        j=i-1\n",
      "        Jf[i,j]=dxinv*dxinv*k_int[i-1]\n",
      "        #right neighbor, J[i,j+1]\n",
      "        j=i+1\n",
      "        Jf[i,j]=dxinv*dxinv*k_int[i]\n",
      "        #additional coefficient derivatives\n",
      "        j=i\n",
      "        Jf[i,j]+=-dxinv*(0.5*dk_r[i+1]*grad_y[i]+0.5*dk_ri[i-1]*grad_y[i-1])\n",
      "        #left neighbor, J[i,j-1]\n",
      "        j=i-1\n",
      "        Jf[i,j]+=dxinv*0.5*dk_ri[i-1]*grad_y[i-1]\n",
      "        #right neighbor, J[i,j+1]\n",
      "        j=i+1\n",
      "        Jf[i,j]+=dxinv*0.5*dk_ri[i+1]*grad_y[i]\n",
      "    #\n",
      "    return Jf"
     ],
     "language": "python",
     "metadata": {},
     "outputs": [],
     "prompt_number": 10
    },
    {
     "cell_type": "markdown",
     "metadata": {},
     "source": [
      "Check the function implementations"
     ]
    },
    {
     "cell_type": "code",
     "collapsed": false,
     "input": [
      "f = rhs(y0,t,K,relperm,drelperm,mdivKgrad)"
     ],
     "language": "python",
     "metadata": {},
     "outputs": [],
     "prompt_number": 11
    },
    {
     "cell_type": "code",
     "collapsed": false,
     "input": [
      "fig = plt.figure()\n",
      "ax = fig.gca()\n",
      "ax.plot(x,y0,'b',x,f,'r')\n",
      "plt.xlabel('x')\n",
      "plt.ylabel('y')\n",
      "leg=ax.legend(['$y^0$','$rhs(y^0)$'],loc=1)"
     ],
     "language": "python",
     "metadata": {},
     "outputs": [
      {
       "metadata": {},
       "output_type": "display_data",
       "png": "[encoded data removed]",
       "text": [
        "<matplotlib.figure.Figure at 0x7fc1d3990690>"
       ]
      }
     ],
     "prompt_number": 12
    },
    {
     "cell_type": "code",
     "collapsed": false,
     "input": [
      "#integrate.odeint?\n",
      "#%pdb on\n"
     ],
     "language": "python",
     "metadata": {},
     "outputs": [],
     "prompt_number": 13
    },
    {
     "cell_type": "markdown",
     "metadata": {},
     "source": [
      "##Generate Snapshots"
     ]
    },
    {
     "cell_type": "markdown",
     "metadata": {},
     "source": [
      "###\"Run\" forward problem\n",
      "March from $[0,T]$ in $n_t$ steps by solving ODE"
     ]
    },
    {
     "cell_type": "code",
     "collapsed": false,
     "input": [
      "#y,infodict = integrate.odeint(rhs,y0,tnList,(K,relperm,drelperm,mdivKgrad,),Dfun=Drhs_newt,col_deriv=False,ml=1,mu=1,full_output=1)\n",
      "\n",
      "y,infodict = integrate.odeint(rhs,y0,tnList,(K,relperm,drelperm,mdivKgrad,),Dfun=Drhs_newt_dense,full_output=1)\n",
      "\n",
      "\n",
      "#y,infodict = integrate.odeint(rhs,y0,tnList,(K,relperm,drelperm,mdivKgrad,),full_output=1)\n",
      "\n",
      "Ysnap=y[1:,:].T"
     ],
     "language": "python",
     "metadata": {},
     "outputs": [
      {
       "output_type": "stream",
       "stream": "stdout",
       "text": [
        "Excess work done on this call (perhaps wrong Dfun type).\n",
        "Run with full_output = 1 to get quantitative information.\n"
       ]
      }
     ],
     "prompt_number": 16
    },
    {
     "cell_type": "markdown",
     "metadata": {},
     "source": [
      "Collect snapshots"
     ]
    },
    {
     "cell_type": "code",
     "collapsed": false,
     "input": [
      "infodict"
     ],
     "language": "python",
     "metadata": {},
     "outputs": [
      {
       "metadata": {},
       "output_type": "pyout",
       "prompt_number": 17,
       "text": [
        "{'hu': array([  7.12694849e-005,   6.94019962e-310,   3.45121408e-085,\n",
        "          8.15325122e+241,   1.16669942e+224,   2.54279898e-095,\n",
        "          1.10288536e-094,   1.62347680e+219,   1.24263920e+243,\n",
        "          3.34329227e+257,   4.54745771e+223,   4.65396061e+151,\n",
        "          3.90844684e+160,   1.66531340e-071,   3.32922731e+257,\n",
        "          4.94142263e+257,   1.87560820e-094,   4.44743592e+252,\n",
        "          1.19490107e+190,   2.64976416e+180,   1.45379099e-094,\n",
        "          8.84427539e+247,   1.44395281e+214,   4.76968736e+180,\n",
        "          5.77240368e+175,   7.63324929e-095,   5.42914958e+020,\n",
        "          1.07206714e+253,   1.50823499e+184,   5.08200792e+233,\n",
        "          2.64624217e-260,   6.21296387e+175,   7.26589284e+223,\n",
        "          3.45121408e-085,   8.15325122e+241,   1.16669942e+224,\n",
        "          2.54279898e-095,   1.10288536e-094,   1.62347680e+219,\n",
        "          1.24263920e+243,   2.88159319e+214,   9.82395831e+252,\n",
        "          1.11899615e+224,   1.22626222e-095,   1.39069308e-308,\n",
        "          5.58294180e-322,   2.02467311e-316,   6.94019962e-310,\n",
        "          1.05151952e-316,   6.94019962e-310]),\n",
        " 'imxer': -1,\n",
        " 'leniw': 120,\n",
        " 'lenrw': 10922,\n",
        " 'message': 'Excess work done on this call (perhaps wrong Dfun type).',\n",
        " 'mused': array([       1,    32706, 41033776,        0,        0,        0,\n",
        "               0,        0,        0,        0,        0,        0,\n",
        "               0,        0,        0,        0,        0,        0,\n",
        "               0,        0,        0,        0,        0,        0,\n",
        "               0,        0,        0,        0,        0,        0,\n",
        "               0,        0,        0,        0,        0,        0,\n",
        "               0,        0,        0,        0,        0,        0,\n",
        "               0,        0,        0,        0,        0,        0,\n",
        "               0,        0], dtype=int32),\n",
        " 'nfe': array([   1043,   32706, 3705096,   32706,       0,       0,       0,\n",
        "              0,       0,       0,       0,       0,       0,       0,\n",
        "              0,       0,       0,       0,       0,       0,       0,\n",
        "              0,       0,       0,       0,       0,       0,       0,\n",
        "              0,       0,       0,       0,       0,       0,       0,\n",
        "              0,       0,       0,       0,       0,       0,       0,\n",
        "              0,       0,       0,       0,       0,       0,       0,\n",
        "              0], dtype=int32),\n",
        " 'nje': array([       0,    32706, 40972608,        0,      115,      115,\n",
        "              32,      119,      111,      114,      107,       32,\n",
        "             100,      111,      110,      101,       32,      111,\n",
        "             110,       32,      116,      104,      105,      115,\n",
        "              32,       99,       97,      108,      108,       32,\n",
        "              40,      112,      101,      114,      104,       97,\n",
        "             112,      115,       32,      119,      114,      111,\n",
        "             110,      103,       32,       68,      102,      117,\n",
        "             110,       32], dtype=int32),\n",
        " 'nqu': array([      3,   32706, 3704760,   32706,     104,      32,     102,\n",
        "            117,     108,     108,      95,     111,     117,     116,\n",
        "            112,     117,     116,      32,      61,      32,      49,\n",
        "             32,     116,     111,      32,     103,     101,     116,\n",
        "             32,     113,     117,      97,     110,     116,     105,\n",
        "            116,      97,     116,     105,     118,     101,      32,\n",
        "            105,     110,     102,     111,     114,     109,      97,\n",
        "            116], dtype=int32),\n",
        " 'nst': array([        500,       32706,    37049504,           0,           0,\n",
        "                  0,           6,           0,     3705064,           9,\n",
        "            3705064,       32706,          12,       32705,   -59391504,\n",
        "                 15,           0,           0,          18,           0,\n",
        "                  0,          21,   198844537,  -724270614,          24,\n",
        "              32705,  -603285264,          27,  -114443014, -1923994530,\n",
        "                 30,       32705,   -80435352,          33,   934739451,\n",
        "          862004653,          36,       32705,  -556008000,          39,\n",
        "                  0, -1822833174,          42,           0,     3704760,\n",
        "                 45,    37512944,           0,          48,       32705], dtype=int32),\n",
        " 'tcur': array([  5.65665424e-002,   6.94019962e-310,   0.00000000e+000,\n",
        "          0.00000000e+000,   0.00000000e+000,   0.00000000e+000,\n",
        "          0.00000000e+000,   0.00000000e+000,   0.00000000e+000,\n",
        "          0.00000000e+000,   0.00000000e+000,   0.00000000e+000,\n",
        "          0.00000000e+000,   0.00000000e+000,   0.00000000e+000,\n",
        "          0.00000000e+000,   0.00000000e+000,   0.00000000e+000,\n",
        "          0.00000000e+000,   0.00000000e+000,   0.00000000e+000,\n",
        "          0.00000000e+000,   0.00000000e+000,   0.00000000e+000,\n",
        "          0.00000000e+000,   0.00000000e+000,   0.00000000e+000,\n",
        "          0.00000000e+000,   0.00000000e+000,   0.00000000e+000,\n",
        "          0.00000000e+000,   0.00000000e+000,   0.00000000e+000,\n",
        "          0.00000000e+000,   0.00000000e+000,   0.00000000e+000,\n",
        "          0.00000000e+000,   0.00000000e+000,   0.00000000e+000,\n",
        "          0.00000000e+000,   0.00000000e+000,   0.00000000e+000,\n",
        "          0.00000000e+000,   0.00000000e+000,   9.38621246e-097,\n",
        "          6.37344683e-322,   6.94019962e-310,   2.06672166e-316,\n",
        "          3.43458129e+055,   1.49572886e+184]),\n",
        " 'tolsf': array([              nan,   2.03924370e-316,   1.58101007e-322,\n",
        "          2.96439388e-323,   1.91164682e-313,   1.56667256e-305,\n",
        "          4.09459765e-306,   3.18603085e-313,   1.42404727e-304,\n",
        "          2.84883333e-305,   4.45720463e-313,   5.25822436e-286,\n",
        "          1.52461015e-285,   5.72938866e-313,   2.03901683e-316,\n",
        "          6.94019943e-310,   7.00258611e-313,   3.95252517e-322,\n",
        "          1.77863633e-322,   8.27893408e-313,   7.68985532e-305,\n",
        "          3.41798072e-305,   9.55016937e-313,   9.98613709e-281,\n",
        "          7.69033764e-305,   1.08235190e-312,   8.54544073e-306,\n",
        "          2.66795449e-322,   1.20974150e-312,   6.94019962e-310,\n",
        "          2.96439388e-322,   1.33685735e-312,   2.03939311e-316,\n",
        "          9.96930870e-306,   1.46420883e-312,   1.44768551e-280,\n",
        "          2.40325224e-306,   1.59154995e-312,   7.69065492e-305,\n",
        "          5.36128833e-277,   1.71888491e-312,   9.53546696e-322,\n",
        "          4.15015143e-322,   1.84615464e-312,   1.58101007e-322,\n",
        "          4.44659081e-322,   1.97366003e-312,   1.31374364e-287,\n",
        "          2.05833592e-312,   1.72045398e-297]),\n",
        " 'tsw': array([  0.00000000e+000,   2.02437351e-316,   0.00000000e+000,\n",
        "          0.00000000e+000,   0.00000000e+000,   0.00000000e+000,\n",
        "          0.00000000e+000,   0.00000000e+000,   0.00000000e+000,\n",
        "          0.00000000e+000,   0.00000000e+000,   0.00000000e+000,\n",
        "          0.00000000e+000,   0.00000000e+000,   0.00000000e+000,\n",
        "          0.00000000e+000,   0.00000000e+000,   0.00000000e+000,\n",
        "          0.00000000e+000,   0.00000000e+000,   0.00000000e+000,\n",
        "          0.00000000e+000,   0.00000000e+000,   0.00000000e+000,\n",
        "          0.00000000e+000,   0.00000000e+000,   0.00000000e+000,\n",
        "          0.00000000e+000,   0.00000000e+000,   0.00000000e+000,\n",
        "          0.00000000e+000,   0.00000000e+000,   0.00000000e+000,\n",
        "          0.00000000e+000,   0.00000000e+000,   0.00000000e+000,\n",
        "          0.00000000e+000,   0.00000000e+000,   0.00000000e+000,\n",
        "          0.00000000e+000,   0.00000000e+000,   0.00000000e+000,\n",
        "          0.00000000e+000,   0.00000000e+000,   0.00000000e+000,\n",
        "          0.00000000e+000,   0.00000000e+000,   0.00000000e+000,\n",
        "          0.00000000e+000,   0.00000000e+000])}"
       ]
      }
     ],
     "prompt_number": 17
    },
    {
     "cell_type": "code",
     "collapsed": false,
     "input": [
      "Fsnap=np.zeros((nc,n_t))\n",
      "for j in range(n_t):    \n",
      "    Fsnap[:,j]=mdivKgrad(Ysnap[:,j],K,relperm,drelperm)"
     ],
     "language": "python",
     "metadata": {},
     "outputs": [
      {
       "output_type": "stream",
       "stream": "stderr",
       "text": [
        "-c:5: RuntimeWarning: overflow encountered in square\n",
        "-c:11: RuntimeWarning: overflow encountered in multiply\n",
        "-c:11: RuntimeWarning: invalid value encountered in subtract\n",
        "-c:8: RuntimeWarning: overflow encountered in multiply\n"
       ]
      }
     ],
     "prompt_number": 18
    },
    {
     "cell_type": "markdown",
     "metadata": {},
     "source": [
      "Just check the solutions at different times"
     ]
    },
    {
     "cell_type": "code",
     "collapsed": false,
     "input": [
      "index = 1#2#n_t-10\n",
      "\n",
      "fig = plt.figure()\n",
      "ax = fig.gca()\n",
      "ax.plot(x,Ysnap[:,index],'b',x,Fsnap[:,index],'r')\n",
      "plt.xlabel('x')\n",
      "plt.ylabel('y')\n",
      "plt.title('Snapshots at time $t^i=%12.3f$' % (index*dt))\n",
      "leg=ax.legend(['$y^i$','$F(y^i)$'],loc=1)"
     ],
     "language": "python",
     "metadata": {},
     "outputs": [
      {
       "metadata": {},
       "output_type": "display_data",
       "text": [
        "<matplotlib.figure.Figure at 0x7fd0bc1d4c50>"
       ]
      }
     ],
     "prompt_number": 80
    },
    {
     "cell_type": "markdown",
     "metadata": {},
     "source": [
      "##Singular Value Decompositions"
     ]
    },
    {
     "cell_type": "markdown",
     "metadata": {},
     "source": [
      "Perform SVD for both snapshots\n",
      "$$\n",
      "\\mathbf{VSW}^{T} = \\mathbf{Y}\n",
      "$$\n",
      "and \n",
      "$$\n",
      "\\mathbf{U}\\mathbf{S}_F\\mathbf{W}_F^T=\\mathbf{F}\n",
      "$$"
     ]
    },
    {
     "cell_type": "code",
     "collapsed": false,
     "input": [
      "V,S,W = np.linalg.svd(Ysnap,full_matrices=True)"
     ],
     "language": "python",
     "metadata": {},
     "outputs": [],
     "prompt_number": 33
    },
    {
     "cell_type": "code",
     "collapsed": false,
     "input": [
      "U,Sf,Wf=np.linalg.svd(Fsnap,full_matrices=True)"
     ],
     "language": "python",
     "metadata": {},
     "outputs": [],
     "prompt_number": 34
    },
    {
     "cell_type": "markdown",
     "metadata": {},
     "source": [
      "Look at the eigenvalues for the decompositions"
     ]
    },
    {
     "cell_type": "code",
     "collapsed": false,
     "input": [
      "fig=plt.figure()\n",
      "ax = fig.gca()\n",
      "plt.subplot(1,2,1)\n",
      "plt.plot(np.log(S),'b*',label='S')\n",
      "plt.ylabel('singular values, $\\mathbf{Y}$')\n",
      "plt.subplot(1,2,2)\n",
      "plt.plot(np.log(Sf),'r*',label='$S_f$')\n",
      "plt.ylabel('singular values, $\\mathbf{F}$')\n"
     ],
     "language": "python",
     "metadata": {},
     "outputs": [
      {
       "metadata": {},
       "output_type": "pyout",
       "prompt_number": 35,
       "text": [
        "<matplotlib.text.Text at 0x7f54c9fbced0>"
       ]
      },
      {
       "metadata": {},
       "output_type": "display_data",
       "png": "[encoded data removed]",
       "text": [
        "<matplotlib.figure.Figure at 0x7f54c9ec88d0>"
       ]
      }
     ],
     "prompt_number": 35
    },
    {
     "cell_type": "markdown",
     "metadata": {},
     "source": [
      "Test reduced representation"
     ]
    },
    {
     "cell_type": "code",
     "collapsed": false,
     "input": [
      "#truncate solution snapshots\n",
      "n_k = 19\n",
      "V_k = V[:,0:n_k]\n",
      "V_kT= V_k.conj().T\n",
      "print \"Truncating to n_k={0}, \\sigma={1}\".format(n_k,S[n_k])\n",
      "print 'V_kT shape is ',V_kT.shape\n"
     ],
     "language": "python",
     "metadata": {},
     "outputs": [
      {
       "output_type": "stream",
       "stream": "stdout",
       "text": [
        "Truncating to n_k=19, \\sigma=1.08506047361e-07\n",
        "V_kT shape is  (19, 100)\n"
       ]
      }
     ],
     "prompt_number": 105
    },
    {
     "cell_type": "markdown",
     "metadata": {},
     "source": [
      "##Evolve the reduced system \n",
      "\n",
      "###Here we would compute the reduced linear part if there were one\n",
      "$$\n",
      "\\hat{\\mathbf{A}} = \\mathbf{V}_k^{T}\\mathbf{A}\\mathbf{V}_k\n",
      "$$"
     ]
    },
    {
     "cell_type": "code",
     "collapsed": false,
     "input": [
      "\"\"\"\n",
      "Ahat=V_kT.dot(np.dot(np.diag(a),V_k))\n",
      "\"\"\""
     ],
     "language": "python",
     "metadata": {},
     "outputs": [
      {
       "metadata": {},
       "output_type": "pyout",
       "prompt_number": 106,
       "text": [
        "'\\nAhat=V_kT.dot(np.dot(np.diag(a),V_k))\\n'"
       ]
      }
     ],
     "prompt_number": 106
    },
    {
     "cell_type": "markdown",
     "metadata": {},
     "source": [
      "##define a brute force evaluation on the fine grid"
     ]
    },
    {
     "cell_type": "code",
     "collapsed": false,
     "input": [
      "def mdivKgrad_f2c(yc,K,k_r):\n",
      "    \"\"\"\n",
      "    evaluate F for the reduced model by projecting to the fine grid, evaluating, \n",
      "    and then restricting\n",
      "    \n",
      "    returns V_k^T (V_k y)^2\n",
      "    Here the square means component\n",
      "    \"\"\"\n",
      "    yf = np.dot(V_k,yc)\n",
      "    div = mdivKgrad(yf,K,k_r)\n",
      "    return np.dot(V_kT,div)\n"
     ],
     "language": "python",
     "metadata": {},
     "outputs": [],
     "prompt_number": 107
    },
    {
     "cell_type": "markdown",
     "metadata": {},
     "source": [
      "###integrate forward in time"
     ]
    },
    {
     "cell_type": "code",
     "collapsed": false,
     "input": [
      "yc0 = np.dot(V_kT,y0)\n",
      "yc,infodict = integrate.odeint(rhs,yc0,tnList,(K,relperm,mdivKgrad_f2c,),full_output=True)"
     ],
     "language": "python",
     "metadata": {},
     "outputs": [],
     "prompt_number": 108
    },
    {
     "cell_type": "markdown",
     "metadata": {},
     "source": [
      "##project back to fine grid for comparison\n",
      "\n",
      "Recall output of `odeint` is (n_t+1) x n_k"
     ]
    },
    {
     "cell_type": "code",
     "collapsed": false,
     "input": [
      "yc2f = np.zeros((yc.shape[0],nc))\n",
      "for i in range(yc.shape[0]):\n",
      "    yc2f[i,:] = np.dot(V_k,yc[i,:])\n",
      "    "
     ],
     "language": "python",
     "metadata": {},
     "outputs": [],
     "prompt_number": 109
    },
    {
     "cell_type": "markdown",
     "metadata": {},
     "source": [
      "##compare reduced solution to fine grid for different times\n"
     ]
    },
    {
     "cell_type": "code",
     "collapsed": false,
     "input": [
      "index = n_t-1#2#n_t-10\n",
      "#note y,y2cf are (n_t+1) x n which is transpose of snapshots\n",
      "fig = plt.figure()\n",
      "ax = fig.gca()\n",
      "ax.plot(x,y[index,:],'b',x,yc2f[index,:],'r')\n",
      "plt.xlabel('x')\n",
      "plt.ylabel('y')\n",
      "plt.title('solutions at time $t^i=%12.3f$' % (tnList[index]))\n",
      "leg=ax.legend(['$y^i$','$\\hat{y}^i$'],loc=1)"
     ],
     "language": "python",
     "metadata": {},
     "outputs": [
      {
       "metadata": {},
       "output_type": "display_data",
       "png": "[encoded data removed]",
       "text": [
        "<matplotlib.figure.Figure at 0x7f54c9bcccd0>"
       ]
      }
     ],
     "prompt_number": 110
    },
    {
     "cell_type": "markdown",
     "metadata": {},
     "source": [
      "###try a widget for practice"
     ]
    },
    {
     "cell_type": "code",
     "collapsed": false,
     "input": [
      "from IPython.html import widgets\n",
      "from IPython.display import display"
     ],
     "language": "python",
     "metadata": {},
     "outputs": [],
     "prompt_number": 111
    },
    {
     "cell_type": "code",
     "collapsed": false,
     "input": [
      "widgets.interact?"
     ],
     "language": "python",
     "metadata": {},
     "outputs": [],
     "prompt_number": 112
    },
    {
     "cell_type": "code",
     "collapsed": false,
     "input": [
      "def plot_k(index):\n",
      "    plt.plot(x,y[index,:],'b',x,yc2f[index,:],'r')\n",
      "    plt.xlabel('x'); plt.ylabel('y')\n",
      "    plt.title('POD and full solutions at time $t^i=%12.3f$' % (tnList[index]))\n",
      "    leg=plt.legend(['$y^i$','$\\hat{y}^i$'],loc=1)\n",
      "\n",
      "wid = widgets.interact(plot_k,\n",
      "                       index=widgets.IntSliderWidget(min=0,max=n_t))\n",
      "display(wid)"
     ],
     "language": "python",
     "metadata": {},
     "outputs": [
      {
       "metadata": {},
       "output_type": "display_data",
       "png": "[encoded data removed]",
       "text": [
        "<matplotlib.figure.Figure at 0x7f54c9bdd510>"
       ]
      }
     ],
     "prompt_number": 113
    },
    {
     "cell_type": "markdown",
     "metadata": {},
     "source": [
      "##Now actually try DEIM for evaluating nonlinearity"
     ]
    },
    {
     "cell_type": "markdown",
     "metadata": {},
     "source": [
      "###Basic procedure\n",
      "\n",
      "- pick $m$, dimension for $F$ reduced basis $\\mathbf{U}_m$\n",
      "- call DEIM algorithm to determine $\\vec \\rho$. \n",
      "- build $\\mathbf{P}$ from $\\rho$ as \n",
      "$$\n",
      "\\mathbf{P} = [\\vec e_{\\rho_1},\\vec e_{\\rho_2},\\dots,\\vec e_{\\rho_m}]\n",
      "$$\n",
      "- invert $\\mathbf{P}^T\\mathbf{U}_m$\n",
      "- set $\\mathbf{P}_F=\\mathbf{U}_m(\\mathbf{P}^T\\mathbf{U}_m)^{-1}$\n",
      "- During evolution\n",
      "    - project to fine grid $\\vec y = \\mathbf{V}_k \\vec y_c$\n",
      "    - evaluate $\\vec F(V_k\\vec y_c)$ at indices in $\\vec \\rho \\rightarrow \\vec c$\n",
      "    - apply DEIM interpolant $\\vec F_c = \\mathbf{V}_k^T\\mathbf{P}_F\\vec c$\n",
      "    - use $\\vec F_c$ in right hand side of reduced ODE"
     ]
    },
    {
     "cell_type": "code",
     "collapsed": false,
     "input": [
      "def DEIM(Uin):\n",
      "    \"\"\"\n",
      "    input: Uin n x m array of basis vectors for nonlinear function snapshots\n",
      "    output: rho, m vector of indices \\rho_i for extracting $\\vec F$ values\n",
      "\n",
      "    \"\"\"\n",
      "    n,m=Uin.shape\n",
      "    rind = np.argmax(np.absolute(Uin[:,0]))\n",
      "    U=np.array(Uin[:,0])\n",
      "    rho=np.array([rind],'i')\n",
      "    #Pt = np.zeros((1,n),'d')\n",
      "    #P[0,rind]=1.0\n",
      "    for j in range(1,m):\n",
      "        u = Uin[:,j]        \n",
      "        Up=U[rho]#Up= np.dot(Pt,U)\n",
      "        up=u[rho]#up= np.dot(Pt,u)\n",
      "        if j==1:\n",
      "            c=up/Up\n",
      "            r=u-U*c\n",
      "        else:\n",
      "            c =np.linalg.solve(Up,up)\n",
      "            r=u-np.dot(U,c)          \n",
      "        rind=np.argmax(np.absolute(r))\n",
      "        rho_new = np.zeros(j+1,'i'); \n",
      "        rho_new[:-1]=rho; rho_new[-1]=rind; rho = rho_new\n",
      "        U_new=np.zeros((n,j+1),'d')\n",
      "        U_new[:,:-1]=U.reshape(n,j); U_new[:,-1]=u\n",
      "        U=U_new\n",
      "    #\n",
      "    return rho"
     ],
     "language": "python",
     "metadata": {},
     "outputs": [],
     "prompt_number": 114
    },
    {
     "cell_type": "code",
     "collapsed": false,
     "input": [
      "#truncate basis\n",
      "m = 19\n",
      "Um = U[:,0:m]\n",
      "print \"Truncating DEIM to m={0}, \\sigma_f={1}\".format(m,Sf[m])\n"
     ],
     "language": "python",
     "metadata": {},
     "outputs": [
      {
       "output_type": "stream",
       "stream": "stdout",
       "text": [
        "Truncating DEIM to m=19, \\sigma_f=5.44454668431e-16\n"
       ]
      }
     ],
     "prompt_number": 118
    },
    {
     "cell_type": "code",
     "collapsed": false,
     "input": [
      "rho = DEIM(Um)\n",
      "print 'after calling DEIM, rho=',rho"
     ],
     "language": "python",
     "metadata": {},
     "outputs": [
      {
       "output_type": "stream",
       "stream": "stdout",
       "text": [
        "after calling DEIM, rho= [ 2  4  7  5 11  9 14  3  6 16  8 12 10 15 13 17 18  1 19]\n"
       ]
      }
     ],
     "prompt_number": 121
    },
    {
     "cell_type": "markdown",
     "metadata": {},
     "source": [
      "##Now,I need the stencil of unknowns that will be required to evaluate divergence operator "
     ]
    },
    {
     "cell_type": "code",
     "collapsed": false,
     "input": [
      "rho_neig_m=rho-1; rho_neig_p=rho+1\n",
      "rho_neig_m=np.maximum(rho_neig_m,0);\n",
      "rho_neig_p=np.minimum(rho_neig_p,nc-1)"
     ],
     "language": "python",
     "metadata": {},
     "outputs": [],
     "prompt_number": 123
    },
    {
     "cell_type": "markdown",
     "metadata": {},
     "source": [
      "###Calculate $\\mathbf{P}^T\\mathbf{U}_m$ by just extracting rows in numpy \n",
      "\n",
      "###Then invert and set $\\mathbf{P}_F=\\mathbf{U}_m (\\mathbf{P}^T\\mathbf{U}_m)^{-1})$"
     ]
    },
    {
     "cell_type": "code",
     "collapsed": false,
     "input": [
      "PtUm = Um[rho]\n",
      "assert PtUm.shape == (m,m)\n",
      "\n",
      "PtUmInv = np.linalg.inv(PtUm)\n",
      "PF= np.dot(Um,PtUmInv)"
     ],
     "language": "python",
     "metadata": {},
     "outputs": [],
     "prompt_number": 120
    },
    {
     "cell_type": "markdown",
     "metadata": {},
     "source": [
      "##Now define the right hand side term that uses DEIM"
     ]
    },
    {
     "cell_type": "code",
     "collapsed": false,
     "input": [
      "def mdivKgrad_deim(yc,K,k_r):\n",
      "    \"\"\"\n",
      "    evaluate divergence  for the reduced model by DEIM interpolant \n",
      "    and then restricting\n",
      "    \n",
      "    compute projection of coarse to fine grid\n",
      "    extracts DEIM indices in rho from nonlinear function of F\n",
      "    \n",
      "    Then projects this back up\n",
      "    \n",
      "    returns V_k^T P_F V_k \\hat{div}    \n",
      "    \"\"\"\n",
      "    yf = np.dot(V_k,yc)#projection to fine\n",
      "    Ff = F(yf[rho]) #calculate value of F at DEIM indices on fine grid\n",
      "    return np.dot(V_kT,np.dot(PF,Ff))\n"
     ],
     "language": "python",
     "metadata": {},
     "outputs": []
    },
    {
     "cell_type": "markdown",
     "metadata": {},
     "source": [
      "##perform the evolution"
     ]
    },
    {
     "cell_type": "code",
     "collapsed": false,
     "input": [
      "yc0 = np.dot(V_kT,y0)\n",
      "yc_deim,infodict = integrate.odeint(rhs,yc0,tnList,(Ahat,Fdeim,),full_output=True)"
     ],
     "language": "python",
     "metadata": {},
     "outputs": []
    },
    {
     "cell_type": "code",
     "collapsed": false,
     "input": [
      "yc2f_deim = np.zeros((yc_deim.shape[0],n))\n",
      "for i in range(yc_deim.shape[0]):\n",
      "    yc2f_deim[i,:] = np.dot(V_k,yc_deim[i,:])\n"
     ],
     "language": "python",
     "metadata": {},
     "outputs": []
    },
    {
     "cell_type": "code",
     "collapsed": false,
     "input": [
      "index = n_t-2#2#n_t-10\n",
      "#note y,y2cf are (n_t+1) x n which is transpose of snapshots\n",
      "fig = plt.figure()\n",
      "ax = fig.gca()\n",
      "ax.plot(x,y[index,:],'b',x,yc2f_deim[index,:],'r')\n",
      "plt.xlabel('x')\n",
      "plt.ylabel('y')\n",
      "plt.title('DEIM solutions at time $t^i=%12.3f$' % (tnList[index]))\n",
      "leg=ax.legend(['$y^i$','$\\hat{y}^i$'],loc=1)"
     ],
     "language": "python",
     "metadata": {},
     "outputs": []
    },
    {
     "cell_type": "code",
     "collapsed": false,
     "input": [
      "def plot_k(index):\n",
      "    plt.plot(x,y[index,:],'b',x,yc2f_deim[index,:],'r')\n",
      "    plt.xlabel('x'); plt.ylabel('y')\n",
      "    plt.title('POD+DEIM and full solutions at time $t^i=%12.3f$' % (tnList[index]))\n",
      "    leg=plt.legend(['$y^i$','$\\hat{y}^i$'],loc=3)\n",
      "\n",
      "wid = widgets.interact(plot_k,\n",
      "                       index=widgets.IntSliderWidget(min=0,max=n_t))\n",
      "display(wid)"
     ],
     "language": "python",
     "metadata": {},
     "outputs": []
    },
    {
     "cell_type": "code",
     "collapsed": false,
     "input": [],
     "language": "python",
     "metadata": {},
     "outputs": []
    },
    {
     "cell_type": "code",
     "collapsed": false,
     "input": [],
     "language": "python",
     "metadata": {},
     "outputs": []
    },
    {
     "cell_type": "code",
     "collapsed": false,
     "input": [],
     "language": "python",
     "metadata": {},
     "outputs": []
    }
   ],
   "metadata": {}
  }
 ]
}