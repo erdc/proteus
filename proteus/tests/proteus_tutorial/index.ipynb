{
 "cells": [
  {
   "cell_type": "markdown",
   "metadata": {},
   "source": [
    "![triton](http://proteustoolkit.org/_static/corps_logo_cross2.svg)\n",
    "\n",
    "## Proteus Training\n",
    "\n",
    "- [Introduction](Introduction.ipynb)\n",
    "- [concepts](./concepts/index.ipynb)\n",
    "- [2d examples](./2d/index.ipynb)\n",
    "- [3d examples](./3d/index.ipynb)\n",
    "- [development](./development.ipynb)"
   ]
  }
 ],
 "metadata": {
  "kernelspec": {
   "display_name": "Python 3",
   "language": "python",
   "name": "python3"
  },
  "language_info": {
   "codemirror_mode": {
    "name": "ipython",
    "version": 3
   },
   "file_extension": ".py",
   "mimetype": "text/x-python",
   "name": "python",
   "nbconvert_exporter": "python",
   "pygments_lexer": "ipython3",
   "version": "3.7.2"
  }
 },
 "nbformat": 4,
 "nbformat_minor": 2
}
