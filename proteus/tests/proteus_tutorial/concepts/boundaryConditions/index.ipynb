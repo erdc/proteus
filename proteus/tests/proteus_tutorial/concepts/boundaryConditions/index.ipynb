{
 "cells": [
  {
   "cell_type": "markdown",
   "metadata": {},
   "source": [
    "[Up](../index.ipynb)\n",
    "# Boundary Conditions\n",
    "- [BoundaryConditions](BoundaryConditions.ipynb)\n",
    "- [BoundaryConditions with SpatialTools](BoundaryConditions--SpatialTools.ipynb)"
   ]
  }
 ],
 "metadata": {
  "kernelspec": {
   "display_name": "Python 3",
   "language": "python",
   "name": "python3"
  },
  "language_info": {
   "codemirror_mode": {
    "name": "ipython",
    "version": 3
   },
   "file_extension": ".py",
   "mimetype": "text/x-python",
   "name": "python",
   "nbconvert_exporter": "python",
   "pygments_lexer": "ipython3",
   "version": "3.7.2"
  }
 },
 "nbformat": 4,
 "nbformat_minor": 2
}
