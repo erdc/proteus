{
 "cells": [
  {
   "cell_type": "markdown",
   "metadata": {},
   "source": [
    "# Setting Boundary and Initial Conditions\n",
    "\n",
    "There are two distinct classes of boundary conditions supported by Proteus: Dirichlet (or Degree-of-Freedom) conditions and flux (Neumann) conditions. Tak the viscous Burgers equation as an example:\n",
    "\n",
    "\\\\[u_t + \\nabla \\cdot \\left( B u^2 - A \\nabla u \\right) + C u = 0 \\qquad \\Omega = (0,1)\\times(0,1) \\\\]\n",
    "\n",
    "# Dirichlet  Conditions\n",
    "\n",
    "Dirichlet condtions contrain the degrees-of-freedom along specific boundaries. Suppose we are solving for $u(x,y,t):\\Omega \\times [0,1] \\rightarrow \\Re$ with Dirichlet boundary conditions:\n",
    "\n",
    "\\\\[ u(0,y,t) = 1 \\\\]\n",
    "\\\\[ u(x,0,t) = 1 \\\\]"
   ]
  },
  {
   "cell_type": "code",
   "execution_count": 1,
   "metadata": {},
   "outputs": [],
   "source": [
    "def myDirichletSetter(x,flag):\n",
    "    if x[0] == 0.0:\n",
    "        return lambda x,t: 1.0\n",
    "    elif x[1] == 1.0:\n",
    "        return lambda x,t: 1.0"
   ]
  },
  {
   "cell_type": "markdown",
   "metadata": {},
   "source": [
    "Or if you defined your domain with tagged boundaries you could instead use"
   ]
  },
  {
   "cell_type": "code",
   "execution_count": 2,
   "metadata": {},
   "outputs": [],
   "source": [
    "def myDirichletSetter2(x,flag):\n",
    "    if flag in [domain.flags['left'],domain.flags['front']]:\n",
    "        return lambda x,t: 1.0"
   ]
  },
  {
   "cell_type": "markdown",
   "metadata": {},
   "source": [
    "# Flux Conditions\n",
    "\n",
    "Suppose we also require that\n",
    "\n",
    "\n",
    "\\\\[ - A \\nabla u(1,y,t) \\cdot \\mathbf{n} = 0 \\\\]\n",
    "\\\\[ - A \\nabla u(x,1,t) \\cdot \\mathbf{n} = 0 \\\\]\n",
    "\n",
    "These flux conditions are defined similarly:"
   ]
  },
  {
   "cell_type": "code",
   "execution_count": 3,
   "metadata": {},
   "outputs": [],
   "source": [
    "def myDiffusiveFluxSetter(x,flag):\n",
    "    if flag in [domain.flags['right'],domain.flags['back']]:\n",
    "        return lambda x,t: 0.0"
   ]
  },
  {
   "cell_type": "markdown",
   "metadata": {},
   "source": [
    "The manner in which boundary condtions are enforced depends on the numerics. Most models in proteus use weak  boundary conditions enforcement that only enforced Dirichlet conditions when they are well-posed with respect to the operator. For this particular model we can define Dirichlet condtions along all boundaries and the numerics will \"do the right thing\" (upwind) based on the direction of the vector $B$.:"
   ]
  },
  {
   "cell_type": "code",
   "execution_count": 4,
   "metadata": {},
   "outputs": [],
   "source": [
    "def myDirichletSetter2(x,flag):\n",
    "    if flag in [domain.flags['left'],domain.flags['front']]:\n",
    "        return lambda x,t: 1.0\n",
    "    elif flag in [domain.flags['right'],domain.flags['back']]:\n",
    "        return lambda x,t: 0.0"
   ]
  },
  {
   "cell_type": "markdown",
   "metadata": {},
   "source": [
    "# Initial Conditions\n",
    "\n",
    "Time dependent problems also require that we know the solution at at least some point in time, for example\n",
    "\\\\[\n",
    "u(x,y,0) = 0\n",
    "\\\\]"
   ]
  },
  {
   "cell_type": "code",
   "execution_count": 5,
   "metadata": {},
   "outputs": [],
   "source": [
    "class uZero:\n",
    "    def uOfXT(self,x,t):\n",
    "        return 0.0"
   ]
  },
  {
   "cell_type": "code",
   "execution_count": null,
   "metadata": {},
   "outputs": [],
   "source": []
  }
 ],
 "metadata": {
  "kernelspec": {
   "display_name": "Python 3",
   "language": "python",
   "name": "python3"
  },
  "language_info": {
   "codemirror_mode": {
    "name": "ipython",
    "version": 3
   },
   "file_extension": ".py",
   "mimetype": "text/x-python",
   "name": "python",
   "nbconvert_exporter": "python",
   "pygments_lexer": "ipython3",
   "version": "3.7.2"
  }
 },
 "nbformat": 4,
 "nbformat_minor": 1
}
