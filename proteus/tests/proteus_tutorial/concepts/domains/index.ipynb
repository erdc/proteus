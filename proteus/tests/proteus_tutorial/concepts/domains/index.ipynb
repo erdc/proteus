{
 "cells": [
  {
   "cell_type": "markdown",
   "metadata": {},
   "source": [
    "[Up](../index.ipynb)\n",
    "# Domains\n",
    "\n",
    "- [Domain Basics](Domain_Tutorial.ipynb) The basic types in `proteus.Domain` for describing the problem geometry\n",
    "- [PSLG Editor](PSLG_Editor.ipynb) A simple editor widget for exploring the Planar Straight Line Graph concept\n",
    "- [Spatial Tools](SpatialTools.ipynb) Tools for creating complex multiphase flow domains by composing more primitive shapes."
   ]
  }
 ],
 "metadata": {
  "kernelspec": {
   "display_name": "Python 3",
   "language": "python",
   "name": "python3"
  },
  "language_info": {
   "codemirror_mode": {
    "name": "ipython",
    "version": 3
   },
   "file_extension": ".py",
   "mimetype": "text/x-python",
   "name": "python",
   "nbconvert_exporter": "python",
   "pygments_lexer": "ipython3",
   "version": "3.7.2"
  }
 },
 "nbformat": 4,
 "nbformat_minor": 2
}
