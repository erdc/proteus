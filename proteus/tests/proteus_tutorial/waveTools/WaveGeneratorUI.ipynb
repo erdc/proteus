{
 "cells": [
  {
   "cell_type": "code",
   "execution_count": 1,
   "metadata": {
    "hideCode": false,
    "hidePrompt": false
   },
   "outputs": [],
   "source": [
    "from proteus import Profiling,SpatialTools\n",
    "from proteus import WaveTools as WT\n",
    "%matplotlib inline\n",
    "from matplotlib import pyplot as plt\n",
    "import numpy as np\n",
    "import sys\n",
    "from ipywidgets import interact, interactive, fixed\n",
    "import ipywidgets as widgets"
   ]
  },
  {
   "cell_type": "code",
   "execution_count": 2,
   "metadata": {
    "hideCode": false,
    "hidePrompt": false,
    "scrolled": true
   },
   "outputs": [
    {
     "data": {
      "application/vnd.jupyter.widget-view+json": {
       "model_id": "8ab5908708fb4952a04f47d7186c5b17",
       "version_major": 2,
       "version_minor": 0
      },
      "text/plain": [
       "interactive(children=(Dropdown(description='Tp', options=(2.0, 3.0), value=2.0), FloatSlider(value=0.15, descr…"
      ]
     },
     "metadata": {},
     "output_type": "display_data"
    }
   ],
   "source": [
    "from proteus import Profiling,SpatialTools\n",
    "from proteus import WaveTools as WT\n",
    "\n",
    "def plotWaves(Tp = 2.,\n",
    "              Hs = 0.15,\n",
    "              mwl = 0.,\n",
    "              depth = 1.,\n",
    "              N = 11,\n",
    "              bFactor = 2.0,\n",
    "              specName=\"PM_mod\"):\n",
    "    waveDir = np.array([1., 2., 0.])\n",
    "    spectral_params = None\n",
    "    phi = None\n",
    "    g = np.array([0., 0., -9.81])\n",
    "    #Calling the class\n",
    "    RW = WT.RandomWaves(Tp,\n",
    "                        Hs,\n",
    "                        mwl,\n",
    "                        depth,\n",
    "                        waveDir,\n",
    "                        g,\n",
    "                        N,\n",
    "                        bFactor,\n",
    "                        specName,\n",
    "                        spectral_params,\n",
    "                        phi)\n",
    "\n",
    "    n=151\n",
    "    xi = np.linspace(0, 20, n)\n",
    "    yi = np.linspace(0, 20, n)\n",
    "    zi = np.linspace(mwl-depth, mwl+2*Hs, n)\n",
    "    nperiod = 20\n",
    "    npoints = 15\n",
    "    nn = npoints * nperiod\n",
    "    tnlist=np.linspace(0,nperiod*Tp,nn)\n",
    "    eta_t = np.zeros(len(tnlist),)\n",
    "    psize =20\n",
    "\n",
    "    #Calculating time series\n",
    "    for i in range(len(tnlist)):\n",
    "        x = [2., 0.5, 0.]\n",
    "        t = tnlist[i]\n",
    "        eta_t[i] = RW.eta(x, t)\n",
    "    \n",
    "        \n",
    "    #Plotting time series\n",
    "    fig = plt.figure(2, figsize=(10,6), dpi=100);\n",
    "    plt.xlim(0., nperiod*Tp)\n",
    "    plt.plot(tnlist, eta_t)\n",
    "    plt.xlabel(\"Time (s)\", size=psize)\n",
    "    plt.ylabel(\"$\\eta$ (m)\", size=psize)\n",
    "    plt.grid()\n",
    "\n",
    "interact(plotWaves,\n",
    "         Tp = [2.,3.],\n",
    "         Hs = 0.15,\n",
    "         mwl = 0.,\n",
    "         depth = 1.,\n",
    "         N = 11,\n",
    "         bandFactor = 2.0,\n",
    "         specName=['JONSWAP', 'PM_mod']);"
   ]
  },
  {
   "cell_type": "code",
   "execution_count": null,
   "metadata": {
    "hideCode": false,
    "hidePrompt": false
   },
   "outputs": [],
   "source": []
  }
 ],
 "metadata": {
  "hide_code_all_hidden": false,
  "kernelspec": {
   "display_name": "Python 3",
   "language": "python",
   "name": "python3"
  },
  "language_info": {
   "codemirror_mode": {
    "name": "ipython",
    "version": 3
   },
   "file_extension": ".py",
   "mimetype": "text/x-python",
   "name": "python",
   "nbconvert_exporter": "python",
   "pygments_lexer": "ipython3",
   "version": "3.7.2"
  },
  "widgets": {
   "state": {
    "000675c8c0c840adbcd5ef7a168df733": {
     "views": []
    },
    "02b18793080f441ea5d3f0f8c06f64e2": {
     "views": []
    },
    "02f9175795fa442cb28da87e1a98af65": {
     "views": []
    },
    "032c115b44ce49b5b19fabe8153682ea": {
     "views": []
    },
    "033fb6419b2045cfa5e059abbc2fe645": {
     "views": []
    },
    "03a8ec8c942949beaffafef447f14683": {
     "views": []
    },
    "04726cdcb09243369d19d17435369331": {
     "views": []
    },
    "07664195d7a14d86a55ed8ca5a55c81d": {
     "views": []
    },
    "0891f3acbfba4fe88449ae39beed4cea": {
     "views": []
    },
    "098d37d8d1824567b1de287d139c145c": {
     "views": []
    },
    "09a0d588f4c94cb794d2736dd87d1941": {
     "views": []
    },
    "0c0b63afaafa4fe5bdc9e1aba5356a97": {
     "views": []
    },
    "0d5bdbf225a945329d34fdbc98a1efe0": {
     "views": []
    },
    "0e62c367583c4de0b99f7b10607400f5": {
     "views": []
    },
    "0ffec66874c141458322ba20bf953a3e": {
     "views": []
    },
    "10662c50400940edb68a3054d92b20a5": {
     "views": []
    },
    "115daebd9fa249b999646c3ac5dd91ee": {
     "views": []
    },
    "118a6ef276b74e529670f080ea6e7f7e": {
     "views": []
    },
    "11b0f8690de643e6a9aac0a873c8be66": {
     "views": []
    },
    "125b0c97a01944fc85173238725d4e5d": {
     "views": []
    },
    "126f861f97d943ceb4393913fc3ddd2f": {
     "views": []
    },
    "12c1fdc916444753a96450857f905b1a": {
     "views": []
    },
    "130c432aa54442db84fa15b0a7d1cac2": {
     "views": []
    },
    "131b2365e8c04e4c80c8dda5bfe5ec67": {
     "views": []
    },
    "13ee72c3612e4564afb79b17e2daf0d8": {
     "views": []
    },
    "13fab2b59b4b45249c1382b18637b366": {
     "views": []
    },
    "14f05f0d3ab9498fbdcc4424a452b418": {
     "views": []
    },
    "16d54ff156b84ff3a29fdd6d3b00828f": {
     "views": []
    },
    "171165bb70ff4cfd9bac4b751fafeb26": {
     "views": []
    },
    "173330a045374f54a6d4ec4fca7dbeb1": {
     "views": []
    },
    "1831716e67694bd4b2b97e5b36ef98ef": {
     "views": []
    },
    "184736c2f2264b00a61c73da327447c6": {
     "views": []
    },
    "1934a98e6c364b58a7e3021f2303c475": {
     "views": []
    },
    "1b7d9ac23f1d475ab0be33dd046cbb9d": {
     "views": []
    },
    "1c91e4218a104628a66826c1ed208e59": {
     "views": []
    },
    "1d92a53da2264658bfc9cd8ab8e675f2": {
     "views": []
    },
    "1e61c71bad684c15bdd5621f5bcebe5f": {
     "views": []
    },
    "1ed6888cfe544964b6d902baca8043c7": {
     "views": []
    },
    "213166cce689457780d0840c6ca90d7c": {
     "views": []
    },
    "217efe27cc074c3e9322b9d28a2980c5": {
     "views": []
    },
    "23596fe8bba44fbaadbb53749f535e35": {
     "views": []
    },
    "23ba6b65fe59422ebdb737e3412b674e": {
     "views": []
    },
    "23da6b4973a8431192524f8647917519": {
     "views": []
    },
    "24e41af42b5b4c67b8439b7f5e4fea05": {
     "views": []
    },
    "24ecf4370e0248808c7bc6cdce70863d": {
     "views": []
    },
    "257ec61a514c444eaf620b4bba63c524": {
     "views": []
    },
    "25dfa3022d1c4c7b90cfa3d167d022f2": {
     "views": []
    },
    "2623559515474a688d0bb994790eafc9": {
     "views": []
    },
    "276c022bec78439d8b039d45a822c129": {
     "views": []
    },
    "27bc224059de46a1897cc3ede4683032": {
     "views": []
    },
    "2931bea554494ac6829ab26fc51a53c9": {
     "views": []
    },
    "2ac7b4eff29044ff9406861a492c3cea": {
     "views": []
    },
    "2bbd09e28e1c4bd280af82e7820016ec": {
     "views": []
    },
    "2bf2c09b6b304362be8b2d6536b39d4d": {
     "views": []
    },
    "2c1be660407c43a2a0f8c6550b90e61e": {
     "views": []
    },
    "2d2610a39a204c39ab4bf1a0c943714a": {
     "views": []
    },
    "2dc2978cfaca49a897aa66f167bff3fa": {
     "views": []
    },
    "2efbd98597164e5193d6bde06860cb90": {
     "views": []
    },
    "2fbd69388b4c4f9d9bfa39cf1137b8b2": {
     "views": []
    },
    "302c9ab01607407e83f4b2154cb294fb": {
     "views": []
    },
    "307520c8157047ebb3872a9fba9a970b": {
     "views": []
    },
    "3078e0d2ac934537a018f52204380563": {
     "views": []
    },
    "30dc47270471426294a4717e1b16a1df": {
     "views": []
    },
    "33cb510cf00843d0b3888345766c8402": {
     "views": []
    },
    "3534796c2bc24cf9a26831d0b2b0d2c3": {
     "views": []
    },
    "35d5103738504f9d91980e2b18ebc125": {
     "views": []
    },
    "37d569c99a8a4f5eaee276136ffc4b8b": {
     "views": []
    },
    "37da2985c599404582114ac253d52283": {
     "views": []
    },
    "37fdf51eb211422c8d38a5a3d87ae857": {
     "views": []
    },
    "3994aa55be0a49b3af0e19106cc80b57": {
     "views": []
    },
    "3a34f58f2bee4803bf3842d4b1551bdc": {
     "views": []
    },
    "3b2b5a31cff742d5872c824eac83f74e": {
     "views": []
    },
    "3bd63c1ffc1e409885a6b38237599c4d": {
     "views": []
    },
    "3d93aac437964fa6b4f94071a9e67731": {
     "views": []
    },
    "3dd1e387fa6c4e5891f83f95a63b3e84": {
     "views": []
    },
    "3f56d25d2396454ba274790c86ad3bb8": {
     "views": []
    },
    "40c6403412974545860dc5a4117f3c02": {
     "views": []
    },
    "417c9de1422e4f638d4d4879c4410680": {
     "views": []
    },
    "41b915f842414041923eddda97eb114d": {
     "views": []
    },
    "47fcf62a48534fd9aae54c5700a4efac": {
     "views": []
    },
    "48582f5dbf0847a89c2e2e60d0eec4b7": {
     "views": []
    },
    "48be9d1de654479f991a39bea4e21047": {
     "views": []
    },
    "4972d121f406495fb4358970b623d7d3": {
     "views": []
    },
    "49a06f362d164535b4251febdf58dce6": {
     "views": []
    },
    "4d6ae010d58e4f6d9c73a079be3576cd": {
     "views": []
    },
    "4d6c9142649d4faa8fb05d6823b7b889": {
     "views": []
    },
    "4e77a1d351324ffab7c59a3176add689": {
     "views": []
    },
    "4edb2304b83140af9af1d99b8958dbff": {
     "views": []
    },
    "4f7b972a69054f12b5ac62aa175a28b8": {
     "views": []
    },
    "507f19b213e34445b24069ad4232893b": {
     "views": []
    },
    "50b4c138181946c0adfc461e76d959bc": {
     "views": []
    },
    "5134bb83e2214edd92030fa1120c58e0": {
     "views": []
    },
    "51d3de9718b64ec8b7c6047867ad28da": {
     "views": []
    },
    "526d467ecbdb4d0487e08ffddb385cb8": {
     "views": []
    },
    "52e4688c4cea45fd9b28eae731075ee5": {
     "views": []
    },
    "54e846e5a74c4852a35ea485830fbc6e": {
     "views": []
    },
    "55ad3d8a9d5d4f029b9c1b605f93bb05": {
     "views": []
    },
    "56892eb66ea94493a2661b03adf113f9": {
     "views": []
    },
    "571fb9f0aabf4febaab49c7d841fcc7f": {
     "views": []
    },
    "575c1211e97a4ddaa4fed799cbf265bb": {
     "views": []
    },
    "576f55b45c204d778c6668cda38a195d": {
     "views": []
    },
    "5860589dd8a846e49c98310c79de2dda": {
     "views": []
    },
    "58d6a6a40fa9439ea7bfc3eee8bbce0b": {
     "views": []
    },
    "58efaae242964b38b8ce9bc49bd924a5": {
     "views": []
    },
    "59f82b2debd84896b45acfc78bda76af": {
     "views": []
    },
    "5bee39357cbd4f22a4021ac1a5021406": {
     "views": []
    },
    "5c497525a4274588b6ee87798d6d5e1c": {
     "views": []
    },
    "5da2237c17714dfcb4b7e677e804c799": {
     "views": []
    },
    "5f7cc10708ca45b4b960b1042cf8e8cc": {
     "views": []
    },
    "6113e91f34bc44669dbf8cb3684164b4": {
     "views": []
    },
    "6151320cf1344b1b854c1f534146b5ba": {
     "views": []
    },
    "61b0e19fc86a48619466a89899190ba7": {
     "views": []
    },
    "62c32fdeee0440b5ad1fef1f45e43f73": {
     "views": []
    },
    "62e2fcb7f8c94802a5a459f0ff748c72": {
     "views": []
    },
    "6319ffbe607943f59baaf28e09693d1e": {
     "views": []
    },
    "66425b7068bb455e97c3ff8ee3d9d434": {
     "views": []
    },
    "6988cb936ff54773988ad1649f617f7b": {
     "views": []
    },
    "6abf35c54b764c9aa90a854cec779af6": {
     "views": []
    },
    "6b567253f7cd458c8e0fae0e4d330a08": {
     "views": []
    },
    "6baecf2a5d164207af904f6005a2d2a8": {
     "views": []
    },
    "6f44979d13b040b785deb5fca96fc251": {
     "views": []
    },
    "6fbb7a80e35548c798ec69b51887f51f": {
     "views": []
    },
    "702bd692b33243f2bec0920ffc140125": {
     "views": []
    },
    "7061e1c9d21f4e74a30620b704241677": {
     "views": []
    },
    "716f4fd97f2e4518afcfbc6cad04361e": {
     "views": []
    },
    "736e1ed5743f4228a802ec2fa78c50cc": {
     "views": []
    },
    "7381af2fd5cb4e7db8ad3c8dc7a34024": {
     "views": []
    },
    "73da8d9947e449feb0d1450c27ee5a6b": {
     "views": []
    },
    "73f37c8e4c7e4e7b95917a06fe49b3cc": {
     "views": []
    },
    "74f97378eb174a75854aa34509b70f49": {
     "views": []
    },
    "751e7c9ed6ea4b039de3a263359fb1f9": {
     "views": []
    },
    "7620dd27685442b282e0a51f1070b2f7": {
     "views": []
    },
    "76a28f4653d945a59bae65fb5cc0cab5": {
     "views": []
    },
    "76a77b696fb541ffbfe3439d79d39a57": {
     "views": []
    },
    "78d9a7ab293740f3ac43aacafb8904d1": {
     "views": []
    },
    "791a47d91e13448ca3b45b04913ac321": {
     "views": []
    },
    "7ad8708ee61b4440800342181b8ecdb8": {
     "views": []
    },
    "7bcf6c043fc44efb9d136d2a04c794a5": {
     "views": []
    },
    "7c0ba5df705342b582f0edd16d1ca300": {
     "views": []
    },
    "7c34d511885c4a3586ccf01cbd80aeee": {
     "views": []
    },
    "7de0a10279774aaea357092104c26dfd": {
     "views": []
    },
    "7ecbd8773a25486ca20060a2d9d3a2bb": {
     "views": []
    },
    "83a96b5d711547e28d0fc99f43f92394": {
     "views": []
    },
    "847c2d5e036c4df2a07bcbf3339ef05e": {
     "views": []
    },
    "8939577547b940f6a4f84da341912dd9": {
     "views": []
    },
    "89a8d05da4824117a7aa537d48e511f2": {
     "views": []
    },
    "8a838ba4d44b4f059cc9011138190100": {
     "views": []
    },
    "8c62212ff5cd45eca864fa2086bf1bc2": {
     "views": []
    },
    "8cd4e435c8c34818834e3baf1b55174d": {
     "views": []
    },
    "8d3797a7b84e4227b9896b0d1066b943": {
     "views": []
    },
    "8dc755bd47644f329bf8ab7dcbfdd65f": {
     "views": []
    },
    "8e46cd0e62b74123894b9b7c53c708b7": {
     "views": []
    },
    "8fb904ac1fdc4ecf9436a4f39358010b": {
     "views": []
    },
    "9063c5aa155a45ffa80ec1846e05586a": {
     "views": []
    },
    "907b13a543894375b17557b9de68a511": {
     "views": []
    },
    "90c312a0d88d48bbbe65c93068db1346": {
     "views": []
    },
    "90c4b924d916422eaff9fc3787e24911": {
     "views": []
    },
    "90e5cd90def34bc9a57cf232627de6a9": {
     "views": []
    },
    "9152cf10802445d1913ee50247dc910a": {
     "views": []
    },
    "91eed3272a2043889f150275c5818858": {
     "views": []
    },
    "932b53a87e344510b3059270b2096605": {
     "views": []
    },
    "935c8443234447ca93cb88bec84f9138": {
     "views": []
    },
    "9360cf4a48d84c5b85cd5b8c98472236": {
     "views": []
    },
    "93d12cb366c44277a0a197bd464bdfca": {
     "views": []
    },
    "93d6362f60344e84a68aaa16e74fc9c9": {
     "views": []
    },
    "9402731396b04e8eb5811f3ce5e0d8c4": {
     "views": [
      {
       "cell_index": 1
      }
     ]
    },
    "946e1733bf5247f08bf3cbe511a1b7f2": {
     "views": []
    },
    "96b0d7265dc941cbb02cde7ce77cd342": {
     "views": []
    },
    "9722af3309b64830ac76fe8fce43cb5f": {
     "views": []
    },
    "982c062673f54ba18e3a7eca7fe0c2c6": {
     "views": []
    },
    "9830d6f88a994a2db7fe3b2e227fac46": {
     "views": []
    },
    "98d51a74d9f1466797cb50ae34e1342d": {
     "views": []
    },
    "9a759df9f4bc4873a2341b22186b7fd6": {
     "views": []
    },
    "9ab1e451ccc545f2b9813d573d9c0440": {
     "views": []
    },
    "9b84b41a33dc4ac3b803253e7f066913": {
     "views": []
    },
    "9b9bee687add4d5e89bce425ea21c31b": {
     "views": []
    },
    "9e9111182e924b9080ebb5ce9c44389a": {
     "views": []
    },
    "a72fa2a876a24a3ca370e71a3ec6214c": {
     "views": []
    },
    "a87439b043364366886c3b9f14a7d2dd": {
     "views": []
    },
    "a97dcc8e3c39466b9b9f83fc89e09191": {
     "views": []
    },
    "a9c4e42478c34243b88cf6b6ac0ca673": {
     "views": []
    },
    "aa376613549942fa8742b86295274bd1": {
     "views": []
    },
    "ac7b54e009294206b7c3650279acbc31": {
     "views": []
    },
    "acef45c0d45b4f20ab981927ab1f2dbd": {
     "views": []
    },
    "aee0fd24f98a4c0a841e51bdfc1eae48": {
     "views": []
    },
    "af2a34b10d5842ee9f9785429f2f72dd": {
     "views": []
    },
    "af86b5c4bd3343ea955b039536c3881f": {
     "views": []
    },
    "b378856cda8c4a99b5bb7f5ea95a4c26": {
     "views": []
    },
    "b3bb43ca5f5446bba7bc16bb6f6cde30": {
     "views": []
    },
    "b422ffad5e854d499b4f6cc4beec1de6": {
     "views": []
    },
    "b6df7fe13f3d40cca2e3847e192b8654": {
     "views": []
    },
    "b7a180ef613145378739b7638a4b69ff": {
     "views": []
    },
    "b7ce20ee62d446d18d3d7ee8a3843d12": {
     "views": []
    },
    "b91c323a0baa4adcb9967d283d42befd": {
     "views": []
    },
    "bb1eef46afb94cd5af3e4c9e66816b3f": {
     "views": []
    },
    "bb92c96272c54189844cd935518a0809": {
     "views": []
    },
    "bbed5c03b03d4ee4afc8bb72115097ff": {
     "views": []
    },
    "bc68ca8b37cf44bbbe9628a93e26c676": {
     "views": []
    },
    "bd475e2afc99464888f5db94b95102ab": {
     "views": []
    },
    "bf07c4c36f904986a1d1bf2568d0e242": {
     "views": []
    },
    "bf8868d444c34ad5bac7208828d5da8f": {
     "views": []
    },
    "c02ecbc175dd40e196ea54e4484e266c": {
     "views": []
    },
    "c0720ec609624d25895415d0e438c821": {
     "views": []
    },
    "c15caa88740847bc9efaada7cc2ef5c0": {
     "views": []
    },
    "c175ed6a5b294ec1a7708e4feaa49072": {
     "views": []
    },
    "c2006c1cfbeb455cb7c17975304a94dc": {
     "views": []
    },
    "c238560991f8413aab833eb0a05532b0": {
     "views": []
    },
    "c4ea7f55fa674a0c852f990c07fa7071": {
     "views": []
    },
    "c679350200074476a807e33a40e904d8": {
     "views": []
    },
    "c68809abce7b4bdbb202e3a3cba0823a": {
     "views": []
    },
    "c7ce66c48f7e4a60a2da0f70b98f13c7": {
     "views": []
    },
    "c8b4991f85104cf38f885098af8d8bb3": {
     "views": []
    },
    "c8cc88ca98eb4f038827b1d0861a5eb6": {
     "views": []
    },
    "c8d97e6d2015481691dbd96865abc50c": {
     "views": []
    },
    "c8f7fc1a3c9c4a1aa3fba87ffb1a5ada": {
     "views": []
    },
    "ce05c04392b14b608e46cd786aa61aae": {
     "views": []
    },
    "cf49f3fa7c704d1fab67b4d5b17b36c2": {
     "views": []
    },
    "d13a1b2ea94e4935b1bcab05334ac64c": {
     "views": []
    },
    "d1437220fac94592a78056d334c1a95c": {
     "views": []
    },
    "d14e274f8dd144ab9736dc907f5f7775": {
     "views": []
    },
    "d18d547634c0463ea59bf80a74dec2e9": {
     "views": []
    },
    "d18eb86840804398978f473de3c475b7": {
     "views": []
    },
    "d359ba77ede04b16803e1b55901f5d8d": {
     "views": []
    },
    "d59ab667aeb34a2ea038798b3d0e6adb": {
     "views": []
    },
    "d5d8adfab6c243d1a42bea1ab02836ec": {
     "views": []
    },
    "d731b8c59aa34ad0be17e42e21317263": {
     "views": []
    },
    "d7fe6460a2784c2697782ef217ab6aeb": {
     "views": []
    },
    "d8513d95b1b64d42a57de2500c875623": {
     "views": []
    },
    "d8db0f38f1064428a89f530fe4965aaa": {
     "views": []
    },
    "db5ae631d0ba4cf78df5d9744b250791": {
     "views": []
    },
    "dc5096413bbc40afbdcdf3de99524253": {
     "views": []
    },
    "ded309d9687b4ef69787b2bc69488fe4": {
     "views": []
    },
    "df08f1c30a864cb5b3a27f694da94db5": {
     "views": []
    },
    "df9b27854e9c4596b149f09e09dfc8f9": {
     "views": []
    },
    "e176716c7e424246b1f3852c4a4969ac": {
     "views": []
    },
    "e178eaaba25b4208b9480ada82a5828b": {
     "views": []
    },
    "e196925ed49548c6b96d2ee046e25cf7": {
     "views": []
    },
    "e2a473c44fdc45d6b67125c806649f21": {
     "views": []
    },
    "e2d3300f5e6b4254a6a11f33dd8ebb86": {
     "views": []
    },
    "e3550b5ec66345f09c5dc2cae952bdc5": {
     "views": []
    },
    "e35b0e6d745d4ec4abf855a4ac743b09": {
     "views": []
    },
    "e3a89dbc634043f1b50bb5110f27253f": {
     "views": []
    },
    "e3c8966e644c4a5589044214a08cf0aa": {
     "views": []
    },
    "e53be9dd96684db8ab6c5bf1b9f9ad45": {
     "views": []
    },
    "e5576076e9004c99819adba5a5137ae4": {
     "views": []
    },
    "e56d373f16d04cc080e3628e4d72eba1": {
     "views": []
    },
    "e63aad44687c4df18ae3bcf9e109d5ea": {
     "views": []
    },
    "e7118687a37a4e6e915f5dfe26744a7f": {
     "views": []
    },
    "e82925b15e0340c88e2230a968259a61": {
     "views": []
    },
    "e8b10cccf80a4e97bff7a3b369f81148": {
     "views": []
    },
    "e8e37fb1742b4807b6c8ce5a2b60f813": {
     "views": []
    },
    "e9df3b4a630d4c4e9d7b7a3031d1f996": {
     "views": []
    },
    "e9e4a17866224a5aa7e4b01383d9665c": {
     "views": []
    },
    "ec18a639b977458e963276df7903a123": {
     "views": []
    },
    "ed7a113283274b27981b3c1b69f9dca9": {
     "views": []
    },
    "edb472be012d4de79d3c551f7b480c09": {
     "views": []
    },
    "ee1db78547b149c2ba3c8b08f78b3d4b": {
     "views": []
    },
    "ee20ae0038684a26be4fd56c478cdbcd": {
     "views": []
    },
    "ee8ecfcf7f2741289b81cd897fe20944": {
     "views": []
    },
    "eea772b096914a7989be0a1897e72b03": {
     "views": []
    },
    "ef6c9636c7534bd69663b50e8f1c11b9": {
     "views": []
    },
    "f0cf6ffe7cbc4f37aa88e6ce23191115": {
     "views": []
    },
    "f17b22d7f2f14b77a9aca362085467d4": {
     "views": []
    },
    "f19bcb87f8a7487085c0aec0e1824563": {
     "views": []
    },
    "f1ce136d90224acd901b1b0201f56f2c": {
     "views": []
    },
    "f25ac9cefc8e431a89adbb229cd184e3": {
     "views": []
    },
    "f3432bc6cc1a410f824c2edefa4a9389": {
     "views": []
    },
    "f44d8a8c8d614d8b907c4ba9897933fb": {
     "views": []
    },
    "f4ea25c84b3049468a649109f40ddf8b": {
     "views": []
    },
    "f521f2926039498b99889e0689f5c15f": {
     "views": []
    },
    "f5854c83e11344fa9bddff134c5ca678": {
     "views": []
    },
    "f6170161d3df4ee7a7901d419d7e6c07": {
     "views": []
    },
    "f7272cd9b1fc4ded90e9abfe40ffa925": {
     "views": []
    },
    "f7e2b0cd54ce4010a86a57c23c33fb62": {
     "views": []
    },
    "f7eb9eb8adf8471d953b7bf066d16a70": {
     "views": []
    },
    "fa3ab6f1b533454a858ddaae24d46cae": {
     "views": []
    },
    "fa7796ad6bed401e82750c083867675f": {
     "views": []
    },
    "fa9439d90bf44fa2979632344bb84cdf": {
     "views": []
    },
    "fd64f3e56d5542289e509f025da0c85f": {
     "views": []
    },
    "fe29e59dddf24810bb3e8cd22e83d2c0": {
     "views": []
    },
    "fe64d077a0374deca2c2643b70ae47b6": {
     "views": []
    },
    "ff3ba3e906f74fa08f39f9d396536a25": {
     "views": []
    }
   },
   "version": "1.1.1"
  }
 },
 "nbformat": 4,
 "nbformat_minor": 1
}
