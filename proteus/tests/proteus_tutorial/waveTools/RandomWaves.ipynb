{
 "cells": [
  {
   "cell_type": "markdown",
   "metadata": {},
   "source": [
    "Plane random waves - `RandomWaves` Class\n",
    "====================================================\n",
    "\n",
    "Random waves typically consist of non-repeatable wave sequences, so each individual wave has different characteristics. Random waves in nature usually obey spectral distributions e.g. JONSWAP and Pierson-Moskowitz spectra and their statistical properties can be predicted. \n",
    "\n",
    "In order to generate such a wave sequence, we discretize the spectral distribution and we reconstruct the time series (free surface elevation, velocities) using linear components.\n",
    "\n",
    "\n",
    "<img src=Spectrum.PNG width=\"75%\" height=\"75%\">\n",
    "\n",
    "Free-surface elevation equation:\n",
    "\n",
    "$$\n",
    "\\eta(\\vec{x},z,t)=\\Sigma_1^N a_i \\cos (\\vec{k}_i\\cdot\\vec{x}-\\omega_i t +\\phi_i) \n",
    "$$\n",
    "\n",
    "Equation of velocity along the wave propagation direction:\n",
    "\n",
    "$$\n",
    "U_h(\\vec{x}_i,z,t)=\\Sigma_1^N  u_{h(i)} \\cos (\\vec{k}\\cdot\\vec{x}-\\omega t +\\phi)\\cosh i(k(d+z))\n",
    "$$\n",
    "\n",
    "Equation of velocity along the gravity direction:\n",
    "\n",
    "$$\n",
    "U_v(\\vec{x},z,t)=\\Sigma_1^N  u_{v(i)} \\sin i(\\vec{k}\\cdot\\vec{x}-\\omega t +\\phi)\\sinh i(k(d+z))\n",
    "$$\n",
    "\n",
    "Then we calculate properties for each linear component $ω_i$:\n",
    "- Wave amplitude from spectral density\n",
    "- Wavelength from linear dispersion\n",
    "- Velocities from linear wave theory\n",
    "- Random assignment of phases \n"
   ]
  },
  {
   "cell_type": "code",
   "execution_count": null,
   "metadata": {},
   "outputs": [],
   "source": [
    "%matplotlib inline\n",
    "from matplotlib import pyplot as plt\n",
    "import numpy as np"
   ]
  },
  {
   "cell_type": "markdown",
   "metadata": {},
   "source": [
    "\n",
    "To load WaveTools from proteus source files, without compiling:\n"
   ]
  },
  {
   "cell_type": "code",
   "execution_count": null,
   "metadata": {},
   "outputs": [],
   "source": [
    "import sys\n",
    "#Append path of local proteus installation\n",
    "sys.path.append(\"C:/Users/present/Desktop/proteus/\")\n",
    "#The notebook will work with the following commit:\n",
    "#https://github.com/erdc-cm/proteus/commit/9bb34b3563b5ddab6cb1dd9f75173da2710d2a41\n",
    "from proteus import Profiling,SpatialTools\n",
    "#import imp\n",
    "#WT = imp.load_source('WaveTools', 'WaveTools.pyx')"
   ]
  },
  {
   "cell_type": "markdown",
   "metadata": {},
   "source": [
    "\n",
    "To load WaveTools if proteus is installed\n"
   ]
  },
  {
   "cell_type": "code",
   "execution_count": null,
   "metadata": {},
   "outputs": [],
   "source": [
    "from proteus import WaveTools as WT"
   ]
  },
  {
   "cell_type": "markdown",
   "metadata": {},
   "source": [
    "Setting up wave parameters and calling the class\n",
    "=========================================\n",
    "\n",
    "A brief description of the arguments is given in the source code. WaveTools does some basic checks and logs error messages if inconsistencies are found among the parameters"
   ]
  },
  {
   "cell_type": "code",
   "execution_count": null,
   "metadata": {},
   "outputs": [],
   "source": [
    "#Setting up wave properties\n",
    "Tp = 2.\n",
    "Hs = 0.15\n",
    "mwl = 0.\n",
    "depth = 1.\n",
    "g = np.array([0., 0., -9.81])\n",
    "N = 11\n",
    "bandFactor = 2.0\n",
    "spectName = \"PM_mod\"\n",
    "spectral_params = None\n",
    "phi = None\n",
    "waveDir = np.array([1., 2., 0.])\n",
    "\n",
    "\n",
    "\n",
    "\n",
    "#Calling the class\n",
    "RW = WT.RandomWaves(Tp,\n",
    "                 Hs,\n",
    "                 mwl,\n",
    "                 depth,\n",
    "                 waveDir,\n",
    "                 g,\n",
    "                 N,\n",
    "                 bandFactor,\n",
    "                 spectName,\n",
    "                 spectral_params,\n",
    "                 phi\n",
    "                )\n"
   ]
  },
  {
   "cell_type": "markdown",
   "metadata": {},
   "source": [
    "We use class functions `eta` and `u` for calculating free-surface elevation (as a scalar) and velocity (as a vector). "
   ]
  },
  {
   "cell_type": "markdown",
   "metadata": {},
   "source": [
    "Calculating and plotting waves\n",
    "=============================================================\n",
    "\n",
    "Setting up the 3D domain"
   ]
  },
  {
   "cell_type": "code",
   "execution_count": null,
   "metadata": {},
   "outputs": [],
   "source": [
    "n=151\n",
    "xi = np.linspace(0, 20, n)\n",
    "yi = np.linspace(0, 20, n)\n",
    "zi = np.linspace(mwl-depth, mwl+2*Hs, n)"
   ]
  },
  {
   "cell_type": "markdown",
   "metadata": {},
   "source": [
    "We can calculate a time series of the free-surface elevation using the `eta`  function and looping over time for a fixed point in space"
   ]
  },
  {
   "cell_type": "code",
   "execution_count": null,
   "metadata": {},
   "outputs": [],
   "source": [
    "nperiod = 20\n",
    "npoints = 15\n",
    "nn = npoints * nperiod\n",
    "tnlist=np.linspace(0,nperiod*Tp,nn)\n",
    "eta_t = np.zeros(len(tnlist),)\n",
    "psize =20\n",
    "\n",
    "#Calculating time series\n",
    "for i in range(len(tnlist)):\n",
    "    x = [2., 0.5, 0.]\n",
    "    t = tnlist[i]\n",
    "    eta_t[i] = RW.eta(x, t)\n",
    "\n",
    "    \n",
    "#Plotting time series\n",
    "plt.figure(2, figsize=(10,6), dpi=100)\n",
    "plt.xlim(0., nperiod*Tp)\n",
    "plt.plot(tnlist, eta_t)\n",
    "plt.xlabel(\"Time (s)\", size=psize)\n",
    "plt.ylabel(\"$\\eta$ (m)\", size=psize)\n",
    "plt.grid()\n",
    "plt.show()"
   ]
  },
  {
   "cell_type": "markdown",
   "metadata": {},
   "source": [
    "We can also plot the free-surface at the x-y plane (wave propagation plane) using a contour plot"
   ]
  },
  {
   "cell_type": "code",
   "execution_count": null,
   "metadata": {},
   "outputs": [],
   "source": [
    "#Calculating the free surface elevation calculated from MWL using a 2D plane\n",
    "eta_t = np.zeros((n, n),)\n",
    "for i in range(len(xi)):\n",
    "    for j in range(len(yi)):\n",
    "        x = [xi[i], yi[j], 0]\n",
    "        eta_t[i,j] = RW.eta(x, 0.)\n",
    "\n",
    "psize = 20       \n",
    "#Plotting the contour         \n",
    "plt.figure(figsize=(10, 6), dpi=100)\n",
    "X,Y = np.meshgrid(xi,yi)\n",
    "CS = plt.contourf(X,Y,eta_t, 16, alpha=0.8, cmap='jet')\n",
    "plt.xlabel(\"x (m)\", size=psize)\n",
    "plt.ylabel(\"y (m)\", size=psize)\n",
    "CB = plt.colorbar(CS, shrink=0.8, extend='both')\n",
    "CB.set_label(\"$\\eta$ (m)\", size = psize)\n",
    "plt.show()"
   ]
  },
  {
   "cell_type": "markdown",
   "metadata": {},
   "source": [
    "In the next cell we plot contours, showing horizontal and vertical velocity profiles at a vertical plane, aligned with the wave propagation direction \n"
   ]
  },
  {
   "cell_type": "code",
   "execution_count": null,
   "metadata": {},
   "outputs": [],
   "source": [
    "#Calculating velocity contours\n",
    "norm = WT.setDirVector(waveDir)\n",
    "normVert = WT.setVertDir(g)\n",
    "ur  = np.zeros((len(xi),len(zi)),)\n",
    "uv  = np.zeros((len(xi),len(zi)),)\n",
    "for i in range(len(xi)):\n",
    "    for ii in range(len(zi)):\n",
    "        x = xi[i]*norm + [0,0,zi[ii]]\n",
    "        ur[i,ii] = sum(RW.u(x, 0.)[:]*norm[:])\n",
    "        uv[i,ii] = sum(RW.u(x, 0.)[:]*normVert[:])  \n",
    "        if zi[ii] >  RW.eta(x,0.):\n",
    "            ur[i,ii] = np.nan\n",
    "            uv[i,ii] = np.nan\n",
    "    \n",
    "#Plotting velocity contours\n",
    "plt.figure(3,figsize=(10, 6), dpi=100)\n",
    "X,Y = np.meshgrid(zi,yi)\n",
    "CS = plt.contourf(Y,X,ur, 16, alpha=0.8, cmap='jet')\n",
    "plt.xlabel(\"x' (m)\", size=psize)\n",
    "plt.ylabel(\"z (m)\", size=psize)\n",
    "CB = plt.colorbar(CS, shrink=0.8, extend='both')\n",
    "CB.set_label(\"Uplane (m/s)\", size = psize)\n",
    "plt.show()\n",
    "\n",
    "plt.figure(4,figsize=(10, 6), dpi=100)\n",
    "X,Y = np.meshgrid(zi,yi)\n",
    "CS = plt.contourf(Y,X,uv, 16, alpha=0.8, cmap='jet')\n",
    "plt.xlabel(\"x' (m)\", size=psize)\n",
    "plt.ylabel(\"z (m)\", size=psize)\n",
    "CB = plt.colorbar(CS, shrink=0.8, extend='both')\n",
    "CB.set_label(\"Uvert (m/s)\", size = psize)\n",
    "plt.show()"
   ]
  }
 ],
 "metadata": {
  "kernelspec": {
   "display_name": "Python 3",
   "language": "python",
   "name": "python3"
  },
  "language_info": {
   "codemirror_mode": {
    "name": "ipython",
    "version": 3
   },
   "file_extension": ".py",
   "mimetype": "text/x-python",
   "name": "python",
   "nbconvert_exporter": "python",
   "pygments_lexer": "ipython3",
   "version": "3.7.2"
  }
 },
 "nbformat": 4,
 "nbformat_minor": 1
}
