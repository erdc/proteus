{
 "cells": [
  {
   "cell_type": "markdown",
   "metadata": {},
   "source": [
    "# Testing in Proteus"
   ]
  },
  {
   "cell_type": "code",
   "execution_count": 1,
   "metadata": {},
   "outputs": [],
   "source": [
    "import proteus\n",
    "import numpy as np\n",
    "import numpy.testing as npt\n",
    "from nose.tools import eq_ as eq\n",
    "from nose.tools import ok_ as ok"
   ]
  },
  {
   "cell_type": "markdown",
   "metadata": {},
   "source": [
    "Like any other large software project, Proteus relies on testing to ensure quality, aid development, and protect developers, both from each other and themselves.  There are a number of types of tests, but we'll focus on understanding the following:\n",
    "\n",
    "* Unit tests\n",
    "* Regression tests\n",
    "* Documentation tests\n",
    "* Smoke tests\n",
    "\n",
    "Although these categories are useful for describing tests, another important characterization is the amount of time tests require to complete.  Although unit and smoke tests should also run quickly, this is not necessarily true for documentation or regression tests, which might take hours or even days to complete."
   ]
  },
  {
   "cell_type": "markdown",
   "metadata": {},
   "source": [
    "## Unit tests"
   ]
  },
  {
   "cell_type": "markdown",
   "metadata": {},
   "source": [
    "Unit tests are probably the least understood of the testing types.  This is likely due to the popularity of so-called xUnit testing frameworks which greatly simplify the process of writing and using tests.  Although xUnit frameworks such as `nose` were designed to augment your ability to write unit tests, they can work equally well for other types of tests (though documentation tests frequently have their own frameworks).  \n",
    "\n",
    "What distinguishes a unit test from other types of tests is that is designed to test the smallest functional components of the code in isolation from each other.  Advanced unit tests rely on techniques such as fixtures, which prepare a class or object for testing, and mocks, which are \"fake\" versions of another object you might otherwise interact with.  "
   ]
  },
  {
   "cell_type": "markdown",
   "metadata": {},
   "source": [
    "You can run all the tests in `src/test/test_linear_algebra.py` by heading to the root of the Proteus directory and running:"
   ]
  },
  {
   "cell_type": "code",
   "execution_count": 7,
   "metadata": {},
   "outputs": [
    {
     "name": "stdout",
     "output_type": "stream",
     "text": [
      "\u001b[1m============================= test session starts ==============================\u001b[0m\n",
      "platform linux -- Python 3.7.2, pytest-3.4.1, py-1.5.2, pluggy-0.6.0 -- /home/cekees/proteus/linux/bin/python\n",
      "cachedir: ../../../.pytest_cache\n",
      "rootdir: /home/cekees/proteus, inifile:\n",
      "plugins: xonsh-0.9.6, xdist-1.22.2, forked-0.2, cov-2.5.1\n",
      "collected 12 items                                                             \u001b[0m\u001b[1m\n",
      "\n",
      "test_linear_algebra.py::test_vec_create \u001b[32mPASSED\u001b[0m\u001b[36m                           [  8%]\u001b[0m\n",
      "test_linear_algebra.py::test_mat_create \u001b[32mPASSED\u001b[0m\u001b[36m                           [ 16%]\u001b[0m\n",
      "test_linear_algebra.py::test_vec_scalar_math \u001b[32mPASSED\u001b[0m\u001b[36m                      [ 25%]\u001b[0m\n",
      "test_linear_algebra.py::test_mat_vec_math \u001b[32mPASSED\u001b[0m\u001b[36m                         [ 33%]\u001b[0m\n",
      "test_linear_algebra.py::test_superlu_mat \u001b[32mPASSED\u001b[0m\u001b[36m                          [ 41%]\u001b[0m\n",
      "test_linear_algebra.py::test_norm_correctness \u001b[32mPASSED\u001b[0m\u001b[36m                     [ 50%]\u001b[0m\n",
      "test_linear_algebra.py::test_norm_zero \u001b[32mPASSED\u001b[0m\u001b[36m                            [ 58%]\u001b[0m\n",
      "test_linear_algebra.py::test_norm_homogeneity \u001b[32mPASSED\u001b[0m\u001b[36m                     [ 66%]\u001b[0m\n",
      "test_linear_algebra.py::test_norm_triangle_inequality \u001b[32mPASSED\u001b[0m\u001b[36m             [ 75%]\u001b[0m\n",
      "test_linear_algebra.py::test_petsc_binary_mat_io \u001b[32mPASSED\u001b[0m\u001b[36m                  [ 83%]\u001b[0m\n",
      "test_linear_algebra.py::test_petsc_load_matrix \u001b[32mPASSED\u001b[0m\u001b[36m                    [ 91%]\u001b[0m\n",
      "test_linear_algebra.py::test_petsc_load_vec \u001b[32mPASSED\u001b[0m\u001b[36m                       [100%]\u001b[0m\n",
      "\n",
      "\u001b[32m\u001b[1m========================== 12 passed in 0.84 seconds ===========================\u001b[0m\n"
     ]
    }
   ],
   "source": [
    "!cd ~/proteus/proteus/tests/linalgebra_tests && \\\n",
    "py.test -v test_linear_algebra.py"
   ]
  },
  {
   "cell_type": "markdown",
   "metadata": {},
   "source": [
    "Here's a complete example of a unit test from the file `src/test/test_linear_algebra.py`"
   ]
  },
  {
   "cell_type": "code",
   "execution_count": 8,
   "metadata": {},
   "outputs": [],
   "source": [
    "def test_vec_create():\n",
    "    \"\"\"test_vec_create\n",
    "\n",
    "    Verifies that the proteus.LinearAlgebraTools.Vec constructor\n",
    "    correctly creates one-dimensional arrays of the given length of\n",
    "    type double precision and with entries set to zero for several\n",
    "    trials.\n",
    "    \"\"\"\n",
    "    from proteus.LinearAlgebraTools import Vec\n",
    "    for n in [1, 10, 100, 1000]:\n",
    "        x = Vec(n)\n",
    "        # Vector of length n\n",
    "        eq(x.size, n)\n",
    "        # One-dimensional\n",
    "        eq(x.shape, (n,))\n",
    "        # Of type double-precision\n",
    "        eq(x.dtype, np.double)\n",
    "        # All entries are zero\n",
    "        eq(np.count_nonzero(x), 0)\n",
    "        # Verify assignment works\n",
    "        x[:] = range(1, n+1)\n",
    "        eq(np.count_nonzero(x), n)"
   ]
  },
  {
   "cell_type": "code",
   "execution_count": 9,
   "metadata": {},
   "outputs": [],
   "source": [
    "test_vec_create()"
   ]
  },
  {
   "cell_type": "markdown",
   "metadata": {},
   "source": [
    "The only important thing to note is that any function starting with the word `test` (and living in a module that starts with `test`) is automatically executed when we run the `nosetests` test runner from the command line.  The `eq` statements check that two expressions are equal.  In this case, verifying that we are creating NumPy arrays of the appropriate size, dimensions, and type for a few different dimensions."
   ]
  },
  {
   "cell_type": "markdown",
   "metadata": {},
   "source": [
    "## Regression tests"
   ]
  },
  {
   "cell_type": "markdown",
   "metadata": {},
   "source": [
    "Regression tests are probably the most well-known type of test.  A regression test is used to indicate some known \"success\" in the history of Proteus.  Frequently, we use regression tests to ensure that externally validated results (say, from an actual wave tank or other physical model), do not change.  \n",
    "\n",
    "The most difficult part in writing a regression test is automating validation.  As numerical scientists, it is easy to get caught up in the use of \"eyeball norms\".  It is crucial, however, that you do your best to distill the essence of your solution into its most important components (in lower dimensions, if possible).  Does the error converge at a specific rate?  Is the energy or mass of the system conserved?  Is there a characteristic frequency or easily computed gauge that would be sensitive to an incorrect solution or an easily made mistake?"
   ]
  },
  {
   "cell_type": "markdown",
   "metadata": {},
   "source": [
    "## Documentation tests"
   ]
  },
  {
   "cell_type": "markdown",
   "metadata": {},
   "source": [
    "Documentation tests combine regression or unit testing with documentation.  Here's a simple example:"
   ]
  },
  {
   "cell_type": "code",
   "execution_count": 13,
   "metadata": {},
   "outputs": [
    {
     "name": "stdout",
     "output_type": "stream",
     "text": [
      "Trying:\r\n",
      "    Mat(2,3)\r\n",
      "Expecting:\r\n",
      "    array([[ 0.,  0.,  0.],\r\n",
      "          [ 0.,  0.,  0.]])\r\n",
      "**********************************************************************\r\n",
      "File \"/home/cekees/proteus/proteus/LinearAlgebraTools.py\", line 742, in __main__.Mat\r\n",
      "Failed example:\r\n",
      "    Mat(2,3)\r\n",
      "Expected:\r\n",
      "    array([[ 0.,  0.,  0.],\r\n",
      "          [ 0.,  0.,  0.]])\r\n",
      "Got:\r\n",
      "    array([[0., 0., 0.],\r\n",
      "           [0., 0., 0.]])\r\n",
      "Trying:\r\n",
      "    Vec(3)\r\n",
      "Expecting:\r\n",
      "    array([ 0.,  0.,  0.])\r\n",
      "**********************************************************************\r\n",
      "File \"/home/cekees/proteus/proteus/LinearAlgebraTools.py\", line 729, in __main__.Vec\r\n",
      "Failed example:\r\n",
      "    Vec(3)\r\n",
      "Expected:\r\n",
      "    array([ 0.,  0.,  0.])\r\n",
      "Got:\r\n",
      "    array([0., 0., 0.])\r\n",
      "86 items had no tests:\r\n",
      "    __main__\r\n",
      "    __main__.InvOperatorShell\r\n",
      "    __main__.InvOperatorShell.__init__\r\n",
      "    __main__.InvOperatorShell._converged_trueRes\r\n",
      "    __main__.InvOperatorShell._create_constant_nullspace\r\n",
      "    __main__.InvOperatorShell._create_copy_vec\r\n",
      "    __main__.InvOperatorShell._create_tmp_vec\r\n",
      "    __main__.InvOperatorShell._set_dirichlet_idx_set\r\n",
      "    __main__.InvOperatorShell.apply\r\n",
      "    __main__.InvOperatorShell.create_petsc_ksp_obj\r\n",
      "    __main__.InvOperatorShell.getSize\r\n",
      "    __main__.LSCInv_shell\r\n",
      "    __main__.LSCInv_shell.__init__\r\n",
      "    __main__.LSCInv_shell._constructBQinvBt\r\n",
      "    __main__.LSCInv_shell.apply\r\n",
      "    __main__.MatrixInvShell\r\n",
      "    __main__.MatrixInvShell.__init__\r\n",
      "    __main__.MatrixInvShell.apply\r\n",
      "    __main__.MatrixShell\r\n",
      "    __main__.MatrixShell.__init__\r\n",
      "    __main__.MatrixShell.mult\r\n",
      "    __main__.OperatorShell\r\n",
      "    __main__.OperatorShell.__init__\r\n",
      "    __main__.OperatorShell.create\r\n",
      "    __main__.OperatorShell.getSize\r\n",
      "    __main__.ParInfo_petsc4py\r\n",
      "    __main__.ParInfo_petsc4py.__init__\r\n",
      "    __main__.ParInfo_petsc4py.print_info\r\n",
      "    __main__.ParMat_petsc4py\r\n",
      "    __main__.ParMat_petsc4py.__init__\r\n",
      "    __main__.ParMat_petsc4py.create_ParMat_from_OperatorConstructor\r\n",
      "    __main__.ParMat_petsc4py.save\r\n",
      "    __main__.ParVec_petsc4py\r\n",
      "    __main__.ParVec_petsc4py.__init__\r\n",
      "    __main__.ParVec_petsc4py.save\r\n",
      "    __main__.ParVec_petsc4py.scatter_forward_insert\r\n",
      "    __main__.ParVec_petsc4py.scatter_reverse_add\r\n",
      "    __main__.ProductOperatorShell\r\n",
      "    __main__.ProductOperatorShell.__init__\r\n",
      "    __main__.ProductOperatorShell.mult\r\n",
      "    __main__.SpInv_shell\r\n",
      "    __main__.SpInv_shell.__init__\r\n",
      "    __main__.SpInv_shell._create_Sp\r\n",
      "    __main__.SpInv_shell.apply\r\n",
      "    __main__.SparseMat\r\n",
      "    __main__.SparseMatFromDict\r\n",
      "    __main__.SparseMatShell\r\n",
      "    __main__.SparseMatShell.__init__\r\n",
      "    __main__.SparseMatShell.create\r\n",
      "    __main__.SparseMatShell.mult\r\n",
      "    __main__.TwoPhase_PCDInv_shell\r\n",
      "    __main__.TwoPhase_PCDInv_shell.__init__\r\n",
      "    __main__.TwoPhase_PCDInv_shell.apply\r\n",
      "    __main__.TwoPhase_PCDInv_shell.getSize\r\n",
      "    __main__.WeightedNorm\r\n",
      "    __main__.WeightedNorm.__init__\r\n",
      "    __main__.WeightedNorm.norm\r\n",
      "    __main__.WeightedNorm.setWeight\r\n",
      "    __main__._petsc_view\r\n",
      "    __main__._pythonCSR_2_dense\r\n",
      "    __main__.csr_2_petsc\r\n",
      "    __main__.csr_2_petsc_mpiaij\r\n",
      "    __main__.dense_numpy_2_petsc4py\r\n",
      "    __main__.energyDot\r\n",
      "    __main__.energyNorm\r\n",
      "    __main__.l1Norm\r\n",
      "    __main__.l2Norm\r\n",
      "    __main__.l2NormAvg\r\n",
      "    __main__.l2Norm_local\r\n",
      "    __main__.lInfNorm\r\n",
      "    __main__.petsc4py_get_rank\r\n",
      "    __main__.petsc4py_mat_has_pressure_null_space\r\n",
      "    __main__.petsc4py_sparse_2_dense\r\n",
      "    __main__.petsc_create_diagonal_inv_matrix\r\n",
      "    __main__.petsc_load_IS\r\n",
      "    __main__.petsc_load_matrix\r\n",
      "    __main__.petsc_load_vector\r\n",
      "    __main__.split_PETSc_Mat\r\n",
      "    __main__.superlu_2_petsc4py\r\n",
      "    __main__.superlu_get_rank\r\n",
      "    __main__.superlu_has_pressure_null_space\r\n",
      "    __main__.superlu_sparse_2_dense\r\n",
      "    __main__.wDot\r\n",
      "    __main__.wl1Norm\r\n",
      "    __main__.wl2Norm\r\n",
      "    __main__.wlInfNorm\r\n",
      "**********************************************************************\r\n",
      "2 items had failures:\r\n",
      "   1 of   1 in __main__.Mat\r\n",
      "   1 of   1 in __main__.Vec\r\n",
      "2 tests in 88 items.\r\n",
      "0 passed and 2 failed.\r\n",
      "***Test Failed*** 2 failures.\r\n"
     ]
    }
   ],
   "source": [
    "!$(which python) -m proteus.LinearAlgebraTools -v"
   ]
  },
  {
   "cell_type": "markdown",
   "metadata": {},
   "source": [
    "The code looks like this:"
   ]
  },
  {
   "cell_type": "code",
   "execution_count": 14,
   "metadata": {},
   "outputs": [],
   "source": [
    "def Vec(n):\n",
    "    \"\"\"\n",
    "    Build a vector of length n (using numpy)\n",
    "\n",
    "    For example:\n",
    "    >>> Vec(3)\n",
    "    array([ 0.,  0.,  0.])\n",
    "    \"\"\"\n"
   ]
  },
  {
   "cell_type": "markdown",
   "metadata": {},
   "source": [
    "The `>>>` is a sign to the doctest module that the documentation string contains an input, followed by an expected output.  You can use this to simultaneously document and test your code."
   ]
  },
  {
   "cell_type": "markdown",
   "metadata": {},
   "source": [
    "## Smoke Tests"
   ]
  },
  {
   "cell_type": "markdown",
   "metadata": {},
   "source": [
    "Smoke tests are among the simplest tests to write.  A smoke test usually performs no validation or other verification, it's just a piece of code that you'd like to run to completion.  Many professional software engineers joke that scientific code is *one fix away from being completely broken*.  A smoke test ensures that the code is running, but it inspires little confidence that the code is actually running **correctly**.  "
   ]
  },
  {
   "cell_type": "code",
   "execution_count": null,
   "metadata": {},
   "outputs": [],
   "source": []
  }
 ],
 "metadata": {
  "kernelspec": {
   "display_name": "Python 3",
   "language": "python",
   "name": "python3"
  },
  "language_info": {
   "codemirror_mode": {
    "name": "ipython",
    "version": 3
   },
   "file_extension": ".py",
   "mimetype": "text/x-python",
   "name": "python",
   "nbconvert_exporter": "python",
   "pygments_lexer": "ipython3",
   "version": "3.7.2"
  }
 },
 "nbformat": 4,
 "nbformat_minor": 1
}
