{
 "cells": [
  {
   "cell_type": "markdown",
   "metadata": {
    "slideshow": {
     "slide_type": "slide"
    }
   },
   "source": [
    "# Writing documentation\n",
    "\n",
    "## In this tutorial we'll learn how to write\n",
    "\n",
    "- Python comments\n",
    "- Python doc strings\n",
    "- C/C++ comments\n",
    "- Generate the documentation"
   ]
  },
  {
   "cell_type": "markdown",
   "metadata": {
    "slideshow": {
     "slide_type": "slide"
    }
   },
   "source": [
    "# Python comments\n",
    "## From Python \"PEP8\" http://legacy.python.org/dev/peps/pep-0008:\n",
    "\n",
    "- Comments that contradict the code are worse than no comments. \n",
    "- Comments should be complete sentences. \n",
    "- When writing English, Strunk and White apply."
   ]
  },
  {
   "cell_type": "markdown",
   "metadata": {
    "slideshow": {
     "slide_type": "slide"
    }
   },
   "source": [
    "# Basic Python Comments\n",
    "## Example: a function that reads and prints a file"
   ]
  },
  {
   "cell_type": "code",
   "execution_count": 1,
   "metadata": {
    "slideshow": {
     "slide_type": "fragment"
    }
   },
   "outputs": [],
   "source": [
    "!echo \"Hello Chris\" > out.txt"
   ]
  },
  {
   "cell_type": "code",
   "execution_count": 3,
   "metadata": {
    "slideshow": {
     "slide_type": "fragment"
    }
   },
   "outputs": [],
   "source": [
    "def printFile(filename=\"default.txt\"):\n",
    "    #open a text file and print line list to screen\n",
    "    file = open(filename,'r')\n",
    "    print(file.readlines())"
   ]
  },
  {
   "cell_type": "code",
   "execution_count": 4,
   "metadata": {
    "slideshow": {
     "slide_type": "fragment"
    }
   },
   "outputs": [
    {
     "name": "stdout",
     "output_type": "stream",
     "text": [
      "['Hello Chris\\n']\n"
     ]
    }
   ],
   "source": [
    "printFile(\"out.txt\")"
   ]
  },
  {
   "cell_type": "code",
   "execution_count": 5,
   "metadata": {
    "slideshow": {
     "slide_type": "fragment"
    }
   },
   "outputs": [
    {
     "name": "stdout",
     "output_type": "stream",
     "text": [
      "Help on function printFile in module __main__:\n",
      "\n",
      "printFile(filename='default.txt')\n",
      "\n"
     ]
    }
   ],
   "source": [
    "help(printFile)"
   ]
  },
  {
   "cell_type": "markdown",
   "metadata": {
    "slideshow": {
     "slide_type": "fragment"
    }
   },
   "source": [
    "## Our Python comment doesn't contribute anything to an interactive user"
   ]
  },
  {
   "cell_type": "markdown",
   "metadata": {
    "slideshow": {
     "slide_type": "slide"
    }
   },
   "source": [
    "# Docstrings\n",
    "## Inline documentation that can be used from within Python"
   ]
  },
  {
   "cell_type": "code",
   "execution_count": 7,
   "metadata": {
    "slideshow": {
     "slide_type": "fragment"
    }
   },
   "outputs": [],
   "source": [
    "def printFile(filename=\"default.txt\"):\n",
    "    \"\"\"\n",
    "    Open a text file and print line list to screen\n",
    "    \"\"\"\n",
    "    file = open(filename,'r')\n",
    "    print(file.readlines())"
   ]
  },
  {
   "cell_type": "code",
   "execution_count": 8,
   "metadata": {
    "slideshow": {
     "slide_type": "fragment"
    }
   },
   "outputs": [
    {
     "name": "stdout",
     "output_type": "stream",
     "text": [
      "Help on function printFile in module __main__:\n",
      "\n",
      "printFile(filename='default.txt')\n",
      "    Open a text file and print line list to screen\n",
      "\n"
     ]
    }
   ],
   "source": [
    "help(printFile)"
   ]
  },
  {
   "cell_type": "code",
   "execution_count": 9,
   "metadata": {
    "slideshow": {
     "slide_type": "fragment"
    }
   },
   "outputs": [
    {
     "data": {
      "text/plain": [
       "\u001b[0;31mSignature:\u001b[0m \u001b[0mprintFile\u001b[0m\u001b[0;34m(\u001b[0m\u001b[0mfilename\u001b[0m\u001b[0;34m=\u001b[0m\u001b[0;34m'default.txt'\u001b[0m\u001b[0;34m)\u001b[0m\u001b[0;34m\u001b[0m\u001b[0;34m\u001b[0m\u001b[0m\n",
       "\u001b[0;31mDocstring:\u001b[0m Open a text file and print line list to screen\n",
       "\u001b[0;31mFile:\u001b[0m      ~/sprints/ERDC2016/notebooks/<ipython-input-7-a3a1ba9c0088>\n",
       "\u001b[0;31mType:\u001b[0m      function\n"
      ]
     },
     "metadata": {},
     "output_type": "display_data"
    }
   ],
   "source": [
    "printFile?"
   ]
  },
  {
   "cell_type": "markdown",
   "metadata": {
    "slideshow": {
     "slide_type": "slide"
    }
   },
   "source": [
    "# reST docstrings\n",
    "\n"
   ]
  },
  {
   "cell_type": "code",
   "execution_count": 10,
   "metadata": {
    "slideshow": {
     "slide_type": "fragment"
    }
   },
   "outputs": [],
   "source": [
    "import numpy,math\n",
    "def l2Norm(x,y):\n",
    "    \"\"\"\n",
    "    Compute the parallel  :math:`l_2` norm\n",
    "    \n",
    "    The :math:`l_2` norm of :math:`\\mathbf{x} \\in \\mathcal{R}^n` is\n",
    "    \n",
    "    .. math:: \\|\\mathbf{x}\\|_{l_2} = \\sqrt{\\sum_{i=0}^{n-1} x_i^2}\n",
    "    \n",
    "    :param x,y: n-dimensional arrays\n",
    "    :return: the scalar :math:`l_2` norm\n",
    "    \"\"\"\n",
    "    return math.sqrt(numpy.dot(x,x))\n"
   ]
  },
  {
   "cell_type": "code",
   "execution_count": 11,
   "metadata": {
    "slideshow": {
     "slide_type": "fragment"
    }
   },
   "outputs": [
    {
     "data": {
      "text/plain": [
       "\u001b[0;31mSignature:\u001b[0m \u001b[0ml2Norm\u001b[0m\u001b[0;34m(\u001b[0m\u001b[0mx\u001b[0m\u001b[0;34m,\u001b[0m \u001b[0my\u001b[0m\u001b[0;34m)\u001b[0m\u001b[0;34m\u001b[0m\u001b[0;34m\u001b[0m\u001b[0m\n",
       "\u001b[0;31mDocstring:\u001b[0m\n",
       "Compute the parallel  :math:`l_2` norm\n",
       "\n",
       "The :math:`l_2` norm of :math:`\\mathbf{x} \\in \\mathcal{R}^n` is\n",
       "\n",
       ".. math:: \\|\\mathbf{x}\\|_{l_2} = \\sqrt{\\sum_{i=0}^{n-1} x_i^2}\n",
       "\n",
       ":param x,y: n-dimensional arrays\n",
       ":return: the scalar :math:`l_2` norm\n",
       "\u001b[0;31mFile:\u001b[0m      ~/sprints/ERDC2016/notebooks/<ipython-input-10-11a508b89a4a>\n",
       "\u001b[0;31mType:\u001b[0m      function\n"
      ]
     },
     "metadata": {},
     "output_type": "display_data"
    }
   ],
   "source": [
    "l2Norm?"
   ]
  },
  {
   "cell_type": "markdown",
   "metadata": {},
   "source": [
    "## It doesn't seem worth the trouble, but it is"
   ]
  },
  {
   "cell_type": "code",
   "execution_count": 12,
   "metadata": {
    "slideshow": {
     "slide_type": "slide"
    }
   },
   "outputs": [
    {
     "name": "stdout",
     "output_type": "stream",
     "text": [
      "Help on function l2Norm in module proteus.LinearAlgebraTools:\n",
      "\n",
      "l2Norm(x)\n",
      "    Compute the parallel :math:`l_2` norm\n",
      "\n"
     ]
    }
   ],
   "source": [
    "from proteus import LinearAlgebraTools\n",
    "help(LinearAlgebraTools.l2Norm)"
   ]
  },
  {
   "cell_type": "code",
   "execution_count": 14,
   "metadata": {
    "slideshow": {
     "slide_type": "fragment"
    }
   },
   "outputs": [
    {
     "data": {
      "text/html": [
       "\n",
       "        <iframe\n",
       "            width=\"700\"\n",
       "            height=\"350\"\n",
       "            src=\"https://proteustoolkit.org/api/proteus.LinearAlgebraTools.html#proteus.LinearAlgebraTools.l2Norm\"\n",
       "            frameborder=\"0\"\n",
       "            allowfullscreen\n",
       "        ></iframe>\n",
       "        "
      ],
      "text/plain": [
       "<IPython.lib.display.IFrame at 0x563d4fd57bd8>"
      ]
     },
     "execution_count": 14,
     "metadata": {},
     "output_type": "execute_result"
    }
   ],
   "source": [
    "from IPython.display import IFrame\n",
    "IFrame('https://proteustoolkit.org/api/proteus.LinearAlgebraTools.html#proteus.LinearAlgebraTools.l2Norm',width=700, height=350)"
   ]
  },
  {
   "cell_type": "markdown",
   "metadata": {
    "slideshow": {
     "slide_type": "slide"
    }
   },
   "source": [
    "# Compiled code can contain similar formatting in comments"
   ]
  },
  {
   "cell_type": "markdown",
   "metadata": {
    "slideshow": {
     "slide_type": "fragment"
    }
   },
   "source": [
    "```\n",
    "/**\n",
    "  \\brief Couette Flow between two parallel plates. One moving relative to the other with constant seperation (width).\n",
    "  @param iwork  NOT USED\n",
    "  @param rwork[0] velocity of moving plate in the x-dir, \\f$ vx \\f$\n",
    "  @param rwork[1] width between plates, \\f$ h \\f$\n",
    "  @param rwork[2] x-axis offset, \\f$ xs \\f$\n",
    "  @param rwork[3] y-axis offset, \\f$ ys \\f$\n",
    "  @param rwork[4] z-axis offset, \\f$ zs \\f$\n",
    "  @param nPoints total number of points\n",
    "  @param t NOT USED\n",
    "  @param x input array \n",
    "  @param u output array\n",
    "\n",
    "   x-momentum equation\n",
    "  \\f[ \\nabla^2 u_x = 0 \\f]\n",
    "  \\f[ u(y) = \\frac{vx}{h} * y\\f]\n",
    "  \\f[ u(0) = 0 \\f]\n",
    "  \\f[ u(h) = vx  \\f]\n",
    "\n",
    "  \n",
    "  Axis of origin: at bottom plate\\n\n",
    "  \n",
    "\n",
    "  \\return status code\n",
    "*/\n",
    "\n",
    "int PlaneCouetteFlow_u(int *iwork, double *rwork, int nPoints, double t, double *x, double *u)\n",
    "```"
   ]
  },
  {
   "cell_type": "code",
   "execution_count": 12,
   "metadata": {
    "slideshow": {
     "slide_type": "slide"
    }
   },
   "outputs": [
    {
     "name": "stdout",
     "output_type": "stream",
     "text": [
      "PATH=\"/home/cekees/proteus/linux2/bin:/home/cekees/bin:/home/cekees/proteus/hashdist/bin:/home/cekees/proteus/linux2/bin:/home/cekees/MATLAB/R2013b/bin:/home/cekees/bin:/usr/lib/lightdm/lightdm:/usr/local/sbin:/usr/local/bin:/usr/sbin:/usr/bin:/sbin:/bin:/usr/games:/usr/local/games\" PYTHONPATH=/home/cekees/proteus/linux2/lib/python2.7/site-packages PROTEUS_PREFIX=/home/cekees/proteus/linux2 PROTEUS=/home/cekees/proteus  /home/cekees/proteus/linux2/bin/python setuppyx.py install\n",
      "running install\n",
      "running build\n",
      "running build_ext\n",
      "skipping 'src/waveFunctions.c' Cython extension (up-to-date)\n",
      "skipping 'src/subsurfaceTransportFunctions.c' Cython extension (up-to-date)\n",
      "running install_lib\n",
      "running install_egg_info\n",
      "Removing /home/cekees/proteus/linux2/lib/python2.7/site-packages/UNKNOWN-0.0.0-py2.7.egg-info\n",
      "Writing /home/cekees/proteus/linux2/lib/python2.7/site-packages/UNKNOWN-0.0.0-py2.7.egg-info\n",
      "************************\n",
      "done installing cython extension modules\n",
      "************************\n",
      "PATH=\"/home/cekees/proteus/linux2/bin:/home/cekees/bin:/home/cekees/proteus/hashdist/bin:/home/cekees/proteus/linux2/bin:/home/cekees/MATLAB/R2013b/bin:/home/cekees/bin:/usr/lib/lightdm/lightdm:/usr/local/sbin:/usr/local/bin:/usr/sbin:/usr/bin:/sbin:/bin:/usr/games:/usr/local/games\" PYTHONPATH=/home/cekees/proteus/linux2/lib/python2.7/site-packages PROTEUS_PREFIX=/home/cekees/proteus/linux2 PROTEUS=/home/cekees/proteus  /home/cekees/proteus/linux2/bin/python setupf.py install\n",
      "\u001b[39mrunning install\u001b[0m\n",
      "\u001b[39mrunning build\u001b[0m\n",
      "\u001b[39mrunning config_cc\u001b[0m\n",
      "\u001b[39munifing config_cc, config, build_clib, build_ext, build commands --compiler options\u001b[0m\n",
      "\u001b[39mrunning config_fc\u001b[0m\n",
      "\u001b[39munifing config_fc, config, build_clib, build_ext, build commands --fcompiler options\u001b[0m\n",
      "\u001b[39mrunning build_src\u001b[0m\n",
      "\u001b[39mbuild_src\u001b[0m\n",
      "\u001b[39mbuilding extension \"ftracking\" sources\u001b[0m\n",
      "\u001b[39mf2py options: []\u001b[0m\n",
      "\u001b[39m  adding 'build/src.linux-x86_64-2.7/fortranobject.c' to sources.\u001b[0m\n",
      "\u001b[39m  adding 'build/src.linux-x86_64-2.7' to include_dirs.\u001b[0m\n",
      "\u001b[39m  adding 'build/src.linux-x86_64-2.7/ftracking-f2pywrappers.f' to sources.\u001b[0m\n",
      "\u001b[39mbuild_src: building npy-pkg config files\u001b[0m\n",
      "\u001b[39mrunning build_ext\u001b[0m\n",
      "\u001b[39mcustomize UnixCCompiler\u001b[0m\n",
      "\u001b[39mcustomize UnixCCompiler using build_ext\u001b[0m\n",
      "\u001b[39mcustomize Gnu95FCompiler\u001b[0m\n",
      "\u001b[32mFound executable /usr/bin/gfortran\u001b[0m\n",
      "\u001b[39mcustomize Gnu95FCompiler\u001b[0m\n",
      "\u001b[39mcustomize Gnu95FCompiler using build_ext\u001b[0m\n",
      "\u001b[39mrunning scons\u001b[0m\n",
      "\u001b[39mrunning install_lib\u001b[0m\n",
      "\u001b[39mrunning install_egg_info\u001b[0m\n",
      "\u001b[39mRemoving /home/cekees/proteus/linux2/lib/python2.7/site-packages/ftracking-0.0.1-py2.7.egg-info\u001b[0m\n",
      "\u001b[39mWriting /home/cekees/proteus/linux2/lib/python2.7/site-packages/ftracking-0.0.1-py2.7.egg-info\u001b[0m\n",
      "\u001b[39mrunning install_clib\u001b[0m\n",
      "\u001b[39mcustomize UnixCCompiler\u001b[0m\n",
      "************************\n",
      "done installing f2py extension modules\n",
      "************************\n",
      "PATH=\"/home/cekees/proteus/linux2/bin:/home/cekees/bin:/home/cekees/proteus/hashdist/bin:/home/cekees/proteus/linux2/bin:/home/cekees/MATLAB/R2013b/bin:/home/cekees/bin:/usr/lib/lightdm/lightdm:/usr/local/sbin:/usr/local/bin:/usr/sbin:/usr/bin:/sbin:/bin:/usr/games:/usr/local/games\" PYTHONPATH=/home/cekees/proteus/linux2/lib/python2.7/site-packages PROTEUS_PREFIX=/home/cekees/proteus/linux2 PROTEUS=/home/cekees/proteus  /home/cekees/proteus/linux2/bin/python setuppetsc.py build --petsc-dir=/home/cekees/proteus/linux2 --petsc-arch='' install\n",
      "PROTEUS_EXTRA_LINK_ARGS ['-lblas']\n",
      "PROTEUS_EXTRA_COMPILE_ARGS ['-DF77_POST_UNDERSCORE', '-DUSE_BLAS', '-DCMRVEC_BOUNDS_CHECK', '-DMV_VECTOR_BOUNDS_CHECK', '-DPETSC_INCLUDE_AS_C']\n",
      "running build\n",
      "running build_src\n",
      "running build_ext\n",
      "PETSC_DIR:   /home/cekees/proteus/linux2\n",
      "PETSC_ARCH:  \n",
      "scalar-type: real\n",
      "precision:   double\n",
      "language:    CONLY\n",
      "compiler:    /home/cekees/.hashdist/bld/mpich/4ztabf2u23u2/bin/mpicc\n",
      "linker:      /home/cekees/.hashdist/bld/mpich/4ztabf2u23u2/bin/mpicc\n",
      "writing build/lib.linux-x86_64-2.7/proteus/petsc.cfg\n",
      "running install\n",
      "running install_lib\n",
      "copying build/lib.linux-x86_64-2.7/proteus/petsc.cfg -> /home/cekees/proteus/linux2/lib/python2.7/site-packages/proteus\n",
      "running install_egg_info\n",
      "Removing /home/cekees/proteus/linux2/lib/python2.7/site-packages/proteus-0.0.0-py2.7.egg-info\n",
      "Writing /home/cekees/proteus/linux2/lib/python2.7/site-packages/proteus-0.0.0-py2.7.egg-info\n",
      "************************\n",
      "done installing petsc-based extension modules\n",
      "************************\n",
      "PATH=\"/home/cekees/proteus/linux2/bin:/home/cekees/bin:/home/cekees/proteus/hashdist/bin:/home/cekees/proteus/linux2/bin:/home/cekees/MATLAB/R2013b/bin:/home/cekees/bin:/usr/lib/lightdm/lightdm:/usr/local/sbin:/usr/local/bin:/usr/sbin:/usr/bin:/sbin:/bin:/usr/games:/usr/local/games\" PYTHONPATH=/home/cekees/proteus/linux2/lib/python2.7/site-packages PROTEUS_PREFIX=/home/cekees/proteus/linux2 PROTEUS=/home/cekees/proteus  /home/cekees/proteus/linux2/bin/python setup.py install\n",
      "running install\n",
      "running build\n",
      "running build_py\n",
      "running build_ext\n",
      "running build_scripts\n",
      "running install_lib\n",
      "running install_scripts\n",
      "changing mode of /home/cekees/proteus/linux2/bin/run_script_lonestar to 755\n",
      "changing mode of /home/cekees/proteus/linux2/bin/waves2xmf to 755\n",
      "changing mode of /home/cekees/proteus/linux2/bin/gatherArchives.py to 755\n",
      "changing mode of /home/cekees/proteus/linux2/bin/velocity2xmf to 755\n",
      "changing mode of /home/cekees/proteus/linux2/bin/gf2poly to 755\n",
      "changing mode of /home/cekees/proteus/linux2/bin/run_script_ranger to 755\n",
      "changing mode of /home/cekees/proteus/linux2/bin/run_script_diamond to 755\n",
      "changing mode of /home/cekees/proteus/linux2/bin/parun to 755\n",
      "changing mode of /home/cekees/proteus/linux2/bin/run_script_mpiexec to 755\n",
      "changing mode of /home/cekees/proteus/linux2/bin/run_script_garnet to 755\n",
      "changing mode of /home/cekees/proteus/linux2/bin/qtm to 755\n",
      "running install_data\n",
      "running install_egg_info\n",
      "Removing /home/cekees/proteus/linux2/lib/python2.7/site-packages/proteus-1.0.0-py2.7.egg-info\n",
      "Writing /home/cekees/proteus/linux2/lib/python2.7/site-packages/proteus-1.0.0-py2.7.egg-info\n",
      "************************\n",
      "done installing standard extension modules\n",
      "************************\n",
      "Install complete, test with: make check\n",
      "or: make parallel_check\n",
      "Please ensure that the following is prepended  to your path\n",
      "/home/cekees/proteus/linux2/bin\n",
      "cd doc && PATH=\"/home/cekees/proteus/linux2/bin:/home/cekees/bin:/home/cekees/proteus/hashdist/bin:/home/cekees/proteus/linux2/bin:/home/cekees/MATLAB/R2013b/bin:/home/cekees/bin:/usr/lib/lightdm/lightdm:/usr/local/sbin:/usr/local/bin:/usr/sbin:/usr/bin:/sbin:/bin:/usr/games:/usr/local/games\" PYTHONPATH=/home/cekees/proteus/linux2/lib/python2.7/site-packages PROTEUS_PREFIX=/home/cekees/proteus/linux2 PROTEUS=/home/cekees/proteus  make html\n",
      "make[1]: Entering directory `/home/cekees/proteus/doc'\n",
      "sphinx-apidoc --output-dir=source/api proteus --separate --force \n",
      "Creating file source/api/proteus.AnalyticalSolutions.rst.\n",
      "Creating file source/api/proteus.Archiver.rst.\n",
      "Creating file source/api/proteus.AuxiliaryVariables.rst.\n",
      "Creating file source/api/proteus.Comm.rst.\n",
      "Creating file source/api/proteus.DiagUtils.rst.\n",
      "Creating file source/api/proteus.Domain.rst.\n",
      "Creating file source/api/proteus.EGeometry.rst.\n",
      "Creating file source/api/proteus.ELLAMtools.rst.\n",
      "Creating file source/api/proteus.ErrorEstimators.rst.\n",
      "Creating file source/api/proteus.FemTools.rst.\n",
      "Creating file source/api/proteus.InputTranslators.rst.\n",
      "Creating file source/api/proteus.LADRellam.rst.\n",
      "Creating file source/api/proteus.LatexReport.rst.\n",
      "Creating file source/api/proteus.LinearAlgebraTools.rst.\n",
      "Creating file source/api/proteus.LinearSolvers.rst.\n",
      "Creating file source/api/proteus.MeshTools.rst.\n",
      "Creating file source/api/proteus.NonlinearSolvers.rst.\n",
      "Creating file source/api/proteus.Norms.rst.\n",
      "Creating file source/api/proteus.NumericalFlux.rst.\n",
      "Creating file source/api/proteus.NumericalSolution.rst.\n",
      "Creating file source/api/proteus.ObjectiveFunctions.rst.\n",
      "Creating file source/api/proteus.Optimizers.rst.\n",
      "Creating file source/api/proteus.PostProcessingTools.rst.\n",
      "Creating file source/api/proteus.Profiling.rst.\n",
      "Creating file source/api/proteus.Quadrature.rst.\n",
      "Creating file source/api/proteus.RefUtils.rst.\n",
      "Creating file source/api/proteus.ShockCapturing.rst.\n",
      "Creating file source/api/proteus.SimTools.rst.\n",
      "Creating file source/api/proteus.SplitOperator.rst.\n",
      "Creating file source/api/proteus.StepControl.rst.\n",
      "Creating file source/api/proteus.StupidHeap.rst.\n",
      "Creating file source/api/proteus.SubgridError.rst.\n",
      "Creating file source/api/proteus.SubsurfaceTransportCoefficients.rst.\n",
      "Creating file source/api/proteus.TimeIntegration.rst.\n",
      "Creating file source/api/proteus.Tracking.rst.\n",
      "Creating file source/api/proteus.Transport.rst.\n",
      "Creating file source/api/proteus.TransportCoefficients.rst.\n",
      "Creating file source/api/proteus.TriangleFileUtils.rst.\n",
      "Creating file source/api/proteus.TriangleTools.rst.\n",
      "Creating file source/api/proteus.TriangleUtils.rst.\n",
      "Creating file source/api/proteus.TwophaseDarcyCoefficients.rst.\n",
      "Creating file source/api/proteus.UnstructuredFMMandFSWsolvers.rst.\n",
      "Creating file source/api/proteus.Viewers.rst.\n",
      "Creating file source/api/proteus.default_n.rst.\n",
      "Creating file source/api/proteus.default_p.rst.\n",
      "Creating file source/api/proteus.default_s.rst.\n",
      "Creating file source/api/proteus.default_so.rst.\n",
      "Creating file source/api/proteus.iproteus.rst.\n",
      "Creating file source/api/proteus.subsurfaceTransportFunctions.rst.\n",
      "Creating file source/api/proteus.testStuff.rst.\n",
      "Creating file source/api/proteus.waveFunctions.rst.\n",
      "Creating file source/api/proteus.rst.\n",
      "Creating file source/api/modules.rst.\n",
      "sphinx-build -b html -d build/doctrees   source build/html\n"
     ]
    },
    {
     "name": "stdout",
     "output_type": "stream",
     "text": [
      "\u001b[01mRunning Sphinx v1.2b3\u001b[39;49;00m\n",
      "\u001b[01mloading pickled environment... \u001b[39;49;00mdone\n",
      "\u001b[01mbuilding [html]: \u001b[39;49;00mtargets for 53 source files that are out of date\n",
      "\u001b[01mupdating environment: \u001b[39;49;00m0 added, 53 changed, 0 removed\n",
      "\u001b[01mreading sources... \u001b[39;49;00m[100%] \u001b[35mapi/proteus.waveFunctions\u001b[39;49;00mions\u001b[39;49;00m00m\n",
      "/home/cekees/proteus/doc/source/api/proteus.rst:64: WARNING: missing attribute mentioned in :members: or __all__: module proteus, attribute Archiver\n",
      "/home/cekees/proteus/doc/source/api/proteus.rst:64: WARNING: missing attribute mentioned in :members: or __all__: module proteus, attribute Domain\n",
      "/home/cekees/proteus/doc/source/api/proteus.rst:64: WARNING: missing attribute mentioned in :members: or __all__: module proteus, attribute InputTranslators\n",
      "/home/cekees/proteus/doc/source/api/proteus.rst:64: WARNING: missing attribute mentioned in :members: or __all__: module proteus, attribute SplitOperator\n",
      "/home/cekees/proteus/doc/source/api/proteus.rst:64: WARNING: missing attribute mentioned in :members: or __all__: module proteus, attribute StepControl\n",
      "/home/cekees/proteus/doc/source/api/proteus.rst:64: WARNING: missing attribute mentioned in :members: or __all__: module proteus, attribute NumericalSolution\n",
      "/home/cekees/proteus/doc/source/api/proteus.rst:64: WARNING: missing attribute mentioned in :members: or __all__: module proteus, attribute Comm\n",
      "/home/cekees/proteus/doc/source/api/proteus.rst:64: WARNING: missing attribute mentioned in :members: or __all__: module proteus, attribute AnalyticalSolutions\n",
      "/home/cekees/proteus/doc/source/api/proteus.rst:64: WARNING: missing attribute mentioned in :members: or __all__: module proteus, attribute TransportCoefficients\n",
      "/home/cekees/proteus/doc/source/api/proteus.rst:64: WARNING: missing attribute mentioned in :members: or __all__: module proteus, attribute TwophaseDarcyCoefficients\n",
      "/home/cekees/proteus/doc/source/api/proteus.rst:64: WARNING: missing attribute mentioned in :members: or __all__: module proteus, attribute DiagUtils\n",
      "/home/cekees/proteus/doc/source/api/proteus.rst:64: WARNING: missing attribute mentioned in :members: or __all__: module proteus, attribute EGeometry\n",
      "/home/cekees/proteus/doc/source/api/proteus.rst:64: WARNING: missing attribute mentioned in :members: or __all__: module proteus, attribute ErrorEstimators\n",
      "/home/cekees/proteus/doc/source/api/proteus.rst:64: WARNING: missing attribute mentioned in :members: or __all__: module proteus, attribute FemTools\n",
      "/home/cekees/proteus/doc/source/api/proteus.rst:64: WARNING: missing attribute mentioned in :members: or __all__: module proteus, attribute LatexReport\n",
      "/home/cekees/proteus/doc/source/api/proteus.rst:64: WARNING: missing attribute mentioned in :members: or __all__: module proteus, attribute LinearAlgebraTools\n",
      "/home/cekees/proteus/doc/source/api/proteus.rst:64: WARNING: missing attribute mentioned in :members: or __all__: module proteus, attribute LinearSolvers\n",
      "/home/cekees/proteus/doc/source/api/proteus.rst:64: WARNING: missing attribute mentioned in :members: or __all__: module proteus, attribute MeshTools\n",
      "/home/cekees/proteus/doc/source/api/proteus.rst:64: WARNING: missing attribute mentioned in :members: or __all__: module proteus, attribute NonlinearSolvers\n",
      "/home/cekees/proteus/doc/source/api/proteus.rst:64: WARNING: missing attribute mentioned in :members: or __all__: module proteus, attribute Norms\n",
      "/home/cekees/proteus/doc/source/api/proteus.rst:64: WARNING: missing attribute mentioned in :members: or __all__: module proteus, attribute NumericalFlux\n",
      "/home/cekees/proteus/doc/source/api/proteus.rst:64: WARNING: missing attribute mentioned in :members: or __all__: module proteus, attribute PostProcessingTools\n",
      "/home/cekees/proteus/doc/source/api/proteus.rst:64: WARNING: missing attribute mentioned in :members: or __all__: module proteus, attribute Profiling\n",
      "/home/cekees/proteus/doc/source/api/proteus.rst:64: WARNING: missing attribute mentioned in :members: or __all__: module proteus, attribute Quadrature\n",
      "/home/cekees/proteus/doc/source/api/proteus.rst:64: WARNING: missing attribute mentioned in :members: or __all__: module proteus, attribute RefUtils\n",
      "/home/cekees/proteus/doc/source/api/proteus.rst:64: WARNING: missing attribute mentioned in :members: or __all__: module proteus, attribute ShockCapturing\n",
      "/home/cekees/proteus/doc/source/api/proteus.rst:64: WARNING: missing attribute mentioned in :members: or __all__: module proteus, attribute SimTools\n",
      "/home/cekees/proteus/doc/source/api/proteus.rst:64: WARNING: missing attribute mentioned in :members: or __all__: module proteus, attribute SubgridError\n",
      "/home/cekees/proteus/doc/source/api/proteus.rst:64: WARNING: missing attribute mentioned in :members: or __all__: module proteus, attribute SubsurfaceTransportCoefficients\n",
      "/home/cekees/proteus/doc/source/api/proteus.rst:64: WARNING: missing attribute mentioned in :members: or __all__: module proteus, attribute StupidHeap\n",
      "/home/cekees/proteus/doc/source/api/proteus.rst:64: WARNING: missing attribute mentioned in :members: or __all__: module proteus, attribute TimeIntegration\n",
      "/home/cekees/proteus/doc/source/api/proteus.rst:64: WARNING: missing attribute mentioned in :members: or __all__: module proteus, attribute Transport\n",
      "/home/cekees/proteus/doc/source/api/proteus.rst:64: WARNING: missing attribute mentioned in :members: or __all__: module proteus, attribute TriangleTools\n",
      "/home/cekees/proteus/doc/source/api/proteus.rst:64: WARNING: missing attribute mentioned in :members: or __all__: module proteus, attribute UnstructuredFMMandFSWsolvers\n",
      "/home/cekees/proteus/doc/source/api/proteus.rst:64: WARNING: missing attribute mentioned in :members: or __all__: module proteus, attribute Viewers\n",
      "/home/cekees/proteus/doc/source/api/proteus.rst:64: WARNING: missing attribute mentioned in :members: or __all__: module proteus, attribute AuxiliaryVariables\n",
      "/home/cekees/proteus/doc/source/api/proteus.rst:64: WARNING: missing attribute mentioned in :members: or __all__: module proteus, attribute default_p\n",
      "/home/cekees/proteus/doc/source/api/proteus.rst:64: WARNING: missing attribute mentioned in :members: or __all__: module proteus, attribute default_n\n",
      "/home/cekees/proteus/doc/source/api/proteus.rst:64: WARNING: missing attribute mentioned in :members: or __all__: module proteus, attribute default_s\n",
      "/home/cekees/proteus/doc/source/api/proteus.rst:64: WARNING: missing attribute mentioned in :members: or __all__: module proteus, attribute default_so\n",
      "/home/cekees/proteus/doc/source/api/proteus.rst:64: WARNING: missing attribute mentioned in :members: or __all__: module proteus, attribute InputTranslators\n",
      "/home/cekees/proteus/doc/source/api/proteus.rst:64: WARNING: missing attribute mentioned in :members: or __all__: module proteus, attribute cfemIntegrals\n",
      "/home/cekees/proteus/doc/source/api/proteus.rst:64: WARNING: missing attribute mentioned in :members: or __all__: module proteus, attribute cshockCapturing\n",
      "/home/cekees/proteus/doc/source/api/proteus.rst:64: WARNING: missing attribute mentioned in :members: or __all__: module proteus, attribute csmoothers\n",
      "/home/cekees/proteus/doc/source/api/proteus.rst:64: WARNING: missing attribute mentioned in :members: or __all__: module proteus, attribute csubgridError\n",
      "/home/cekees/proteus/doc/source/api/proteus.rst:64: WARNING: missing attribute mentioned in :members: or __all__: module proteus, attribute ctimeIntegration\n",
      "/home/cekees/proteus/doc/source/api/proteus.rst:64: WARNING: missing attribute mentioned in :members: or __all__: module proteus, attribute ctransportCoefficients\n",
      "/home/cekees/proteus/doc/source/api/proteus.rst:64: WARNING: missing attribute mentioned in :members: or __all__: module proteus, attribute lapackWrappers\n",
      "/home/cekees/proteus/doc/source/api/proteus.rst:64: WARNING: missing attribute mentioned in :members: or __all__: module proteus, attribute superluWrappers\n",
      "/home/cekees/proteus/doc/source/api/proteus.rst:64: WARNING: missing attribute mentioned in :members: or __all__: module proteus, attribute triangleWrappers\n",
      "/home/cekees/proteus/doc/source/api/proteus.rst:64: WARNING: missing attribute mentioned in :members: or __all__: module proteus, attribute testStuff\n",
      "/home/cekees/proteus/doc/source/api/proteus.rst:64: WARNING: missing attribute mentioned in :members: or __all__: module proteus, attribute testStuffImpl\n",
      "/home/cekees/proteus/doc/source/api/proteus.rst:64: WARNING: missing attribute mentioned in :members: or __all__: module proteus, attribute cmeshTools\n",
      "/home/cekees/proteus/doc/source/api/proteus.rst:64: WARNING: missing attribute mentioned in :members: or __all__: module proteus, attribute cnumericalFlux\n",
      "/home/cekees/proteus/doc/source/api/proteus.rst:64: WARNING: missing attribute mentioned in :members: or __all__: module proteus, attribute cfmmfsw\n",
      "/home/cekees/proteus/doc/source/api/proteus.rst:64: WARNING: missing attribute mentioned in :members: or __all__: module proteus, attribute cTwophaseDarcyCoefficients\n",
      "/home/cekees/proteus/linux2/lib/python2.7/site-packages/proteus/ELLAMtools.py:docstring of proteus.ELLAMtools.ELLAMdiscretization.trackQuadraturePoints:6: ERROR: Unexpected indentation.\n",
      "/home/cekees/proteus/linux2/lib/python2.7/site-packages/proteus/ELLAMtools.py:docstring of proteus.ELLAMtools.ELLAMdiscretization.trackQuadraturePoints:8: WARNING: Block quote ends without a blank line; unexpected unindent.\n",
      "/home/cekees/proteus/linux2/lib/python2.7/site-packages/proteus/ELLAMtools.py:docstring of proteus.ELLAMtools.ELLAMdiscretization.trackQuadraturePoints:11: WARNING: Definition list ends without a blank line; unexpected unindent.\n",
      "/home/cekees/proteus/linux2/lib/python2.7/site-packages/proteus/ELLAMtools.py:docstring of proteus.ELLAMtools.ELLAMdiscretization.trackQuadraturePoints:13: ERROR: Unexpected indentation.\n",
      "/home/cekees/proteus/linux2/lib/python2.7/site-packages/proteus/ELLAMtools.py:docstring of proteus.ELLAMtools.ELLAMdiscretization.trackQuadraturePoints:17: ERROR: Unexpected indentation.\n",
      "/home/cekees/proteus/linux2/lib/python2.7/site-packages/proteus/ELLAMtools.py:docstring of proteus.ELLAMtools.ELLAMdiscretization.trackQuadraturePoints:19: WARNING: Block quote ends without a blank line; unexpected unindent.\n",
      "/home/cekees/proteus/linux2/lib/python2.7/site-packages/proteus/MeshTools.py:docstring of proteus.MeshTools.Mesh.buildMatlabMeshDataStructures:15: WARNING: Block quote ends without a blank line; unexpected unindent.\n",
      "/home/cekees/proteus/linux2/lib/python2.7/site-packages/proteus/MeshTools.py:docstring of proteus.MeshTools.Mesh.buildMatlabMeshDataStructures:41: WARNING: Block quote ends without a blank line; unexpected unindent.\n",
      "/home/cekees/proteus/linux2/lib/python2.7/site-packages/proteus/MeshTools.py:docstring of proteus.MeshTools.TriangularMesh.constructTriangularMeshOnRectangle:6: ERROR: Unexpected indentation.\n",
      "/home/cekees/proteus/linux2/lib/python2.7/site-packages/proteus/NonlinearSolvers.py:docstring of proteus.NonlinearSolvers.EikonalSolver:3: ERROR: Unexpected indentation.\n",
      "/home/cekees/proteus/linux2/lib/python2.7/site-packages/proteus/NumericalFlux.py:docstring of proteus.NumericalFlux.ConvexOneSonicPointNumericalFlux:3: WARNING: Definition list ends without a blank line; unexpected unindent.\n",
      "/home/cekees/proteus/linux2/lib/python2.7/site-packages/proteus/NumericalFlux.py:docstring of proteus.NumericalFlux.DarcyFCPP_IIPG_exterior.hasInterior:3: ERROR: Unexpected indentation.\n",
      "/home/cekees/proteus/linux2/lib/python2.7/site-packages/proteus/NumericalFlux.py:docstring of proteus.NumericalFlux.DarcyFCPP_IIPG_exterior.hasInterior:5: WARNING: Definition list ends without a blank line; unexpected unindent.\n",
      "/home/cekees/proteus/linux2/lib/python2.7/site-packages/proteus/NumericalFlux.py:docstring of proteus.NumericalFlux.DarcyFC_IIPG_exterior.hasInterior:3: ERROR: Unexpected indentation.\n",
      "/home/cekees/proteus/linux2/lib/python2.7/site-packages/proteus/NumericalFlux.py:docstring of proteus.NumericalFlux.DarcyFC_IIPG_exterior.hasInterior:5: WARNING: Definition list ends without a blank line; unexpected unindent.\n",
      "/home/cekees/proteus/linux2/lib/python2.7/site-packages/proteus/NumericalFlux.py:docstring of proteus.NumericalFlux.RusanovNumericalFlux:3: WARNING: Block quote ends without a blank line; unexpected unindent.\n",
      "/home/cekees/proteus/linux2/lib/python2.7/site-packages/proteus/NumericalFlux.py:docstring of proteus.NumericalFlux.RusanovNumericalFlux_Diagonal:1: ERROR: Undefined substitution referenced: \"f^{prime}\".\n",
      "/home/cekees/proteus/linux2/lib/python2.7/site-packages/proteus/NumericalFlux.py:docstring of proteus.NumericalFlux.RusanovNumericalFlux_Diagonal_Diffusion_IIPG:1: ERROR: Undefined substitution referenced: \"f^{prime}\".\n",
      "/home/cekees/proteus/linux2/lib/python2.7/site-packages/proteus/NumericalSolution.py:docstring of proteus.NumericalSolution.NS_base:8: ERROR: Error in \"graphviz\" directive:\n",
      "maximum 1 argument(s) allowed, 107 supplied.\n",
      "\n",
      ".. graphviz::\n",
      "   digraph NumericalSolutionHasA {\n",
      "   node [shape=record, fontname=Helvetica, fontsize=12];\n",
      "   NS   [label=\"NumericalSolution\" URL=\"\\ref NumericalSolution\", style=\"filled\", fillcolor=\"gray\"];\n",
      "   mList [label=\"MultilevelTranportModel [n]\" URL=\"\\ref proteus::Transport::MultilevelTransport\"];\n",
      "   nsList [label=\"NonLinearSolver [n] \" URL=\"\\ref proteus::NonLinearSolver\"];\n",
      "   lsList [label=\"LinearSolver [n] \" URL=\"\\ref proteus::LinearSolver\"];\n",
      "   pList [label=\"Problem Specification [n]\" URL=\"\\ref proteus::default_p\"];\n",
      "   nList [label=\"Numerics Specifiation [n]\" URL=\"\\ref proteus::default_n\"];\n",
      "   sList [label=\"Output Specification [n]\" URL=\"\\ref proteus::SimTools\"];\n",
      "   so [label=\"Coupling Specification \" URL=\"\\ref proteus::SO_base\"];\n",
      "   ar [label=\"Archiver\" URL=\"\\ref proteus::AR_base\"];\n",
      "   NS -> pList [arrowhead=\"normal\", style=\"dashed\", color=\"purple\"];\n",
      "   NS -> nList [arrowhead=\"normal\", style=\"dashed\", color=\"purple\"];\n",
      "   NS -> so [arrowhead=\"normal\", style=\"dashed\", color=\"purple\"];\n",
      "   NS -> sList [arrowhead=\"normal\", style=\"dashed\", color=\"purple\"];\n",
      "   NS -> mList [arrowhead=\"normal\", style=\"dashed\", color=\"purple\"];\n",
      "   NS -> nsList [arrowhead=\"normal\", style=\"dashed\", color=\"purple\"];\n",
      "   NS -> lsList [arrowhead=\"normal\", style=\"dashed\", color=\"purple\"];\n",
      "   NS -> ar [arrowhead=\"normal\", style=\"dashed\", color=\"purple\"];\n",
      "   }\n",
      "/home/cekees/proteus/linux2/lib/python2.7/site-packages/proteus/PostProcessingTools.py:docstring of proteus.PostProcessingTools.VPP_DG_BDM:8: ERROR: Unexpected indentation.\n",
      "/home/cekees/proteus/linux2/lib/python2.7/site-packages/proteus/PostProcessingTools.py:docstring of proteus.PostProcessingTools.VPP_DG_BDM.evaluateElementVelocityField:4: ERROR: Unexpected indentation.\n",
      "/home/cekees/proteus/linux2/lib/python2.7/site-packages/proteus/PostProcessingTools.py:docstring of proteus.PostProcessingTools.VPP_DG_BDM.evaluateLocalVelocityRepresentation:3: ERROR: Unexpected indentation.\n",
      "/home/cekees/proteus/linux2/lib/python2.7/site-packages/proteus/PostProcessingTools.py:docstring of proteus.PostProcessingTools.VPP_DG_RT0.evaluateLocalVelocityRepresentation:3: ERROR: Unexpected indentation.\n",
      "/home/cekees/proteus/linux2/lib/python2.7/site-packages/proteus/PostProcessingTools.py:docstring of proteus.PostProcessingTools.VPP_LOW_K_IB_PWL_RT0:10: ERROR: Unexpected indentation.\n",
      "/home/cekees/proteus/linux2/lib/python2.7/site-packages/proteus/PostProcessingTools.py:docstring of proteus.PostProcessingTools.VPP_LOW_K_IB_PWL_RT0.setInteriorFluxBoundaries:5: ERROR: Unexpected indentation.\n",
      "/home/cekees/proteus/linux2/lib/python2.7/site-packages/proteus/PostProcessingTools.py:docstring of proteus.PostProcessingTools.VPP_LOW_K_IB_PWL_RT0.setInteriorFluxBoundaries:3: WARNING: Inline substitution_reference start-string without end-string.\n",
      "/home/cekees/proteus/linux2/lib/python2.7/site-packages/proteus/PostProcessingTools.py:docstring of proteus.PostProcessingTools.VPP_LOW_K_IB_PWL_RT0.setInteriorFluxBoundaries:3: WARNING: Inline substitution_reference start-string without end-string.\n",
      "/home/cekees/proteus/linux2/lib/python2.7/site-packages/proteus/PostProcessingTools.py:docstring of proteus.PostProcessingTools.VPP_LOW_K_IB_PWL_RT0.setInteriorFluxBoundaries:3: WARNING: Inline substitution_reference start-string without end-string.\n",
      "/home/cekees/proteus/linux2/lib/python2.7/site-packages/proteus/PostProcessingTools.py:docstring of proteus.PostProcessingTools.VPP_LOW_K_IB_PWL_RT0.setInteriorFluxBoundaries:3: WARNING: Inline substitution_reference start-string without end-string.\n",
      "/home/cekees/proteus/linux2/lib/python2.7/site-packages/proteus/PostProcessingTools.py:docstring of proteus.PostProcessingTools.VPP_LOW_K_IB_PWL_RT0.setInteriorFluxBoundaries:3: WARNING: Inline substitution_reference start-string without end-string.\n",
      "/home/cekees/proteus/linux2/lib/python2.7/site-packages/proteus/PostProcessingTools.py:docstring of proteus.PostProcessingTools.VPP_LOW_K_IB_PWL_RT0.setInteriorFluxBoundaryValues:4: ERROR: Unexpected indentation.\n",
      "/home/cekees/proteus/linux2/lib/python2.7/site-packages/proteus/PostProcessingTools.py:docstring of proteus.PostProcessingTools.VPP_P1nc_RT0.postprocess_component:5: ERROR: Unexpected indentation.\n",
      "/home/cekees/proteus/linux2/lib/python2.7/site-packages/proteus/PostProcessingTools.py:docstring of proteus.PostProcessingTools.VPP_POINT_EVAL.postprocess_component:3: ERROR: Unexpected indentation.\n",
      "/home/cekees/proteus/linux2/lib/python2.7/site-packages/proteus/PostProcessingTools.py:docstring of proteus.PostProcessingTools.VPP_POINT_EVAL.postprocess_component:4: WARNING: Block quote ends without a blank line; unexpected unindent.\n",
      "/home/cekees/proteus/linux2/lib/python2.7/site-packages/proteus/PostProcessingTools.py:docstring of proteus.PostProcessingTools.VPP_POINT_EVAL_GWVD.evaluateElementVelocityField:4: ERROR: Unexpected indentation.\n",
      "/home/cekees/proteus/linux2/lib/python2.7/site-packages/proteus/PostProcessingTools.py:docstring of proteus.PostProcessingTools.VPP_PWC_RT0:8: ERROR: Unexpected indentation.\n",
      "/home/cekees/proteus/linux2/lib/python2.7/site-packages/proteus/PostProcessingTools.py:docstring of proteus.PostProcessingTools.VPP_PWC_RT0:11: WARNING: Block quote ends without a blank line; unexpected unindent.\n",
      "/home/cekees/proteus/linux2/lib/python2.7/site-packages/proteus/PostProcessingTools.py:docstring of proteus.PostProcessingTools.VPP_PWL_BDM:11: ERROR: Unexpected indentation.\n",
      "/home/cekees/proteus/linux2/lib/python2.7/site-packages/proteus/PostProcessingTools.py:docstring of proteus.PostProcessingTools.VPP_PWL_BDM:18: ERROR: Unexpected indentation.\n",
      "/home/cekees/proteus/linux2/lib/python2.7/site-packages/proteus/PostProcessingTools.py:docstring of proteus.PostProcessingTools.VPP_PWL_BDM.evaluateElementVelocityField:4: ERROR: Unexpected indentation.\n",
      "/home/cekees/proteus/linux2/lib/python2.7/site-packages/proteus/PostProcessingTools.py:docstring of proteus.PostProcessingTools.VPP_PWL_BDM_OPT:11: ERROR: Unexpected indentation.\n",
      "/home/cekees/proteus/linux2/lib/python2.7/site-packages/proteus/PostProcessingTools.py:docstring of proteus.PostProcessingTools.VPP_PWL_RT0:9: ERROR: Unexpected indentation.\n",
      "/home/cekees/proteus/linux2/lib/python2.7/site-packages/proteus/PostProcessingTools.py:docstring of proteus.PostProcessingTools.VPP_PWL_RT0:12: WARNING: Block quote ends without a blank line; unexpected unindent.\n",
      "/home/cekees/proteus/linux2/lib/python2.7/site-packages/proteus/PostProcessingTools.py:docstring of proteus.PostProcessingTools.VPP_SUN_GS_RT0:8: ERROR: Unexpected indentation.\n",
      "/home/cekees/proteus/linux2/lib/python2.7/site-packages/proteus/PostProcessingTools.py:docstring of proteus.PostProcessingTools.VPP_SUN_GS_RT0:11: WARNING: Block quote ends without a blank line; unexpected unindent.\n",
      "/home/cekees/proteus/linux2/lib/python2.7/site-packages/proteus/PostProcessingTools.py:docstring of proteus.PostProcessingTools.VPP_SUN_RT0:8: ERROR: Unexpected indentation.\n",
      "/home/cekees/proteus/linux2/lib/python2.7/site-packages/proteus/PostProcessingTools.py:docstring of proteus.PostProcessingTools.VPP_SUN_RT0:11: WARNING: Block quote ends without a blank line; unexpected unindent.\n",
      "/home/cekees/proteus/linux2/lib/python2.7/site-packages/proteus/PostProcessingTools.py:docstring of proteus.PostProcessingTools.VelocityPostProcessingAlgorithmBase:4: ERROR: Unexpected indentation.\n",
      "/home/cekees/proteus/linux2/lib/python2.7/site-packages/proteus/PostProcessingTools.py:docstring of proteus.PostProcessingTools.VelocityPostProcessingAlgorithmBase.addBoundaryFluxesBackToResidual:3: ERROR: Unexpected indentation.\n",
      "/home/cekees/proteus/linux2/lib/python2.7/site-packages/proteus/PostProcessingTools.py:docstring of proteus.PostProcessingTools.VelocityPostProcessingAlgorithmBase.archiveVelocityValues:3: ERROR: Unexpected indentation.\n",
      "/home/cekees/proteus/linux2/lib/python2.7/site-packages/proteus/PostProcessingTools.py:docstring of proteus.PostProcessingTools.VelocityPostProcessingAlgorithmBase.removeBoundaryFluxesFromResidual:3: ERROR: Unexpected indentation.\n",
      "/home/cekees/proteus/linux2/lib/python2.7/site-packages/proteus/PostProcessingTools.py:docstring of proteus.PostProcessingTools.VelocityPostProcessor_Original:6: ERROR: Unexpected indentation.\n",
      "/home/cekees/proteus/linux2/lib/python2.7/site-packages/proteus/PostProcessingTools.py:docstring of proteus.PostProcessingTools.VelocityPostProcessor_Original:13: WARNING: Block quote ends without a blank line; unexpected unindent.\n",
      "/home/cekees/proteus/linux2/lib/python2.7/site-packages/proteus/PostProcessingTools.py:docstring of proteus.PostProcessingTools.VelocityPostProcessor_Original.postprocessPointEval:3: ERROR: Unexpected indentation.\n",
      "/home/cekees/proteus/linux2/lib/python2.7/site-packages/proteus/PostProcessingTools.py:docstring of proteus.PostProcessingTools.VelocityPostProcessor_Original.postprocessPointEval:4: WARNING: Block quote ends without a blank line; unexpected unindent.\n",
      "/home/cekees/proteus/linux2/lib/python2.7/site-packages/proteus/PostProcessingTools.py:docstring of proteus.PostProcessingTools.VPP_PWC_RT0:8: ERROR: Undefined substitution referenced: \"E\".\n",
      "/home/cekees/proteus/linux2/lib/python2.7/site-packages/proteus/PostProcessingTools.py:docstring of proteus.PostProcessingTools.VPP_PWL_RT0:9: ERROR: Undefined substitution referenced: \"E\".\n",
      "/home/cekees/proteus/linux2/lib/python2.7/site-packages/proteus/PostProcessingTools.py:docstring of proteus.PostProcessingTools.VPP_SUN_GS_RT0:8: ERROR: Undefined substitution referenced: \"E\".\n",
      "/home/cekees/proteus/linux2/lib/python2.7/site-packages/proteus/PostProcessingTools.py:docstring of proteus.PostProcessingTools.VPP_SUN_RT0:8: ERROR: Undefined substitution referenced: \"E\".\n",
      "/home/cekees/proteus/linux2/lib/python2.7/site-packages/proteus/SimTools.py:docstring of proteus.SimTools.SimulationProcessor.plotScalarElementQuantityEnsight:7: WARNING: Definition list ends without a blank line; unexpected unindent.\n",
      "/home/cekees/proteus/linux2/lib/python2.7/site-packages/proteus/SimTools.py:docstring of proteus.SimTools.SimulationProcessor.plotScalarGlobalElementBoundaryQuantityEnsight:7: WARNING: Definition list ends without a blank line; unexpected unindent.\n",
      "/home/cekees/proteus/linux2/lib/python2.7/site-packages/proteus/SimTools.py:docstring of proteus.SimTools.SimulationProcessor.plotVectorElementQuantityEnsight:7: WARNING: Definition list ends without a blank line; unexpected unindent.\n",
      "/home/cekees/proteus/linux2/lib/python2.7/site-packages/proteus/SimTools.py:docstring of proteus.SimTools.SimulationProcessor.plotVectorGlobalElementBoundaryQuantityEnsight:7: WARNING: Definition list ends without a blank line; unexpected unindent.\n",
      "/home/cekees/proteus/linux2/lib/python2.7/site-packages/proteus/SimTools.py:docstring of proteus.SimTools.SimulationProcessor.postprocess:3: ERROR: Unexpected indentation.\n",
      "/home/cekees/proteus/linux2/lib/python2.7/site-packages/proteus/SimTools.py:docstring of proteus.SimTools.SimulationProcessor.processTimeLevel:3: ERROR: Unexpected indentation.\n",
      "/home/cekees/proteus/linux2/lib/python2.7/site-packages/proteus/SimTools.py:docstring of proteus.SimTools.SimulationProcessor.stepPlotElementQuantitiesEnsight:6: WARNING: Definition list ends without a blank line; unexpected unindent.\n",
      "/home/cekees/proteus/linux2/lib/python2.7/site-packages/proteus/SimTools.py:docstring of proteus.SimTools.SimulationProcessor.stepPlotEnsight:6: WARNING: Definition list ends without a blank line; unexpected unindent.\n",
      "/home/cekees/proteus/linux2/lib/python2.7/site-packages/proteus/SimTools.py:docstring of proteus.SimTools.SimulationProcessor.stepProcessError:3: ERROR: Unexpected indentation.\n",
      "/home/cekees/proteus/linux2/lib/python2.7/site-packages/proteus/SimTools.py:docstring of proteus.SimTools.SimulationProcessor.stepStoreQuantities:27: WARNING: Definition list ends without a blank line; unexpected unindent.\n",
      "/home/cekees/proteus/linux2/lib/python2.7/site-packages/proteus/SimTools.py:docstring of proteus.SimTools.projectToFinestLevel:6: ERROR: Unexpected indentation.\n",
      "/home/cekees/proteus/linux2/lib/python2.7/site-packages/proteus/StepControl.py:docstring of proteus.StepControl.GustafssonFullNewton_dt_controller:26: WARNING: Definition list ends without a blank line; unexpected unindent.\n",
      "/home/cekees/proteus/linux2/lib/python2.7/site-packages/proteus/StepControl.py:docstring of proteus.StepControl.GustafssonFullNewton_dt_controller:28: WARNING: Block quote ends without a blank line; unexpected unindent.\n",
      "/home/cekees/proteus/linux2/lib/python2.7/site-packages/proteus/StepControl.py:docstring of proteus.StepControl.GustafssonFullNewton_dt_controller.retryStep_solverFailure:3: ERROR: Unexpected indentation.\n",
      "/home/cekees/proteus/linux2/lib/python2.7/site-packages/proteus/StepControl.py:docstring of proteus.StepControl.HeuristicNL_dt_controller:5: WARNING: Inline emphasis start-string without end-string.\n",
      "/home/cekees/proteus/linux2/lib/python2.7/site-packages/proteus/StepControl.py:docstring of proteus.StepControl.HeuristicNL_dt_controller:7: WARNING: Inline emphasis start-string without end-string.\n",
      "/home/cekees/proteus/linux2/lib/python2.7/site-packages/proteus/StepControl.py:docstring of proteus.StepControl.HeuristicNL_dt_controller:8: WARNING: Definition list ends without a blank line; unexpected unindent.\n",
      "/home/cekees/proteus/linux2/lib/python2.7/site-packages/proteus/StepControl.py:docstring of proteus.StepControl.HeuristicNL_dt_controller:12: WARNING: Inline emphasis start-string without end-string.\n",
      "/home/cekees/proteus/linux2/lib/python2.7/site-packages/proteus/StepControl.py:docstring of proteus.StepControl.SC_base.writeSolverStatisticsForStep:5: ERROR: Undefined substitution referenced: \"errf|nlsf|ilsf|func|jacs|NLit|L_IT|linS\".\n",
      "/home/cekees/proteus/linux2/lib/python2.7/site-packages/proteus/SubgridError.py:docstring of proteus.SubgridError.AdvectionDiffusionReactionTransientSubscales_ASGS:6: WARNING: Block quote ends without a blank line; unexpected unindent.\n",
      "/home/cekees/proteus/linux2/lib/python2.7/site-packages/proteus/SubgridError.py:docstring of proteus.SubgridError.AdvectionDiffusionReactionTransientSubscales_ASGS:9: WARNING: Block quote ends without a blank line; unexpected unindent.\n",
      "/home/cekees/proteus/linux2/lib/python2.7/site-packages/proteus/SubsurfaceTransportCoefficients.py:docstring of proteus.SubsurfaceTransportCoefficients.BlockHeterogeneousCoefficients.initializeMaterialTypes:3: WARNING: Definition list ends without a blank line; unexpected unindent.\n",
      "/home/cekees/proteus/linux2/lib/python2.7/site-packages/proteus/SubsurfaceTransportCoefficients.py:docstring of proteus.SubsurfaceTransportCoefficients.FullyCoupledPressurePressureSimplePSKs:3: WARNING: Definition list ends without a blank line; unexpected unindent.\n",
      "/home/cekees/proteus/linux2/lib/python2.7/site-packages/proteus/SubsurfaceTransportCoefficients.py:docstring of proteus.SubsurfaceTransportCoefficients.TwophaseDarcy_compressible_split_pressure:6: ERROR: Unexpected indentation.\n",
      "/home/cekees/proteus/linux2/lib/python2.7/site-packages/proteus/SubsurfaceTransportCoefficients.py:docstring of proteus.SubsurfaceTransportCoefficients.TwophaseDarcy_compressible_split_pressure:70: WARNING: Block quote ends without a blank line; unexpected unindent.\n",
      "/home/cekees/proteus/linux2/lib/python2.7/site-packages/proteus/SubsurfaceTransportCoefficients.py:docstring of proteus.SubsurfaceTransportCoefficients.TwophaseDarcy_compressible_split_pressure:81: WARNING: Block quote ends without a blank line; unexpected unindent.\n",
      "/home/cekees/proteus/linux2/lib/python2.7/site-packages/proteus/SubsurfaceTransportCoefficients.py:docstring of proteus.SubsurfaceTransportCoefficients.TwophaseDarcy_compressible_split_pressure:83: ERROR: Unexpected indentation.\n",
      "/home/cekees/proteus/linux2/lib/python2.7/site-packages/proteus/SubsurfaceTransportCoefficients.py:docstring of proteus.SubsurfaceTransportCoefficients.TwophaseDarcy_compressible_split_pressure:84: WARNING: Block quote ends without a blank line; unexpected unindent.\n",
      "/home/cekees/proteus/linux2/lib/python2.7/site-packages/proteus/SubsurfaceTransportCoefficients.py:docstring of proteus.SubsurfaceTransportCoefficients.TwophaseDarcy_compressible_split_pressure:86: ERROR: Unexpected indentation.\n",
      "/home/cekees/proteus/linux2/lib/python2.7/site-packages/proteus/SubsurfaceTransportCoefficients.py:docstring of proteus.SubsurfaceTransportCoefficients.TwophaseDarcy_compressible_split_pressure:88: WARNING: Block quote ends without a blank line; unexpected unindent.\n",
      "/home/cekees/proteus/linux2/lib/python2.7/site-packages/proteus/SubsurfaceTransportCoefficients.py:docstring of proteus.SubsurfaceTransportCoefficients.TwophaseDarcy_compressible_split_pressure:101: WARNING: Definition list ends without a blank line; unexpected unindent.\n",
      "/home/cekees/proteus/linux2/lib/python2.7/site-packages/proteus/SubsurfaceTransportCoefficients.py:docstring of proteus.SubsurfaceTransportCoefficients.TwophaseDarcy_compressible_split_saturation:8: ERROR: Unexpected indentation.\n",
      "/home/cekees/proteus/linux2/lib/python2.7/site-packages/proteus/SubsurfaceTransportCoefficients.py:docstring of proteus.SubsurfaceTransportCoefficients.TwophaseDarcy_compressible_split_saturation:9: WARNING: Block quote ends without a blank line; unexpected unindent.\n",
      "/home/cekees/proteus/linux2/lib/python2.7/site-packages/proteus/SubsurfaceTransportCoefficients.py:docstring of proteus.SubsurfaceTransportCoefficients.TwophaseDarcy_compressible_split_saturation:71: WARNING: Block quote ends without a blank line; unexpected unindent.\n",
      "/home/cekees/proteus/linux2/lib/python2.7/site-packages/proteus/SubsurfaceTransportCoefficients.py:docstring of proteus.SubsurfaceTransportCoefficients.TwophaseDarcy_compressible_split_saturation:82: WARNING: Block quote ends without a blank line; unexpected unindent.\n",
      "/home/cekees/proteus/linux2/lib/python2.7/site-packages/proteus/SubsurfaceTransportCoefficients.py:docstring of proteus.SubsurfaceTransportCoefficients.TwophaseDarcy_compressible_split_saturation:84: ERROR: Unexpected indentation.\n",
      "/home/cekees/proteus/linux2/lib/python2.7/site-packages/proteus/SubsurfaceTransportCoefficients.py:docstring of proteus.SubsurfaceTransportCoefficients.TwophaseDarcy_compressible_split_saturation:85: WARNING: Block quote ends without a blank line; unexpected unindent.\n",
      "/home/cekees/proteus/linux2/lib/python2.7/site-packages/proteus/SubsurfaceTransportCoefficients.py:docstring of proteus.SubsurfaceTransportCoefficients.TwophaseDarcy_compressible_split_saturation:87: ERROR: Unexpected indentation.\n",
      "/home/cekees/proteus/linux2/lib/python2.7/site-packages/proteus/SubsurfaceTransportCoefficients.py:docstring of proteus.SubsurfaceTransportCoefficients.TwophaseDarcy_compressible_split_saturation:89: WARNING: Block quote ends without a blank line; unexpected unindent.\n",
      "/home/cekees/proteus/linux2/lib/python2.7/site-packages/proteus/SubsurfaceTransportCoefficients.py:docstring of proteus.SubsurfaceTransportCoefficients.TwophaseDarcy_compressible_split_saturation:102: WARNING: Definition list ends without a blank line; unexpected unindent.\n",
      "/home/cekees/proteus/linux2/lib/python2.7/site-packages/proteus/SubsurfaceTransportCoefficients.py:docstring of proteus.SubsurfaceTransportCoefficients.TwophaseDarcy_fc:9: WARNING: Block quote ends without a blank line; unexpected unindent.\n",
      "/home/cekees/proteus/linux2/lib/python2.7/site-packages/proteus/SubsurfaceTransportCoefficients.py:docstring of proteus.SubsurfaceTransportCoefficients.TwophaseDarcy_fc:18: WARNING: Block quote ends without a blank line; unexpected unindent.\n",
      "/home/cekees/proteus/linux2/lib/python2.7/site-packages/proteus/SubsurfaceTransportCoefficients.py:docstring of proteus.SubsurfaceTransportCoefficients.TwophaseDarcy_fc:28: WARNING: Block quote ends without a blank line; unexpected unindent.\n",
      "/home/cekees/proteus/linux2/lib/python2.7/site-packages/proteus/SubsurfaceTransportCoefficients.py:docstring of proteus.SubsurfaceTransportCoefficients.TwophaseDarcy_fc:31: WARNING: Definition list ends without a blank line; unexpected unindent.\n",
      "/home/cekees/proteus/linux2/lib/python2.7/site-packages/proteus/SubsurfaceTransportCoefficients.py:docstring of proteus.SubsurfaceTransportCoefficients.TwophaseDarcy_fc:34: ERROR: Unexpected indentation.\n",
      "/home/cekees/proteus/linux2/lib/python2.7/site-packages/proteus/SubsurfaceTransportCoefficients.py:docstring of proteus.SubsurfaceTransportCoefficients.TwophaseDarcy_fc:35: WARNING: Block quote ends without a blank line; unexpected unindent.\n",
      "/home/cekees/proteus/linux2/lib/python2.7/site-packages/proteus/SubsurfaceTransportCoefficients.py:docstring of proteus.SubsurfaceTransportCoefficients.TwophaseDarcy_fc:41: WARNING: Block quote ends without a blank line; unexpected unindent.\n",
      "/home/cekees/proteus/linux2/lib/python2.7/site-packages/proteus/SubsurfaceTransportCoefficients.py:docstring of proteus.SubsurfaceTransportCoefficients.TwophaseDarcy_fc:43: ERROR: Unexpected indentation.\n",
      "/home/cekees/proteus/linux2/lib/python2.7/site-packages/proteus/SubsurfaceTransportCoefficients.py:docstring of proteus.SubsurfaceTransportCoefficients.TwophaseDarcy_fc:44: WARNING: Block quote ends without a blank line; unexpected unindent.\n",
      "/home/cekees/proteus/linux2/lib/python2.7/site-packages/proteus/SubsurfaceTransportCoefficients.py:docstring of proteus.SubsurfaceTransportCoefficients.TwophaseDarcy_fc:46: ERROR: Unexpected indentation.\n",
      "/home/cekees/proteus/linux2/lib/python2.7/site-packages/proteus/SubsurfaceTransportCoefficients.py:docstring of proteus.SubsurfaceTransportCoefficients.TwophaseDarcy_fc:58: WARNING: Block quote ends without a blank line; unexpected unindent.\n",
      "/home/cekees/proteus/linux2/lib/python2.7/site-packages/proteus/SubsurfaceTransportCoefficients.py:docstring of proteus.SubsurfaceTransportCoefficients.TwophaseDarcy_fc_pp:9: WARNING: Block quote ends without a blank line; unexpected unindent.\n",
      "/home/cekees/proteus/linux2/lib/python2.7/site-packages/proteus/SubsurfaceTransportCoefficients.py:docstring of proteus.SubsurfaceTransportCoefficients.TwophaseDarcy_fc_pp:18: WARNING: Block quote ends without a blank line; unexpected unindent.\n",
      "/home/cekees/proteus/linux2/lib/python2.7/site-packages/proteus/SubsurfaceTransportCoefficients.py:docstring of proteus.SubsurfaceTransportCoefficients.TwophaseDarcy_fc_pp:28: WARNING: Block quote ends without a blank line; unexpected unindent.\n",
      "/home/cekees/proteus/linux2/lib/python2.7/site-packages/proteus/SubsurfaceTransportCoefficients.py:docstring of proteus.SubsurfaceTransportCoefficients.TwophaseDarcy_fc_pp:31: WARNING: Definition list ends without a blank line; unexpected unindent.\n",
      "/home/cekees/proteus/linux2/lib/python2.7/site-packages/proteus/SubsurfaceTransportCoefficients.py:docstring of proteus.SubsurfaceTransportCoefficients.TwophaseDarcy_fc_pp:34: ERROR: Unexpected indentation.\n",
      "/home/cekees/proteus/linux2/lib/python2.7/site-packages/proteus/SubsurfaceTransportCoefficients.py:docstring of proteus.SubsurfaceTransportCoefficients.TwophaseDarcy_fc_pp:35: WARNING: Block quote ends without a blank line; unexpected unindent.\n",
      "/home/cekees/proteus/linux2/lib/python2.7/site-packages/proteus/SubsurfaceTransportCoefficients.py:docstring of proteus.SubsurfaceTransportCoefficients.TwophaseDarcy_fc_pp:41: WARNING: Block quote ends without a blank line; unexpected unindent.\n",
      "/home/cekees/proteus/linux2/lib/python2.7/site-packages/proteus/SubsurfaceTransportCoefficients.py:docstring of proteus.SubsurfaceTransportCoefficients.TwophaseDarcy_fc_pp:43: ERROR: Unexpected indentation.\n",
      "/home/cekees/proteus/linux2/lib/python2.7/site-packages/proteus/SubsurfaceTransportCoefficients.py:docstring of proteus.SubsurfaceTransportCoefficients.TwophaseDarcy_fc_pp:44: WARNING: Block quote ends without a blank line; unexpected unindent.\n",
      "/home/cekees/proteus/linux2/lib/python2.7/site-packages/proteus/SubsurfaceTransportCoefficients.py:docstring of proteus.SubsurfaceTransportCoefficients.TwophaseDarcy_fc_pp:46: ERROR: Unexpected indentation.\n",
      "/home/cekees/proteus/linux2/lib/python2.7/site-packages/proteus/SubsurfaceTransportCoefficients.py:docstring of proteus.SubsurfaceTransportCoefficients.TwophaseDarcy_fc_pp:58: WARNING: Block quote ends without a blank line; unexpected unindent.\n",
      "/home/cekees/proteus/linux2/lib/python2.7/site-packages/proteus/SubsurfaceTransportCoefficients.py:docstring of proteus.SubsurfaceTransportCoefficients.TwophaseDarcy_incompressible_split_pp_pressure:57: WARNING: Block quote ends without a blank line; unexpected unindent.\n",
      "/home/cekees/proteus/linux2/lib/python2.7/site-packages/proteus/SubsurfaceTransportCoefficients.py:docstring of proteus.SubsurfaceTransportCoefficients.TwophaseDarcy_incompressible_split_pp_pressure:68: WARNING: Block quote ends without a blank line; unexpected unindent.\n",
      "/home/cekees/proteus/linux2/lib/python2.7/site-packages/proteus/SubsurfaceTransportCoefficients.py:docstring of proteus.SubsurfaceTransportCoefficients.TwophaseDarcy_incompressible_split_pp_pressure:70: ERROR: Unexpected indentation.\n",
      "/home/cekees/proteus/linux2/lib/python2.7/site-packages/proteus/SubsurfaceTransportCoefficients.py:docstring of proteus.SubsurfaceTransportCoefficients.TwophaseDarcy_incompressible_split_pp_pressure:71: WARNING: Block quote ends without a blank line; unexpected unindent.\n",
      "/home/cekees/proteus/linux2/lib/python2.7/site-packages/proteus/SubsurfaceTransportCoefficients.py:docstring of proteus.SubsurfaceTransportCoefficients.TwophaseDarcy_incompressible_split_pp_pressure:73: ERROR: Unexpected indentation.\n",
      "/home/cekees/proteus/linux2/lib/python2.7/site-packages/proteus/SubsurfaceTransportCoefficients.py:docstring of proteus.SubsurfaceTransportCoefficients.TwophaseDarcy_incompressible_split_pp_pressure:85: WARNING: Block quote ends without a blank line; unexpected unindent.\n",
      "/home/cekees/proteus/linux2/lib/python2.7/site-packages/proteus/SubsurfaceTransportCoefficients.py:docstring of proteus.SubsurfaceTransportCoefficients.TwophaseDarcy_incompressible_split_pp_saturation:58: WARNING: Block quote ends without a blank line; unexpected unindent.\n",
      "/home/cekees/proteus/linux2/lib/python2.7/site-packages/proteus/SubsurfaceTransportCoefficients.py:docstring of proteus.SubsurfaceTransportCoefficients.TwophaseDarcy_incompressible_split_pp_saturation:69: WARNING: Block quote ends without a blank line; unexpected unindent.\n",
      "/home/cekees/proteus/linux2/lib/python2.7/site-packages/proteus/SubsurfaceTransportCoefficients.py:docstring of proteus.SubsurfaceTransportCoefficients.TwophaseDarcy_incompressible_split_pp_saturation:71: ERROR: Unexpected indentation.\n",
      "/home/cekees/proteus/linux2/lib/python2.7/site-packages/proteus/SubsurfaceTransportCoefficients.py:docstring of proteus.SubsurfaceTransportCoefficients.TwophaseDarcy_incompressible_split_pp_saturation:72: WARNING: Block quote ends without a blank line; unexpected unindent.\n",
      "/home/cekees/proteus/linux2/lib/python2.7/site-packages/proteus/SubsurfaceTransportCoefficients.py:docstring of proteus.SubsurfaceTransportCoefficients.TwophaseDarcy_incompressible_split_pp_saturation:74: ERROR: Unexpected indentation.\n",
      "/home/cekees/proteus/linux2/lib/python2.7/site-packages/proteus/SubsurfaceTransportCoefficients.py:docstring of proteus.SubsurfaceTransportCoefficients.TwophaseDarcy_incompressible_split_pp_saturation:86: WARNING: Block quote ends without a blank line; unexpected unindent.\n",
      "/home/cekees/proteus/linux2/lib/python2.7/site-packages/proteus/SubsurfaceTransportCoefficients.py:docstring of proteus.SubsurfaceTransportCoefficients.TwophaseDarcy_incompressible_split_pressure:57: WARNING: Block quote ends without a blank line; unexpected unindent.\n",
      "/home/cekees/proteus/linux2/lib/python2.7/site-packages/proteus/SubsurfaceTransportCoefficients.py:docstring of proteus.SubsurfaceTransportCoefficients.TwophaseDarcy_incompressible_split_pressure:68: WARNING: Block quote ends without a blank line; unexpected unindent.\n",
      "/home/cekees/proteus/linux2/lib/python2.7/site-packages/proteus/SubsurfaceTransportCoefficients.py:docstring of proteus.SubsurfaceTransportCoefficients.TwophaseDarcy_incompressible_split_pressure:70: ERROR: Unexpected indentation.\n",
      "/home/cekees/proteus/linux2/lib/python2.7/site-packages/proteus/SubsurfaceTransportCoefficients.py:docstring of proteus.SubsurfaceTransportCoefficients.TwophaseDarcy_incompressible_split_pressure:71: WARNING: Block quote ends without a blank line; unexpected unindent.\n",
      "/home/cekees/proteus/linux2/lib/python2.7/site-packages/proteus/SubsurfaceTransportCoefficients.py:docstring of proteus.SubsurfaceTransportCoefficients.TwophaseDarcy_incompressible_split_pressure:73: ERROR: Unexpected indentation.\n",
      "/home/cekees/proteus/linux2/lib/python2.7/site-packages/proteus/SubsurfaceTransportCoefficients.py:docstring of proteus.SubsurfaceTransportCoefficients.TwophaseDarcy_incompressible_split_pressure:85: WARNING: Block quote ends without a blank line; unexpected unindent.\n",
      "/home/cekees/proteus/linux2/lib/python2.7/site-packages/proteus/SubsurfaceTransportCoefficients.py:docstring of proteus.SubsurfaceTransportCoefficients.TwophaseDarcy_incompressible_split_saturation:58: WARNING: Block quote ends without a blank line; unexpected unindent.\n",
      "/home/cekees/proteus/linux2/lib/python2.7/site-packages/proteus/SubsurfaceTransportCoefficients.py:docstring of proteus.SubsurfaceTransportCoefficients.TwophaseDarcy_incompressible_split_saturation:69: WARNING: Block quote ends without a blank line; unexpected unindent.\n",
      "/home/cekees/proteus/linux2/lib/python2.7/site-packages/proteus/SubsurfaceTransportCoefficients.py:docstring of proteus.SubsurfaceTransportCoefficients.TwophaseDarcy_incompressible_split_saturation:71: ERROR: Unexpected indentation.\n",
      "/home/cekees/proteus/linux2/lib/python2.7/site-packages/proteus/SubsurfaceTransportCoefficients.py:docstring of proteus.SubsurfaceTransportCoefficients.TwophaseDarcy_incompressible_split_saturation:72: WARNING: Block quote ends without a blank line; unexpected unindent.\n",
      "/home/cekees/proteus/linux2/lib/python2.7/site-packages/proteus/SubsurfaceTransportCoefficients.py:docstring of proteus.SubsurfaceTransportCoefficients.TwophaseDarcy_incompressible_split_saturation:74: ERROR: Unexpected indentation.\n",
      "/home/cekees/proteus/linux2/lib/python2.7/site-packages/proteus/SubsurfaceTransportCoefficients.py:docstring of proteus.SubsurfaceTransportCoefficients.TwophaseDarcy_incompressible_split_saturation:86: WARNING: Block quote ends without a blank line; unexpected unindent.\n",
      "/home/cekees/proteus/linux2/lib/python2.7/site-packages/proteus/TimeIntegration.py:docstring of proteus.TimeIntegration.DGlimiterP1Lagrange1d_Sw.applySlopeLimiting:8: ERROR: Unexpected indentation.\n",
      "/home/cekees/proteus/linux2/lib/python2.7/site-packages/proteus/TimeIntegration.py:docstring of proteus.TimeIntegration.DGlimiterP2Lagrange1d_Sw.applySlopeLimiting:8: ERROR: Unexpected indentation.\n",
      "/home/cekees/proteus/linux2/lib/python2.7/site-packages/proteus/TimeIntegration.py:docstring of proteus.TimeIntegration.ExplicitRK_base.setCoefficients:9: ERROR: Unexpected indentation.\n",
      "/home/cekees/proteus/linux2/lib/python2.7/site-packages/proteus/TimeIntegration.py:docstring of proteus.TimeIntegration.ExplicitRK_base.setCoefficients:12: WARNING: Block quote ends without a blank line; unexpected unindent.\n",
      "/home/cekees/proteus/linux2/lib/python2.7/site-packages/proteus/TimeIntegration.py:docstring of proteus.TimeIntegration.LinearSSPRKintegration:5: WARNING: Block quote ends without a blank line; unexpected unindent.\n",
      "/home/cekees/proteus/linux2/lib/python2.7/site-packages/proteus/TimeIntegration.py:docstring of proteus.TimeIntegration.LinearSSPRKintegration:15: ERROR: Unexpected indentation.\n",
      "/home/cekees/proteus/linux2/lib/python2.7/site-packages/proteus/TimeIntegration.py:docstring of proteus.TimeIntegration.LinearSSPRKintegration:16: WARNING: Block quote ends without a blank line; unexpected unindent.\n",
      "/home/cekees/proteus/linux2/lib/python2.7/site-packages/proteus/TimeIntegration.py:docstring of proteus.TimeIntegration.LinearSSPRKintegration:24: WARNING: Definition list ends without a blank line; unexpected unindent.\n",
      "/home/cekees/proteus/linux2/lib/python2.7/site-packages/proteus/TimeIntegration.py:docstring of proteus.TimeIntegration.LinearSSPRKintegration.setCoefficients:18: WARNING: Definition list ends without a blank line; unexpected unindent.\n",
      "/home/cekees/proteus/linux2/lib/python2.7/site-packages/proteus/TimeIntegration.py:docstring of proteus.TimeIntegration.SSPRKPIintegration:24: WARNING: Block quote ends without a blank line; unexpected unindent.\n",
      "/home/cekees/proteus/linux2/lib/python2.7/site-packages/proteus/TimeIntegration.py:docstring of proteus.TimeIntegration.SSPRKPIintegration.setCoefficients:5: ERROR: Unexpected indentation.\n",
      "/home/cekees/proteus/linux2/lib/python2.7/site-packages/proteus/TimeIntegration.py:docstring of proteus.TimeIntegration.UnstructuredLimiter_base.initializeMeshInfo:5: WARNING: Block quote ends without a blank line; unexpected unindent.\n",
      "/home/cekees/proteus/linux2/lib/python2.7/site-packages/proteus/TimeIntegration.py:docstring of proteus.TimeIntegration.UnstructuredLimiter_base.initializeMeshInfo:8: ERROR: Unexpected indentation.\n",
      "/home/cekees/proteus/linux2/lib/python2.7/site-packages/proteus/TimeIntegration.py:docstring of proteus.TimeIntegration.UnstructuredLimiter_base.initializeMeshInfo:9: WARNING: Block quote ends without a blank line; unexpected unindent.\n",
      "/home/cekees/proteus/linux2/lib/python2.7/site-packages/proteus/TimeIntegration.py:docstring of proteus.TimeIntegration.UnstructuredLimiter_base.initializeMeshInfo:11: WARNING: Block quote ends without a blank line; unexpected unindent.\n",
      "/home/cekees/proteus/linux2/lib/python2.7/site-packages/proteus/TimeIntegration.py:docstring of proteus.TimeIntegration.VBDF.computeErrorEstimate:2: WARNING: Block quote ends without a blank line; unexpected unindent.\n",
      "/home/cekees/proteus/linux2/lib/python2.7/site-packages/proteus/TimeIntegration.py:docstring of proteus.TimeIntegration.VBDF.computeErrorEstimate:8: WARNING: Definition list ends without a blank line; unexpected unindent.\n",
      "/home/cekees/proteus/linux2/lib/python2.7/site-packages/proteus/TimeIntegration.py:docstring of proteus.TimeIntegration.VBDF.computeErrorEstimate:10: ERROR: Unexpected indentation.\n",
      "/home/cekees/proteus/linux2/lib/python2.7/site-packages/proteus/TimeIntegration.py:docstring of proteus.TimeIntegration.VBDF.computeErrorEstimate:12: WARNING: Block quote ends without a blank line; unexpected unindent.\n",
      "/home/cekees/proteus/linux2/lib/python2.7/site-packages/proteus/TimeIntegration.py:docstring of proteus.TimeIntegration.VBDF.computeErrorEstimate:15: ERROR: Unexpected indentation.\n",
      "/home/cekees/proteus/linux2/lib/python2.7/site-packages/proteus/Tracking.py:docstring of proteus.Tracking.LinearAdvection_C0P1Velocity_PT123:3: WARNING: Definition list ends without a blank line; unexpected unindent.\n",
      "/home/cekees/proteus/linux2/lib/python2.7/site-packages/proteus/Tracking.py:docstring of proteus.Tracking.LinearAdvection_C0P1Velocity_PT123.backwardTrack:3: ERROR: Unexpected indentation.\n",
      "/home/cekees/proteus/linux2/lib/python2.7/site-packages/proteus/Tracking.py:docstring of proteus.Tracking.LinearAdvection_C0P1Velocity_PT123.backwardTrack:6: ERROR: Unexpected indentation.\n",
      "/home/cekees/proteus/linux2/lib/python2.7/site-packages/proteus/Tracking.py:docstring of proteus.Tracking.LinearAdvection_C0P1Velocity_PT123.backwardTrack:7: WARNING: Block quote ends without a blank line; unexpected unindent.\n",
      "/home/cekees/proteus/linux2/lib/python2.7/site-packages/proteus/Tracking.py:docstring of proteus.Tracking.LinearAdvection_C0P1Velocity_PT123.backwardTrack:9: WARNING: Block quote ends without a blank line; unexpected unindent.\n",
      "/home/cekees/proteus/linux2/lib/python2.7/site-packages/proteus/Tracking.py:docstring of proteus.Tracking.LinearAdvection_C0P1Velocity_PT123.backwardTrack:10: WARNING: Block quote ends without a blank line; unexpected unindent.\n",
      "/home/cekees/proteus/linux2/lib/python2.7/site-packages/proteus/Tracking.py:docstring of proteus.Tracking.LinearAdvection_C0P1Velocity_PT123.backwardTrack:11: WARNING: Block quote ends without a blank line; unexpected unindent.\n",
      "/home/cekees/proteus/linux2/lib/python2.7/site-packages/proteus/Tracking.py:docstring of proteus.Tracking.LinearAdvection_C0P1Velocity_PT123.forwardTrack:3: ERROR: Unexpected indentation.\n",
      "/home/cekees/proteus/linux2/lib/python2.7/site-packages/proteus/Tracking.py:docstring of proteus.Tracking.LinearAdvection_C0P1Velocity_PT123.forwardTrack:6: ERROR: Unexpected indentation.\n",
      "/home/cekees/proteus/linux2/lib/python2.7/site-packages/proteus/Tracking.py:docstring of proteus.Tracking.LinearAdvection_C0P1Velocity_PT123.forwardTrack:7: WARNING: Block quote ends without a blank line; unexpected unindent.\n",
      "/home/cekees/proteus/linux2/lib/python2.7/site-packages/proteus/Tracking.py:docstring of proteus.Tracking.LinearAdvection_C0P1Velocity_PT123.forwardTrack:9: WARNING: Block quote ends without a blank line; unexpected unindent.\n",
      "/home/cekees/proteus/linux2/lib/python2.7/site-packages/proteus/Tracking.py:docstring of proteus.Tracking.LinearAdvection_C0P1Velocity_PT123.forwardTrack:10: WARNING: Block quote ends without a blank line; unexpected unindent.\n",
      "/home/cekees/proteus/linux2/lib/python2.7/site-packages/proteus/Tracking.py:docstring of proteus.Tracking.LinearAdvection_C0P1Velocity_PT123A:4: WARNING: Definition list ends without a blank line; unexpected unindent.\n",
      "/home/cekees/proteus/linux2/lib/python2.7/site-packages/proteus/Tracking.py:docstring of proteus.Tracking.LinearAdvection_C0P1Velocity_PT123A.backwardTrack:3: ERROR: Unexpected indentation.\n",
      "/home/cekees/proteus/linux2/lib/python2.7/site-packages/proteus/Tracking.py:docstring of proteus.Tracking.LinearAdvection_C0P1Velocity_PT123A.backwardTrack:6: ERROR: Unexpected indentation.\n",
      "/home/cekees/proteus/linux2/lib/python2.7/site-packages/proteus/Tracking.py:docstring of proteus.Tracking.LinearAdvection_C0P1Velocity_PT123A.backwardTrack:7: WARNING: Block quote ends without a blank line; unexpected unindent.\n",
      "/home/cekees/proteus/linux2/lib/python2.7/site-packages/proteus/Tracking.py:docstring of proteus.Tracking.LinearAdvection_C0P1Velocity_PT123A.backwardTrack:9: WARNING: Block quote ends without a blank line; unexpected unindent.\n",
      "/home/cekees/proteus/linux2/lib/python2.7/site-packages/proteus/Tracking.py:docstring of proteus.Tracking.LinearAdvection_C0P1Velocity_PT123A.backwardTrack:10: WARNING: Block quote ends without a blank line; unexpected unindent.\n",
      "/home/cekees/proteus/linux2/lib/python2.7/site-packages/proteus/Tracking.py:docstring of proteus.Tracking.LinearAdvection_C0P1Velocity_PT123A.backwardTrack:11: WARNING: Block quote ends without a blank line; unexpected unindent.\n",
      "/home/cekees/proteus/linux2/lib/python2.7/site-packages/proteus/Tracking.py:docstring of proteus.Tracking.LinearAdvection_C0P1Velocity_PT123A.forwardTrack:3: ERROR: Unexpected indentation.\n",
      "/home/cekees/proteus/linux2/lib/python2.7/site-packages/proteus/Tracking.py:docstring of proteus.Tracking.LinearAdvection_C0P1Velocity_PT123A.forwardTrack:6: ERROR: Unexpected indentation.\n",
      "/home/cekees/proteus/linux2/lib/python2.7/site-packages/proteus/Tracking.py:docstring of proteus.Tracking.LinearAdvection_C0P1Velocity_PT123A.forwardTrack:7: WARNING: Block quote ends without a blank line; unexpected unindent.\n",
      "/home/cekees/proteus/linux2/lib/python2.7/site-packages/proteus/Tracking.py:docstring of proteus.Tracking.LinearAdvection_C0P1Velocity_PT123A.forwardTrack:9: WARNING: Block quote ends without a blank line; unexpected unindent.\n",
      "/home/cekees/proteus/linux2/lib/python2.7/site-packages/proteus/Tracking.py:docstring of proteus.Tracking.LinearAdvection_C0P1Velocity_PT123A.forwardTrack:10: WARNING: Block quote ends without a blank line; unexpected unindent.\n",
      "/home/cekees/proteus/linux2/lib/python2.7/site-packages/proteus/Tracking.py:docstring of proteus.Tracking.LinearAdvection_RT0Velocity_PT123:3: WARNING: Definition list ends without a blank line; unexpected unindent.\n",
      "/home/cekees/proteus/linux2/lib/python2.7/site-packages/proteus/Tracking.py:docstring of proteus.Tracking.LinearAdvection_RT0Velocity_PT123.backwardTrack:3: ERROR: Unexpected indentation.\n",
      "/home/cekees/proteus/linux2/lib/python2.7/site-packages/proteus/Tracking.py:docstring of proteus.Tracking.LinearAdvection_RT0Velocity_PT123.backwardTrack:6: ERROR: Unexpected indentation.\n",
      "/home/cekees/proteus/linux2/lib/python2.7/site-packages/proteus/Tracking.py:docstring of proteus.Tracking.LinearAdvection_RT0Velocity_PT123.backwardTrack:7: WARNING: Block quote ends without a blank line; unexpected unindent.\n",
      "/home/cekees/proteus/linux2/lib/python2.7/site-packages/proteus/Tracking.py:docstring of proteus.Tracking.LinearAdvection_RT0Velocity_PT123.backwardTrack:9: WARNING: Block quote ends without a blank line; unexpected unindent.\n",
      "/home/cekees/proteus/linux2/lib/python2.7/site-packages/proteus/Tracking.py:docstring of proteus.Tracking.LinearAdvection_RT0Velocity_PT123.backwardTrack:10: WARNING: Block quote ends without a blank line; unexpected unindent.\n",
      "/home/cekees/proteus/linux2/lib/python2.7/site-packages/proteus/Tracking.py:docstring of proteus.Tracking.LinearAdvection_RT0Velocity_PT123.backwardTrack:11: WARNING: Block quote ends without a blank line; unexpected unindent.\n",
      "/home/cekees/proteus/linux2/lib/python2.7/site-packages/proteus/Tracking.py:docstring of proteus.Tracking.LinearAdvection_RT0Velocity_PT123.forwardTrack:3: ERROR: Unexpected indentation.\n",
      "/home/cekees/proteus/linux2/lib/python2.7/site-packages/proteus/Tracking.py:docstring of proteus.Tracking.LinearAdvection_RT0Velocity_PT123.forwardTrack:6: ERROR: Unexpected indentation.\n",
      "/home/cekees/proteus/linux2/lib/python2.7/site-packages/proteus/Tracking.py:docstring of proteus.Tracking.LinearAdvection_RT0Velocity_PT123.forwardTrack:7: WARNING: Block quote ends without a blank line; unexpected unindent.\n",
      "/home/cekees/proteus/linux2/lib/python2.7/site-packages/proteus/Tracking.py:docstring of proteus.Tracking.LinearAdvection_RT0Velocity_PT123.forwardTrack:9: WARNING: Block quote ends without a blank line; unexpected unindent.\n",
      "/home/cekees/proteus/linux2/lib/python2.7/site-packages/proteus/Tracking.py:docstring of proteus.Tracking.LinearAdvection_RT0Velocity_PT123.forwardTrack:10: WARNING: Block quote ends without a blank line; unexpected unindent.\n",
      "/home/cekees/proteus/linux2/lib/python2.7/site-packages/proteus/Tracking.py:docstring of proteus.Tracking.LinearAdvection_RT0Velocity_PT123A.backwardTrack:3: ERROR: Unexpected indentation.\n",
      "/home/cekees/proteus/linux2/lib/python2.7/site-packages/proteus/Tracking.py:docstring of proteus.Tracking.LinearAdvection_RT0Velocity_PT123A.backwardTrack:6: ERROR: Unexpected indentation.\n",
      "/home/cekees/proteus/linux2/lib/python2.7/site-packages/proteus/Tracking.py:docstring of proteus.Tracking.LinearAdvection_RT0Velocity_PT123A.backwardTrack:7: WARNING: Block quote ends without a blank line; unexpected unindent.\n",
      "/home/cekees/proteus/linux2/lib/python2.7/site-packages/proteus/Tracking.py:docstring of proteus.Tracking.LinearAdvection_RT0Velocity_PT123A.backwardTrack:9: WARNING: Block quote ends without a blank line; unexpected unindent.\n",
      "/home/cekees/proteus/linux2/lib/python2.7/site-packages/proteus/Tracking.py:docstring of proteus.Tracking.LinearAdvection_RT0Velocity_PT123A.backwardTrack:10: WARNING: Block quote ends without a blank line; unexpected unindent.\n",
      "/home/cekees/proteus/linux2/lib/python2.7/site-packages/proteus/Tracking.py:docstring of proteus.Tracking.LinearAdvection_RT0Velocity_PT123A.backwardTrack:11: WARNING: Block quote ends without a blank line; unexpected unindent.\n",
      "/home/cekees/proteus/linux2/lib/python2.7/site-packages/proteus/Tracking.py:docstring of proteus.Tracking.LinearAdvection_RT0Velocity_PT123A.forwardTrack:3: ERROR: Unexpected indentation.\n",
      "/home/cekees/proteus/linux2/lib/python2.7/site-packages/proteus/Tracking.py:docstring of proteus.Tracking.LinearAdvection_RT0Velocity_PT123A.forwardTrack:6: ERROR: Unexpected indentation.\n",
      "/home/cekees/proteus/linux2/lib/python2.7/site-packages/proteus/Tracking.py:docstring of proteus.Tracking.LinearAdvection_RT0Velocity_PT123A.forwardTrack:7: WARNING: Block quote ends without a blank line; unexpected unindent.\n",
      "/home/cekees/proteus/linux2/lib/python2.7/site-packages/proteus/Tracking.py:docstring of proteus.Tracking.LinearAdvection_RT0Velocity_PT123A.forwardTrack:9: WARNING: Block quote ends without a blank line; unexpected unindent.\n",
      "/home/cekees/proteus/linux2/lib/python2.7/site-packages/proteus/Tracking.py:docstring of proteus.Tracking.LinearAdvection_RT0Velocity_PT123A.forwardTrack:10: WARNING: Block quote ends without a blank line; unexpected unindent.\n",
      "/home/cekees/proteus/linux2/lib/python2.7/site-packages/proteus/Tracking.py:docstring of proteus.Tracking.Lu1Dex:20: WARNING: Block quote ends without a blank line; unexpected unindent.\n",
      "/home/cekees/proteus/linux2/lib/python2.7/site-packages/proteus/Tracking.py:docstring of proteus.Tracking.Lu1Dex:25: WARNING: Block quote ends without a blank line; unexpected unindent.\n",
      "/home/cekees/proteus/linux2/lib/python2.7/site-packages/proteus/Tracking.py:docstring of proteus.Tracking.Lu1Dex:28: WARNING: Block quote ends without a blank line; unexpected unindent.\n",
      "/home/cekees/proteus/linux2/lib/python2.7/site-packages/proteus/Tracking.py:docstring of proteus.Tracking.Lu1Dex:33: WARNING: Block quote ends without a blank line; unexpected unindent.\n",
      "/home/cekees/proteus/linux2/lib/python2.7/site-packages/proteus/Tracking.py:docstring of proteus.Tracking.SteadyState_LinearAdvection_C0P1Velocity_AnalyticalTracking_1d:3: ERROR: Unexpected indentation.\n",
      "/home/cekees/proteus/linux2/lib/python2.7/site-packages/proteus/Tracking.py:docstring of proteus.Tracking.SteadyState_LinearAdvection_C0P1Velocity_AnalyticalTracking_1d.backwardTrack:3: ERROR: Unexpected indentation.\n",
      "/home/cekees/proteus/linux2/lib/python2.7/site-packages/proteus/Tracking.py:docstring of proteus.Tracking.SteadyState_LinearAdvection_C0P1Velocity_AnalyticalTracking_1d.backwardTrack:6: ERROR: Unexpected indentation.\n",
      "/home/cekees/proteus/linux2/lib/python2.7/site-packages/proteus/Tracking.py:docstring of proteus.Tracking.SteadyState_LinearAdvection_C0P1Velocity_AnalyticalTracking_1d.backwardTrack:7: WARNING: Block quote ends without a blank line; unexpected unindent.\n",
      "/home/cekees/proteus/linux2/lib/python2.7/site-packages/proteus/Tracking.py:docstring of proteus.Tracking.SteadyState_LinearAdvection_C0P1Velocity_AnalyticalTracking_1d.backwardTrack:9: WARNING: Block quote ends without a blank line; unexpected unindent.\n",
      "/home/cekees/proteus/linux2/lib/python2.7/site-packages/proteus/Tracking.py:docstring of proteus.Tracking.SteadyState_LinearAdvection_C0P1Velocity_AnalyticalTracking_1d.backwardTrack:10: WARNING: Block quote ends without a blank line; unexpected unindent.\n",
      "/home/cekees/proteus/linux2/lib/python2.7/site-packages/proteus/Tracking.py:docstring of proteus.Tracking.SteadyState_LinearAdvection_C0P1Velocity_AnalyticalTracking_1d.forwardTrack:3: ERROR: Unexpected indentation.\n",
      "/home/cekees/proteus/linux2/lib/python2.7/site-packages/proteus/Tracking.py:docstring of proteus.Tracking.SteadyState_LinearAdvection_C0P1Velocity_AnalyticalTracking_1d.forwardTrack:6: ERROR: Unexpected indentation.\n",
      "/home/cekees/proteus/linux2/lib/python2.7/site-packages/proteus/Tracking.py:docstring of proteus.Tracking.SteadyState_LinearAdvection_C0P1Velocity_AnalyticalTracking_1d.forwardTrack:7: WARNING: Block quote ends without a blank line; unexpected unindent.\n",
      "/home/cekees/proteus/linux2/lib/python2.7/site-packages/proteus/Tracking.py:docstring of proteus.Tracking.SteadyState_LinearAdvection_C0P1Velocity_AnalyticalTracking_1d.forwardTrack:9: WARNING: Block quote ends without a blank line; unexpected unindent.\n",
      "/home/cekees/proteus/linux2/lib/python2.7/site-packages/proteus/Tracking.py:docstring of proteus.Tracking.SteadyState_LinearAdvection_C0P1Velocity_AnalyticalTracking_1d.forwardTrack:10: WARNING: Block quote ends without a blank line; unexpected unindent.\n",
      "/home/cekees/proteus/linux2/lib/python2.7/site-packages/proteus/Tracking.py:docstring of proteus.Tracking.SteadyState_LinearAdvection_C0P1Velocity_PT123.backwardTrack:3: ERROR: Unexpected indentation.\n",
      "/home/cekees/proteus/linux2/lib/python2.7/site-packages/proteus/Tracking.py:docstring of proteus.Tracking.SteadyState_LinearAdvection_C0P1Velocity_PT123.backwardTrack:6: ERROR: Unexpected indentation.\n",
      "/home/cekees/proteus/linux2/lib/python2.7/site-packages/proteus/Tracking.py:docstring of proteus.Tracking.SteadyState_LinearAdvection_C0P1Velocity_PT123.backwardTrack:7: WARNING: Block quote ends without a blank line; unexpected unindent.\n",
      "/home/cekees/proteus/linux2/lib/python2.7/site-packages/proteus/Tracking.py:docstring of proteus.Tracking.SteadyState_LinearAdvection_C0P1Velocity_PT123.backwardTrack:9: WARNING: Block quote ends without a blank line; unexpected unindent.\n",
      "/home/cekees/proteus/linux2/lib/python2.7/site-packages/proteus/Tracking.py:docstring of proteus.Tracking.SteadyState_LinearAdvection_C0P1Velocity_PT123.backwardTrack:10: WARNING: Block quote ends without a blank line; unexpected unindent.\n",
      "/home/cekees/proteus/linux2/lib/python2.7/site-packages/proteus/Tracking.py:docstring of proteus.Tracking.SteadyState_LinearAdvection_C0P1Velocity_PT123.backwardTrack:11: WARNING: Block quote ends without a blank line; unexpected unindent.\n",
      "/home/cekees/proteus/linux2/lib/python2.7/site-packages/proteus/Tracking.py:docstring of proteus.Tracking.SteadyState_LinearAdvection_C0P1Velocity_PT123.forwardTrack:3: ERROR: Unexpected indentation.\n",
      "/home/cekees/proteus/linux2/lib/python2.7/site-packages/proteus/Tracking.py:docstring of proteus.Tracking.SteadyState_LinearAdvection_C0P1Velocity_PT123.forwardTrack:6: ERROR: Unexpected indentation.\n",
      "/home/cekees/proteus/linux2/lib/python2.7/site-packages/proteus/Tracking.py:docstring of proteus.Tracking.SteadyState_LinearAdvection_C0P1Velocity_PT123.forwardTrack:7: WARNING: Block quote ends without a blank line; unexpected unindent.\n",
      "/home/cekees/proteus/linux2/lib/python2.7/site-packages/proteus/Tracking.py:docstring of proteus.Tracking.SteadyState_LinearAdvection_C0P1Velocity_PT123.forwardTrack:9: WARNING: Block quote ends without a blank line; unexpected unindent.\n",
      "/home/cekees/proteus/linux2/lib/python2.7/site-packages/proteus/Tracking.py:docstring of proteus.Tracking.SteadyState_LinearAdvection_C0P1Velocity_PT123.forwardTrack:10: WARNING: Block quote ends without a blank line; unexpected unindent.\n",
      "/home/cekees/proteus/linux2/lib/python2.7/site-packages/proteus/Tracking.py:docstring of proteus.Tracking.SteadyState_LinearAdvection_RT0Velocity_AnalyticalTracking_2d:3: ERROR: Unexpected indentation.\n",
      "/home/cekees/proteus/linux2/lib/python2.7/site-packages/proteus/Tracking.py:docstring of proteus.Tracking.SteadyState_LinearAdvection_RT0Velocity_AnalyticalTracking_2d.backwardTrack:3: ERROR: Unexpected indentation.\n",
      "/home/cekees/proteus/linux2/lib/python2.7/site-packages/proteus/Tracking.py:docstring of proteus.Tracking.SteadyState_LinearAdvection_RT0Velocity_AnalyticalTracking_2d.backwardTrack:6: ERROR: Unexpected indentation.\n",
      "/home/cekees/proteus/linux2/lib/python2.7/site-packages/proteus/Tracking.py:docstring of proteus.Tracking.SteadyState_LinearAdvection_RT0Velocity_AnalyticalTracking_2d.backwardTrack:7: WARNING: Block quote ends without a blank line; unexpected unindent.\n",
      "/home/cekees/proteus/linux2/lib/python2.7/site-packages/proteus/Tracking.py:docstring of proteus.Tracking.SteadyState_LinearAdvection_RT0Velocity_AnalyticalTracking_2d.backwardTrack:9: WARNING: Block quote ends without a blank line; unexpected unindent.\n",
      "/home/cekees/proteus/linux2/lib/python2.7/site-packages/proteus/Tracking.py:docstring of proteus.Tracking.SteadyState_LinearAdvection_RT0Velocity_AnalyticalTracking_2d.backwardTrack:10: WARNING: Block quote ends without a blank line; unexpected unindent.\n",
      "/home/cekees/proteus/linux2/lib/python2.7/site-packages/proteus/Tracking.py:docstring of proteus.Tracking.SteadyState_LinearAdvection_RT0Velocity_AnalyticalTracking_2d.forwardTrack:3: ERROR: Unexpected indentation.\n",
      "/home/cekees/proteus/linux2/lib/python2.7/site-packages/proteus/Tracking.py:docstring of proteus.Tracking.SteadyState_LinearAdvection_RT0Velocity_AnalyticalTracking_2d.forwardTrack:6: ERROR: Unexpected indentation.\n",
      "/home/cekees/proteus/linux2/lib/python2.7/site-packages/proteus/Tracking.py:docstring of proteus.Tracking.SteadyState_LinearAdvection_RT0Velocity_AnalyticalTracking_2d.forwardTrack:7: WARNING: Block quote ends without a blank line; unexpected unindent.\n",
      "/home/cekees/proteus/linux2/lib/python2.7/site-packages/proteus/Tracking.py:docstring of proteus.Tracking.SteadyState_LinearAdvection_RT0Velocity_AnalyticalTracking_2d.forwardTrack:9: WARNING: Block quote ends without a blank line; unexpected unindent.\n",
      "/home/cekees/proteus/linux2/lib/python2.7/site-packages/proteus/Tracking.py:docstring of proteus.Tracking.SteadyState_LinearAdvection_RT0Velocity_AnalyticalTracking_2d.forwardTrack:10: WARNING: Block quote ends without a blank line; unexpected unindent.\n",
      "/home/cekees/proteus/linux2/lib/python2.7/site-packages/proteus/Tracking.py:docstring of proteus.Tracking.SteadyState_LinearAdvection_RT0Velocity_PT123.backwardTrack:3: ERROR: Unexpected indentation.\n",
      "/home/cekees/proteus/linux2/lib/python2.7/site-packages/proteus/Tracking.py:docstring of proteus.Tracking.SteadyState_LinearAdvection_RT0Velocity_PT123.backwardTrack:6: ERROR: Unexpected indentation.\n",
      "/home/cekees/proteus/linux2/lib/python2.7/site-packages/proteus/Tracking.py:docstring of proteus.Tracking.SteadyState_LinearAdvection_RT0Velocity_PT123.backwardTrack:7: WARNING: Block quote ends without a blank line; unexpected unindent.\n",
      "/home/cekees/proteus/linux2/lib/python2.7/site-packages/proteus/Tracking.py:docstring of proteus.Tracking.SteadyState_LinearAdvection_RT0Velocity_PT123.backwardTrack:9: WARNING: Block quote ends without a blank line; unexpected unindent.\n",
      "/home/cekees/proteus/linux2/lib/python2.7/site-packages/proteus/Tracking.py:docstring of proteus.Tracking.SteadyState_LinearAdvection_RT0Velocity_PT123.backwardTrack:10: WARNING: Block quote ends without a blank line; unexpected unindent.\n",
      "/home/cekees/proteus/linux2/lib/python2.7/site-packages/proteus/Tracking.py:docstring of proteus.Tracking.SteadyState_LinearAdvection_RT0Velocity_PT123.backwardTrack:11: WARNING: Block quote ends without a blank line; unexpected unindent.\n",
      "/home/cekees/proteus/linux2/lib/python2.7/site-packages/proteus/Tracking.py:docstring of proteus.Tracking.SteadyState_LinearAdvection_RT0Velocity_PT123.forwardTrack:3: ERROR: Unexpected indentation.\n",
      "/home/cekees/proteus/linux2/lib/python2.7/site-packages/proteus/Tracking.py:docstring of proteus.Tracking.SteadyState_LinearAdvection_RT0Velocity_PT123.forwardTrack:6: ERROR: Unexpected indentation.\n",
      "/home/cekees/proteus/linux2/lib/python2.7/site-packages/proteus/Tracking.py:docstring of proteus.Tracking.SteadyState_LinearAdvection_RT0Velocity_PT123.forwardTrack:7: WARNING: Block quote ends without a blank line; unexpected unindent.\n",
      "/home/cekees/proteus/linux2/lib/python2.7/site-packages/proteus/Tracking.py:docstring of proteus.Tracking.SteadyState_LinearAdvection_RT0Velocity_PT123.forwardTrack:9: WARNING: Block quote ends without a blank line; unexpected unindent.\n",
      "/home/cekees/proteus/linux2/lib/python2.7/site-packages/proteus/Tracking.py:docstring of proteus.Tracking.SteadyState_LinearAdvection_RT0Velocity_PT123.forwardTrack:10: WARNING: Block quote ends without a blank line; unexpected unindent.\n",
      "/home/cekees/proteus/linux2/lib/python2.7/site-packages/proteus/Tracking.py:docstring of proteus.Tracking.SteadyState_LinearAdvection_RT0Velocity_PT123A.backwardTrack:3: ERROR: Unexpected indentation.\n",
      "/home/cekees/proteus/linux2/lib/python2.7/site-packages/proteus/Tracking.py:docstring of proteus.Tracking.SteadyState_LinearAdvection_RT0Velocity_PT123A.backwardTrack:6: ERROR: Unexpected indentation.\n",
      "/home/cekees/proteus/linux2/lib/python2.7/site-packages/proteus/Tracking.py:docstring of proteus.Tracking.SteadyState_LinearAdvection_RT0Velocity_PT123A.backwardTrack:7: WARNING: Block quote ends without a blank line; unexpected unindent.\n",
      "/home/cekees/proteus/linux2/lib/python2.7/site-packages/proteus/Tracking.py:docstring of proteus.Tracking.SteadyState_LinearAdvection_RT0Velocity_PT123A.backwardTrack:9: WARNING: Block quote ends without a blank line; unexpected unindent.\n",
      "/home/cekees/proteus/linux2/lib/python2.7/site-packages/proteus/Tracking.py:docstring of proteus.Tracking.SteadyState_LinearAdvection_RT0Velocity_PT123A.backwardTrack:10: WARNING: Block quote ends without a blank line; unexpected unindent.\n",
      "/home/cekees/proteus/linux2/lib/python2.7/site-packages/proteus/Tracking.py:docstring of proteus.Tracking.SteadyState_LinearAdvection_RT0Velocity_PT123A.backwardTrack:11: WARNING: Block quote ends without a blank line; unexpected unindent.\n",
      "/home/cekees/proteus/linux2/lib/python2.7/site-packages/proteus/Tracking.py:docstring of proteus.Tracking.SteadyState_LinearAdvection_RT0Velocity_PT123A.forwardTrack:3: ERROR: Unexpected indentation.\n",
      "/home/cekees/proteus/linux2/lib/python2.7/site-packages/proteus/Tracking.py:docstring of proteus.Tracking.SteadyState_LinearAdvection_RT0Velocity_PT123A.forwardTrack:6: ERROR: Unexpected indentation.\n",
      "/home/cekees/proteus/linux2/lib/python2.7/site-packages/proteus/Tracking.py:docstring of proteus.Tracking.SteadyState_LinearAdvection_RT0Velocity_PT123A.forwardTrack:7: WARNING: Block quote ends without a blank line; unexpected unindent.\n",
      "/home/cekees/proteus/linux2/lib/python2.7/site-packages/proteus/Tracking.py:docstring of proteus.Tracking.SteadyState_LinearAdvection_RT0Velocity_PT123A.forwardTrack:9: WARNING: Block quote ends without a blank line; unexpected unindent.\n",
      "/home/cekees/proteus/linux2/lib/python2.7/site-packages/proteus/Tracking.py:docstring of proteus.Tracking.SteadyState_LinearAdvection_RT0Velocity_PT123A.forwardTrack:10: WARNING: Block quote ends without a blank line; unexpected unindent.\n",
      "/home/cekees/proteus/linux2/lib/python2.7/site-packages/proteus/Tracking.py:docstring of proteus.Tracking.Tracking_Base.backwardTrack:3: ERROR: Unexpected indentation.\n",
      "/home/cekees/proteus/linux2/lib/python2.7/site-packages/proteus/Tracking.py:docstring of proteus.Tracking.Tracking_Base.backwardTrack:6: ERROR: Unexpected indentation.\n",
      "/home/cekees/proteus/linux2/lib/python2.7/site-packages/proteus/Tracking.py:docstring of proteus.Tracking.Tracking_Base.backwardTrack:7: WARNING: Block quote ends without a blank line; unexpected unindent.\n",
      "/home/cekees/proteus/linux2/lib/python2.7/site-packages/proteus/Tracking.py:docstring of proteus.Tracking.Tracking_Base.backwardTrack:9: WARNING: Block quote ends without a blank line; unexpected unindent.\n",
      "/home/cekees/proteus/linux2/lib/python2.7/site-packages/proteus/Tracking.py:docstring of proteus.Tracking.Tracking_Base.backwardTrack:10: WARNING: Block quote ends without a blank line; unexpected unindent.\n",
      "/home/cekees/proteus/linux2/lib/python2.7/site-packages/proteus/Tracking.py:docstring of proteus.Tracking.Tracking_Base.forwardTrack:3: ERROR: Unexpected indentation.\n",
      "/home/cekees/proteus/linux2/lib/python2.7/site-packages/proteus/Tracking.py:docstring of proteus.Tracking.Tracking_Base.forwardTrack:6: ERROR: Unexpected indentation.\n",
      "/home/cekees/proteus/linux2/lib/python2.7/site-packages/proteus/Tracking.py:docstring of proteus.Tracking.Tracking_Base.forwardTrack:7: WARNING: Block quote ends without a blank line; unexpected unindent.\n",
      "/home/cekees/proteus/linux2/lib/python2.7/site-packages/proteus/Tracking.py:docstring of proteus.Tracking.Tracking_Base.forwardTrack:9: WARNING: Block quote ends without a blank line; unexpected unindent.\n",
      "/home/cekees/proteus/linux2/lib/python2.7/site-packages/proteus/Tracking.py:docstring of proteus.Tracking.Tracking_Base.forwardTrack:10: WARNING: Block quote ends without a blank line; unexpected unindent.\n",
      "/home/cekees/proteus/linux2/lib/python2.7/site-packages/proteus/Tracking.py:docstring of proteus.Tracking.evaluateVelocity_RT0:7: ERROR: Unexpected indentation.\n",
      "/home/cekees/proteus/linux2/lib/python2.7/site-packages/proteus/Tracking.py:docstring of proteus.Tracking.evaluateVelocity_RT0:15: WARNING: Block quote ends without a blank line; unexpected unindent.\n",
      "/home/cekees/proteus/linux2/lib/python2.7/site-packages/proteus/Tracking.py:docstring of proteus.Tracking.setupVelocity_RT0:8: ERROR: Unexpected indentation.\n",
      "/home/cekees/proteus/linux2/lib/python2.7/site-packages/proteus/Tracking.py:docstring of proteus.Tracking.setupVelocity_RT0:16: WARNING: Block quote ends without a blank line; unexpected unindent.\n",
      "/home/cekees/proteus/linux2/lib/python2.7/site-packages/proteus/TransportCoefficients.py:docstring of proteus.TransportCoefficients.BuckleyLeverettLiuExample:4: WARNING: Block quote ends without a blank line; unexpected unindent.\n",
      "/home/cekees/proteus/linux2/lib/python2.7/site-packages/proteus/TransportCoefficients.py:docstring of proteus.TransportCoefficients.CLevelSetCoefficients.EikonalSolver:3: ERROR: Unexpected indentation.\n",
      "/home/cekees/proteus/linux2/lib/python2.7/site-packages/proteus/TransportCoefficients.py:docstring of proteus.TransportCoefficients.CLevelSetCoefficients.FMMEikonalSolver:9: ERROR: Unexpected indentation.\n",
      "/home/cekees/proteus/linux2/lib/python2.7/site-packages/proteus/TransportCoefficients.py:docstring of proteus.TransportCoefficients.CLevelSetCoefficients.FMMEikonalSolver:11: WARNING: Block quote ends without a blank line; unexpected unindent.\n",
      "/home/cekees/proteus/linux2/lib/python2.7/site-packages/proteus/TransportCoefficients.py:docstring of proteus.TransportCoefficients.CLevelSetCoefficients.FMMEikonalSolver:15: ERROR: Unexpected indentation.\n",
      "/home/cekees/proteus/linux2/lib/python2.7/site-packages/proteus/TransportCoefficients.py:docstring of proteus.TransportCoefficients.CLevelSetCoefficients.FMMEikonalSolver.solve:4: WARNING: Block quote ends without a blank line; unexpected unindent.\n",
      "/home/cekees/proteus/linux2/lib/python2.7/site-packages/proteus/TransportCoefficients.py:docstring of proteus.TransportCoefficients.CLevelSetCoefficients.FMMEikonalSolver.solve:22: WARNING: Block quote ends without a blank line; unexpected unindent.\n",
      "/home/cekees/proteus/linux2/lib/python2.7/site-packages/proteus/TransportCoefficients.py:docstring of proteus.TransportCoefficients.CLevelSetCoefficients.FMMEikonalSolver.solve:31: WARNING: Definition list ends without a blank line; unexpected unindent.\n",
      "/home/cekees/proteus/linux2/lib/python2.7/site-packages/proteus/TransportCoefficients.py:docstring of proteus.TransportCoefficients.CLevelSetCoefficients.FSWEikonalSolver:9: ERROR: Unexpected indentation.\n",
      "/home/cekees/proteus/linux2/lib/python2.7/site-packages/proteus/TransportCoefficients.py:docstring of proteus.TransportCoefficients.CLevelSetCoefficients.FSWEikonalSolver:11: WARNING: Block quote ends without a blank line; unexpected unindent.\n",
      "/home/cekees/proteus/linux2/lib/python2.7/site-packages/proteus/TransportCoefficients.py:docstring of proteus.TransportCoefficients.CLevelSetCoefficients.FSWEikonalSolver:16: ERROR: Unexpected indentation.\n",
      "/home/cekees/proteus/linux2/lib/python2.7/site-packages/proteus/TransportCoefficients.py:docstring of proteus.TransportCoefficients.CLevelSetCoefficients.FSWEikonalSolver.solve:4: WARNING: Block quote ends without a blank line; unexpected unindent.\n",
      "/home/cekees/proteus/linux2/lib/python2.7/site-packages/proteus/TransportCoefficients.py:docstring of proteus.TransportCoefficients.CLevelSetCoefficients.FSWEikonalSolver.solve:22: WARNING: Block quote ends without a blank line; unexpected unindent.\n",
      "/home/cekees/proteus/linux2/lib/python2.7/site-packages/proteus/TransportCoefficients.py:docstring of proteus.TransportCoefficients.NCLevelSetCoefficients.EikonalSolver:3: ERROR: Unexpected indentation.\n",
      "/home/cekees/proteus/linux2/lib/python2.7/site-packages/proteus/TransportCoefficients.py:docstring of proteus.TransportCoefficients.NCLevelSetCoefficients.FMMEikonalSolver:9: ERROR: Unexpected indentation.\n",
      "/home/cekees/proteus/linux2/lib/python2.7/site-packages/proteus/TransportCoefficients.py:docstring of proteus.TransportCoefficients.NCLevelSetCoefficients.FMMEikonalSolver:11: WARNING: Block quote ends without a blank line; unexpected unindent.\n",
      "/home/cekees/proteus/linux2/lib/python2.7/site-packages/proteus/TransportCoefficients.py:docstring of proteus.TransportCoefficients.NCLevelSetCoefficients.FMMEikonalSolver:15: ERROR: Unexpected indentation.\n",
      "/home/cekees/proteus/linux2/lib/python2.7/site-packages/proteus/TransportCoefficients.py:docstring of proteus.TransportCoefficients.NCLevelSetCoefficients.FMMEikonalSolver.solve:4: WARNING: Block quote ends without a blank line; unexpected unindent.\n",
      "/home/cekees/proteus/linux2/lib/python2.7/site-packages/proteus/TransportCoefficients.py:docstring of proteus.TransportCoefficients.NCLevelSetCoefficients.FMMEikonalSolver.solve:22: WARNING: Block quote ends without a blank line; unexpected unindent.\n",
      "/home/cekees/proteus/linux2/lib/python2.7/site-packages/proteus/TransportCoefficients.py:docstring of proteus.TransportCoefficients.NCLevelSetCoefficients.FMMEikonalSolver.solve:31: WARNING: Definition list ends without a blank line; unexpected unindent.\n",
      "/home/cekees/proteus/linux2/lib/python2.7/site-packages/proteus/TransportCoefficients.py:docstring of proteus.TransportCoefficients.NCLevelSetCoefficients.FSWEikonalSolver:9: ERROR: Unexpected indentation.\n",
      "/home/cekees/proteus/linux2/lib/python2.7/site-packages/proteus/TransportCoefficients.py:docstring of proteus.TransportCoefficients.NCLevelSetCoefficients.FSWEikonalSolver:11: WARNING: Block quote ends without a blank line; unexpected unindent.\n",
      "/home/cekees/proteus/linux2/lib/python2.7/site-packages/proteus/TransportCoefficients.py:docstring of proteus.TransportCoefficients.NCLevelSetCoefficients.FSWEikonalSolver:16: ERROR: Unexpected indentation.\n",
      "/home/cekees/proteus/linux2/lib/python2.7/site-packages/proteus/TransportCoefficients.py:docstring of proteus.TransportCoefficients.NCLevelSetCoefficients.FSWEikonalSolver.solve:4: WARNING: Block quote ends without a blank line; unexpected unindent.\n",
      "/home/cekees/proteus/linux2/lib/python2.7/site-packages/proteus/TransportCoefficients.py:docstring of proteus.TransportCoefficients.NCLevelSetCoefficients.FSWEikonalSolver.solve:22: WARNING: Block quote ends without a blank line; unexpected unindent.\n",
      "/home/cekees/proteus/linux2/lib/python2.7/site-packages/proteus/TransportCoefficients.py:docstring of proteus.TransportCoefficients.ShallowWater:5: WARNING: Block quote ends without a blank line; unexpected unindent.\n",
      "/home/cekees/proteus/linux2/lib/python2.7/site-packages/proteus/TransportCoefficients.py:docstring of proteus.TransportCoefficients.ShallowWater:8: WARNING: Definition list ends without a blank line; unexpected unindent.\n",
      "/home/cekees/proteus/linux2/lib/python2.7/site-packages/proteus/TransportCoefficients.py:docstring of proteus.TransportCoefficients.ShallowWater:11: ERROR: Unexpected indentation.\n",
      "/home/cekees/proteus/linux2/lib/python2.7/site-packages/proteus/TransportCoefficients.py:docstring of proteus.TransportCoefficients.VOFCoefficients.EikonalSolver:3: ERROR: Unexpected indentation.\n",
      "/home/cekees/proteus/linux2/lib/python2.7/site-packages/proteus/TransportCoefficients.py:docstring of proteus.TransportCoefficients.VOFCoefficients.FMMEikonalSolver:9: ERROR: Unexpected indentation.\n",
      "/home/cekees/proteus/linux2/lib/python2.7/site-packages/proteus/TransportCoefficients.py:docstring of proteus.TransportCoefficients.VOFCoefficients.FMMEikonalSolver:11: WARNING: Block quote ends without a blank line; unexpected unindent.\n",
      "/home/cekees/proteus/linux2/lib/python2.7/site-packages/proteus/TransportCoefficients.py:docstring of proteus.TransportCoefficients.VOFCoefficients.FMMEikonalSolver:15: ERROR: Unexpected indentation.\n",
      "/home/cekees/proteus/linux2/lib/python2.7/site-packages/proteus/TransportCoefficients.py:docstring of proteus.TransportCoefficients.VOFCoefficients.FMMEikonalSolver.solve:4: WARNING: Block quote ends without a blank line; unexpected unindent.\n",
      "/home/cekees/proteus/linux2/lib/python2.7/site-packages/proteus/TransportCoefficients.py:docstring of proteus.TransportCoefficients.VOFCoefficients.FMMEikonalSolver.solve:22: WARNING: Block quote ends without a blank line; unexpected unindent.\n",
      "/home/cekees/proteus/linux2/lib/python2.7/site-packages/proteus/TransportCoefficients.py:docstring of proteus.TransportCoefficients.VOFCoefficients.FMMEikonalSolver.solve:31: WARNING: Definition list ends without a blank line; unexpected unindent.\n",
      "/home/cekees/proteus/linux2/lib/python2.7/site-packages/proteus/TransportCoefficients.py:docstring of proteus.TransportCoefficients.VOFCoefficients.FSWEikonalSolver:9: ERROR: Unexpected indentation.\n",
      "/home/cekees/proteus/linux2/lib/python2.7/site-packages/proteus/TransportCoefficients.py:docstring of proteus.TransportCoefficients.VOFCoefficients.FSWEikonalSolver:11: WARNING: Block quote ends without a blank line; unexpected unindent.\n",
      "/home/cekees/proteus/linux2/lib/python2.7/site-packages/proteus/TransportCoefficients.py:docstring of proteus.TransportCoefficients.VOFCoefficients.FSWEikonalSolver:16: ERROR: Unexpected indentation.\n",
      "/home/cekees/proteus/linux2/lib/python2.7/site-packages/proteus/TransportCoefficients.py:docstring of proteus.TransportCoefficients.VOFCoefficients.FSWEikonalSolver.solve:4: WARNING: Block quote ends without a blank line; unexpected unindent.\n",
      "/home/cekees/proteus/linux2/lib/python2.7/site-packages/proteus/TransportCoefficients.py:docstring of proteus.TransportCoefficients.VOFCoefficients.FSWEikonalSolver.solve:22: WARNING: Block quote ends without a blank line; unexpected unindent.\n",
      "/home/cekees/proteus/linux2/lib/python2.7/site-packages/proteus/TransportCoefficients.py:docstring of proteus.TransportCoefficients.kEpsilon:24: ERROR: Unexpected indentation.\n",
      "/home/cekees/proteus/linux2/lib/python2.7/site-packages/proteus/TransportCoefficients.py:docstring of proteus.TransportCoefficients.kEpsilon:25: WARNING: Block quote ends without a blank line; unexpected unindent.\n",
      "/home/cekees/proteus/linux2/lib/python2.7/site-packages/proteus/TransportCoefficients.py:docstring of proteus.TransportCoefficients.kEpsilon:28: ERROR: Unexpected indentation.\n",
      "/home/cekees/proteus/linux2/lib/python2.7/site-packages/proteus/TransportCoefficients.py:docstring of proteus.TransportCoefficients.kEpsilon:29: WARNING: Block quote ends without a blank line; unexpected unindent.\n",
      "/home/cekees/proteus/linux2/lib/python2.7/site-packages/proteus/TransportCoefficients.py:docstring of proteus.TransportCoefficients.kEpsilon:34: WARNING: Block quote ends without a blank line; unexpected unindent.\n",
      "/home/cekees/proteus/linux2/lib/python2.7/site-packages/proteus/TransportCoefficients.py:docstring of proteus.TransportCoefficients.kEpsilon:46: ERROR: Unexpected indentation.\n",
      "/home/cekees/proteus/linux2/lib/python2.7/site-packages/proteus/TransportCoefficients.py:docstring of proteus.TransportCoefficients.kEpsilon:47: WARNING: Block quote ends without a blank line; unexpected unindent.\n",
      "/home/cekees/proteus/linux2/lib/python2.7/site-packages/proteus/TransportCoefficients.py:docstring of proteus.TransportCoefficients.kEpsilon:56: ERROR: Unexpected indentation.\n",
      "/home/cekees/proteus/linux2/lib/python2.7/site-packages/proteus/TransportCoefficients.py:docstring of proteus.TransportCoefficients.kEpsilon:57: WARNING: Block quote ends without a blank line; unexpected unindent.\n",
      "/home/cekees/proteus/linux2/lib/python2.7/site-packages/proteus/TransportCoefficients.py:docstring of proteus.TransportCoefficients.kEpsilon:62: ERROR: Unexpected indentation.\n",
      "/home/cekees/proteus/linux2/lib/python2.7/site-packages/proteus/TransportCoefficients.py:docstring of proteus.TransportCoefficients.kEpsilon:63: WARNING: Block quote ends without a blank line; unexpected unindent.\n",
      "/home/cekees/proteus/linux2/lib/python2.7/site-packages/proteus/TransportCoefficients.py:docstring of proteus.TransportCoefficients.kEpsilon:69: ERROR: Unexpected indentation.\n",
      "/home/cekees/proteus/linux2/lib/python2.7/site-packages/proteus/TransportCoefficients.py:docstring of proteus.TransportCoefficients.kEpsilon:70: WARNING: Block quote ends without a blank line; unexpected unindent.\n",
      "/home/cekees/proteus/linux2/lib/python2.7/site-packages/proteus/TransportCoefficients.py:docstring of proteus.TransportCoefficients.kEpsilon:77: ERROR: Unexpected indentation.\n",
      "/home/cekees/proteus/linux2/lib/python2.7/site-packages/proteus/TransportCoefficients.py:docstring of proteus.TransportCoefficients.kEpsilon:78: WARNING: Block quote ends without a blank line; unexpected unindent.\n",
      "/home/cekees/proteus/linux2/lib/python2.7/site-packages/proteus/TransportCoefficients.py:docstring of proteus.TransportCoefficients.kEpsilon:99: ERROR: Unexpected indentation.\n",
      "/home/cekees/proteus/linux2/lib/python2.7/site-packages/proteus/TransportCoefficients.py:docstring of proteus.TransportCoefficients.kEpsilon:100: WARNING: Block quote ends without a blank line; unexpected unindent.\n",
      "/home/cekees/proteus/linux2/lib/python2.7/site-packages/proteus/TransportCoefficients.py:docstring of proteus.TransportCoefficients.kEpsilon:102: WARNING: Definition list ends without a blank line; unexpected unindent.\n",
      "/home/cekees/proteus/linux2/lib/python2.7/site-packages/proteus/TransportCoefficients.py:docstring of proteus.TransportCoefficients.kEpsilon:106: ERROR: Unexpected indentation.\n",
      "/home/cekees/proteus/linux2/lib/python2.7/site-packages/proteus/TransportCoefficients.py:docstring of proteus.TransportCoefficients.kEpsilon:107: WARNING: Block quote ends without a blank line; unexpected unindent.\n",
      "/home/cekees/proteus/linux2/lib/python2.7/site-packages/proteus/TransportCoefficients.py:docstring of proteus.TransportCoefficients.kEpsilon:109: WARNING: Definition list ends without a blank line; unexpected unindent.\n",
      "/home/cekees/proteus/linux2/lib/python2.7/site-packages/proteus/TransportCoefficients.py:docstring of proteus.TransportCoefficients.kEpsilon_epsilon:25: ERROR: Unexpected indentation.\n",
      "/home/cekees/proteus/linux2/lib/python2.7/site-packages/proteus/TransportCoefficients.py:docstring of proteus.TransportCoefficients.kEpsilon_epsilon:26: WARNING: Block quote ends without a blank line; unexpected unindent.\n",
      "/home/cekees/proteus/linux2/lib/python2.7/site-packages/proteus/TransportCoefficients.py:docstring of proteus.TransportCoefficients.kEpsilon_epsilon:29: ERROR: Unexpected indentation.\n",
      "/home/cekees/proteus/linux2/lib/python2.7/site-packages/proteus/TransportCoefficients.py:docstring of proteus.TransportCoefficients.kEpsilon_epsilon:30: WARNING: Block quote ends without a blank line; unexpected unindent.\n",
      "/home/cekees/proteus/linux2/lib/python2.7/site-packages/proteus/TransportCoefficients.py:docstring of proteus.TransportCoefficients.kEpsilon_epsilon:35: WARNING: Block quote ends without a blank line; unexpected unindent.\n",
      "/home/cekees/proteus/linux2/lib/python2.7/site-packages/proteus/TransportCoefficients.py:docstring of proteus.TransportCoefficients.kEpsilon_epsilon:47: ERROR: Unexpected indentation.\n",
      "/home/cekees/proteus/linux2/lib/python2.7/site-packages/proteus/TransportCoefficients.py:docstring of proteus.TransportCoefficients.kEpsilon_epsilon:48: WARNING: Block quote ends without a blank line; unexpected unindent.\n",
      "/home/cekees/proteus/linux2/lib/python2.7/site-packages/proteus/TransportCoefficients.py:docstring of proteus.TransportCoefficients.kEpsilon_epsilon:57: ERROR: Unexpected indentation.\n",
      "/home/cekees/proteus/linux2/lib/python2.7/site-packages/proteus/TransportCoefficients.py:docstring of proteus.TransportCoefficients.kEpsilon_epsilon:58: WARNING: Block quote ends without a blank line; unexpected unindent.\n",
      "/home/cekees/proteus/linux2/lib/python2.7/site-packages/proteus/TransportCoefficients.py:docstring of proteus.TransportCoefficients.kEpsilon_epsilon:63: ERROR: Unexpected indentation.\n",
      "/home/cekees/proteus/linux2/lib/python2.7/site-packages/proteus/TransportCoefficients.py:docstring of proteus.TransportCoefficients.kEpsilon_epsilon:64: WARNING: Block quote ends without a blank line; unexpected unindent.\n",
      "/home/cekees/proteus/linux2/lib/python2.7/site-packages/proteus/TransportCoefficients.py:docstring of proteus.TransportCoefficients.kEpsilon_epsilon:70: ERROR: Unexpected indentation.\n",
      "/home/cekees/proteus/linux2/lib/python2.7/site-packages/proteus/TransportCoefficients.py:docstring of proteus.TransportCoefficients.kEpsilon_epsilon:71: WARNING: Block quote ends without a blank line; unexpected unindent.\n",
      "/home/cekees/proteus/linux2/lib/python2.7/site-packages/proteus/TransportCoefficients.py:docstring of proteus.TransportCoefficients.kEpsilon_epsilon:78: ERROR: Unexpected indentation.\n",
      "/home/cekees/proteus/linux2/lib/python2.7/site-packages/proteus/TransportCoefficients.py:docstring of proteus.TransportCoefficients.kEpsilon_epsilon:79: WARNING: Block quote ends without a blank line; unexpected unindent.\n",
      "/home/cekees/proteus/linux2/lib/python2.7/site-packages/proteus/TransportCoefficients.py:docstring of proteus.TransportCoefficients.kEpsilon_epsilon:100: ERROR: Unexpected indentation.\n",
      "/home/cekees/proteus/linux2/lib/python2.7/site-packages/proteus/TransportCoefficients.py:docstring of proteus.TransportCoefficients.kEpsilon_epsilon:101: WARNING: Block quote ends without a blank line; unexpected unindent.\n",
      "/home/cekees/proteus/linux2/lib/python2.7/site-packages/proteus/TransportCoefficients.py:docstring of proteus.TransportCoefficients.kEpsilon_epsilon:103: WARNING: Definition list ends without a blank line; unexpected unindent.\n",
      "/home/cekees/proteus/linux2/lib/python2.7/site-packages/proteus/TransportCoefficients.py:docstring of proteus.TransportCoefficients.kEpsilon_epsilon:107: ERROR: Unexpected indentation.\n",
      "/home/cekees/proteus/linux2/lib/python2.7/site-packages/proteus/TransportCoefficients.py:docstring of proteus.TransportCoefficients.kEpsilon_epsilon:108: WARNING: Block quote ends without a blank line; unexpected unindent.\n",
      "/home/cekees/proteus/linux2/lib/python2.7/site-packages/proteus/TransportCoefficients.py:docstring of proteus.TransportCoefficients.kEpsilon_epsilon:110: WARNING: Definition list ends without a blank line; unexpected unindent.\n",
      "/home/cekees/proteus/linux2/lib/python2.7/site-packages/proteus/TransportCoefficients.py:docstring of proteus.TransportCoefficients.kEpsilon_k:25: ERROR: Unexpected indentation.\n",
      "/home/cekees/proteus/linux2/lib/python2.7/site-packages/proteus/TransportCoefficients.py:docstring of proteus.TransportCoefficients.kEpsilon_k:26: WARNING: Block quote ends without a blank line; unexpected unindent.\n",
      "/home/cekees/proteus/linux2/lib/python2.7/site-packages/proteus/TransportCoefficients.py:docstring of proteus.TransportCoefficients.kEpsilon_k:29: ERROR: Unexpected indentation.\n",
      "/home/cekees/proteus/linux2/lib/python2.7/site-packages/proteus/TransportCoefficients.py:docstring of proteus.TransportCoefficients.kEpsilon_k:30: WARNING: Block quote ends without a blank line; unexpected unindent.\n",
      "/home/cekees/proteus/linux2/lib/python2.7/site-packages/proteus/TransportCoefficients.py:docstring of proteus.TransportCoefficients.kEpsilon_k:35: WARNING: Block quote ends without a blank line; unexpected unindent.\n",
      "/home/cekees/proteus/linux2/lib/python2.7/site-packages/proteus/TransportCoefficients.py:docstring of proteus.TransportCoefficients.kEpsilon_k:47: ERROR: Unexpected indentation.\n",
      "/home/cekees/proteus/linux2/lib/python2.7/site-packages/proteus/TransportCoefficients.py:docstring of proteus.TransportCoefficients.kEpsilon_k:48: WARNING: Block quote ends without a blank line; unexpected unindent.\n",
      "/home/cekees/proteus/linux2/lib/python2.7/site-packages/proteus/TransportCoefficients.py:docstring of proteus.TransportCoefficients.kEpsilon_k:57: ERROR: Unexpected indentation.\n",
      "/home/cekees/proteus/linux2/lib/python2.7/site-packages/proteus/TransportCoefficients.py:docstring of proteus.TransportCoefficients.kEpsilon_k:58: WARNING: Block quote ends without a blank line; unexpected unindent.\n",
      "/home/cekees/proteus/linux2/lib/python2.7/site-packages/proteus/TransportCoefficients.py:docstring of proteus.TransportCoefficients.kEpsilon_k:63: ERROR: Unexpected indentation.\n",
      "/home/cekees/proteus/linux2/lib/python2.7/site-packages/proteus/TransportCoefficients.py:docstring of proteus.TransportCoefficients.kEpsilon_k:64: WARNING: Block quote ends without a blank line; unexpected unindent.\n",
      "/home/cekees/proteus/linux2/lib/python2.7/site-packages/proteus/TransportCoefficients.py:docstring of proteus.TransportCoefficients.kEpsilon_k:70: ERROR: Unexpected indentation.\n",
      "/home/cekees/proteus/linux2/lib/python2.7/site-packages/proteus/TransportCoefficients.py:docstring of proteus.TransportCoefficients.kEpsilon_k:71: WARNING: Block quote ends without a blank line; unexpected unindent.\n",
      "/home/cekees/proteus/linux2/lib/python2.7/site-packages/proteus/TransportCoefficients.py:docstring of proteus.TransportCoefficients.kEpsilon_k:78: ERROR: Unexpected indentation.\n",
      "/home/cekees/proteus/linux2/lib/python2.7/site-packages/proteus/TransportCoefficients.py:docstring of proteus.TransportCoefficients.kEpsilon_k:79: WARNING: Block quote ends without a blank line; unexpected unindent.\n",
      "/home/cekees/proteus/linux2/lib/python2.7/site-packages/proteus/TransportCoefficients.py:docstring of proteus.TransportCoefficients.kEpsilon_k:100: ERROR: Unexpected indentation.\n",
      "/home/cekees/proteus/linux2/lib/python2.7/site-packages/proteus/TransportCoefficients.py:docstring of proteus.TransportCoefficients.kEpsilon_k:101: WARNING: Block quote ends without a blank line; unexpected unindent.\n",
      "/home/cekees/proteus/linux2/lib/python2.7/site-packages/proteus/TransportCoefficients.py:docstring of proteus.TransportCoefficients.kEpsilon_k:103: WARNING: Definition list ends without a blank line; unexpected unindent.\n",
      "/home/cekees/proteus/linux2/lib/python2.7/site-packages/proteus/TransportCoefficients.py:docstring of proteus.TransportCoefficients.kEpsilon_k:107: ERROR: Unexpected indentation.\n",
      "/home/cekees/proteus/linux2/lib/python2.7/site-packages/proteus/TransportCoefficients.py:docstring of proteus.TransportCoefficients.kEpsilon_k:108: WARNING: Block quote ends without a blank line; unexpected unindent.\n",
      "/home/cekees/proteus/linux2/lib/python2.7/site-packages/proteus/TransportCoefficients.py:docstring of proteus.TransportCoefficients.kEpsilon_k:110: WARNING: Definition list ends without a blank line; unexpected unindent.\n",
      "/home/cekees/proteus/linux2/lib/python2.7/site-packages/proteus/TriangleFileUtils.py:docstring of proteus.TriangleFileUtils.findInitialFormatLine:9: ERROR: Unexpected indentation.\n",
      "/home/cekees/proteus/linux2/lib/python2.7/site-packages/proteus/TriangleFileUtils.py:docstring of proteus.TriangleFileUtils.findInitialFormatLine:10: WARNING: Block quote ends without a blank line; unexpected unindent.\n",
      "/home/cekees/proteus/linux2/lib/python2.7/site-packages/proteus/TriangleTools.py:docstring of proteus.TriangleTools.testGenerateSSIPtriangulation:8: WARNING: Block quote ends without a blank line; unexpected unindent.\n",
      "/home/cekees/proteus/linux2/lib/python2.7/site-packages/proteus/UnstructuredFMMandFSWsolvers.py:docstring of proteus.UnstructuredFMMandFSWsolvers.FMMEikonalSolver:9: ERROR: Unexpected indentation.\n",
      "/home/cekees/proteus/linux2/lib/python2.7/site-packages/proteus/UnstructuredFMMandFSWsolvers.py:docstring of proteus.UnstructuredFMMandFSWsolvers.FMMEikonalSolver:11: WARNING: Block quote ends without a blank line; unexpected unindent.\n",
      "/home/cekees/proteus/linux2/lib/python2.7/site-packages/proteus/UnstructuredFMMandFSWsolvers.py:docstring of proteus.UnstructuredFMMandFSWsolvers.FMMEikonalSolver:15: ERROR: Unexpected indentation.\n",
      "/home/cekees/proteus/linux2/lib/python2.7/site-packages/proteus/UnstructuredFMMandFSWsolvers.py:docstring of proteus.UnstructuredFMMandFSWsolvers.FMMEikonalSolver.solve:4: WARNING: Block quote ends without a blank line; unexpected unindent.\n",
      "/home/cekees/proteus/linux2/lib/python2.7/site-packages/proteus/UnstructuredFMMandFSWsolvers.py:docstring of proteus.UnstructuredFMMandFSWsolvers.FMMEikonalSolver.solve:22: WARNING: Block quote ends without a blank line; unexpected unindent.\n",
      "/home/cekees/proteus/linux2/lib/python2.7/site-packages/proteus/UnstructuredFMMandFSWsolvers.py:docstring of proteus.UnstructuredFMMandFSWsolvers.FMMEikonalSolver.solve:31: WARNING: Definition list ends without a blank line; unexpected unindent.\n",
      "/home/cekees/proteus/linux2/lib/python2.7/site-packages/proteus/UnstructuredFMMandFSWsolvers.py:docstring of proteus.UnstructuredFMMandFSWsolvers.FSWEikonalSolver:9: ERROR: Unexpected indentation.\n",
      "/home/cekees/proteus/linux2/lib/python2.7/site-packages/proteus/UnstructuredFMMandFSWsolvers.py:docstring of proteus.UnstructuredFMMandFSWsolvers.FSWEikonalSolver:11: WARNING: Block quote ends without a blank line; unexpected unindent.\n",
      "/home/cekees/proteus/linux2/lib/python2.7/site-packages/proteus/UnstructuredFMMandFSWsolvers.py:docstring of proteus.UnstructuredFMMandFSWsolvers.FSWEikonalSolver:16: ERROR: Unexpected indentation.\n",
      "/home/cekees/proteus/linux2/lib/python2.7/site-packages/proteus/UnstructuredFMMandFSWsolvers.py:docstring of proteus.UnstructuredFMMandFSWsolvers.FSWEikonalSolver.solve:4: WARNING: Block quote ends without a blank line; unexpected unindent.\n",
      "/home/cekees/proteus/linux2/lib/python2.7/site-packages/proteus/UnstructuredFMMandFSWsolvers.py:docstring of proteus.UnstructuredFMMandFSWsolvers.FSWEikonalSolver.solve:22: WARNING: Block quote ends without a blank line; unexpected unindent.\n",
      "/home/cekees/proteus/linux2/lib/python2.7/site-packages/proteus/Viewers.py:docstring of proteus.Viewers.MatlabWriter:3: ERROR: Unexpected indentation.\n",
      "/home/cekees/proteus/linux2/lib/python2.7/site-packages/proteus/Viewers.py:docstring of proteus.Viewers.MatlabWriter.viewGlobalScalarPointData:3: WARNING: Definition list ends without a blank line; unexpected unindent.\n",
      "/home/cekees/proteus/linux2/lib/python2.7/site-packages/proteus/Viewers.py:docstring of proteus.Viewers.MatlabWriter.viewGlobalVectorPointData:3: WARNING: Definition list ends without a blank line; unexpected unindent.\n",
      "/home/cekees/proteus/linux2/lib/python2.7/site-packages/proteus/Viewers.py:docstring of proteus.Viewers.MatlabWriter.viewLocalScalarPointData:3: WARNING: Definition list ends without a blank line; unexpected unindent.\n",
      "/home/cekees/proteus/linux2/lib/python2.7/site-packages/proteus/Viewers.py:docstring of proteus.Viewers.MatlabWriter.viewScalar_CrouzeixRaviartP1:7: ERROR: Unexpected indentation.\n",
      "/home/cekees/proteus/linux2/lib/python2.7/site-packages/proteus/Viewers.py:docstring of proteus.Viewers.MatlabWriter.viewScalar_DGP0:7: ERROR: Unexpected indentation.\n",
      "/home/cekees/proteus/linux2/lib/python2.7/site-packages/proteus/Viewers.py:docstring of proteus.Viewers.MatlabWriter.viewScalar_LagrangeDGP1:7: ERROR: Unexpected indentation.\n",
      "/home/cekees/proteus/linux2/lib/python2.7/site-packages/proteus/Viewers.py:docstring of proteus.Viewers.MatlabWriter.viewScalar_LagrangeDGP2:11: ERROR: Unexpected indentation.\n",
      "/home/cekees/proteus/linux2/lib/python2.7/site-packages/proteus/Viewers.py:docstring of proteus.Viewers.MatlabWriter.viewScalar_MonomialDGPK:8: ERROR: Unexpected indentation.\n",
      "/home/cekees/proteus/linux2/lib/python2.7/site-packages/proteus/Viewers.py:docstring of proteus.Viewers.MatlabWriter.viewVector_LagrangeC0P1:7: ERROR: Unexpected indentation.\n",
      "/home/cekees/proteus/linux2/lib/python2.7/site-packages/proteus/Viewers.py:docstring of proteus.Viewers.MatlabWriter.viewVector_LagrangeC0P2:9: ERROR: Unexpected indentation.\n",
      "/home/cekees/proteus/linux2/lib/python2.7/site-packages/proteus/Viewers.py:docstring of proteus.Viewers.V_base.plotScalarElementQuantity:3: ERROR: Unexpected indentation.\n",
      "/home/cekees/proteus/linux2/lib/python2.7/site-packages/proteus/Viewers.py:docstring of proteus.Viewers.V_base.plotScalarElementQuantity:8: WARNING: Block quote ends without a blank line; unexpected unindent.\n",
      "/home/cekees/proteus/linux2/lib/python2.7/site-packages/proteus/Viewers.py:docstring of proteus.Viewers.V_base.plotVectorElementQuantity:8: WARNING: Definition list ends without a blank line; unexpected unindent.\n",
      "/home/cekees/proteus/linux2/lib/python2.7/site-packages/proteus/Viewers.py:docstring of proteus.Viewers.V_base.plotVectorGlobalElementBoundaryQuantity:3: ERROR: Unexpected indentation.\n",
      "/home/cekees/proteus/linux2/lib/python2.7/site-packages/proteus/Viewers.py:docstring of proteus.Viewers.V_base.plotVectorGlobalElementBoundaryQuantity:8: WARNING: Block quote ends without a blank line; unexpected unindent.\n",
      "/home/cekees/proteus/linux2/lib/python2.7/site-packages/proteus/Viewers.py:docstring of proteus.Viewers.V_base.stepPlotElementQuantities:6: WARNING: Definition list ends without a blank line; unexpected unindent.\n",
      "/home/cekees/proteus/linux2/lib/python2.7/site-packages/proteus/Viewers.py:docstring of proteus.Viewers.V_base.stepPlotExact:3: ERROR: Unexpected indentation.\n",
      "/home/cekees/proteus/linux2/lib/python2.7/site-packages/proteus/Viewers.py:docstring of proteus.Viewers.V_base.stepProcessPlot:3: ERROR: Unexpected indentation.\n",
      "/home/cekees/proteus/linux2/lib/python2.7/site-packages/proteus/default_n.py:docstring of proteus.default_n.timeIntegration:1: WARNING: Inline interpreted text or phrase reference start-string without end-string.\n",
      "/home/cekees/proteus/linux2/lib/python2.7/site-packages/proteus/testStuff.py:docstring of proteus.testStuff.RusanovNumericalFlux_Diagonal_Diffusion_LDG:1: ERROR: Undefined substitution referenced: \"f^{prime}\".\n",
      "\u001b[01mlooking for now-outdated files... \u001b[39;49;00mnone found\n"
     ]
    },
    {
     "name": "stdout",
     "output_type": "stream",
     "text": [
      "\u001b[01mpickling environment... \u001b[39;49;00mdone\n",
      "\u001b[01mchecking consistency... \u001b[39;49;00mdone\n",
      "\u001b[01mpreparing documents... \u001b[39;49;00mdone\n",
      "\u001b[01mwriting output... \u001b[39;49;00m[100%] \u001b[32mindex\u001b[39;49;00mFunctions\u001b[39;49;00mions\u001b[39;49;00m00m\n",
      "\u001b[01mwriting additional files...\u001b[39;49;00m (46 module code pages) _modules/index\n",
      " genindex py-modindex search\n",
      "\u001b[01mcopying static files... \u001b[39;49;00mdone\n",
      "\u001b[01mcopying extra files... \u001b[39;49;00m\u001b[01mdumping search index... \u001b[39;49;00mdone\n",
      "\u001b[01mdumping object inventory... \u001b[39;49;00mdone\n",
      "\u001b[01mbuild succeeded, 479 warnings.\u001b[39;49;00m\n",
      "\n",
      "Build finished. The HTML pages are in build/html.\n",
      "make[1]: Leaving directory `/home/cekees/proteus/doc'\n"
     ]
    }
   ],
   "source": [
    "#!cd ${HOME}/proteus && make doc"
   ]
  },
  {
   "cell_type": "markdown",
   "metadata": {
    "slideshow": {
     "slide_type": "slide"
    }
   },
   "source": [
    "# Hands-on\n",
    "Pick a function in proteus.LinearAlgebraTools and improve the doc string\n",
    "\n",
    "- Provide a brief and detailed section\n",
    "- Describe parameters and return value\n",
    "- Write a formula\n",
    "- Add a todo item\n",
    "\n",
    "# References\n",
    "- [sphinx-doc.org](http://sphinx-doc.org/)\n",
    "- [doxygen](http://www.stack.nl/~dimitri/doxygen)\n",
    "- [proteus](http://proteus.usace.army.mil)"
   ]
  },
  {
   "cell_type": "code",
   "execution_count": null,
   "metadata": {},
   "outputs": [],
   "source": []
  }
 ],
 "metadata": {
  "kernelspec": {
   "display_name": "Python 3",
   "language": "python",
   "name": "python3"
  },
  "language_info": {
   "codemirror_mode": {
    "name": "ipython",
    "version": 3
   },
   "file_extension": ".py",
   "mimetype": "text/x-python",
   "name": "python",
   "nbconvert_exporter": "python",
   "pygments_lexer": "ipython3",
   "version": "3.7.2"
  }
 },
 "nbformat": 4,
 "nbformat_minor": 1
}
