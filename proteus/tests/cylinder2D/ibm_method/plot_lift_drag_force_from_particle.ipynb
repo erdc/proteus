version https://git-lfs.github.com/spec/v1
oid sha256:09131e29051cffc22a9aa2d37ef734addbae712e17f8d49a8d1719c5c3c5879c
size 310787
