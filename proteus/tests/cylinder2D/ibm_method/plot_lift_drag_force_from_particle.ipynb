version https://git-lfs.github.com/spec/v1
oid sha256:199d3cf311c9cc838823cede924f38e020bf3f348f63a644f667348b6acbdd82
size 289550
