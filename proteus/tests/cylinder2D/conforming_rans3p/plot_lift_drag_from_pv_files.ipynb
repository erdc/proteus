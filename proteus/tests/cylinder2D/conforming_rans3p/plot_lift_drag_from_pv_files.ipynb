version https://git-lfs.github.com/spec/v1
oid sha256:a08bf0edf6d47f277cb9ebc9dbe4888643c787fe3c32d8235f1bca65d4fce14a
size 57932
