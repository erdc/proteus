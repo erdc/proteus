version https://git-lfs.github.com/spec/v1
oid sha256:789522bad7b462f76c45ce52b6fbca0379582382feb0cf77a827e1ac389594bf
size 292481
