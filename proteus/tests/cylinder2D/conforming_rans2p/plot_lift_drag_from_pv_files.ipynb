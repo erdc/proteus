version https://git-lfs.github.com/spec/v1
oid sha256:608e3face2dc2dce5a410d1d39df9c7d0b385012350ea9987d883478c68009a5
size 310734
