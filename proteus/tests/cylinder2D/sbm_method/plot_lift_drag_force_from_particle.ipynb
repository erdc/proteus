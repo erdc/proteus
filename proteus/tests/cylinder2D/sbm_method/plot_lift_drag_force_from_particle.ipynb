version https://git-lfs.github.com/spec/v1
oid sha256:139bfcaccb8e40207747bdaa71d4cf0a1d42147e1c7914f379cfc9a2d57745d0
size 326458
