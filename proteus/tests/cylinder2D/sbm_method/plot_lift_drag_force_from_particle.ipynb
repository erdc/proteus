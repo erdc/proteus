version https://git-lfs.github.com/spec/v1
oid sha256:88e506b5210c4ba8913ae246c43664034fc6a67ca27a21e0e3684c3bf848ccb0
size 482615
