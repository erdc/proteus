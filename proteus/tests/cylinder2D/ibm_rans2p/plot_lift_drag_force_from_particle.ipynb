version https://git-lfs.github.com/spec/v1
oid sha256:682211136bf148a21b1b171e0166d5337ea2136fd6659e0d54143f841e52edde
size 264240
