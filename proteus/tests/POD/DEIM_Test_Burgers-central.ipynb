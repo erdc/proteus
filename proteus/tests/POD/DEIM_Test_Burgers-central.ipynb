{
 "metadata": {
  "name": "",
  "signature": "sha256:fe4c9a0524f58bd5f5db25b346e7e9e4997cbea8dc4491af0f6164231871c952"
 },
 "nbformat": 3,
 "nbformat_minor": 0,
 "worksheets": [
  {
   "cells": [
    {
     "cell_type": "markdown",
     "metadata": {},
     "source": [
      "#DEIM Example?\n",
      "Try to work through the discrete empirical interpolation method (DEIM) on Burgers equation over the domain $\\Omega = [0,L_x]$ and $t \\in [0,T]$.\n",
      "\n",
      "$$\n",
      "\\frac{\\vec y^{n+1}-\\vec y^{n}}{\\Delta t^{n+1}} - \\mathbf{A}\\vec y^{n+1} = \\vec F^{n} \\\\\n",
      "F_i = (f_{i+1/2}-f_{i-1/2})/\\Delta x \\\\\n",
      "f_{i+1/2} = \\frac{1}{2}(f^{+}_{i+1/2} + f^{-}_{i+1/2}) \\\\\n",
      "f^{+}_{i+1/2} = y^2_{i}/2 + \\alpha_{i+1/2}y_i \\\\\n",
      "f^{-}_{i+1/2} = y^2_{i+1}/2 - \\alpha_{i+1/2}y_{i+1} \\\\\n",
      "\\alpha_{i+1/2} = \\max(|f^{'}(y_i)|,|f^{'}(y_{i+1}|) = \\max(|y_i|,|y_{i+1}|) \n",
      "$$\n",
      "Here $\\mathbf{A}$ is from a standard central difference for diffusion, and $\\Delta x = L_x/n_x$ where here are $n_x$ cells or intervals in the domain.\n",
      "\n",
      "To start, we'll assume solid walls on both boundaries. That is,\n",
      "$$\n",
      "f_{n_x-1/2} = f_{-1/2} = 0\n",
      "$$\n",
      "where we are using base zero indexing"
     ]
    },
    {
     "cell_type": "markdown",
     "metadata": {},
     "source": [
      "##Problem setup"
     ]
    },
    {
     "cell_type": "code",
     "collapsed": false,
     "input": [
      "import numpy as np\n",
      "import scipy\n",
      "import matplotlib.pyplot as plt\n",
      "from scipy import integrate"
     ],
     "language": "python",
     "metadata": {},
     "outputs": []
    },
    {
     "cell_type": "code",
     "collapsed": false,
     "input": [
      "%matplotlib inline"
     ],
     "language": "python",
     "metadata": {},
     "outputs": []
    },
    {
     "cell_type": "markdown",
     "metadata": {},
     "source": [
      "###Define the functions, parameters, and temporal domain"
     ]
    },
    {
     "cell_type": "code",
     "collapsed": false,
     "input": [
      "def fp_llf(yc,alpha,f_bcl):\n",
      "    \"\"\"positive speed flux f^{+}_{i+1/2}=y^2_{i}/2+\\alpha_{i+1/2}y_i\"\"\"\n",
      "    nc = yc.shape[0]\n",
      "    flux = np.zeros(nc+1,'d')\n",
      "    flux[1:nc+1]=0.5*yc**2 + alpha[1:]*yc\n",
      "    flux[0] = f_bcl(yc[0],alpha[0])\n",
      "    return flux\n",
      "def fm_llf(yc,alpha,f_bcr):\n",
      "    \"\"\"negative speed flux f^{-}_{i+1/2}=y^2_{i+1}/2-\\alpha_{i+1/2}y_i\"\"\"\n",
      "    nc = yc.shape[0]\n",
      "    flux = np.zeros(nc+1,'d')\n",
      "    flux[0:nc]=0.5*yc**2 - alpha[:-1]*yc\n",
      "    flux[-1] = f_bcr(yc[-1],alpha[-1])\n",
      "    return flux\n",
      "\n",
      "def alpha_llf(yc,y_bcl=0.,y_bcr=0.):\n",
      "    \"\"\"\n",
      "    compute local lax friedrichs speed for burgers equation (convex flux)\n",
      "    alpha_{i+1/2} = max(|y_i|,|y_{i+1}|)\n",
      "    \"\"\"\n",
      "    nc = yc.shape[0]\n",
      "    alpha = np.zeros(nc+1,'d')\n",
      "    alpha[1:-1] = np.maximum(np.absolute(yc[:-1]),np.absolute(yc[1:]))\n",
      "    alpha[0] = np.maximum(np.absolute(y_bcl),np.absolute(yc[0]))\n",
      "    alpha[-1] = np.maximum(np.absolute(yc[-1]),np.absolute(y_bcr))\n",
      "    return alpha\n",
      "def alpha_lf(yc,y_bcl=0.,y_bcr=0.):\n",
      "    \"\"\"\n",
      "    compute lax friedrichs speed for burgers equation (convex flux)\n",
      "    alpha_{i+1/2} = max_i(|y_i|)\n",
      "    \"\"\"\n",
      "    nc = yc.shape[0]\n",
      "    alpha = np.zeros(nc+1,'d')\n",
      "    #tmp = np.max(np.absolute(yc))\n",
      "    tmp = 2.0\n",
      "    alpha.fill(tmp)\n",
      "    return alpha\n",
      "\n",
      "def flux_llf(yc,y_bcl,y_bcr,f_bcl,f_bcr):\n",
      "    \"\"\"\n",
      "    f_{i+1/2} = \\frac{1}{2}(f^{+}_{i+1/2} + f^{-}_{i+1/2}) \\\\\n",
      "    f^{+}_{i+1/2} = y^2_{i}/2 + \\alpha_{i+1/2}y_i \\\\\n",
      "    f^{-}_{i+1/2} = y^2_{i+1}/2 - \\alpha_{i+1/2}y_{i+1} \\\\\n",
      "    \\alpha_{i+1/2} = \\max(|f^{'}(y_i)|,|f^{'}(y_{i+1}|) = \\max(|y_i|,|y_{i+1}|)     \n",
      "    \"\"\"\n",
      "    #alpha = alpha_llf(yc,y_bcl=y_bcl,y_bcr=y_bcr)\n",
      "    alpha = alpha_lf(yc,y_bcl=y_bcl,y_bcr=y_bcr)\n",
      "    fp = fp_llf(yc,alpha,f_bcl)\n",
      "    fm = fm_llf(yc,alpha,f_bcr)\n",
      "    f = 0.5*(fp+fm)\n",
      "    return f\n",
      "def F_llf(y,dx,y_bcl=None,y_bcr=None):\n",
      "    \"\"\"\n",
      "    local divergence\n",
      "    \"\"\"\n",
      "    f_bcl = lambda y,alpha: 0.5*y**2 + alpha*y  \n",
      "    if y_bcl is not None:\n",
      "        f_bcl = lambda y,alpha: 0.5*y_bcl**2 + alpha*y_bcl\n",
      "    #\n",
      "    f_bcr = lambda y,alpha: 0.5*y**2 - alpha*y\n",
      "    if y_bcr is not None:\n",
      "        f_bcr = lambda y,alpha: 0.5*y_bcr**2 - alpha*y_bcr\n",
      "    if y_bcr is None:\n",
      "        y_bcl = y[0]\n",
      "    if y_bcl is None:\n",
      "        y_bcr=y[-1]\n",
      "    f = flux_llf(y,y_bcl,y_bcr,f_bcl,f_bcr)\n",
      "    return -(f[1:]-f[:-1])/dx\n"
     ],
     "language": "python",
     "metadata": {},
     "outputs": []
    },
    {
     "cell_type": "code",
     "collapsed": false,
     "input": [
      "def choose_dt_cfl(y,target_cfl,dx):\n",
      "    \"\"\"\n",
      "    pick timestep to obey\n",
      "    \n",
      "    dt < target_cfl*min_{i}(\\Delta x /|f^'(y_i)|)\n",
      "    \n",
      "    hard coded for Burgers equation\n",
      "    \"\"\"\n",
      "    a_fprime = np.absolute(y)\n",
      "    tmp = np.where(a_fprime > 0.0,dx/a_fprime,1.0e33)\n",
      "    dt = target_cfl*np.min(tmp)\n",
      "    return dt"
     ],
     "language": "python",
     "metadata": {},
     "outputs": []
    },
    {
     "cell_type": "markdown",
     "metadata": {},
     "source": [
      "Define the spatial domain"
     ]
    },
    {
     "cell_type": "code",
     "collapsed": false,
     "input": [
      "#spatial interval\n",
      "xL=0.0; Lx=2.0\n",
      "#time interval\n",
      "T=1.5\n",
      "#viscosity\n",
      "nu = 1.0e-4\n",
      "#if deciding to use Dirichlet values\n",
      "#boundary values\n",
      "y_l=2.0\n",
      "y_r=-1\n",
      "use_dirichlet = False"
     ],
     "language": "python",
     "metadata": {},
     "outputs": []
    },
    {
     "cell_type": "code",
     "collapsed": false,
     "input": [
      "#number of cells in grid\n",
      "n = 100\n",
      "#define a linear spatial operator for now\n",
      "dx= Lx/float(n); dxinv = float(n)/Lx\n",
      "x = np.linspace(xL+0.5*dx,xL+Lx-dx,n)\n"
     ],
     "language": "python",
     "metadata": {},
     "outputs": []
    },
    {
     "cell_type": "markdown",
     "metadata": {},
     "source": [
      "Define the diffusive operator. This goes on the left hand side now"
     ]
    },
    {
     "cell_type": "code",
     "collapsed": false,
     "input": [
      "#interior\n",
      "A = np.zeros((n,n))\n",
      "I = np.arange(n)\n",
      "A[I,I]=2.0*nu*dxinv**2\n",
      "A[I[1:],I[1:]-1]=-nu*dxinv**2\n",
      "A[I[0:-1],I[0:-1]+1]=-nu*dxinv**2\n"
     ],
     "language": "python",
     "metadata": {},
     "outputs": []
    },
    {
     "cell_type": "code",
     "collapsed": false,
     "input": [
      "#boundary condition contributions. This goes on the right hand side\n",
      "\n",
      "#For dirichlet\n",
      "dirbc = np.zeros(n,'d')\n",
      "dirbc[0] =nu*y_l*dxinv**2\n",
      "dirbc[-1]=nu*y_r*dxinv**2\n",
      "\n",
      "#for Walls (zero Neuman flux)\n",
      "if not use_dirichlet:\n",
      "    A[0,0] = nu*dxinv**2\n",
      "    A[-1,-1] = nu*dxinv**2\n",
      "    "
     ],
     "language": "python",
     "metadata": {},
     "outputs": []
    },
    {
     "cell_type": "code",
     "collapsed": false,
     "input": [
      "#initial condition\n",
      "def ic(x,y_l=1.0,y_r=0.):\n",
      "    return np.where(x < Lx*0.25,y_l,y_r)\n"
     ],
     "language": "python",
     "metadata": {},
     "outputs": []
    },
    {
     "cell_type": "code",
     "collapsed": false,
     "input": [
      "#time stepping information  \n",
      "target_cfl = 0.4\n",
      "#how often to record output\n",
      "istep = 1\n",
      "t0=0.\n",
      "t=t0\n",
      "tnList = []\n",
      "#initial condition\n",
      "y0 = ic(x,y_l,y_r)"
     ],
     "language": "python",
     "metadata": {},
     "outputs": []
    },
    {
     "cell_type": "markdown",
     "metadata": {},
     "source": [
      "### Check the initial condition, linear, and nonlinear terms"
     ]
    },
    {
     "cell_type": "code",
     "collapsed": false,
     "input": [
      "%pdb on"
     ],
     "language": "python",
     "metadata": {},
     "outputs": []
    },
    {
     "cell_type": "code",
     "collapsed": false,
     "input": [
      "##Define the iteration matrix and right hand side vector"
     ],
     "language": "python",
     "metadata": {},
     "outputs": []
    },
    {
     "cell_type": "code",
     "collapsed": false,
     "input": [
      "M = A.copy()\n",
      "b = np.zeros(y0.shape,'d')"
     ],
     "language": "python",
     "metadata": {},
     "outputs": []
    },
    {
     "cell_type": "markdown",
     "metadata": {},
     "source": [
      "###Define the actual nonlinear function to use based on discretization and boundary conditions"
     ]
    },
    {
     "cell_type": "code",
     "collapsed": false,
     "input": [
      "F = lambda y: F_llf(y,dx,y_bcl=None,y_bcr=None) #wall bcs\n",
      "if use_dirichlet:\n",
      "    F = lambda y: F_llf(y,dx,y_bcl=y_l,y_bcr=y_r)"
     ],
     "language": "python",
     "metadata": {},
     "outputs": []
    },
    {
     "cell_type": "code",
     "collapsed": false,
     "input": [
      "f_non = F(y0)\n",
      "f_lin = np.dot(A,y0);\n",
      "if use_dirichlet:\n",
      "    f_lin += dirbc"
     ],
     "language": "python",
     "metadata": {},
     "outputs": []
    },
    {
     "cell_type": "code",
     "collapsed": false,
     "input": [],
     "language": "python",
     "metadata": {},
     "outputs": []
    },
    {
     "cell_type": "code",
     "collapsed": false,
     "input": [
      "fig = plt.figure()\n",
      "ax = fig.gca()\n",
      "ax.plot(x,y0,'b',x,f_non,'r',x,f_lin,'g')\n",
      "plt.xlabel('x')\n",
      "plt.ylabel('y')\n",
      "leg=ax.legend(['$y^0$','$f_{nl}$','$f_{l}$'],loc=3)"
     ],
     "language": "python",
     "metadata": {},
     "outputs": []
    },
    {
     "cell_type": "markdown",
     "metadata": {},
     "source": [
      "##Generate Snapshots"
     ]
    },
    {
     "cell_type": "markdown",
     "metadata": {},
     "source": [
      "###\"Run\" forward problem\n",
      "March from $[0,T]$ assuming a target Courant number"
     ]
    },
    {
     "cell_type": "code",
     "collapsed": false,
     "input": [
      "class Evolution_System:\n",
      "    \"\"\"\n",
      "    Just for holding\n",
      "          (I/dt + A)y^{n+1} = y^n/dt + F^n + d_{bc}\n",
      "    \"\"\"\n",
      "    def __init__(self,F,M,A,b,b_dir,I):\n",
      "        self.Fbase=F; self.M=M; self.A=A; self.I=I; self.b=b; self.b_dir=b_dir; \n",
      "    def F(self,y):\n",
      "        return self.Fbase(y)"
     ],
     "language": "python",
     "metadata": {},
     "outputs": []
    },
    {
     "cell_type": "code",
     "collapsed": false,
     "input": [
      "def time_march(t0,y0,T,pick_dt,evo_system,max_steps=10000):\n",
      "    \"\"\"\n",
      "    Brain-dead time marching process for\n",
      "      (I/dt + A)y^{n+1} = y^n/dt + F^n + d_{bc}\n",
      " \n",
      "    \"\"\"\n",
      "    t = t0\n",
      "    tnList = [t]\n",
      "    y = y0.copy()\n",
      "    n = y.shape[0]\n",
      "    nstep = 0; \n",
      "    dt = pick_dt(y0,t,nstep)\n",
      "    Ysnap=np.zeros((n,max_steps+1))\n",
      "    Ysnap[:,0]=y0\n",
      "    while t < T and nstep < max_steps:\n",
      "        evo_system.b[:] = evo_system.F(y)\n",
      "        evo_system.b += evo_system.b_dir\n",
      "        assert dt > 0.\n",
      "        evo_system.b += y/dt\n",
      "        evo_system.M.fill(0.)\n",
      "        evo_system.M[evo_system.I,evo_system.I] = 1.0/dt\n",
      "        evo_system.M += evo_system.A.copy()\n",
      "    \n",
      "        yp = np.linalg.solve(evo_system.M,evo_system.b)\n",
      "    \n",
      "        y[:] = yp\n",
      "        t += dt\n",
      "        nstep += 1\n",
      "        dt = pick_dt(y,t,nstep)\n",
      "        if nstep % istep == 0 and nstep < max_steps+1:\n",
      "            tnList.append(t)\n",
      "            Ysnap[:,nstep]=y\n",
      "    #\n",
      "    n_t = nstep\n",
      "    n_snap=nstep\n",
      "    \n",
      "    return Ysnap,n_snap,tnList,n_t,y"
     ],
     "language": "python",
     "metadata": {},
     "outputs": []
    },
    {
     "cell_type": "code",
     "collapsed": false,
     "input": [
      "rhs_for_bc=np.zeros(n,'d')\n",
      "if use_dirichlet:\n",
      "    rhs_for_bc = dirbc.copy()\n",
      "def choose_dt_fine(y,t,step):\n",
      "    return choose_dt_cfl(y,target_cfl,dx)\n",
      "fine_system = Evolution_System(F,M,A,b,rhs_for_bc,I)\n",
      "Ysnap,n_snap,tnList,n_t,y = time_march(t0,y0,T,choose_dt_fine,fine_system)\n"
     ],
     "language": "python",
     "metadata": {},
     "outputs": []
    },
    {
     "cell_type": "code",
     "collapsed": false,
     "input": [],
     "language": "python",
     "metadata": {},
     "outputs": []
    },
    {
     "cell_type": "markdown",
     "metadata": {},
     "source": [
      "Collect snapshots"
     ]
    },
    {
     "cell_type": "code",
     "collapsed": false,
     "input": [
      "Fsnap=np.zeros((n,n_snap))\n",
      "for j in range(n_snap):    \n",
      "    Fsnap[:,j]=fine_system.F(Ysnap[:,j])"
     ],
     "language": "python",
     "metadata": {},
     "outputs": []
    },
    {
     "cell_type": "markdown",
     "metadata": {},
     "source": [
      "Just check the solutions at different times"
     ]
    },
    {
     "cell_type": "code",
     "collapsed": false,
     "input": [
      "index = 10#2#n_t-10\n",
      "\n",
      "fig = plt.figure()\n",
      "ax = fig.gca()\n",
      "ax.plot(x,Ysnap[:,index],'b',x,Fsnap[:,index],'r')\n",
      "plt.xlabel('x')\n",
      "plt.ylabel('y')\n",
      "plt.title('Snapshots at time $t^i=%12.3f$' % (tnList[index-1]))\n",
      "leg=ax.legend(['$y^i$','$F(y^i)$'],loc=2)"
     ],
     "language": "python",
     "metadata": {},
     "outputs": []
    },
    {
     "cell_type": "code",
     "collapsed": false,
     "input": [
      "from IPython.html import widgets\n",
      "from IPython.display import display"
     ],
     "language": "python",
     "metadata": {},
     "outputs": []
    },
    {
     "cell_type": "code",
     "collapsed": false,
     "input": [
      "def plot_k(index):\n",
      "    plt.plot(x,Ysnap[:,index],'b')\n",
      "    plt.xlabel('x'); plt.ylabel('y')\n",
      "    plt.title('full solutions at time $t^i=%12.3f$' % (tnList[index]))\n",
      "    leg=plt.legend(['$y^i$','$\\hat{y}^i$'],loc=1)\n",
      "\n",
      "wid = widgets.interact(plot_k,\n",
      "                       index=widgets.IntSliderWidget(min=0,max=n_snap))\n",
      "display(wid)"
     ],
     "language": "python",
     "metadata": {},
     "outputs": []
    },
    {
     "cell_type": "code",
     "collapsed": false,
     "input": [
      "def plot_k(index):\n",
      "    fy = F(Ysnap[:,index])\n",
      "\n",
      "    plt.plot(x,Ysnap[:,index],'b',x,fy,'k',x,Fsnap[:,index],'r')\n",
      "    plt.xlabel('x'); plt.ylabel('y')\n",
      "    plt.title('snapshots F at time $t^i=%12.3f$' % (tnList[index]))\n",
      "    leg=plt.legend(['$y^{%d}$'% (index),'$F(y^{%d})$'%index,'snap'],loc=1)\n",
      "\n",
      "wid = widgets.interact(plot_k,\n",
      "                       index=widgets.IntSliderWidget(min=0,max=n_snap-1))\n",
      "display(wid)"
     ],
     "language": "python",
     "metadata": {},
     "outputs": []
    },
    {
     "cell_type": "markdown",
     "metadata": {},
     "source": [
      "##Singular Value Decompositions"
     ]
    },
    {
     "cell_type": "markdown",
     "metadata": {},
     "source": [
      "Perform SVD for both snapshots\n",
      "$$\n",
      "\\mathbf{VSW}^{T} = \\mathbf{Y}\n",
      "$$\n",
      "and \n",
      "$$\n",
      "\\mathbf{U}\\mathbf{S}_F\\mathbf{W}_F^T=\\mathbf{F}\n",
      "$$"
     ]
    },
    {
     "cell_type": "code",
     "collapsed": false,
     "input": [
      "V,S,W = np.linalg.svd(Ysnap,full_matrices=True)"
     ],
     "language": "python",
     "metadata": {},
     "outputs": []
    },
    {
     "cell_type": "code",
     "collapsed": false,
     "input": [
      "U,Sf,Wf=np.linalg.svd(Fsnap,full_matrices=True)"
     ],
     "language": "python",
     "metadata": {},
     "outputs": []
    },
    {
     "cell_type": "markdown",
     "metadata": {},
     "source": [
      "Look at the eigenvalues for the decompositions"
     ]
    },
    {
     "cell_type": "code",
     "collapsed": false,
     "input": [
      "fig=plt.figure()\n",
      "ax = fig.gca()\n",
      "plt.subplot(1,2,1)\n",
      "plt.plot(np.log10(S),'b*',label='S')\n",
      "plt.ylabel('singular values, $\\mathbf{Y}$')\n",
      "plt.subplot(1,2,2)\n",
      "plt.plot(np.log10(Sf),'r*',label='$S_f$')\n",
      "plt.ylabel('singular values, $\\mathbf{F}$')\n"
     ],
     "language": "python",
     "metadata": {},
     "outputs": []
    },
    {
     "cell_type": "markdown",
     "metadata": {},
     "source": [
      "Test reduced representation"
     ]
    },
    {
     "cell_type": "code",
     "collapsed": false,
     "input": [
      "#truncate solution snapshots\n",
      "n_k = 40\n",
      "V_k = V[:,0:n_k]\n",
      "V_kT= V_k.conj().T\n",
      "\n",
      "print \"Truncating to n_k={0}, \\sigma={1}\".format(n_k,S[n_k])\n",
      "print 'V_kT shape is ',V_kT.shape\n"
     ],
     "language": "python",
     "metadata": {},
     "outputs": []
    },
    {
     "cell_type": "markdown",
     "metadata": {},
     "source": [
      "##Evolve the reduced system \n",
      "\n",
      "###compute the reduced linear part\n",
      "$$\n",
      "\\hat{\\mathbf{A}} = \\mathbf{V}_k^{T}\\mathbf{A}\\mathbf{V}_k\n",
      "$$"
     ]
    },
    {
     "cell_type": "code",
     "collapsed": false,
     "input": [
      "Ahat=V_kT.dot(np.dot(A,V_k))\n",
      "dirbc_hat=V_kT.dot(dirbc)"
     ],
     "language": "python",
     "metadata": {},
     "outputs": []
    },
    {
     "cell_type": "markdown",
     "metadata": {},
     "source": [
      "###save some of the fine grid information"
     ]
    },
    {
     "cell_type": "code",
     "collapsed": false,
     "input": [
      "Yf_snap=Ysnap; tnList_fine=list(tnList)"
     ],
     "language": "python",
     "metadata": {},
     "outputs": []
    },
    {
     "cell_type": "markdown",
     "metadata": {},
     "source": [
      "##define a brute force evaluation on the fine grid"
     ]
    },
    {
     "cell_type": "code",
     "collapsed": false,
     "input": [
      "def Ff2c_brute(yc,F_nonlin):\n",
      "    \"\"\"\n",
      "    evaluate F for the reduced model by projecting to the fine grid, evaluating, \n",
      "    and then restricting\n",
      "\n",
      "    \"\"\"\n",
      "    yf = np.dot(V_k,yc)\n",
      "    Ff =  F_nonlin(yf)\n",
      "    return np.dot(V_kT,Ff)"
     ],
     "language": "python",
     "metadata": {},
     "outputs": []
    },
    {
     "cell_type": "code",
     "collapsed": false,
     "input": [
      "def choose_dt_pod(yc,t,step):\n",
      "    \"\"\"\n",
      "    How do I want to pick the time step for the ROM simulation?\n",
      "    First try to\n",
      "    pick timestep to obey the cfl constraint on the fine grid\n",
      "\n",
      "    \"\"\"\n",
      "    yf = np.dot(V_k,yc)\n",
      "    return choose_dt_cfl(yf,target_cfl,dx)\n",
      "def choose_dt_brute(yc,t,step,ref_steps=tnList_fine):\n",
      "    \"\"\"\n",
      "    How do I want to pick the time step for the ROM simulation?\n",
      "\n",
      "    Try to take the same timestep as were taken on the fine grid\n",
      "\n",
      "    \"\"\"\n",
      "    if step < len(ref_steps)-1:\n",
      "        return ref_steps[step+1]-ref_steps[step]\n",
      "    return ref_steps[-1]-ref_steps[-2]"
     ],
     "language": "python",
     "metadata": {},
     "outputs": []
    },
    {
     "cell_type": "markdown",
     "metadata": {},
     "source": [
      "###integrate forward in time"
     ]
    },
    {
     "cell_type": "code",
     "collapsed": false,
     "input": [
      "yc0 = np.dot(V_kT,y0)\n",
      "yf0 = np.dot(V_k,yc0)\n",
      "dt = choose_dt_cfl(yf0,target_cfl,dx)\n",
      "yc = yc0.copy()\n",
      "#\n",
      "Mhat = Ahat.copy()\n",
      "Mhat.fill(0.)\n",
      "Ihat = np.arange(n_k)\n",
      "bhat = np.zeros(n_k,'d')\n",
      "if use_dirichlet:\n",
      "    rhs_for_bc_hat = dirbc_hat.copy()\n",
      "else:\n",
      "    rhs_for_bc_hat= np.zeros(n_k)\n",
      "#brute force evaluation for now\n",
      "Ff2c = lambda y: Ff2c_brute(y,F)\n",
      "nlpod_system = Evolution_System(Ff2c,Mhat,Ahat,bhat,rhs_for_bc_hat,Ihat)\n",
      "Yc_snap,nc_snap,tnList_pod,nc_t,yc = time_march(t0,yc0,T,choose_dt_brute,nlpod_system)\n",
      "\n"
     ],
     "language": "python",
     "metadata": {},
     "outputs": []
    },
    {
     "cell_type": "code",
     "collapsed": false,
     "input": [],
     "language": "python",
     "metadata": {},
     "outputs": []
    },
    {
     "cell_type": "markdown",
     "metadata": {},
     "source": [
      "##project back to fine grid for comparison\n",
      "\n",
      "Recall output of `odeint` is (n_t+1) x n_k"
     ]
    },
    {
     "cell_type": "code",
     "collapsed": false,
     "input": [
      "yc2f = np.zeros((n,nc_snap),'d')\n",
      "for i in range(nc_snap):\n",
      "    yc2f[:,i] = np.dot(V_k,Yc_snap[:,i])\n",
      "    "
     ],
     "language": "python",
     "metadata": {},
     "outputs": []
    },
    {
     "cell_type": "markdown",
     "metadata": {},
     "source": [
      "##compare reduced solution to fine grid for different times\n"
     ]
    },
    {
     "cell_type": "code",
     "collapsed": false,
     "input": [
      "index = n_t-1#2#n_t-10\n",
      "#note y,y2cf are (n_t+1) x n which is transpose of snapshots\n",
      "fig = plt.figure()\n",
      "ax = fig.gca()\n",
      "ax.plot(x,Yf_snap[:,index],'b',x,yc2f[:,index],'r')\n",
      "plt.xlabel('x')\n",
      "plt.ylabel('y')\n",
      "plt.title('solutions at time $t^i=%12.3f$,$t^{i}_d=%12.3f$' % (tnList[index],tnList_pod[index]))\n",
      "leg=ax.legend(['$y^i$','$\\hat{y}^i$'],loc=1)"
     ],
     "language": "python",
     "metadata": {},
     "outputs": []
    },
    {
     "cell_type": "code",
     "collapsed": false,
     "input": [
      "def plot_k(index):\n",
      "    if index < Yf_snap.shape[1] and index < yc2f.shape[1]:\n",
      "        plt.plot(x,Yf_snap[:,index],'b',x,yc2f[:,index],'r')\n",
      "        plt.xlabel('x'); plt.ylabel('y')\n",
      "        plt.title('POD and full solutions at time $t^i=%12.3f$, $t^{i}_d=%12.3f$' % (tnList[index],tnList_pod[index]))\n",
      "        leg=plt.legend(['$y^i$','$\\hat{y}^i$'],loc=1)\n",
      "\n",
      "wid = widgets.interact(plot_k,\n",
      "                       index=widgets.IntSliderWidget(min=0,max=nc_snap))\n",
      "display(wid)"
     ],
     "language": "python",
     "metadata": {},
     "outputs": []
    },
    {
     "cell_type": "markdown",
     "metadata": {},
     "source": [
      "##Now actually try DEIM for evaluating nonlinearity"
     ]
    },
    {
     "cell_type": "markdown",
     "metadata": {},
     "source": [
      "###Basic procedure\n",
      "\n",
      "- pick $m$, dimension for $F$ reduced basis $\\mathbf{U}_m$\n",
      "- call DEIM algorithm to determine $\\vec \\rho$. \n",
      "- build $\\mathbf{P}$ from $\\rho$ as \n",
      "$$\n",
      "\\mathbf{P} = [\\vec e_{\\rho_1},\\vec e_{\\rho_2},\\dots,\\vec e_{\\rho_m}]\n",
      "$$\n",
      "- invert $\\mathbf{P}^T\\mathbf{U}_m$\n",
      "- set $\\mathbf{P}_F=\\mathbf{U}_m(\\mathbf{P}^T\\mathbf{U}_m)^{-1}$\n",
      "- During evolution\n",
      "    - project to fine grid $\\vec y = \\mathbf{V}_k \\vec y_c$\n",
      "    - evaluate $\\vec F(V_k\\vec y_c)$ at indices in $\\vec \\rho \\rightarrow \\vec c$\n",
      "    - apply DEIM interpolant $\\vec F_c = \\mathbf{V}_k^T\\mathbf{P}_F\\vec c$\n",
      "    - use $\\vec F_c$ in right hand side of reduced ODE"
     ]
    },
    {
     "cell_type": "code",
     "collapsed": false,
     "input": [
      "def DEIM(Uin):\n",
      "    \"\"\"\n",
      "    input: Uin n x m array of basis vectors for nonlinear function snapshots\n",
      "    output: rho, m vector of indices \\rho_i for extracting $\\vec F$ values\n",
      "\n",
      "    \"\"\"\n",
      "    n,m=Uin.shape\n",
      "    rind = np.argmax(np.absolute(Uin[:,0]))\n",
      "    U=np.array(Uin[:,0])\n",
      "    rho=np.array([rind],'i')\n",
      "    #Pt = np.zeros((1,n),'d')\n",
      "    #P[0,rind]=1.0\n",
      "    for j in range(1,m):\n",
      "        u = Uin[:,j]        \n",
      "        Up=U[rho]#Up= np.dot(Pt,U)\n",
      "        up=u[rho]#up= np.dot(Pt,u)\n",
      "        if j==1:\n",
      "            c=up/Up\n",
      "            r=u-U*c\n",
      "        else:\n",
      "            c =np.linalg.solve(Up,up)\n",
      "            r=u-np.dot(U,c)          \n",
      "        rind=np.argmax(np.absolute(r))\n",
      "        rho_new = np.zeros(j+1,'i'); \n",
      "        rho_new[:-1]=rho; rho_new[-1]=rind; rho = rho_new\n",
      "        U_new=np.zeros((n,j+1),'d')\n",
      "        U_new[:,:-1]=U.reshape(n,j); U_new[:,-1]=u\n",
      "        U=U_new\n",
      "    #\n",
      "    return rho\n"
     ],
     "language": "python",
     "metadata": {},
     "outputs": []
    },
    {
     "cell_type": "code",
     "collapsed": false,
     "input": [
      "#truncate basis\n",
      "m = 42\n",
      "Um = U[:,0:m]\n",
      "\n",
      "print \"Truncating nonlinear function to m={0}, \\sigma_f={1}\".format(m,Sf[m])\n"
     ],
     "language": "python",
     "metadata": {},
     "outputs": []
    },
    {
     "cell_type": "code",
     "collapsed": false,
     "input": [],
     "language": "python",
     "metadata": {},
     "outputs": []
    },
    {
     "cell_type": "code",
     "collapsed": false,
     "input": [
      "rho_deim = DEIM(Um)\n",
      "print 'after calling DEIM, rho=',rho_deim"
     ],
     "language": "python",
     "metadata": {},
     "outputs": []
    },
    {
     "cell_type": "markdown",
     "metadata": {},
     "source": [
      "###Calculate $\\mathbf{P}^T\\mathbf{U}_m$ by just extracting rows in numpy \n",
      "\n",
      "###Then invert and set $\\mathbf{P}_F=\\mathbf{U}_m (\\mathbf{P}^T\\mathbf{U}_m)^{-1})$"
     ]
    },
    {
     "cell_type": "code",
     "collapsed": false,
     "input": [
      "PtUm_deim = Um[rho_deim]\n",
      "assert PtUm_deim.shape == (m,m)\n",
      "\n",
      "PtUmInv_deim = np.linalg.inv(PtUm_deim)\n",
      "PF_deim= np.dot(Um,PtUmInv_deim)"
     ],
     "language": "python",
     "metadata": {},
     "outputs": []
    },
    {
     "cell_type": "markdown",
     "metadata": {},
     "source": [
      "##Now define the right hand side term that uses DEIM"
     ]
    },
    {
     "cell_type": "code",
     "collapsed": false,
     "input": [
      "def F_hyper_brute(yc,F_nonlin,rho,PF):\n",
      "    \"\"\"\n",
      "    evaluate F for the reduced model by sampling and\n",
      "    use projection/interpolation to compute a fine grid approximation\n",
      "    \n",
      "    and then restricting\n",
      "    \n",
      "    compute projection of coarse to fine grid\n",
      "    \n",
      "    This one just does a brute force evaluation\n",
      "   \n",
      "    returns V_k^T P_F P^T F(V_k yc)    \n",
      "    \"\"\"\n",
      "    yf = np.dot(V_k,yc)#projection to fine\n",
      "    Ff = F_nonlin(yf) #calculate value of F on fine grid \n",
      "    c  = Ff[rho]\n",
      "    return np.dot(V_kT,np.dot(PF,c))\n",
      "\n"
     ],
     "language": "python",
     "metadata": {},
     "outputs": []
    },
    {
     "cell_type": "code",
     "collapsed": false,
     "input": [
      "class HyperReduced_Evolution_System(Evolution_System):\n",
      "    \"\"\"\n",
      "    Just for holding\n",
      "          (I/dt + A)y^{n+1} = y^n/dt + F^n + d_{bc}\n",
      "    Using hyper-reduction\n",
      "    \"\"\"\n",
      "    def __init__(self,F,M,A,b,b_dir,I,indices,PF):\n",
      "        Evolution_System.__init__(self,F,M,A,b,b_dir,I)\n",
      "        self.indices=indices\n",
      "        self.PF=PF\n",
      "    def F(self,y):\n",
      "        return self.Fbase(y,self.indices,self.PF)"
     ],
     "language": "python",
     "metadata": {},
     "outputs": []
    },
    {
     "cell_type": "markdown",
     "metadata": {},
     "source": [
      "##perform the evolution"
     ]
    },
    {
     "cell_type": "code",
     "collapsed": false,
     "input": [
      "yc0 = np.dot(V_kT,y0)\n",
      "yf0 = np.dot(V_k,yc0)\n",
      "dt = choose_dt_cfl(yf0,target_cfl,dx)\n",
      "yc = yc0.copy()\n",
      "\n",
      "F_hyper = lambda y,indices,PF: F_hyper_brute(y,F,indices,PF)\n",
      "deim_system = HyperReduced_Evolution_System(F_hyper,Mhat,Ahat,bhat,rhs_for_bc_hat,Ihat,rho_deim,PF_deim)\n",
      "Ycd_snap,ncd_snap,tnList_deim,ncd_t,yc_deim = time_march(t0,yc0,T,choose_dt_brute,deim_system)\n"
     ],
     "language": "python",
     "metadata": {},
     "outputs": []
    },
    {
     "cell_type": "code",
     "collapsed": false,
     "input": [],
     "language": "python",
     "metadata": {},
     "outputs": []
    },
    {
     "cell_type": "code",
     "collapsed": false,
     "input": [
      "yc2f_deim = np.zeros((n,ncd_snap),'d')\n",
      "for i in range(ncd_snap):\n",
      "    yc2f_deim[:,i] = np.dot(V_k,Ycd_snap[:,i])\n"
     ],
     "language": "python",
     "metadata": {},
     "outputs": []
    },
    {
     "cell_type": "code",
     "collapsed": false,
     "input": [
      "index = n_t-1#2#n_t-10\n",
      "#note y,y2cf are (n_t+1) x n which is transpose of snapshots\n",
      "fig = plt.figure()\n",
      "ax = fig.gca()\n",
      "ax.plot(x,Yf_snap[:,index],'b',x,yc2f_deim[:,index],'r')\n",
      "plt.xlabel('x')\n",
      "plt.ylabel('y')\n",
      "plt.title('solutions at time $t^i=%12.3f$ $t^i_{d}=%12.3f$' % (tnList[index],tnList_deim[index]))\n",
      "leg=ax.legend(['$y^i$','DEIM $\\hat{y}^i$'],loc=1)\n",
      "\n"
     ],
     "language": "python",
     "metadata": {},
     "outputs": []
    },
    {
     "cell_type": "code",
     "collapsed": false,
     "input": [
      "def plot_k(index):\n",
      "    if index < Ysnap.shape[1] and index < yc2f_deim.shape[1]:\n",
      "        plt.plot(x,Yf_snap[:,index],'b',x,yc2f_deim[:,index],'r')\n",
      "        plt.xlabel('x'); plt.ylabel('y')\n",
      "        plt.title('POD+DEIM and full solutions at time $t^i=%12.3f$, $t^{i}_d=%12.3f$' % (tnList[index],tnList_deim[index]))\n",
      "        leg=plt.legend(['$y^i$','DEIM $\\hat{y}^i$'],loc=1)\n",
      "\n",
      "wid = widgets.interact(plot_k,\n",
      "                       index=widgets.IntSliderWidget(min=0,max=ncd_snap))\n",
      "display(wid)\n"
     ],
     "language": "python",
     "metadata": {},
     "outputs": []
    },
    {
     "cell_type": "markdown",
     "metadata": {},
     "source": [
      "##Now actually try gappy POD for evaluating nonlinearity\n",
      "\n",
      "The process as I understand it for gappy pod is\n",
      "\n",
      "1. Compute $M$ snapshots for high dimensional nonlinear function \n",
      "$$\n",
      "\\mathbf{S} = [\\vec f^1, \\vec f^2, \\dots, \\vec f^M] \\in \\Re^{n \\times M} \n",
      "$$\n",
      "2. Compute standard POD basis for snapshots\n",
      "$$\n",
      "\\mathbf{S} = \\mathbf{U}_F\\mathbf{\\Sigma}_F\\mathbf{W}_F^T\n",
      "$$\n",
      "3. Pick a truncation level for basis, $m$\n",
      "3. Pick $k$ indices for sampling from nonlinear function. DEIM will give us $k=m$ indices. Do I want more according to Ansallem slides? Is the Wilcox procedure different/better?\n",
      "$$\n",
      "\\mathcal{I} = \\{i_1,i_2,\\dots,i_k\\}\n",
      "$$\n",
      "To tie back to the DEIM formalism, we'll refer to the $k$ dimensional vector holding the entries\n",
      "of $\\mathcal{I}$ as $\\vec \\rho$.\n",
      "4. Solve least-squares problem to minimize error in interpolation assuming that we are using the specified sampling indices. \n",
      "    - Define sample matrix $\\mathbf{P} = [\\vec e_{i_1}, \\vec e_{i_2}, \\dots, \\vec e_{i_k}]$\n",
      "    - I believe we technically solve the following problem at each time step\n",
      "    $$\n",
      "    \\vec c = \\mbox{arg min}_{\\vec y}\\|\\mathbf{P}^T\\mathbf{U}_m\\vec y - \\mathbf{P}^T\\vec f\\|_2\n",
      "    $$\n",
      " \n",
      "The solution to this least squares minimization problem is \n",
      "\n",
      "- Define $\\mathbf{M} = \\mathbf{P^T}\\mathbf{U}_m \\in \\Re^{k \\times m}$\n",
      "- Perform SVD of $\\mathbf{M} = \\hat{\\mathbf{U}}\\hat{\\mathbf{\\Sigma}}\\hat{\\mathbf{W}}^T$. Here \n",
      "  $\\hat{\\mathbf{U}} \\in \\Re^{k \\times k}$, $\\hat{\\mathbf{W}} \\in \\Re^{m \\times m}$, and   $\\hat{\\mathbf{\\Sigma}} \\in \\Re^{k \\times m}$. \n",
      "   \n",
      "- Define the Moore-Penrose pseudoinverse\n",
      "\n",
      "    $$\n",
      "    \\mathbf{M}^{\\dagger} = \\hat{\\mathbf{W}}\\hat{\\mathbf{\\Sigma}}^{\\dagger}\\hat{\\mathbf{U}}^{T}\n",
      "    $$ \n",
      "    where $\\hat{\\mathbf{\\Sigma}}^{\\dagger} \\in \\Re^{m\\times k}$ with the nonzero entries  given by\n",
      "    \n",
      "    $$\n",
      "    \\hat{\\Sigma}^{\\dagger}_{ii}= 1/\\Sigma_{ii}, \\mbox{ if } \\Sigma_{ii} > 0\n",
      "    $$\n",
      "- set $\\vec c = \\mathbf{M}^{\\dagger}\\mathbf{P}^T\\vec f$    \n",
      "\n",
      "I believe we can compute the Moore-Penrose pseudoinverse with `numpy.linalg.pinv`  \n",
      "\n",
      "Alternatively, we could just use numpy's least squares algorithm or the QR factorization suggested by Carlberg et al in their 2011 paper\n",
      "\n",
      "$$\n",
      "\\mathbf{Q}\\mathbf{R} = \\mathbf{M}, \\ \\ \\mathbf{Q} \\in \\Re^{k,\\ell}, \\ \\ell = \\min(k,m), \\mathbf{R} \\in \\Re^{\\ell,m}\n",
      "$$\n",
      "solve (note we require $k \\ge m$ )\n",
      "$$\n",
      "\\mathbf{R}\\vec c = \\mathbf{Q}^T\\mathbf{P}^T\\vec f\n",
      "$$"
     ]
    },
    {
     "cell_type": "markdown",
     "metadata": {},
     "source": [
      "###Basic procedure\n",
      "- pick $m$, dimension for $F$ reduced basis $\\mathbf{U}_m$\n",
      "- Determine the index set for sampling indices $\\mathcal{I}$ and define $\\vec \\rho$. For starters, I'll try a version of DEIM algorithm to determine and add the inflow boundary. \n",
      "- build $\\mathbf{P}$ from $\\rho$ as \n",
      "$$\n",
      "\\mathbf{P} = [\\vec e_{\\rho_1},\\vec e_{\\rho_2},\\dots,\\vec e_{\\rho_m}]\n",
      "$$\n",
      "- compute the pseudoinverse of $\\mathbf{M} =\\mathbf{P}^T\\mathbf{U}_m$\n",
      "- set $\\mathbf{P}_F=\\mathbf{U}_m(\\mathbf{P}^T\\mathbf{U}_m)^{\\dagger}$\n",
      "- During evolution\n",
      "    - project to fine grid $\\vec y = \\mathbf{V}_k \\vec y_c$\n",
      "    - evaluate $\\vec F(V_k\\vec y_c)$ at indices in $\\vec \\rho \\rightarrow \\vec c$\n",
      "    - apply gappy POD interpolant $\\vec F_c = \\mathbf{V}_k^T\\mathbf{P}_F\\vec c$\n",
      "    - use $\\vec F_c$ in right hand side of reduced ODE"
     ]
    },
    {
     "cell_type": "code",
     "collapsed": false,
     "input": [
      "def gappy_DEIM(Uin,nind_target,verbose=0):\n",
      "    \"\"\"\n",
      "    Try to implement greedy algorithm from Carlberg et al 2011\n",
      "    \n",
      "    input: Uin n x m array of basis vectors for nonlinear function snapshots\n",
      "    nind_target: number of indices would like to use\n",
      "    output: rho, m vector of indices \\rho_i for extracting $\\vec F$ values\n",
      "\n",
      "    \"\"\"\n",
      "    n,ns = Uin.shape\n",
      "    indices = set()#mathcal{I}\n",
      "    nind = 0\n",
      "    m=0\n",
      "    r=Uin[:,0]\n",
      "    niter = 0\n",
      "    while nind < nind_target and niter < n:\n",
      "        rind = np.argmax(np.absolute(r)) \n",
      "        if not rind in indices:\n",
      "            indices.add(rind)\n",
      "        if verbose > 0:\n",
      "            print 'Gappy alg. nind={0} chose rind={1}'.format(nind,rind)\n",
      "        #mathcal{K} in algorithm\n",
      "        neigs = set([max(0,rind-1)]+[min(n-1,rind+1)])\n",
      "        indices |= neigs\n",
      "        nind = len(indices)\n",
      "        m += 1\n",
      "        mmin = min(m,ns-1)\n",
      "        p = min(m-1,ns-1)\n",
      "        rho = np.array(list(indices),dtype='i')\n",
      "        U = Uin[:,0:p+1]\n",
      "        u = Uin[:,mmin]\n",
      "        c,l2res,rank,svals = np.linalg.lstsq(U[rho],u[rho])\n",
      "        r = u-np.dot(U,c)\n",
      "        #kill indices that have already been selected\n",
      "        r[rho] = 0.0\n",
      "        niter += 1\n",
      "    #\n",
      "    return rho"
     ],
     "language": "python",
     "metadata": {},
     "outputs": []
    },
    {
     "cell_type": "code",
     "collapsed": false,
     "input": [
      "#truncate basis\n",
      "m = 42\n",
      "Um = U[:,0:m]\n",
      "UmT= Um.T\n",
      "print \"Truncating nonlinear function to m={0}, \\sigma_f={1}\".format(m,Sf[m])\n"
     ],
     "language": "python",
     "metadata": {},
     "outputs": []
    },
    {
     "cell_type": "code",
     "collapsed": false,
     "input": [
      "rho_deim = DEIM(Um)\n",
      "print 'after calling DEIM, rho=',rho_deim"
     ],
     "language": "python",
     "metadata": {},
     "outputs": []
    },
    {
     "cell_type": "code",
     "collapsed": false,
     "input": [
      "percent = 0.5#0.55\n",
      "ntarget = min(max(int(n*percent),m),n)\n",
      "rho_gappy = gappy_DEIM(Um,ntarget,verbose=1)\n",
      "if 0 not in rho_gappy:\n",
      "    tmp = np.zeros(rho_gappy.shape[0]+1,'i')\n",
      "    tmp[0:-1] = rho_gappy\n",
      "    tmp[-1]=0\n",
      "    rho_gappy = tmp[:]\n",
      "print 'after calling Carlberg etal 11 greedy algorithm target indices={0}, actual = {1} rho= {2} '.format(ntarget,len(rho_gappy),rho_gappy)"
     ],
     "language": "python",
     "metadata": {},
     "outputs": []
    },
    {
     "cell_type": "code",
     "collapsed": false,
     "input": [],
     "language": "python",
     "metadata": {},
     "outputs": []
    },
    {
     "cell_type": "code",
     "collapsed": false,
     "input": [
      "n_sample=len(rho_gappy)\n",
      "print 'using {0} indices {1} '.format(n_sample,rho_gappy)"
     ],
     "language": "python",
     "metadata": {},
     "outputs": []
    },
    {
     "cell_type": "markdown",
     "metadata": {},
     "source": [
      "###Calculate $\\mathbf{P}^T\\mathbf{U}_m$ by just extracting rows in numpy \n",
      "\n",
      "###Then invert and set $\\mathbf{P}_F=\\mathbf{U}_m (\\mathbf{P}^T\\mathbf{U}_m)^{\\dagger})$"
     ]
    },
    {
     "cell_type": "code",
     "collapsed": false,
     "input": [
      "PtUm_gappy = Um[rho_gappy]\n",
      "assert PtUm_gappy.shape == (n_sample,m)\n",
      "\n",
      "PtUmInv_gappy = np.linalg.pinv(PtUm_gappy)\n",
      "PF_gappy= np.dot(Um,PtUmInv_gappy)\n"
     ],
     "language": "python",
     "metadata": {},
     "outputs": []
    },
    {
     "cell_type": "code",
     "collapsed": false,
     "input": [
      "fy = F(Ysnap[:,1])\n",
      "yc = np.dot(V_kT,Ysnap[:,1])\n",
      "fhyper = F_hyper_brute(yc,F,rho_gappy,PF_gappy)\n",
      "fdeim  = F_hyper_brute(yc,F,rho_deim,PF_deim)\n",
      "fhyper_on_fine = np.dot(V_k,fhyper)\n",
      "fdeim_on_fine  = np.dot(V_k,fdeim)\n"
     ],
     "language": "python",
     "metadata": {},
     "outputs": []
    },
    {
     "cell_type": "code",
     "collapsed": false,
     "input": [],
     "language": "python",
     "metadata": {},
     "outputs": []
    },
    {
     "cell_type": "code",
     "collapsed": false,
     "input": [],
     "language": "python",
     "metadata": {},
     "outputs": []
    },
    {
     "cell_type": "code",
     "collapsed": false,
     "input": [
      "def plot_k(index):\n",
      "    fy = F(Ysnap[:,index])\n",
      "    yctmp = np.dot(V_kT,Ysnap[:,index])\n",
      "    fhyper = F_hyper_brute(yctmp,F,rho_gappy,PF_gappy)\n",
      "    fdeim  = F_hyper_brute(yctmp,F,rho_deim,PF_deim)\n",
      "    #projec fdeim back to fine grid to compare?\n",
      "    fhyper_on_fine = np.dot(V_k,fhyper)\n",
      "    fdeim_on_fine  = np.dot(V_k,fdeim)\n",
      "    plt.plot(x,Ysnap[:,index],'b',x,fy,'k',x,fhyper_on_fine,'r',x,fdeim_on_fine,'g')\n",
      "    plt.xlabel('x'); plt.ylabel('y')\n",
      "    plt.title('Gappy POD and full approximations for F at time $t^i=%12.3f$' % (tnList[index]))\n",
      "    leg=plt.legend(['$y^{%d}$'% (index),'$rhs(y^0)$','GPOD','DEIM'],loc=1)\n",
      "\n",
      "wid = widgets.interact(plot_k,\n",
      "                       index=widgets.IntSliderWidget(min=0,max=n_snap))\n",
      "display(wid)"
     ],
     "language": "python",
     "metadata": {},
     "outputs": []
    },
    {
     "cell_type": "markdown",
     "metadata": {},
     "source": [
      "##Could also use QR factorization \n",
      "$$\n",
      "\\mathbf{P}^T\\mathbf{U}_m = \\mathbf{Q}\\mathbf{R}\n",
      "$$\n",
      "$$\n",
      "\\mathbf{P}_F=\\mathbf{U}_m\\mathbf{R}^{-1}\\mathbf{Q}^T\n",
      "$$"
     ]
    },
    {
     "cell_type": "code",
     "collapsed": false,
     "input": [
      "if True:\n",
      "    PtUm_gappy = Um[rho_gappy]\n",
      "    assert PtUm_gappy.shape == (n_sample,m)\n",
      "    Q,R = np.linalg.qr(PtUm_gappy,mode='reduced')\n",
      "    PtUmInv = np.dot(np.linalg.inv(R),Q.T)\n",
      "    PF_gappy= np.dot(Um,PtUmInv)\n"
     ],
     "language": "python",
     "metadata": {},
     "outputs": []
    },
    {
     "cell_type": "code",
     "collapsed": false,
     "input": [],
     "language": "python",
     "metadata": {},
     "outputs": []
    },
    {
     "cell_type": "code",
     "collapsed": false,
     "input": [
      "def F_hyper_brute_ls(yc,F_nonlin,rho,PF):\n",
      "    \"\"\"\n",
      "    evaluate F for the reduced model by sampling and\n",
      "    use projection/interpolation to compute a fine grid approximation\n",
      "    \n",
      "    and then restricting\n",
      "    \n",
      "    compute projection of coarse to fine grid\n",
      "    \n",
      "    This one just does a brute force evaluation\n",
      "   \n",
      "    returns V_k^T P_F P^T F(V_k yc)    \n",
      "    \"\"\"\n",
      "    yf = np.dot(V_k,yc)#projection to fine\n",
      "    Ff = F_nonlin(yf) #calculate value of F on fine grid \n",
      "    PFf = Ff[rho]\n",
      "    #hardwiderd\n",
      "    c,l2res,rank,svals = np.linalg.lstsq(PtUm_gappy,PFf)\n",
      "    return np.dot(V_kT,np.dot(Um,c))\n"
     ],
     "language": "python",
     "metadata": {},
     "outputs": []
    },
    {
     "cell_type": "markdown",
     "metadata": {},
     "source": [
      "###Perform the evolution"
     ]
    },
    {
     "cell_type": "code",
     "collapsed": false,
     "input": [
      "yc0 = np.dot(V_kT,y0)\n",
      "yf0 = np.dot(V_k,yc0)\n",
      "dt = choose_dt_cfl(yf0,target_cfl,dx)\n",
      "yc = yc0.copy()\n",
      "\n",
      "Mhat.fill(0.)\n",
      "bhat.fill(0.)\n",
      "F_gappy = lambda y,indices,PF: F_hyper_brute(y,F,indices,PF)\n",
      "gappy_system = HyperReduced_Evolution_System(F_gappy,Mhat,Ahat,bhat,rhs_for_bc_hat,Ihat,rho_gappy,PF_gappy)\n",
      "Ycg_snap,ncg_snap,tnList_gappy,ncg_t,yc_gappy = time_march(t0,yc0,T,choose_dt_brute,gappy_system)\n"
     ],
     "language": "python",
     "metadata": {},
     "outputs": []
    },
    {
     "cell_type": "code",
     "collapsed": false,
     "input": [
      "ncg_snap"
     ],
     "language": "python",
     "metadata": {},
     "outputs": []
    },
    {
     "cell_type": "code",
     "collapsed": false,
     "input": [
      "yc2f_gappy = np.zeros((n,ncg_snap),'d')\n",
      "for i in range(ncg_snap):\n",
      "    yc2f_gappy[:,i] = np.dot(V_k,Ycg_snap[:,i])\n"
     ],
     "language": "python",
     "metadata": {},
     "outputs": []
    },
    {
     "cell_type": "code",
     "collapsed": false,
     "input": [
      "index = 20#2#n_t-10\n",
      "fig = plt.figure()\n",
      "ax = fig.gca()\n",
      "ax.plot(x,Yf_snap[:,index],'b',x,yc2f_gappy[:,index],'r')\n",
      "plt.xlabel('x')\n",
      "plt.ylabel('y')\n",
      "plt.title('solutions at time $t^i=%12.3f$ $t^i_{d}=%12.3f$' % (tnList[index],tnList_gappy[index]))\n",
      "leg=ax.legend(['$y^i$','DEIM $\\hat{y}^i$'],loc=1)\n",
      "\n"
     ],
     "language": "python",
     "metadata": {},
     "outputs": []
    },
    {
     "cell_type": "code",
     "collapsed": false,
     "input": [
      "yc2f_gappy[:,-1]"
     ],
     "language": "python",
     "metadata": {},
     "outputs": []
    },
    {
     "cell_type": "code",
     "collapsed": false,
     "input": [
      "def plot_k(index):\n",
      "    if index < Yf_snap.shape[1] and index < yc2f_gappy.shape[1]:\n",
      "        plt.plot(x,Yf_snap[:,index],'b',x,yc2f_gappy[:,index],'r')\n",
      "        plt.xlabel('x'); plt.ylabel('y')\n",
      "        plt.title('POD+Gappy and full solutions at time $t^{%d}=%12.3f$, $t^{%d}_d= %12.3f$' % (index,tnList[index],index,tnList_gappy[index]))\n",
      "        leg=plt.legend(['$y^i$','$\\hat{y}^i$'],loc=1)\n",
      "\n",
      "wid = widgets.interact(plot_k,\n",
      "                       index=widgets.IntSliderWidget(min=0,max=ncg_snap))\n",
      "display(wid)"
     ],
     "language": "python",
     "metadata": {},
     "outputs": []
    },
    {
     "cell_type": "code",
     "collapsed": false,
     "input": [
      "len(rho_gappy)"
     ],
     "language": "python",
     "metadata": {},
     "outputs": []
    },
    {
     "cell_type": "code",
     "collapsed": false,
     "input": [],
     "language": "python",
     "metadata": {},
     "outputs": []
    }
   ],
   "metadata": {}
  }
 ]
}