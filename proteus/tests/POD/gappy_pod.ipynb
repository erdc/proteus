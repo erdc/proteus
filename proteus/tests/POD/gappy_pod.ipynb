{
 "metadata": {
  "name": "",
  "signature": "sha256:dcb63504bcef4c99897ce143f9cafbddcbc5800959aef636a50a4a115b8f0228"
 },
 "nbformat": 3,
 "nbformat_minor": 0,
 "worksheets": [
  {
   "cells": [
    {
     "cell_type": "code",
     "collapsed": false,
     "input": [
      "# setup\n",
      "%matplotlib inline"
     ],
     "language": "python",
     "metadata": {},
     "outputs": []
    },
    {
     "cell_type": "markdown",
     "metadata": {},
     "source": [
      "# Test Gappy POD for image reconstruction\n",
      "Looking at the Everson and Sirovich and Wilcox formulation for gappy POD, we would\n",
      "\n",
      "1. Compute $M$ snapshots for the image which $N$ total pixels\n",
      "$$\n",
      "\\mathbf{S} = [\\vec f^1, \\vec f^2, \\dots, \\vec f^M] \\in \\Re^{N \\times M} \n",
      "$$\n",
      "2. Compute standard POD basis for snapshots\n",
      "$$\n",
      "\\mathbf{S} = \\mathbf{U}\\mathbf{\\Sigma}\\mathbf{W}^T\n",
      "$$\n",
      "3. Pick a truncation level for basis, $m$ and call the sub array of $\\mathbf{U}$ with these $m$ columns as $\\mathbf{U}_m$. Using full projection for the basis vectors $\\vec u_{i}, i=1,\\dots,m$ we can represent an image stored in the array $\\vec g$ as\n",
      "$$\n",
      "\\vec g = \\sum_{i=1}^{m} a_i \\vec u_i \\\\\n",
      "       = \\mathbf{U}_m\\vec a \\\\\n",
      "a_i    = (\\vec g,\\vec u_i) \n",
      "$$\n",
      "where $(x,y)$ is the regular dot product.\n",
      "\n",
      "3. Next Pick $k$ indices for sampling from the image. We will pick these as a random distribution where $k$ is a set percentage of the total number\n",
      "$$\n",
      "\\mathcal{I} = \\{i_1,i_2,\\dots,i_k\\}\n",
      "$$\n",
      "and define a mask vector $\\vec \\eta$\n",
      "$$\n",
      "\\eta_{j} = 1, \\mbox{ if } j \\in \\mathcal{I} \\\\\n",
      "   \\;   = 0, \\mbox{ otherwise}\n",
      "$$\n",
      "4. Given $\\mathcal{I}$ we can define a 'masked' dot product\n",
      "$$\n",
      "(x,y)_{k} = \\sum_{j=1}^{N} n_j x_j y_j n_j \\\\\n",
      "$$\n",
      "4. Solve least-squares problem to minimize error in interpolation assuming that we are using the specified sampling indices. That is, for a given image $\\vec g$ we want to find the solution to\n",
      "    $$\n",
      "    \\vec a = \\mbox{arg min}_{\\vec y}\\|\\sum_{i=1}^{N}(y_i,\\vec u_i)_k - \\vec \\eta \\vec g\\|_2\n",
      "    $$\n",
      "where $\\vec \\eta \\vec g$ is componentwise multiplication.\n",
      "This is equivalent to solving the system\n",
      "$$\n",
      "\\mathbf{M}\\vec a = \\vec b \\\\\n",
      "M_{ij} = (\\vec u_i,\\vec u_j)_{k} \\\\\n",
      "b_{i}  = (\\vec g, \\vec u_i)_{k}\n",
      "$$\n",
      "which can be done using the Moore-Penrose pseudo inverse $\\vec a = \\mathbf{M}^{+}\\vec b$\n",
      "$$\n",
      "\\mathbf{M}^{\\dagger} = \\hat{\\mathbf{W}}\\hat{\\mathbf{\\Sigma}}^{\\dagger}\\hat{\\mathbf{U}}^{T}\n",
      "$$ \n",
      "where $\\hat{\\mathbf{\\Sigma}}^{\\dagger} \\in \\Re^{m\\times m}$ with the nonzero entries  given by\n",
      "    \n",
      "$$\n",
      "\\hat{\\Sigma}^{\\dagger}_{ii}= 1/\\Sigma_{ii}, \\mbox{ if } \\Sigma_{ii} > 0\n",
      "$$\n",
      "and \n",
      "$$\n",
      "\\mathbf{M} = \\hat{\\mathbf{U}}\\hat{\\mathbf{\\Sigma}}\\hat{\\mathbf{W}}^{T}\n",
      "$$ \n",
      "is the usual SVD of $\\mathbf{M}$\n",
      "\n",
      "\n",
      "\n"
     ]
    },
    {
     "cell_type": "markdown",
     "metadata": {},
     "source": [
      "##To test, we can use some face data from scikit learn"
     ]
    },
    {
     "cell_type": "code",
     "collapsed": false,
     "input": [
      "import sklearn as skl\n",
      "from sklearn.datasets import fetch_olivetti_faces\n",
      "from sklearn.cross_validation import train_test_split\n",
      "\n",
      "import numpy as np\n",
      "from numpy.random import RandomState"
     ],
     "language": "python",
     "metadata": {},
     "outputs": []
    },
    {
     "cell_type": "code",
     "collapsed": false,
     "input": [
      "rng = RandomState(0)"
     ],
     "language": "python",
     "metadata": {},
     "outputs": []
    },
    {
     "cell_type": "code",
     "collapsed": false,
     "input": [
      "#grab face data set \n",
      "olivetti_faces = fetch_olivetti_faces(shuffle=True,random_state=rng)\n"
     ],
     "language": "python",
     "metadata": {},
     "outputs": []
    },
    {
     "cell_type": "code",
     "collapsed": false,
     "input": [
      "#introspect the images arrays to find the shapes (for plotting)\n",
      "#number of samples, pixel sizes\n",
      "n_samples, h, w = olivetti_faces.images.shape\n",
      "\n",
      "\n",
      "\n",
      "#X holds samples with flattened data. That is, it's n_samples x (h*w)\n",
      "X = olivetti_faces.data\n",
      "n_features = X.shape[1]\n",
      "\n"
     ],
     "language": "python",
     "metadata": {},
     "outputs": []
    },
    {
     "cell_type": "code",
     "collapsed": false,
     "input": [
      "#checking sizes\n",
      "X.shape,n_samples,h*w"
     ],
     "language": "python",
     "metadata": {},
     "outputs": []
    },
    {
     "cell_type": "code",
     "collapsed": false,
     "input": [
      "#split the dataset into training and test\n",
      "n_train=250; n_test=X.shape[0]-n_train\n",
      "X_train = X[:n_train,:]\n",
      "X_test  = X[n_train:,:]"
     ],
     "language": "python",
     "metadata": {},
     "outputs": []
    },
    {
     "cell_type": "code",
     "collapsed": false,
     "input": [],
     "language": "python",
     "metadata": {},
     "outputs": []
    },
    {
     "cell_type": "code",
     "collapsed": false,
     "input": [
      "print X_train.shape\n",
      "#X_train is M x N where M is the number of snapshots and N is the fine grid dimension, so I'll transpose for clarity\n",
      "print 'Transposing training set now shape is '\n",
      "X_train = X_train.T\n",
      "print X_train.shape\n"
     ],
     "language": "python",
     "metadata": {},
     "outputs": []
    },
    {
     "cell_type": "code",
     "collapsed": false,
     "input": [
      "print X_test.shape\n",
      "#X_test is M x N where M is the number of snapshots and N is the fine grid dimension, so I'll transpose for clarity\n",
      "print 'Transposing test set now shape is '\n",
      "X_test = X_test.T\n",
      "print X_test.shape\n",
      "\n"
     ],
     "language": "python",
     "metadata": {},
     "outputs": []
    },
    {
     "cell_type": "code",
     "collapsed": false,
     "input": [
      "U,S,V = np.linalg.svd(X_train)"
     ],
     "language": "python",
     "metadata": {},
     "outputs": []
    },
    {
     "cell_type": "code",
     "collapsed": false,
     "input": [
      "#how many modes to consider \n",
      "m = 50"
     ],
     "language": "python",
     "metadata": {},
     "outputs": []
    },
    {
     "cell_type": "code",
     "collapsed": false,
     "input": [
      "from matplotlib import pyplot as plt, cm\n"
     ],
     "language": "python",
     "metadata": {},
     "outputs": []
    },
    {
     "cell_type": "code",
     "collapsed": false,
     "input": [
      "#plot the dominant mode\n",
      "mode = 0\n",
      "tmp = U[:,mode].reshape(h,w)\n",
      "plt.imshow(tmp, cmap=cm.gray)#, interpolation='nearest')"
     ],
     "language": "python",
     "metadata": {},
     "outputs": []
    },
    {
     "cell_type": "markdown",
     "metadata": {},
     "source": [
      "###now let's pick a test image and see if we can reconstruct it by projecting it onto the reduced basis"
     ]
    },
    {
     "cell_type": "code",
     "collapsed": false,
     "input": [
      "test_im = X_test[:,0]"
     ],
     "language": "python",
     "metadata": {},
     "outputs": []
    },
    {
     "cell_type": "code",
     "collapsed": false,
     "input": [
      "plt.imshow(test_im.reshape(h,w),cmap=cm.gray)"
     ],
     "language": "python",
     "metadata": {},
     "outputs": []
    },
    {
     "cell_type": "markdown",
     "metadata": {},
     "source": [
      "Calculate the projection onto each basis"
     ]
    },
    {
     "cell_type": "code",
     "collapsed": false,
     "input": [
      "a_full = np.zeros(m,'d')\n",
      "for i in range(m):\n",
      "    a_full[i] = np.dot(test_im,U[:,i])\n"
     ],
     "language": "python",
     "metadata": {},
     "outputs": []
    },
    {
     "cell_type": "code",
     "collapsed": false,
     "input": [
      "test_im_proj = np.dot(U[:,:m],a_full)"
     ],
     "language": "python",
     "metadata": {},
     "outputs": []
    },
    {
     "cell_type": "code",
     "collapsed": false,
     "input": [
      "plt.imshow(test_im_proj.reshape(h,w),cmap=cm.gray)"
     ],
     "language": "python",
     "metadata": {},
     "outputs": []
    },
    {
     "cell_type": "markdown",
     "metadata": {},
     "source": [
      "##Now create a random mask for the Gappy reconstruction"
     ]
    },
    {
     "cell_type": "code",
     "collapsed": false,
     "input": [
      "percent_mask = 0.1\n",
      "n_mask=int(X_train.shape[0]*percent_mask)\n",
      "mask_ind = np.random.randint(0,high=X_train.shape[0],size=n_mask)\n",
      "mask = np.zeros(X_train.shape[0],dtype='b')\n",
      "mask[mask_ind] = True"
     ],
     "language": "python",
     "metadata": {},
     "outputs": []
    },
    {
     "cell_type": "code",
     "collapsed": false,
     "input": [
      "mask.shape,h*w,test_im.shape"
     ],
     "language": "python",
     "metadata": {},
     "outputs": []
    },
    {
     "cell_type": "code",
     "collapsed": false,
     "input": [
      "test_masked=test_im*mask\n",
      "plt.imshow(test_masked.reshape(h,w),cmap=cm.gray)"
     ],
     "language": "python",
     "metadata": {},
     "outputs": []
    },
    {
     "cell_type": "markdown",
     "metadata": {},
     "source": [
      "##Define gappy projection matrix using masked dot product"
     ]
    },
    {
     "cell_type": "code",
     "collapsed": false,
     "input": [
      "M = np.zeros((m,m),dtype='d')\n",
      "f = np.zeros((m,),dtype='d')\n",
      "for i in range(m):\n",
      "    f[i] = np.dot(mask*test_im,U[:,i]*mask)\n",
      "    for j in range(m):\n",
      "        M[i,j] = np.dot(mask*U[:,i],mask*U[:,j])\n",
      "    "
     ],
     "language": "python",
     "metadata": {},
     "outputs": []
    },
    {
     "cell_type": "code",
     "collapsed": false,
     "input": [
      "#pseudo inverse of M\n",
      "Mp = np.linalg.pinv(M)"
     ],
     "language": "python",
     "metadata": {},
     "outputs": []
    },
    {
     "cell_type": "code",
     "collapsed": false,
     "input": [
      "a_gappy = np.dot(Mp,f)"
     ],
     "language": "python",
     "metadata": {},
     "outputs": []
    },
    {
     "cell_type": "code",
     "collapsed": false,
     "input": [
      "test_im_gappy = np.dot(U[:,0:m],a_gappy)"
     ],
     "language": "python",
     "metadata": {},
     "outputs": []
    },
    {
     "cell_type": "code",
     "collapsed": false,
     "input": [
      "plt.imshow(test_im_gappy.reshape(h,w),cmap=cm.gray)"
     ],
     "language": "python",
     "metadata": {},
     "outputs": []
    },
    {
     "cell_type": "markdown",
     "metadata": {},
     "source": [
      "##Now let's try a widget for fun"
     ]
    },
    {
     "cell_type": "code",
     "collapsed": false,
     "input": [
      "from IPython.html.widgets import interact, interactive, fixed, interaction\n",
      "from IPython.html import widgets\n",
      "from IPython.display import display"
     ],
     "language": "python",
     "metadata": {},
     "outputs": []
    },
    {
     "cell_type": "code",
     "collapsed": false,
     "input": [
      "def build_POD_basis(X,m=None):\n",
      "    \"\"\"\n",
      "    perform SVD on snapshot matrix X\n",
      "    truncate to level m\n",
      "    returns U,S from USW^T=X\n",
      "    \"\"\"\n",
      "    #compute basis\n",
      "    U,S,V = np.linalg.svd(X)\n",
      "    if m is not None:\n",
      "        return U[:,0:m],S[0:m]\n",
      "    return U,S\n",
      "\n",
      "def build_gappy_approx(test_im,U_m,gap_per):\n",
      "    \"\"\"\n",
      "    Go through all the steps of building a gappy POD reconstruction\n",
      "    test_image -- what to approximate\n",
      "    U_m -- basis vectors\n",
      "    gap_per -- percentage of total pixels to use in gappy representation\n",
      "    \"\"\"\n",
      "    #define masked points\n",
      "    N = U_m.shape[0]; m = U_m.shape[1]\n",
      "    n_mask=int(N*gap_per)\n",
      "    mask_ind = np.random.randint(0,high=N,size=n_mask)\n",
      "    mask = np.zeros(N,dtype='b')\n",
      "    mask[mask_ind] = True\n",
      "    #gappy approximation\n",
      "    M = np.zeros((m,m),dtype='d')\n",
      "    b = np.zeros((m,),dtype='d')\n",
      "    for i in range(m):\n",
      "        b[i] = np.dot(mask*test_im,U_m[:,i]*mask)\n",
      "        for j in range(m):\n",
      "            M[i,j] = np.dot(mask*U_m[:,i],mask*U[:,j])\n",
      "\n",
      "    #\n",
      "    #pseudo inverse of M\n",
      "    Mp = np.linalg.pinv(M)\n",
      "    a_gappy = np.dot(Mp,b)\n",
      "    test_gappy = np.dot(U_m,a_gappy)\n",
      "    \n",
      "    \n",
      "    return test_gappy,a_gappy,mask,Mp\n",
      "\n",
      "    \n",
      "def plot_gappy_approx(test_image,im_h,im_w,U_m,gap_per):\n",
      "    \"\"\"\n",
      "    Go through all the steps of building a gappy POD reconstruction\n",
      "    test_image -- what to approximate\n",
      "    im_h,im_w -- size of images\n",
      "    U_m -- basis vectors\n",
      "    gap_per -- percentage of total pixels to use in gappy representation\n",
      "    \"\"\"\n",
      "    assert test_image.shape[0] == im_h*im_w\n",
      "    test_gappy,a_gappy,mask,Mp = build_gappy_approx(test_image,U_m,gap_per)\n",
      "    #what's the masked image look like\n",
      "    test_masked=test_image*mask\n",
      "    #full projection\n",
      "    a_full = np.dot(U_m.T,test_image)\n",
      "    test_full = np.dot(U_m,a_full)\n",
      "\n",
      "    \n",
      "    plt.subplot(131)\n",
      "    plt.imshow(test_image.reshape(im_h,im_w),cmap=cm.gray)\n",
      "    plt.title('original')\n",
      "    plt.subplot(132)\n",
      "    plt.imshow(test_masked.reshape(im_h,im_w),cmap=cm.gray)\n",
      "    plt.title('masked points')\n",
      "    plt.subplot(133)\n",
      "    plt.imshow(test_gappy.reshape(im_h,im_w),cmap=cm.gray)\n",
      "    plt.title('gappy')\n",
      "\n",
      "\n",
      "    "
     ],
     "language": "python",
     "metadata": {},
     "outputs": []
    },
    {
     "cell_type": "code",
     "collapsed": false,
     "input": [
      "m = 50\n",
      "U_m,S_m = build_POD_basis(X_train,m)\n",
      "\n",
      "\n",
      "\n",
      "\n"
     ],
     "language": "python",
     "metadata": {},
     "outputs": []
    },
    {
     "cell_type": "code",
     "collapsed": false,
     "input": [],
     "language": "python",
     "metadata": {},
     "outputs": []
    },
    {
     "cell_type": "code",
     "collapsed": false,
     "input": [
      "def plot_wrap(test_index=0,percent_mask=0.1):    \n",
      "    test_image = X_test[:,test_index]\n",
      "    plot_gappy_approx(test_image,h,w,U_m,percent_mask) \n",
      "\n"
     ],
     "language": "python",
     "metadata": {},
     "outputs": []
    },
    {
     "cell_type": "code",
     "collapsed": false,
     "input": [
      "ind_wid = widgets.IntTextWidget(min=0,max=X_test.shape[1],value=1)\n",
      "per_wid = widgets.FloatTextWidget(min=0.005,max=1.0,value=0.1)"
     ],
     "language": "python",
     "metadata": {},
     "outputs": []
    },
    {
     "cell_type": "code",
     "collapsed": false,
     "input": [],
     "language": "python",
     "metadata": {},
     "outputs": []
    },
    {
     "cell_type": "code",
     "collapsed": false,
     "input": [
      "wid = widgets.interactive(plot_wrap,test_index=ind_wid,percent_mask=per_wid,m_new=m_wid)"
     ],
     "language": "python",
     "metadata": {},
     "outputs": []
    },
    {
     "cell_type": "code",
     "collapsed": false,
     "input": [
      "display(wid)"
     ],
     "language": "python",
     "metadata": {},
     "outputs": []
    },
    {
     "cell_type": "code",
     "collapsed": false,
     "input": [],
     "language": "python",
     "metadata": {},
     "outputs": []
    },
    {
     "cell_type": "code",
     "collapsed": false,
     "input": [],
     "language": "python",
     "metadata": {},
     "outputs": []
    }
   ],
   "metadata": {}
  }
 ]
}