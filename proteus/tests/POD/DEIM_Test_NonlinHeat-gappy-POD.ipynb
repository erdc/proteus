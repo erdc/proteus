{
 "metadata": {
  "name": "",
  "signature": "sha256:699d6993ddd1adca1bec03e0d17c2ed8cb0b72c4747a8086ffabfe511e1a824a"
 },
 "nbformat": 3,
 "nbformat_minor": 0,
 "worksheets": [
  {
   "cells": [
    {
     "cell_type": "markdown",
     "metadata": {},
     "source": [
      "#DEIM Example?\n",
      "Try to work through POD with gappy POD for hyperreduction on a method of lines discretization of a simple nonlinear heat equation with constant boundary conditions\n",
      "\n",
      "$$\n",
      "\\frac{\\mathrm d \\vec y}{\\mathrm d t} = \\vec F (\\vec y) \\\\\n",
      "F(y)_i = \\frac{1}{\\Delta x}\\left[k_r(y_{i+1},y_{i})K\\frac{(y_{i+1}-y_{i})}{\\Delta x} - \n",
      "  k_r(y_{i},y_{i-1})K\\frac{(y_{i}-y_{i-1})}{\\Delta x}\\right], \\ i=1,\\dots,n_c-2 \\\\\n",
      "F(y)_0 = 0 \\\\ \n",
      "F(y)_{n_c-1} = 0  \n",
      "$$\n",
      "With boundary conditions\n",
      "$$\n",
      "y_0 = y_l \\\\\n",
      "y_{n_c-1}=y_r\n",
      "$$\n",
      "and initial conditions, $y_i=y_r, i=1,\\dots,n_c$.\n"
     ]
    },
    {
     "cell_type": "markdown",
     "metadata": {},
     "source": [
      "##Problem setup"
     ]
    },
    {
     "cell_type": "code",
     "collapsed": false,
     "input": [
      "import numpy as np\n",
      "import scipy\n",
      "import matplotlib.pyplot as plt\n",
      "from scipy import integrate"
     ],
     "language": "python",
     "metadata": {},
     "outputs": []
    },
    {
     "cell_type": "code",
     "collapsed": false,
     "input": [
      "%matplotlib inline"
     ],
     "language": "python",
     "metadata": {},
     "outputs": []
    },
    {
     "cell_type": "markdown",
     "metadata": {},
     "source": [
      "###Define the functions, parameters, and temporal domain"
     ]
    },
    {
     "cell_type": "code",
     "collapsed": false,
     "input": [
      "#material parameters\n",
      "K = 1.0 #conductivity\n",
      "#relative perm\n",
      "def relperm(y,p=1.5):\n",
      "    tmp = np.where(y > 0.,y**p,0.)\n",
      "    return tmp\n",
      "def drelperm(y,p=1.5):\n",
      "    tmp = np.where(y > 0.,p*y**(p-1.),0.)\n",
      "    return tmp\n",
      "\n",
      "#boundary conditions\n",
      "y_r= 0.\n",
      "y_l= 1."
     ],
     "language": "python",
     "metadata": {},
     "outputs": []
    },
    {
     "cell_type": "markdown",
     "metadata": {},
     "source": [
      "Treat each component as a member of a 'grid' (e.g., MOL) to help build up the example to a PDE."
     ]
    },
    {
     "cell_type": "code",
     "collapsed": false,
     "input": [
      "#spatial interval\n",
      "xL=0.0; Lx=2.0\n",
      "#time interval\n",
      "T=2.0"
     ],
     "language": "python",
     "metadata": {},
     "outputs": []
    },
    {
     "cell_type": "code",
     "collapsed": false,
     "input": [
      "#number of cells in grid\n",
      "nc = 500\n",
      "dx = Lx/nc\n",
      "dxinv=1.0/dx"
     ],
     "language": "python",
     "metadata": {},
     "outputs": []
    },
    {
     "cell_type": "code",
     "collapsed": false,
     "input": [
      "def mdivKgrad(t,y,K,k_r,dk_r,mdiv):\n",
      "    \"\"\"standard cell centered discretization with averaged rel-perms\n",
      "    returns negative of div(K*k_r*grad(y))\n",
      "    \"\"\"\n",
      "    k_ri = k_r(y)\n",
      "    mdiv.fill(0.)\n",
      "    dyp= (y[0]-y_l)/dx\n",
      "    kp = 0.5*K*(k_ri[0]+k_r(np.array(y_l)))\n",
      "    for i in range(nc-1):\n",
      "        km=kp; dym=dyp\n",
      "        kp=0.5*K*(k_ri[i]+k_ri[i+1]); \n",
      "        dyp=(y[i+1]-y[i])/dx;\n",
      "        mdiv[i]= (kp*dyp-km*dym)/dx\n",
      "    km=kp; dym=dyp\n",
      "    kp=0.5*K*(k_r(np.array(y_r))+k_ri[-1]); dyp=(y_r-y[-1])/dx\n",
      "    mdiv[-1] = (kp*dyp-km*dym)/dx\n",
      "    return mdiv\n",
      "\n",
      "def DmdivKgradDy(t,y,K,k_r,dk_r,Jfull):\n",
      "    \"\"\"standard cell centered discretization with averaged rel-perms\n",
      "    returns negative of div(K*k_r*grad(y))\n",
      "    \"\"\"\n",
      "    Jfull.fill(0.)\n",
      "    k_ri = k_r(y)\n",
      "    dk_ri= dk_r(y)\n",
      "    dyp= (y[0]-y_l)/dx\n",
      "    kp = 0.5*K*(k_ri[0]+k_r(np.array(y_l)))\n",
      "\n",
      "    for i in range(0,nc-1):\n",
      "        km=kp; dym=dyp\n",
      "        kp=0.5*K*(k_ri[i]+k_ri[i+1]); \n",
      "        dyp=(y[i+1]-y[i])/dx;\n",
      "        #mdiv[i]= (kp*dyp-km*dym)/dx\n",
      "        Jfull[i,i] =-(kp/dx +km/dx)/dx\n",
      "        Jfull[i,i]+= (0.5*dk_ri[i]*dyp-0.5*dk_ri[i]*dym)/dx\n",
      "        #\n",
      "        if i > 0:\n",
      "            Jfull[i,i-1] = km/(dx**2)\n",
      "            Jfull[i,i-1]+=-0.5*dk_ri[i-1]*dym/dx\n",
      "        #\n",
      "        Jfull[i,i+1] =kp/(dx**2)\n",
      "        Jfull[i,i+1]+=0.5*dk_ri[i+1]*dyp/dx\n",
      "    km=kp; dym=dyp\n",
      "    kp=0.5*K*(k_r(np.array(y_r))+k_ri[-1]); dyp=(y_r-y[-1])/dx\n",
      "    #mdiv[-1] = (kp*dyp-km*dym)/dx\n",
      "    i=nc-1\n",
      "    Jfull[i,i] =-(kp/dx +km/dx)/dx\n",
      "    Jfull[i,i]+= (0.5*dk_ri[i]*dyp-0.5*dk_ri[i]*dym)/dx\n",
      "    #\n",
      "    Jfull[i,i-1] = km/(dx**2)\n",
      "    Jfull[i,i-1]+=-0.5*dk_ri[i-1]*dym/dx\n",
      "    \n",
      "    return Jfull\n"
     ],
     "language": "python",
     "metadata": {},
     "outputs": []
    },
    {
     "cell_type": "code",
     "collapsed": false,
     "input": [],
     "language": "python",
     "metadata": {},
     "outputs": []
    },
    {
     "cell_type": "code",
     "collapsed": false,
     "input": [
      "x = np.linspace(xL+0.5*dx,xL+Lx-0.5*dx,nc)\n",
      "#number of time steps \n",
      "n_t = 500\n",
      "dt = T/float(n_t)\n",
      "#initial time\n",
      "t=0.\n",
      "tnList = np.linspace(0,T,n_t+1)\n",
      "#initial condition with boundary conditions included\n",
      "y0 = np.zeros((nc,)); y0[:]=y_r; y0[0]=y_l\n",
      "#storage for the jacobian and divergence\n",
      "mdiv  = np.zeros((nc,),'d')\n",
      "Jfull = np.zeros((nc,nc),'d')"
     ],
     "language": "python",
     "metadata": {},
     "outputs": []
    },
    {
     "cell_type": "markdown",
     "metadata": {},
     "source": [
      "###The right hand side function for the MOL"
     ]
    },
    {
     "cell_type": "code",
     "collapsed": false,
     "input": [
      "def rhs(t,y,K,k_r,dk_r,d,mdivFunc):\n",
      "    return mdivFunc(t,y,K,k_r,dk_r,d)"
     ],
     "language": "python",
     "metadata": {},
     "outputs": []
    },
    {
     "cell_type": "code",
     "collapsed": false,
     "input": [
      "tnList.shape"
     ],
     "language": "python",
     "metadata": {},
     "outputs": []
    },
    {
     "cell_type": "markdown",
     "metadata": {},
     "source": [
      "Check the function implementations"
     ]
    },
    {
     "cell_type": "code",
     "collapsed": false,
     "input": [
      "f = rhs(t,y0,K,relperm,drelperm,mdiv,mdivKgrad)"
     ],
     "language": "python",
     "metadata": {},
     "outputs": []
    },
    {
     "cell_type": "code",
     "collapsed": false,
     "input": [
      "fig = plt.figure()\n",
      "ax = fig.gca()\n",
      "ax.plot(x,y0,'b',x,f,'r')\n",
      "plt.xlabel('x')\n",
      "plt.ylabel('y')\n",
      "leg=ax.legend(['$y^0$','$rhs(y^0)$'],loc=1)"
     ],
     "language": "python",
     "metadata": {},
     "outputs": []
    },
    {
     "cell_type": "code",
     "collapsed": false,
     "input": [
      "#integrate.ode?\n",
      "#%pdb on\n"
     ],
     "language": "python",
     "metadata": {},
     "outputs": []
    },
    {
     "cell_type": "markdown",
     "metadata": {},
     "source": [
      "##Generate Snapshots"
     ]
    },
    {
     "cell_type": "markdown",
     "metadata": {},
     "source": [
      "###\"Run\" forward problem\n",
      "March from $[0,T]$ in $n_t$ steps by solving ODE"
     ]
    },
    {
     "cell_type": "code",
     "collapsed": false,
     "input": [
      "%pdb off\n",
      "#y,infodict = integrate.odeint(rhs,y0,tnList,(K,relperm,drelperm,mdivKgrad,),Dfun=DmdivKgradDy,col_deriv=False,full_output=1)\n",
      "\n",
      "#y,infodict = integrate.odeint(rhs,y0,tnList,(K,relperm,drelperm,mdivKgrad,),Dfun=Drhs_newt_dense,full_output=1)\n",
      "\n",
      "\n",
      "#y,infodict = integrate.odeint(rhs,y0,tnList,(K,relperm,drelperm,mdivKgrad,),full_output=1)\n",
      "t0=tnList[0]; i=0; y=np.zeros((len(tnList)+1,y0.shape[0]),'d')\n",
      "y[0,:]=y0\n",
      "solver = integrate.ode(rhs,DmdivKgradDy)\n",
      "solver.set_integrator('vode',method='bdf',with_jacobian=True,nsteps=10000)\n",
      "solver.set_initial_value(y0,t0)\n",
      "solver.set_f_params(K,relperm,drelperm,mdiv,mdivKgrad)\n",
      "solver.set_jac_params(K,relperm,drelperm,Jfull)\n",
      "t=t0\n",
      "while solver.successful() and solver.t < tnList[-1]:\n",
      "    solver.integrate(tnList[i+1])\n",
      "    print(\"i={0} took step to {1}\".format(i,solver.t))\n",
      "    i += 1\n",
      "    y[i,:]=solver.y[:]\n",
      "Ysnap=y[1:,:].T\n",
      "\n"
     ],
     "language": "python",
     "metadata": {},
     "outputs": []
    },
    {
     "cell_type": "markdown",
     "metadata": {},
     "source": [
      "Collect snapshots"
     ]
    },
    {
     "cell_type": "code",
     "collapsed": false,
     "input": [
      "Fsnap=np.zeros((nc,Ysnap.shape[1]))\n",
      "for j in range(Ysnap.shape[1]): \n",
      "    Fsnap[:,j]=mdivKgrad(tnList[j],Ysnap[:,j],K,relperm,drelperm,mdiv)"
     ],
     "language": "python",
     "metadata": {},
     "outputs": []
    },
    {
     "cell_type": "markdown",
     "metadata": {},
     "source": [
      "Just check the solutions at different times"
     ]
    },
    {
     "cell_type": "code",
     "collapsed": false,
     "input": [
      "index = n_t/2#2#n_t-10\n",
      "\n",
      "fig = plt.figure()\n",
      "ax = fig.gca()\n",
      "ax.plot(x,Ysnap[:,index],'b',x,Fsnap[:,index],'r')\n",
      "plt.xlabel('x')\n",
      "plt.ylabel('y')\n",
      "plt.title('Snapshots at time $t^i=%12.3f$' % (index*dt))\n",
      "leg=ax.legend(['$y^i$','$F(y^i)$'],loc=1)"
     ],
     "language": "python",
     "metadata": {},
     "outputs": []
    },
    {
     "cell_type": "markdown",
     "metadata": {},
     "source": [
      "##Singular Value Decompositions"
     ]
    },
    {
     "cell_type": "markdown",
     "metadata": {},
     "source": [
      "Perform SVD for both snapshots\n",
      "$$\n",
      "\\mathbf{VSW}^{T} = \\mathbf{Y}\n",
      "$$\n",
      "and \n",
      "$$\n",
      "\\mathbf{U}\\mathbf{S}_F\\mathbf{W}_F^T=\\mathbf{F}\n",
      "$$"
     ]
    },
    {
     "cell_type": "code",
     "collapsed": false,
     "input": [
      "V,S,W = np.linalg.svd(Ysnap,full_matrices=True)"
     ],
     "language": "python",
     "metadata": {},
     "outputs": []
    },
    {
     "cell_type": "code",
     "collapsed": false,
     "input": [
      "U,Sf,Wf=np.linalg.svd(Fsnap,full_matrices=True)"
     ],
     "language": "python",
     "metadata": {},
     "outputs": []
    },
    {
     "cell_type": "markdown",
     "metadata": {},
     "source": [
      "Look at the eigenvalues for the decompositions"
     ]
    },
    {
     "cell_type": "code",
     "collapsed": false,
     "input": [
      "fig=plt.figure()\n",
      "ax = fig.gca()\n",
      "plt.subplot(1,2,1)\n",
      "plt.plot(np.log10(S),'b*',label='S')\n",
      "plt.ylabel('singular values, $\\mathbf{Y}$')\n",
      "plt.subplot(1,2,2)\n",
      "plt.plot(np.log10(Sf),'r*',label='$S_f$')\n",
      "plt.ylabel('singular values, $\\mathbf{F}$')\n"
     ],
     "language": "python",
     "metadata": {},
     "outputs": []
    },
    {
     "cell_type": "markdown",
     "metadata": {},
     "source": [
      "Test reduced representation"
     ]
    },
    {
     "cell_type": "code",
     "collapsed": false,
     "input": [
      "#truncate solution snapshots\n",
      "n_k = 200\n",
      "V_k = V[:,0:n_k]\n",
      "V_kT= V_k.conj().T\n",
      "print \"Truncating to n_k={0}, \\sigma={1}\".format(n_k,S[n_k])\n",
      "print 'V_kT shape is ',V_kT.shape\n"
     ],
     "language": "python",
     "metadata": {},
     "outputs": []
    },
    {
     "cell_type": "markdown",
     "metadata": {},
     "source": [
      "##Evolve the reduced system \n",
      "\n",
      "###Here we would compute the reduced linear part if there were one\n",
      "$$\n",
      "\\hat{\\mathbf{A}} = \\mathbf{V}_k^{T}\\mathbf{A}\\mathbf{V}_k\n",
      "$$"
     ]
    },
    {
     "cell_type": "code",
     "collapsed": false,
     "input": [
      "\"\"\"\n",
      "Ahat=V_kT.dot(np.dot(np.diag(a),V_k))\n",
      "\"\"\""
     ],
     "language": "python",
     "metadata": {},
     "outputs": []
    },
    {
     "cell_type": "markdown",
     "metadata": {},
     "source": [
      "##define a brute force evaluation on the fine grid"
     ]
    },
    {
     "cell_type": "code",
     "collapsed": false,
     "input": [
      "def mdivKgrad_f2c(t,yc,K,k_r,dk_r,mdiv):\n",
      "    \"\"\"\n",
      "    evaluate F for the reduced model by projecting to the fine grid, evaluating, \n",
      "    and then restricting\n",
      "    \n",
      "    returns V_k^T F(V_k y)\n",
      "    \n",
      "    \"\"\"\n",
      "    yf = np.dot(V_k,yc)\n",
      "    mdiv = mdivKgrad(t,yf,K,k_r,dk_r,mdiv)\n",
      "    return np.dot(V_kT,mdiv)\n"
     ],
     "language": "python",
     "metadata": {},
     "outputs": []
    },
    {
     "cell_type": "code",
     "collapsed": false,
     "input": [
      "def DmdivKgradDy_f2c(t,yc,K,k_r,dk_r,Jf):\n",
      "    \"\"\"\n",
      "    evaluate Jacobian for the reduced model by projecting to the fine grid, evaluating, \n",
      "    and then restricting\n",
      "    \n",
      "    returns V_k^T J_f(V_k y) V_k\n",
      "    \n",
      "    \"\"\"\n",
      "    yf = np.dot(V_k,yc)\n",
      "    Jf = DmdivKgradDy(t,yf,K,k_r,dk_r,Jf)\n",
      "    return np.dot(V_kT,np.dot(Jf,V_k))\n"
     ],
     "language": "python",
     "metadata": {},
     "outputs": []
    },
    {
     "cell_type": "markdown",
     "metadata": {},
     "source": [
      "###integrate forward in time"
     ]
    },
    {
     "cell_type": "code",
     "collapsed": false,
     "input": [
      "del solver"
     ],
     "language": "python",
     "metadata": {},
     "outputs": []
    },
    {
     "cell_type": "code",
     "collapsed": false,
     "input": [
      "yc0 = np.dot(V_kT,y0)\n",
      "yc=np.zeros((len(tnList)+1,yc0.shape[0]),'d')\n",
      "solver = integrate.ode(rhs,DmdivKgradDy_f2c)\n",
      "solver.set_integrator('vode',method='bdf',with_jacobian=True,nsteps=1000)\n",
      "solver.set_initial_value(yc0,t0)\n",
      "solver.set_f_params(K,relperm,drelperm,mdiv,mdivKgrad_f2c)\n",
      "solver.set_jac_params(K,relperm,drelperm,Jfull)\n",
      "t=t0; i=0\n",
      "while solver.successful() and solver.t < tnList[-1]:\n",
      "    solver.integrate(tnList[i+1])\n",
      "    print(\"i={0} took step to {1}\".format(i,solver.t))\n",
      "    i += 1\n",
      "    yc[i,:]=solver.y[:]\n"
     ],
     "language": "python",
     "metadata": {},
     "outputs": []
    },
    {
     "cell_type": "markdown",
     "metadata": {},
     "source": [
      "##project back to fine grid for comparison\n",
      "\n",
      "Recall output of `odeint` is (n_t+1) x n_k"
     ]
    },
    {
     "cell_type": "code",
     "collapsed": false,
     "input": [
      "yc2f = np.zeros((yc.shape[0],nc))\n",
      "for i in range(yc.shape[0]):\n",
      "    yc2f[i,:] = np.dot(V_k,yc[i,:])\n",
      "    "
     ],
     "language": "python",
     "metadata": {},
     "outputs": []
    },
    {
     "cell_type": "markdown",
     "metadata": {},
     "source": [
      "##compare reduced solution to fine grid for different times\n"
     ]
    },
    {
     "cell_type": "code",
     "collapsed": false,
     "input": [
      "index = 3#2#n_t-10\n",
      "#note y,y2cf are (n_t+1) x n which is transpose of snapshots\n",
      "fig = plt.figure()\n",
      "ax = fig.gca()\n",
      "ax.plot(x,y[index,:],'b',x,yc2f[index,:],'r')\n",
      "plt.xlabel('x')\n",
      "plt.ylabel('y')\n",
      "plt.title('solutions at time $t^i=%12.3f$' % (tnList[index]))\n",
      "leg=ax.legend(['$y^i$','$\\hat{y}^i$'],loc=1)"
     ],
     "language": "python",
     "metadata": {},
     "outputs": []
    },
    {
     "cell_type": "markdown",
     "metadata": {},
     "source": [
      "###try a widget for practice"
     ]
    },
    {
     "cell_type": "code",
     "collapsed": false,
     "input": [
      "from IPython.html import widgets\n",
      "from IPython.display import display"
     ],
     "language": "python",
     "metadata": {},
     "outputs": []
    },
    {
     "cell_type": "code",
     "collapsed": false,
     "input": [
      "#widgets.interact?"
     ],
     "language": "python",
     "metadata": {},
     "outputs": []
    },
    {
     "cell_type": "code",
     "collapsed": false,
     "input": [
      "def plot_k(index):\n",
      "    plt.plot(x,y[index,:],'b',x,yc2f[index,:],'r')\n",
      "    plt.xlabel('x'); plt.ylabel('y')\n",
      "    plt.title('POD and full solutions at time $t^i=%12.3f$' % (tnList[index]))\n",
      "    leg=plt.legend(['$y^i$','$\\hat{y}^i$'],loc=1)\n",
      "\n",
      "wid = widgets.interact(plot_k,\n",
      "                       index=widgets.IntSliderWidget(min=0,max=n_t))\n",
      "display(wid)"
     ],
     "language": "python",
     "metadata": {},
     "outputs": []
    },
    {
     "cell_type": "markdown",
     "metadata": {},
     "source": [
      "##Now actually try gappy POD for evaluating nonlinearity\n",
      "\n",
      "The process as I understand it for gappy pod is\n",
      "\n",
      "1. Compute $M$ snapshots for high dimensional nonlinear function \n",
      "$$\n",
      "\\mathbf{S} = [\\vec f^1, \\vec f^2, \\dots, \\vec f^M] \\in \\Re^{n \\times M} \n",
      "$$\n",
      "2. Compute standard POD basis for snapshots\n",
      "$$\n",
      "\\mathbf{S} = \\mathbf{U}_F\\mathbf{\\Sigma}_F\\mathbf{W}_F^T\n",
      "$$\n",
      "3. Pick a truncation level for basis, $m$\n",
      "3. Pick $k$ indices for sampling from nonlinear function. DEIM will give us $k=m$ indices. Do I want more according to Ansallem slides? Is the Wilcox procedure different/better?\n",
      "$$\n",
      "\\mathcal{I} = \\{i_1,i_2,\\dots,i_k\\}\n",
      "$$\n",
      "To tie back to the DEIM formalism, we'll refer to the $k$ dimensional vector holding the entries\n",
      "of $\\mathcal{I}$ as $\\vec \\rho$.\n",
      "4. Solve least-squares problem to minimize error in interpolation assuming that we are using the specified sampling indices. \n",
      "    - Define sample matrix $\\mathbf{P} = [\\vec e_{i_1}, \\vec e_{i_2}, \\dots, \\vec e_{i_k}]$\n",
      "    - I believe we technically solve the following problem at each time step\n",
      "    $$\n",
      "    \\vec c = \\mbox{arg min}_{\\vec y}\\|\\mathbf{P}^T\\mathbf{U}_m\\vec y - \\mathbf{P}^T\\vec f\\|_2\n",
      "    $$\n",
      " \n",
      "The solution to this least squares minimization problem is \n",
      "\n",
      "- Define $\\mathbf{M} = \\mathbf{P^T}\\mathbf{U}_m \\in \\Re^{k \\times m}$\n",
      "- Perform SVD of $\\mathbf{M} = \\hat{\\mathbf{U}}\\hat{\\mathbf{\\Sigma}}\\hat{\\mathbf{W}}^T$. Here \n",
      "  $\\hat{\\mathbf{U}} \\in \\Re^{k \\times k}$, $\\hat{\\mathbf{W}} \\in \\Re^{m \\times m}$, and   $\\hat{\\mathbf{\\Sigma}} \\in \\Re^{k \\times m}$. \n",
      "   \n",
      "- Define the Moore-Penrose pseudoinverse\n",
      "\n",
      "    $$\n",
      "    \\mathbf{M}^{\\dagger} = \\hat{\\mathbf{W}}\\hat{\\mathbf{\\Sigma}}^{\\dagger}\\hat{\\mathbf{U}}^{T}\n",
      "    $$ \n",
      "    where $\\hat{\\mathbf{\\Sigma}}^{\\dagger} \\in \\Re^{m\\times k}$ with the nonzero entries  given by\n",
      "    \n",
      "    $$\n",
      "    \\hat{\\Sigma}^{\\dagger}_{ii}= 1/\\Sigma_{ii}, \\mbox{ if } \\Sigma_{ii} > 0\n",
      "    $$\n",
      "- set $\\vec c = \\mathbf{M}^{\\dagger}\\mathbf{P}^T\\vec f$    \n",
      "\n",
      "I believe we can compute the Moore-Penrose pseudoinverse with `numpy.linalg.pinv`  \n",
      "\n",
      "Alternatively, we could just use numpy's least squares algorithm or the QR factorization suggested by Carlberg et al in their 2011 paper\n",
      "\n",
      "$$\n",
      "\\mathbf{Q}\\mathbf{R} = \\mathbf{M}, \\ \\ \\mathbf{Q} \\in \\Re^{k,\\ell}, \\ \\ell = \\min(k,m), \\mathbf{R} \\in \\Re^{\\ell,m}\n",
      "$$\n",
      "solve (note we require $k \\ge m$ )\n",
      "$$\n",
      "\\mathbf{R}\\vec c = \\mathbf{Q}^T\\mathbf{P}^T\\vec f\n",
      "$$"
     ]
    },
    {
     "cell_type": "markdown",
     "metadata": {},
     "source": [
      "###Basic procedure\n",
      "- pick $m$, dimension for $F$ reduced basis $\\mathbf{U}_m$\n",
      "- Determine the index set for sampling indices $\\mathcal{I}$ and define $\\vec \\rho$. For starters, I'll try a version of DEIM algorithm to determine and add the inflow boundary. \n",
      "- build $\\mathbf{P}$ from $\\rho$ as \n",
      "$$\n",
      "\\mathbf{P} = [\\vec e_{\\rho_1},\\vec e_{\\rho_2},\\dots,\\vec e_{\\rho_m}]\n",
      "$$\n",
      "- compute the pseudoinverse of $\\mathbf{M} =\\mathbf{P}^T\\mathbf{U}_m$\n",
      "- set $\\mathbf{P}_F=\\mathbf{U}_m(\\mathbf{P}^T\\mathbf{U}_m)^{\\dagger}$\n",
      "- During evolution\n",
      "    - project to fine grid $\\vec y = \\mathbf{V}_k \\vec y_c$\n",
      "    - evaluate $\\vec F(V_k\\vec y_c)$ at indices in $\\vec \\rho \\rightarrow \\vec c$\n",
      "    - apply gappy POD interpolant $\\vec F_c = \\mathbf{V}_k^T\\mathbf{P}_F\\vec c$\n",
      "    - use $\\vec F_c$ in right hand side of reduced ODE"
     ]
    },
    {
     "cell_type": "code",
     "collapsed": false,
     "input": [
      "def DEIM(Uin):\n",
      "    \"\"\"\n",
      "    input: Uin n x m array of basis vectors for nonlinear function snapshots\n",
      "    output: rho, m vector of indices \\rho_i for extracting $\\vec F$ values\n",
      "\n",
      "    \"\"\"\n",
      "    n,m=Uin.shape\n",
      "    rind = np.argmax(np.absolute(Uin[:,0]))\n",
      "    U=np.array(Uin[:,0])\n",
      "    rho=np.array([rind],'i')\n",
      "    #Pt = np.zeros((1,n),'d')\n",
      "    #P[0,rind]=1.0\n",
      "    for j in range(1,m):\n",
      "        u = Uin[:,j]        \n",
      "        Up=U[rho]#Up= np.dot(Pt,U)\n",
      "        up=u[rho]#up= np.dot(Pt,u)\n",
      "        if j==1:\n",
      "            c=up/Up\n",
      "            r=u-U*c\n",
      "        else:\n",
      "            c =np.linalg.solve(Up,up)\n",
      "            r=u-np.dot(U,c)          \n",
      "        rind=np.argmax(np.absolute(r))\n",
      "        rho_new = np.zeros(j+1,'i'); \n",
      "        rho_new[:-1]=rho; rho_new[-1]=rind; rho = rho_new\n",
      "        U_new=np.zeros((n,j+1),'d')\n",
      "        U_new[:,:-1]=U.reshape(n,j); U_new[:,-1]=u\n",
      "        U=U_new\n",
      "    #\n",
      "    return rho"
     ],
     "language": "python",
     "metadata": {},
     "outputs": []
    },
    {
     "cell_type": "code",
     "collapsed": false,
     "input": [
      "def gappy_DEIM(Uin,nind_target):\n",
      "    \"\"\"\n",
      "    Try to implement greedy algorithm from Carlberg et al 2011\n",
      "    \n",
      "    input: Uin n x m array of basis vectors for nonlinear function snapshots\n",
      "    nind_target: number of indices would like to use\n",
      "    output: rho, m vector of indices \\rho_i for extracting $\\vec F$ values\n",
      "\n",
      "    \"\"\"\n",
      "    n,ns = Uin.shape\n",
      "    indices = set()#mathcal{I}\n",
      "    nind = 0\n",
      "    m=0\n",
      "    r=Uin[:,0]\n",
      "    niter = 0\n",
      "    while nind < nind_target and niter < n:\n",
      "        rind = np.argmax(np.absolute(r))        \n",
      "        indices.add(rind)\n",
      "        #mathcal{K} in algorithm\n",
      "        neigs = set([max(0,rind-1)]+[min(n-1,rind+1)])\n",
      "        indices |= neigs\n",
      "        nind = len(indices)\n",
      "        m += 1\n",
      "        mmin = min(m,ns-1)\n",
      "        p = min(m-1,ns-1)\n",
      "        rho = np.array(list(indices),dtype='i')\n",
      "        U = Uin[:,0:p+1]\n",
      "        u = Uin[:,mmin]\n",
      "        c,l2res,rank,svals = np.linalg.lstsq(U[rho],u[rho])\n",
      "        r = u-np.dot(U,c)\n",
      "        #kill indices that have already been selectec\n",
      "        r[rho] = 0.0\n",
      "        niter += 1\n",
      "    #\n",
      "    return rho"
     ],
     "language": "python",
     "metadata": {},
     "outputs": []
    },
    {
     "cell_type": "code",
     "collapsed": false,
     "input": [
      "#truncate basis\n",
      "m = 355\n",
      "Um = U[:,0:m]\n",
      "UmT= Um.T\n",
      "print \"Truncating nonlinear function to m={0}, \\sigma_f={1}\".format(m,Sf[m])\n"
     ],
     "language": "python",
     "metadata": {},
     "outputs": []
    },
    {
     "cell_type": "code",
     "collapsed": false,
     "input": [
      "#np.linalg.lstsq?"
     ],
     "language": "python",
     "metadata": {},
     "outputs": []
    },
    {
     "cell_type": "code",
     "collapsed": false,
     "input": [
      "rho_deim = DEIM(Um)\n",
      "print 'after calling DEIM, rho=',rho_deim"
     ],
     "language": "python",
     "metadata": {},
     "outputs": []
    },
    {
     "cell_type": "code",
     "collapsed": false,
     "input": [
      "percent = 1.01\n",
      "ntarget = min(int(percent*m),nc)\n",
      "rho_gappy = gappy_DEIM(Um,ntarget)\n",
      "print 'after calling Carlberg etal 11 greedy algorithm target indices={0}, actual = {1} rho= {2} '.format(ntarget,len(rho_gappy),rho_gappy)"
     ],
     "language": "python",
     "metadata": {},
     "outputs": []
    },
    {
     "cell_type": "code",
     "collapsed": false,
     "input": [
      "rho = rho_gappy#rho_deim#rho_gappy\n",
      "n_sample=len(rho)\n",
      "print 'using {0} indices {1} '.format(n_sample,rho)"
     ],
     "language": "python",
     "metadata": {},
     "outputs": []
    },
    {
     "cell_type": "markdown",
     "metadata": {},
     "source": [
      "##Now,I need the stencil of unknowns that will be required to evaluate divergence operator "
     ]
    },
    {
     "cell_type": "code",
     "collapsed": false,
     "input": [],
     "language": "python",
     "metadata": {},
     "outputs": []
    },
    {
     "cell_type": "code",
     "collapsed": false,
     "input": [
      "#np.linalg.qr?"
     ],
     "language": "python",
     "metadata": {},
     "outputs": []
    },
    {
     "cell_type": "markdown",
     "metadata": {},
     "source": [
      "###Calculate $\\mathbf{P}^T\\mathbf{U}_m$ by just extracting rows in numpy \n",
      "\n",
      "###Then invert and set $\\mathbf{P}_F=\\mathbf{U}_m (\\mathbf{P}^T\\mathbf{U}_m)^{\\dagger})$"
     ]
    },
    {
     "cell_type": "code",
     "collapsed": false,
     "input": [
      "PtUm = Um[rho]\n",
      "assert PtUm.shape == (n_sample,m)\n",
      "\n",
      "PtUmInv = np.linalg.pinv(PtUm)\n",
      "PF= np.dot(Um,PtUmInv)\n"
     ],
     "language": "python",
     "metadata": {},
     "outputs": []
    },
    {
     "cell_type": "markdown",
     "metadata": {},
     "source": [
      "##Could also use QR factorization \n",
      "$$\n",
      "\\mathbf{P}^T\\mathbf{U}_m = \\mathbf{Q}\\mathbf{R}\n",
      "$$\n",
      "$$\n",
      "\\mathbf{P}_F=\\mathbf{U}_m\\mathbf{R}^{-1}\\mathbf{Q}^T\n",
      "$$"
     ]
    },
    {
     "cell_type": "code",
     "collapsed": false,
     "input": [
      "PtUm = Um[rho]\n",
      "assert PtUm.shape == (n_sample,m)\n",
      "Q,R = np.linalg.qr(PtUm,mode='reduced')\n",
      "PtUmInv = np.dot(np.linalg.inv(R),Q.T)\n",
      "PF= np.dot(Um,PtUmInv)\n"
     ],
     "language": "python",
     "metadata": {},
     "outputs": []
    },
    {
     "cell_type": "code",
     "collapsed": false,
     "input": [
      "PF.shape"
     ],
     "language": "python",
     "metadata": {},
     "outputs": []
    },
    {
     "cell_type": "markdown",
     "metadata": {},
     "source": [
      "##Now define the right hand side term that uses gappy POD"
     ]
    },
    {
     "cell_type": "markdown",
     "metadata": {},
     "source": [
      "###start by still doing full evaluation and just extracting the sample indices"
     ]
    },
    {
     "cell_type": "code",
     "collapsed": false,
     "input": [
      "def mdivKgrad_hyper_brute(t,yc,K,k_r,dk_r,mdiv,rho):\n",
      "    \"\"\"\n",
      "    evaluate F for the reduced model by projecting to the fine grid, \n",
      "    evaluate on fine grid \n",
      "    extract rho indices\n",
      "    compute hyper reduced interpolant\n",
      "    project back to coarse grid\n",
      "    \n",
      "    returns V_k^T PF F(V_k y)\n",
      "    \n",
      "    \"\"\"\n",
      "    yf = np.dot(V_k,yc)\n",
      "    mdiv = mdivKgrad(t,yf,K,k_r,dk_r,mdiv)\n",
      "    c = mdiv[rho]\n",
      "    return np.dot(V_kT,np.dot(PF,c))\n"
     ],
     "language": "python",
     "metadata": {},
     "outputs": []
    },
    {
     "cell_type": "code",
     "collapsed": false,
     "input": [
      "def DmdivKgradDy_hyper_brute(t,yc,K,k_r,dk_r,Jf,rho):\n",
      "    \"\"\"\n",
      "    evaluate Jacobian for the reduced model by projecting to the fine grid, \n",
      "    evaluate\n",
      "    \n",
      "    and then restricting\n",
      "    \n",
      "    returns V_k^T PF J_f(V_k y) V_k\n",
      "    \n",
      "    \"\"\"\n",
      "    yf = np.dot(V_k,yc)\n",
      "    Jf = DmdivKgradDy(t,yf,K,k_r,dk_r,Jf)\n",
      "    Jf = Jf[rho]\n",
      "    Jf_deim = np.dot(PF,Jf)\n",
      "    return np.dot(V_kT,np.dot(Jf_deim,V_k))\n"
     ],
     "language": "python",
     "metadata": {},
     "outputs": []
    },
    {
     "cell_type": "code",
     "collapsed": false,
     "input": [],
     "language": "python",
     "metadata": {},
     "outputs": []
    },
    {
     "cell_type": "code",
     "collapsed": false,
     "input": [
      "def rhs_hyper(t,y,K,k_r,dk_r,d,rho,mdivFunc):\n",
      "    return mdivFunc(t,y,K,k_r,dk_r,d,rho)"
     ],
     "language": "python",
     "metadata": {},
     "outputs": []
    },
    {
     "cell_type": "code",
     "collapsed": false,
     "input": [],
     "language": "python",
     "metadata": {},
     "outputs": []
    },
    {
     "cell_type": "markdown",
     "metadata": {},
     "source": [
      "##Try to compare interpolation at different snap shots"
     ]
    },
    {
     "cell_type": "code",
     "collapsed": false,
     "input": [
      "index = 100\n",
      "mdiv_tmp = np.zeros(nc,'d')\n",
      "fy = rhs(tnList[index],y[index,:],K,relperm,drelperm,mdiv,mdivKgrad)\n",
      "yctmp = np.dot(V_kT,y[index,:])\n",
      "fhyper = rhs_hyper(tnList[index],yctmp,K,relperm,drelperm,mdiv_tmp,rho,mdivKgrad_hyper_brute)\n",
      "\n",
      "#projec fdeim back to fine grid to compare?\n",
      "fhyper_on_fine = np.dot(V_k,fhyper)\n",
      "\n",
      "#compare to full projection\n",
      "\n",
      "fig = plt.figure()\n",
      "ax = fig.gca()\n",
      "ax.plot(x,y[index,:],'b',x,fy,'k',x,fhyper_on_fine,'r')\n",
      "plt.xlabel('x')\n",
      "plt.ylabel('y')\n",
      "leg=ax.legend(['$y^%d$'%index,'$rhs(y^0)$','hyper approximation of f'],loc=1)"
     ],
     "language": "python",
     "metadata": {},
     "outputs": []
    },
    {
     "cell_type": "code",
     "collapsed": false,
     "input": [
      "mdiv_tmp = np.zeros(nc,'d')\n",
      "def plot_k(index):\n",
      "    fy = rhs(tnList[index],y[index,:],K,relperm,drelperm,mdiv,mdivKgrad)\n",
      "    yctmp = np.dot(V_kT,y[index,:])\n",
      "    fhyper = rhs_hyper(tnList[index],yctmp,K,relperm,drelperm,mdiv_tmp,rho,mdivKgrad_hyper_brute)\n",
      "    #projec fdeim back to fine grid to compare?\n",
      "    fhyper_on_fine = np.dot(V_k,fhyper)\n",
      "\n",
      "    plt.plot(x,y[index,:],'b',x,fy,'k',x,fhyper_on_fine,'r')\n",
      "    plt.xlabel('x'); plt.ylabel('y')\n",
      "    plt.title('Gappy POD and full approximations for div at time $t^i=%12.3f$' % (tnList[index]))\n",
      "    leg=plt.legend(['$y^%d$'%index,'$rhs(y^0)$','GPOD approximation of f'],loc=1)\n",
      "\n",
      "wid = widgets.interact(plot_k,\n",
      "                       index=widgets.IntSliderWidget(min=0,max=n_t))\n",
      "display(wid)"
     ],
     "language": "python",
     "metadata": {},
     "outputs": []
    },
    {
     "cell_type": "code",
     "collapsed": false,
     "input": [
      "del solver"
     ],
     "language": "python",
     "metadata": {},
     "outputs": []
    },
    {
     "cell_type": "markdown",
     "metadata": {},
     "source": [
      "##perform the evolution"
     ]
    },
    {
     "cell_type": "code",
     "collapsed": false,
     "input": [
      "jac_func=DmdivKgradDy_hyper_brute\n",
      "div_func=mdivKgrad_hyper_brute\n",
      "mdiv_hyper = np.zeros(nc,'d')\n",
      "yc0 = np.dot(V_kT,y0)\n",
      "yc_hyper=np.zeros((len(tnList)+1,yc0.shape[0]),'d')\n",
      "mdiv_yc=np.zeros(yc0.shape,'d')\n",
      "solver = integrate.ode(rhs_hyper,jac_func)\n",
      "solver.set_integrator('vode',method='bdf',with_jacobian=jac_func is not None,nsteps=10000)\n",
      "solver.set_initial_value(yc0,t0)\n",
      "solver.set_f_params(K,relperm,drelperm,mdiv_hyper,rho,div_func)\n",
      "if jac_func is not None:\n",
      "    solver.set_jac_params(K,relperm,drelperm,Jfull,rho)\n",
      "t=t0; i=0\n",
      "while solver.successful() and solver.t < tnList[-1]:\n",
      "    solver.integrate(tnList[i+1])\n",
      "    print(\"i={0} took step to {1}\".format(i,solver.t))\n",
      "    i += 1\n",
      "    yc_hyper[i,:]=solver.y[:]\n"
     ],
     "language": "python",
     "metadata": {},
     "outputs": []
    },
    {
     "cell_type": "code",
     "collapsed": false,
     "input": [
      "yc2f_hyper = np.zeros((yc_hyper.shape[0],nc))\n",
      "for i in range(yc_hyper.shape[0]):\n",
      "    yc2f_hyper[i,:] = np.dot(V_k,yc_hyper[i,:])\n"
     ],
     "language": "python",
     "metadata": {},
     "outputs": []
    },
    {
     "cell_type": "code",
     "collapsed": false,
     "input": [
      "index = n_t-10\n",
      "#note y,y2cf are (n_t+1) x n which is transpose of snapshots\n",
      "fig = plt.figure()\n",
      "ax = fig.gca()\n",
      "ax.plot(x,y[index,:],'b',x,yc2f_hyper[index,:],'r')\n",
      "plt.xlabel('x')\n",
      "plt.ylabel('y')\n",
      "plt.title('Gappy solutions at time $t^i=%12.3f$' % (tnList[index]))\n",
      "leg=ax.legend(['$y^i$','$\\hat{y}^i$'],loc=1)"
     ],
     "language": "python",
     "metadata": {},
     "outputs": []
    },
    {
     "cell_type": "code",
     "collapsed": false,
     "input": [
      "def plot_k(index):\n",
      "    plt.plot(x,y[index,:],'b',x,yc2f_hyper[index,:],'r')\n",
      "    plt.xlabel('x'); plt.ylabel('y')\n",
      "    plt.title('POD+GPOD and full solutions at time $t^i=%12.3f$' % (tnList[index]))\n",
      "    leg=plt.legend(['$y^i$','$\\hat{y}^i$'],loc=1)\n",
      "\n",
      "wid = widgets.interact(plot_k,\n",
      "                       index=widgets.IntSliderWidget(min=0,max=n_t))\n",
      "display(wid)"
     ],
     "language": "python",
     "metadata": {},
     "outputs": []
    },
    {
     "cell_type": "code",
     "collapsed": false,
     "input": [],
     "language": "python",
     "metadata": {},
     "outputs": []
    },
    {
     "cell_type": "code",
     "collapsed": false,
     "input": [],
     "language": "python",
     "metadata": {},
     "outputs": []
    }
   ],
   "metadata": {}
  }
 ]
}