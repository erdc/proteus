{
 "cells": [
  {
   "cell_type": "code",
   "execution_count": null,
   "metadata": {
    "collapsed": false
   },
   "outputs": [],
   "source": [
    "%matplotlib inline\n",
    "import numpy as np\n",
    "import matplotlib.pyplot as plt\n",
    "try:\n",
    "    import h5py\n",
    "except:\n",
    "    print \"could not import h5py\"\n",
    "try:\n",
    "    import tables\n",
    "except:\n",
    "    print \"could not import tables\""
   ]
  },
  {
   "cell_type": "code",
   "execution_count": null,
   "metadata": {
    "collapsed": true
   },
   "outputs": [],
   "source": [
    "h5format = 'h5py'"
   ]
  },
  {
   "cell_type": "code",
   "execution_count": null,
   "metadata": {
    "collapsed": true
   },
   "outputs": [],
   "source": [
    "ar_hyper = h5py.File('pod_burgers_hyper_1d.h5','r')"
   ]
  },
  {
   "cell_type": "code",
   "execution_count": null,
   "metadata": {
    "collapsed": false
   },
   "outputs": [],
   "source": []
  },
  {
   "cell_type": "code",
   "execution_count": null,
   "metadata": {
    "collapsed": false
   },
   "outputs": [],
   "source": [
    "if h5format == 'tables':\n",
    "    ar_hyper = tables.openFile('pod_burgers_hyper_1d0.h5','r')\n",
    "    ar_fine  = tables.openFile('burgers_1d0.h5','r')\n",
    "    x = ar_fine.root.nodesSpatial_Domain0[:]\n",
    "    def get_hyper(ind):\n",
    "        return getattr(ar_hyper.root,'u{0}'.format(ind))\n",
    "    def get_fine(ind):\n",
    "        return getattr(ar_fine.root,'u{0}'.format(ind))\n",
    "elif h5format == \"h5py\":\n",
    "    ar_hyper = h5py.File('pod_burgers_hyper_1d.h5','r')\n",
    "    ar_fine  = h5py.File('burgers_1d.h5','r')\n",
    "    x = ar_fine['nodes0Spatial_Domain0'][:]\n",
    "    def get_hyper(ind):\n",
    "        return ar_hyper['u_p0_t{0}'.format(ind)][:]\n",
    "    def get_fine(ind):\n",
    "        return ar_fine['u_p0_t{0}'.format(ind)][:]   \n",
    "\n",
    "\n",
    "    "
   ]
  },
  {
   "cell_type": "code",
   "execution_count": null,
   "metadata": {
    "collapsed": true
   },
   "outputs": [],
   "source": []
  },
  {
   "cell_type": "code",
   "execution_count": null,
   "metadata": {
    "collapsed": false
   },
   "outputs": [],
   "source": [
    "def get_times():\n",
    "    from burgers_init import so\n",
    "    return np.array(so.tnList)"
   ]
  },
  {
   "cell_type": "code",
   "execution_count": null,
   "metadata": {
    "collapsed": false
   },
   "outputs": [],
   "source": [
    "times = get_times()\n",
    "print 'number of time steps is {0}'.format(len(times))"
   ]
  },
  {
   "cell_type": "code",
   "execution_count": null,
   "metadata": {
    "collapsed": false
   },
   "outputs": [],
   "source": [
    "ind = 75\n",
    "plt.plot(x,get_hyper(ind),'b-',x,get_fine(ind),'k-')\n",
    "plt.xlabel('x'); plt.ylabel('u'); \n",
    "plt.legend(['hyper','fine'])"
   ]
  },
  {
   "cell_type": "code",
   "execution_count": null,
   "metadata": {
    "collapsed": true
   },
   "outputs": [],
   "source": [
    "ar_hyper.close()\n",
    "ar_fine.close()"
   ]
  },
  {
   "cell_type": "code",
   "execution_count": null,
   "metadata": {
    "collapsed": true
   },
   "outputs": [],
   "source": []
  }
 ],
 "metadata": {
  "kernelspec": {
   "display_name": "Python 2",
   "language": "python",
   "name": "python2"
  },
  "language_info": {
   "codemirror_mode": {
    "name": "ipython",
    "version": 2
   },
   "file_extension": ".py",
   "mimetype": "text/x-python",
   "name": "python",
   "nbconvert_exporter": "python",
   "pygments_lexer": "ipython2",
   "version": "2.7.9"
  }
 },
 "nbformat": 4,
 "nbformat_minor": 0
}
