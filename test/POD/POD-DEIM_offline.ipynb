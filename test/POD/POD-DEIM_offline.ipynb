{
 "metadata": {
  "name": "",
  "signature": "sha256:bfc430d03f44160faecf125bc9d5efa334c56cf0237fcfbc278c68549015084c"
 },
 "nbformat": 3,
 "nbformat_minor": 0,
 "worksheets": [
  {
   "cells": [
    {
     "cell_type": "markdown",
     "metadata": {},
     "source": [
      "#Perform standard offline calculations for POD\n",
      "-----------------------------------------------\n",
      "##POD for the solution\n",
      "1. Read in solution snapshots, $\\mathbf{S} \\in R^{N \\times n_{s}}$\n",
      "2. Compute SVD for solution snapshots, $\\mathbf{S} = \\mathbf{U}\\mathbf{\\Sigma} \\mathbf{W}^T$. Save $\\mathbf{U}$, diag($\\Sigma$) to separate files\n",
      "3. Calculate which level of truncation gives you 99.99\\% of the 'energy' from $\\mathbf{S}$\n",
      "4. Define $\\tilde{\\mathbf{U}} = \\mathbf{U}_{i,j}, 1 \\le i \\le N, 1 \\le j \\le m$. Save $\\tilde{\\mathbf{U}}$ to a file.\n",
      "\n",
      "##POD for the nonlinear snapshots\n",
      "1. Read in solution snapshots, $\\mathbf{S}_f \\in R^{N \\times n_{s}}$\n",
      "2. Compute SVD for solution snapshots, $\\mathbf{S}_f = \\mathbf{U}_f\\mathbf{\\Sigma}_f \\mathbf{W}_f^T$. Save $\\mathbf{U}_f$, diag($\\Sigma_f$) to separate files\n",
      "3. Calculate which level of truncation gives you 99.99\\% of the 'energy' from $\\mathbf{S}$\n",
      "4. Define $\\tilde{\\mathbf{U}}_f = \\mathbf{U}_{f,i,j}, 1 \\le i \\le N, 1 \\le j \\le m_f$. Save $\\tilde{\\mathbf{U}}_f$ to a file.\n",
      "\n",
      "##DEIM for evaluation of the nonlinearity\n",
      "1. Set $\\vec{\\rho}, \\tilde{\\mathbf{U}}_f \\leftarrow \\mbox{DEIM}(m_f,\\tilde{\\mathbf{U}}_f)$\n",
      "2. Write out indices $\\rho$ to a file- pick $m$, dimension for $F$ reduced basis $\\mathbf{U}_m$\n",
      "3. Formally build $\\mathbf{P}$ from $\\rho$ as \n",
      "    $$\n",
      "    \\mathbf{P} = [\\vec e_{\\rho_1},\\vec e_{\\rho_2},\\dots,\\vec e_{\\rho_m}]\n",
      "    $$\n",
      "   Really just save $\\vec{\\rho}$ as a vector for evaluations\n",
      "4. Invert $\\mathbf{P}^T\\tilde{\\mathbf{U}}_f$\n",
      "5. Set $\\mathbf{Q}=\\tilde{\\mathbf{U}}_f(\\mathbf{P}^T\\tilde{\\mathbf{U}}_f)^{-1}$\n",
      "6. Save $\\mathbf{Q}$ to a file.\n",
      "\n",
      "During evolution\n",
      "1. Project to fine grid $\\vec v = \\tilde{\\mathbf{U}} \\vec z$\n",
      "2. Evaluate $\\vec F(\\tilde{\\mathbf{U}}\\vec z)$ at indices in $\\vec \\rho \\rightarrow \\vec c$\n",
      "3. Apply DEIM interpolant $\\tilde{\\vec F} = \\tilde{\\mathbf{U}}^T\\mathbf{Q}\\vec c$\n",
      "4. Use $\\tilde{\\vec F}$ in evaluation of reduced system\n"
     ]
    },
    {
     "cell_type": "markdown",
     "metadata": {},
     "source": [
      "Notes from GNAT\n",
      "---------------\n",
      "- good rule of thumb is 99.99% of basis\n",
      "- read refs [35] (Everson et al Journal of the optical society of america), [20] 346-366 (Ryckellynck D JCP 202 2005, [34], galbaly, ghattas, ijnme 2010\n",
      "- implement GNAT burgers equation\n",
      "- GNAT only uses snapshot strategy 0 or 1\n",
      "- think about hyperreduction implementation as sample mesh\n",
      "- read up on linear least squares, Moore-Penrose pseudo inverse\n",
      "- recommends always having at least one sample index on inflow and outflow and at least one area that has sensitivity to input parameters that are driving snapshots"
     ]
    },
    {
     "cell_type": "code",
     "collapsed": false,
     "input": [],
     "language": "python",
     "metadata": {},
     "outputs": []
    }
   ],
   "metadata": {}
  }
 ]
}