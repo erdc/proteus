{
 "metadata": {
  "name": "",
  "signature": "sha256:89afe17c8534bff9ea77b88b09220e3164c91aa6b526391695155a43924f16be"
 },
 "nbformat": 3,
 "nbformat_minor": 0,
 "worksheets": [
  {
   "cells": [
    {
     "cell_type": "markdown",
     "metadata": {},
     "source": [
      "#Perform standard offline calculations for POD\n",
      "-----------------------------------------------\n",
      "##POD for the solution\n",
      "1. Read in solution snapshots, $\\mathbf{S} \\in R^{N \\times n_{s}}$\n",
      "2. Compute SVD for solution snapshots, $\\mathbf{S} = \\mathbf{U}\\mathbf{\\Sigma} \\mathbf{W}^T$. Save $\\mathbf{U}$, diag($\\Sigma$) to separate files\n",
      "3. Calculate which level of truncation gives you 99.99\\% of the 'energy' from $\\mathbf{S}$\n",
      "4. Define $\\tilde{\\mathbf{U}} = \\mathbf{U}_{i,j}, 1 \\le i \\le N, 1 \\le j \\le m$. Save $\\tilde{\\mathbf{U}}$ to a file.\n",
      "\n",
      "\n",
      " "
     ]
    },
    {
     "cell_type": "code",
     "collapsed": false,
     "input": [
      "#some preliminaries\n",
      "import numpy as np\n",
      "import scipy\n",
      "from proteus import deim_utils,Archiver"
     ],
     "language": "python",
     "metadata": {},
     "outputs": []
    },
    {
     "cell_type": "code",
     "collapsed": false,
     "input": [
      "%matplotlib inline\n",
      "import matplotlib.pyplot as plt"
     ],
     "language": "python",
     "metadata": {},
     "outputs": []
    },
    {
     "cell_type": "code",
     "collapsed": false,
     "input": [
      "#read snapshots\n",
      "sim_archive = \"burgers_1d\"\n",
      "archive = Archiver.XdmfArchive(\".\",sim_archive,readOnly=True)\n",
      "\n",
      "#should be able to find this out with a query or something\n",
      "n_s = 100; soln_name='u'\n",
      "S = deim_utils.read_snapshots(archive,n_s+1,soln_name)\n",
      "U, s, W = np.linalg.svd(S, full_matrices=False)\n",
      "\n",
      "print 'SVD for solution done!'\n",
      "np.savetxt('SVD_basis', U, delimiter=' ')\n",
      "np.savetxt('Singular_values', s, delimiter=' ')\n",
      "\n",
      "total_energy = s.sum(); assert total_energy > 0.\n",
      "m,energy=0,0.\n",
      "while energy/total_energy < 0.9999 and m < len(s):\n",
      "    m += 1\n",
      "    energy = s[:m].sum()\n",
      "#\n",
      "print 'truncation level for 99.99% = {0}'.format(m)\n"
     ],
     "language": "python",
     "metadata": {},
     "outputs": []
    },
    {
     "cell_type": "code",
     "collapsed": false,
     "input": [
      "np.savetxt('SVD_basis_truncated_{0}'.format(m), U[:,m], delimiter=' ')"
     ],
     "language": "python",
     "metadata": {},
     "outputs": []
    },
    {
     "cell_type": "code",
     "collapsed": false,
     "input": [
      "#plot the singular values\n",
      "plt.semilogy(s,'o')\n",
      "plt.xlabel('mode'); plt.ylabel('solution singular values')"
     ],
     "language": "python",
     "metadata": {},
     "outputs": []
    },
    {
     "cell_type": "markdown",
     "metadata": {},
     "source": [
      "##POD for the nonlinear snapshots\n",
      "1. Read in solution snapshots, $\\mathbf{S}_f \\in R^{N \\times n_{s}}$\n",
      "2. Compute SVD for solution snapshots, $\\mathbf{S}_f = \\mathbf{U}_f\\mathbf{\\Sigma}_f \\mathbf{W}_f^T$. Save $\\mathbf{U}_f$, diag($\\Sigma_f$) to separate files\n",
      "3. Calculate which level of truncation gives you 99.99\\% of the 'energy' from $\\mathbf{S}$\n",
      "4. Define $\\tilde{\\mathbf{U}}_f = \\mathbf{U}_{f,i,j}, 1 \\le i \\le N, 1 \\le j \\le m_f$. Save $\\tilde{\\mathbf{U}}_f$ to a file.\n"
     ]
    },
    {
     "cell_type": "code",
     "collapsed": false,
     "input": [
      "nonlin_name='spatial_residual0'\n",
      "Sf = deim_utils.read_snapshots(archive,n_s+1,nonlin_name)\n",
      "Uf,sf,Vf = np.linalg.svd(Sf,full_matrices=False)\n",
      "\n",
      "print 'SVD for spatial residual done!'\n",
      "np.savetxt('Fs_SVD_basis', Uf, delimiter=' ')\n",
      "np.savetxt('Fs_Singular_values', sf, delimiter=' ')\n",
      "\n",
      "total_energy = sf.sum(); assert total_energy > 0.\n",
      "mf,energy=0,0.\n",
      "while energy/total_energy < 0.9999 and mf < len(sf):\n",
      "    mf += 1\n",
      "    energy = sf[:mf].sum()\n",
      "#\n",
      "print 'truncation level for 99.99% = {0}'.format(mf)"
     ],
     "language": "python",
     "metadata": {},
     "outputs": []
    },
    {
     "cell_type": "code",
     "collapsed": false,
     "input": [
      "np.savetxt('Fs_SVD_basis_truncated_{0}'.format(mf), Uf[:,mf], delimiter=' ')"
     ],
     "language": "python",
     "metadata": {},
     "outputs": []
    },
    {
     "cell_type": "code",
     "collapsed": false,
     "input": [
      "#plot the singular values\n",
      "plt.semilogy(sf,'r*')\n",
      "plt.xlabel('mode'); plt.ylabel('nonlinearity singular values')"
     ],
     "language": "python",
     "metadata": {},
     "outputs": []
    },
    {
     "cell_type": "markdown",
     "metadata": {},
     "source": [
      "##DEIM for evaluation of the nonlinearity\n",
      "1. Set $\\vec{\\rho}, \\tilde{\\mathbf{U}}_f \\leftarrow \\mbox{DEIM}(m_f,\\tilde{\\mathbf{U}}_f)$\n",
      "2. Write out indices $\\rho$ to a file- pick $m$, dimension for $F$ reduced basis $\\mathbf{U}_m$\n",
      "3. Formally build $\\mathbf{P}$ from $\\rho$ as \n",
      "    $$\n",
      "    \\mathbf{P} = [\\vec e_{\\rho_1},\\vec e_{\\rho_2},\\dots,\\vec e_{\\rho_m}]\n",
      "    $$\n",
      "   Really just save $\\vec{\\rho}$ as a vector for evaluations\n",
      "4. Invert $\\mathbf{P}^T\\tilde{\\mathbf{U}}_f$\n",
      "5. Set $\\mathbf{Q}=\\tilde{\\mathbf{U}}_f(\\mathbf{P}^T\\tilde{\\mathbf{U}}_f)^{-1}$\n",
      "6. Save $\\mathbf{Q}$ to a file.\n",
      "\n",
      "During evolution\n",
      "1. Project to fine grid $\\vec v = \\tilde{\\mathbf{U}} \\vec z$\n",
      "2. Evaluate $\\vec F(\\tilde{\\mathbf{U}}\\vec z)$ at indices in $\\vec \\rho \\rightarrow \\vec c$\n",
      "3. Apply DEIM interpolant $\\tilde{\\vec F} = \\tilde{\\mathbf{U}}^T\\mathbf{Q}\\vec c$\n",
      "4. Use $\\tilde{\\vec F}$ in evaluation of reduced system\n"
     ]
    },
    {
     "cell_type": "code",
     "collapsed": false,
     "input": [
      "rho,Q = deim_utils.deim_alg(Uf,mf)\n",
      "np.savetxt('Fs_DEIM_indices_truncated_{0}'.format(mf),rho,delimiter=' ')\n",
      "plt.plot(rho,'o')\n",
      "plt.xlabel('mode'); plt.ylabel('DEIM index')"
     ],
     "language": "python",
     "metadata": {},
     "outputs": []
    },
    {
     "cell_type": "markdown",
     "metadata": {},
     "source": [
      "Notes from GNAT\n",
      "---------------\n",
      "- good rule of thumb is 99.99% of basis\n",
      "- read refs [35] (Everson et al Journal of the optical society of america), [20] 346-366 (Ryckellynck D JCP 202 2005, [34], galbaly, ghattas, ijnme 2010\n",
      "- implement GNAT burgers equation\n",
      "- GNAT only uses snapshot strategy 0 or 1\n",
      "- think about hyperreduction implementation as sample mesh\n",
      "- read up on linear least squares, Moore-Penrose pseudo inverse\n",
      "- recommends always having at least one sample index on inflow and outflow and at least one area that has sensitivity to input parameters that are driving snapshots"
     ]
    },
    {
     "cell_type": "code",
     "collapsed": false,
     "input": [],
     "language": "python",
     "metadata": {},
     "outputs": []
    },
    {
     "cell_type": "code",
     "collapsed": false,
     "input": [],
     "language": "python",
     "metadata": {},
     "outputs": []
    }
   ],
   "metadata": {}
  }
 ]
}