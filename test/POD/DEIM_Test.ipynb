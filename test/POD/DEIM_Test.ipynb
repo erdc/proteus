{
 "metadata": {
  "name": "",
  "signature": "sha256:884cad95250cfdbe8d8538a719fe80dc1a253ac0ddc9c592c67e021f62fbc5b1"
 },
 "nbformat": 3,
 "nbformat_minor": 0,
 "worksheets": [
  {
   "cells": [
    {
     "cell_type": "markdown",
     "metadata": {},
     "source": [
      "#DEIM Example?\n",
      "Try to work through the discrete empirical interpolation method (DEIM) on a simple function\n",
      "\n",
      "$$\n",
      "\\vec F (\\vec y) = \\vec y^2, \n",
      "$$\n",
      "That is, $F_i = y_i^2$, where $\\vec y \\in R^n$. We'll assume a closed form expression for $\\vec y(x,t)$\n",
      "\n",
      "$$\n",
      "y_i = \\sin(2\\pi x_i)cos(2\\pi t)\n",
      "$$\n",
      "where $x_i = -1 + i\\Delta x$, $\\Delta x = 2/(n-1)$."
     ]
    },
    {
     "cell_type": "markdown",
     "metadata": {},
     "source": [
      "##Problem setup"
     ]
    },
    {
     "cell_type": "code",
     "collapsed": false,
     "input": [
      "import numpy as np\n",
      "import scipy\n",
      "import matplotlib.pyplot as plt"
     ],
     "language": "python",
     "metadata": {},
     "outputs": []
    },
    {
     "cell_type": "code",
     "collapsed": false,
     "input": [
      "%pylab inline"
     ],
     "language": "python",
     "metadata": {},
     "outputs": []
    },
    {
     "cell_type": "markdown",
     "metadata": {},
     "source": [
      "###Define the functions, spatial grid, and temporal domain"
     ]
    },
    {
     "cell_type": "code",
     "collapsed": false,
     "input": [
      "def F(y):\n",
      "    \"\"\"nonlinear function testing\"\"\"\n",
      "    return y*y\n",
      "def yexact(x,t):\n",
      "    \"\"\"exact fine grid solution\"\"\"\n",
      "    return np.sin(2.0*np.pi*x)*np.cos(2.0*np.pi*t)\n"
     ],
     "language": "python",
     "metadata": {},
     "outputs": []
    },
    {
     "cell_type": "code",
     "collapsed": false,
     "input": [
      "#spatial interval\n",
      "xL=-1.0; Lx=2.0\n",
      "#time interval\n",
      "T=1.0"
     ],
     "language": "python",
     "metadata": {},
     "outputs": []
    },
    {
     "cell_type": "code",
     "collapsed": false,
     "input": [
      "#number of nodes in grid\n",
      "n = 101\n",
      "x = np.linspace(-1,1,101)\n",
      "#number of time steps \n",
      "n_t = 50\n",
      "dt = T/float(n_t)\n",
      "#initial time\n",
      "t=0."
     ],
     "language": "python",
     "metadata": {},
     "outputs": []
    },
    {
     "cell_type": "markdown",
     "metadata": {},
     "source": [
      "Check the function implementations"
     ]
    },
    {
     "cell_type": "code",
     "collapsed": false,
     "input": [
      "y = yexact(x,t)\n",
      "f = F(y)\n",
      "ax.legend?"
     ],
     "language": "python",
     "metadata": {},
     "outputs": []
    },
    {
     "cell_type": "code",
     "collapsed": false,
     "input": [
      "fig = plt.figure()\n",
      "ax = fig.gca()\n",
      "ax.plot(x,y,'b',x,f,'r')\n",
      "plt.xlabel('x')\n",
      "plt.ylabel('y')\n",
      "leg=ax.legend(['y','f(y)'],loc=3)"
     ],
     "language": "python",
     "metadata": {},
     "outputs": []
    },
    {
     "cell_type": "markdown",
     "metadata": {},
     "source": [
      "##Generate Snapshots"
     ]
    },
    {
     "cell_type": "markdown",
     "metadata": {},
     "source": [
      "###\"Run\" forward problem\n",
      "March from $[0,T]$ in $n_t$ steps by just evaluating our function,"
     ]
    },
    {
     "cell_type": "code",
     "collapsed": false,
     "input": [
      "Ysnap=np.zeros((n,n_t))\n",
      "Fsnap=np.zeros((n,n_t))\n",
      "for j in range(n_t):\n",
      "    t += dt\n",
      "    Ysnap[:,j]=yexact(x,t)\n",
      "    Fsnap[:,j]=F(Ysnap[:,j])"
     ],
     "language": "python",
     "metadata": {},
     "outputs": []
    },
    {
     "cell_type": "markdown",
     "metadata": {},
     "source": [
      "Just check the solutions at different times"
     ]
    },
    {
     "cell_type": "code",
     "collapsed": false,
     "input": [
      "index = n_t-10\n",
      "\n",
      "fig = plt.figure()\n",
      "ax = fig.gca()\n",
      "ax.plot(x,Ysnap[:,index],'b',x,Fsnap[:,index],'r')\n",
      "plt.xlabel('x')\n",
      "plt.ylabel('y')\n",
      "plt.title('Snapshots at time $t^i=%12.3f$' % (index*dt))\n",
      "leg=ax.legend(['$y^i$','$F(y^i)$'],loc=3)"
     ],
     "language": "python",
     "metadata": {},
     "outputs": []
    },
    {
     "cell_type": "markdown",
     "metadata": {},
     "source": [
      "##Singular Value Decompositions"
     ]
    },
    {
     "cell_type": "markdown",
     "metadata": {},
     "source": [
      "Perform SVD for both snapshots\n",
      "$$\n",
      "\\mathbf{VSW}^{T} = \\mathbf{Y}\n",
      "$$\n",
      "and \n",
      "$$\n",
      "\\mathbf{U}\\mathbf{S}_F\\mathbf{W}_F^T=\\mathbf{F}\n",
      "$$"
     ]
    },
    {
     "cell_type": "code",
     "collapsed": false,
     "input": [
      "V,S,W = np.linalg.svd(Ysnap,full_matrices=True)"
     ],
     "language": "python",
     "metadata": {},
     "outputs": []
    },
    {
     "cell_type": "code",
     "collapsed": false,
     "input": [
      "U,Sf,Wf=np.linalg.svd(Fsnap,full_matrices=True)"
     ],
     "language": "python",
     "metadata": {},
     "outputs": []
    },
    {
     "cell_type": "markdown",
     "metadata": {},
     "source": [
      "Look at the eigenvalues for the decompositions"
     ]
    },
    {
     "cell_type": "code",
     "collapsed": false,
     "input": [
      "fig=plt.figure()\n",
      "ax = fig.gca()\n",
      "plt.subplot(1,2,1)\n",
      "plt.plot(np.log(S),'b*',label='S')\n",
      "plt.ylabel('singular values, $\\mathbf{Y}$')\n",
      "plt.subplot(1,2,2)\n",
      "plt.plot(np.log(Sf),'r*',label='$S_f$')\n",
      "plt.ylabel('singular values, $\\mathbf{F}$')\n"
     ],
     "language": "python",
     "metadata": {},
     "outputs": []
    },
    {
     "cell_type": "markdown",
     "metadata": {},
     "source": [
      "Test reduced representation"
     ]
    },
    {
     "cell_type": "code",
     "collapsed": false,
     "input": [
      "#truncate solution snapshots\n",
      "n_k = 2\n",
      "V_k = V[:,0:n_k]\n",
      "V_kT= V_k.conj().T\n",
      "V_kT.shape"
     ],
     "language": "python",
     "metadata": {},
     "outputs": []
    },
    {
     "cell_type": "code",
     "collapsed": false,
     "input": [],
     "language": "python",
     "metadata": {},
     "outputs": []
    },
    {
     "cell_type": "code",
     "collapsed": false,
     "input": [
      "np.linalg.svd?"
     ],
     "language": "python",
     "metadata": {},
     "outputs": []
    },
    {
     "cell_type": "code",
     "collapsed": false,
     "input": [],
     "language": "python",
     "metadata": {},
     "outputs": []
    }
   ],
   "metadata": {}
  }
 ]
}