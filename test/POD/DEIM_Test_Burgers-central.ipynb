{
 "metadata": {
  "name": "",
  "signature": "sha256:fe33b7279cfe526659a654be7686d7554c5a26d1e624127381ee0fc0ad65c7ba"
 },
 "nbformat": 3,
 "nbformat_minor": 0,
 "worksheets": [
  {
   "cells": [
    {
     "cell_type": "markdown",
     "metadata": {},
     "source": [
      "#DEIM Example?\n",
      "Try to work through the discrete empirical interpolation method (DEIM) on Burgers equation over the domain $\\Omega = [0,L_x]$ and $t \\in [0,T]$.\n",
      "\n",
      "$$\n",
      "\\frac{\\vec y^{n+1}-\\vec y^{n}}{\\Delta t^{n+1}} - \\mathbf{A}\\vec y^{n+1} = \\vec F^{n} \\\\\n",
      "F_i = (f_{i+1/2}-f_{i-1/2})/\\Delta x \\\\\n",
      "f_{i+1/2} = \\frac{1}{2}(f^{+}_{i+1/2} + f^{-}_{i+1/2}) \\\\\n",
      "f^{+}_{i+1/2} = y^2_{i}/2 + \\alpha_{i+1/2}y_i \\\\\n",
      "f^{-}_{i+1/2} = y^2_{i+1}/2 - \\alpha_{i+1/2}y_{i+1} \\\\\n",
      "\\alpha_{i+1/2} = \\max(|f^{'}(y_i)|,|f^{'}(y_{i+1}|) = \\max(|y_i|,|y_{i+1}|) \n",
      "$$\n",
      "Here $\\mathbf{A}$ is from a standard central difference for diffusion, and $\\Delta x = L_x/n_x$ where here are $n_x$ cells or intervals in the domain.\n",
      "\n",
      "To start, we'll assume solid walls on both boundaries. That is,\n",
      "$$\n",
      "f_{n_x-1/2} = f_{-1/2} = 0\n",
      "$$\n",
      "where we are using base zero indexing"
     ]
    },
    {
     "cell_type": "markdown",
     "metadata": {},
     "source": [
      "##Problem setup"
     ]
    },
    {
     "cell_type": "code",
     "collapsed": false,
     "input": [
      "import numpy as np\n",
      "import scipy\n",
      "import matplotlib.pyplot as plt\n",
      "from scipy import integrate"
     ],
     "language": "python",
     "metadata": {},
     "outputs": [],
     "prompt_number": 1
    },
    {
     "cell_type": "code",
     "collapsed": false,
     "input": [
      "%matplotlib inline"
     ],
     "language": "python",
     "metadata": {},
     "outputs": [],
     "prompt_number": 2
    },
    {
     "cell_type": "markdown",
     "metadata": {},
     "source": [
      "###Define the functions, parameters, and temporal domain"
     ]
    },
    {
     "cell_type": "code",
     "collapsed": false,
     "input": [
      "def fp_llf(yc,alpha,f_bcl):\n",
      "    \"\"\"positive speed flux f^{+}_{i+1/2}=y^2_{i}/2+\\alpha_{i+1/2}y_i\"\"\"\n",
      "    nc = yc.shape[0]\n",
      "    flux = np.zeros(nc+1,'d')\n",
      "    flux[1:nc+1]=0.5*yc**2 + alpha[1:]*yc\n",
      "    flux[0] = f_bcl(yc[0],alpha[0])\n",
      "    return flux\n",
      "def fm_llf(yc,alpha,f_bcr):\n",
      "    \"\"\"negative speed flux f^{-}_{i+1/2}=y^2_{i+1}/2-\\alpha_{i+1/2}y_i\"\"\"\n",
      "    nc = yc.shape[0]\n",
      "    flux = np.zeros(nc+1,'d')\n",
      "    flux[0:nc]=0.5*yc**2 - alpha[:-1]*yc\n",
      "    flux[-1] = f_bcr(yc[-1],alpha[-1])\n",
      "    return flux\n",
      "\n",
      "def alpha_llf(yc,y_bcl=0.,y_bcr=0.):\n",
      "    \"\"\"\n",
      "    compute local lax friedrichs speed for burgers equation (convex flux)\n",
      "    alpha_{i+1/2} = max(|y_i|,|y_{i+1}|)\n",
      "    \"\"\"\n",
      "    nc = yc.shape[0]\n",
      "    alpha = np.zeros(nc+1,'d')\n",
      "    alpha[1:-1] = np.maximum(np.absolute(yc[:-1]),np.absolute(yc[1:]))\n",
      "    alpha[0] = np.maximum(np.absolute(y_bcl),np.absolute(yc[0]))\n",
      "    alpha[-1] = np.maximum(np.absolute(yc[-1]),np.absolute(y_bcr))\n",
      "    return alpha\n",
      "def alpha_lf(yc,y_bcl=0.,y_bcr=0.):\n",
      "    \"\"\"\n",
      "    compute lax friedrichs speed for burgers equation (convex flux)\n",
      "    alpha_{i+1/2} = max_i(|y_i|)\n",
      "    \"\"\"\n",
      "    nc = yc.shape[0]\n",
      "    alpha = np.zeros(nc+1,'d')\n",
      "    #tmp = np.max(np.absolute(yc))\n",
      "    tmp = 2.0\n",
      "    alpha.fill(tmp)\n",
      "    return alpha\n",
      "\n",
      "def flux_llf(yc,y_bcl,y_bcr,f_bcl,f_bcr):\n",
      "    \"\"\"\n",
      "    f_{i+1/2} = \\frac{1}{2}(f^{+}_{i+1/2} + f^{-}_{i+1/2}) \\\\\n",
      "    f^{+}_{i+1/2} = y^2_{i}/2 + \\alpha_{i+1/2}y_i \\\\\n",
      "    f^{-}_{i+1/2} = y^2_{i+1}/2 - \\alpha_{i+1/2}y_{i+1} \\\\\n",
      "    \\alpha_{i+1/2} = \\max(|f^{'}(y_i)|,|f^{'}(y_{i+1}|) = \\max(|y_i|,|y_{i+1}|)     \n",
      "    \"\"\"\n",
      "    #alpha = alpha_llf(yc,y_bcl=y_bcl,y_bcr=y_bcr)\n",
      "    alpha = alpha_lf(yc,y_bcl=y_bcl,y_bcr=y_bcr)\n",
      "    fp = fp_llf(yc,alpha,f_bcl)\n",
      "    fm = fm_llf(yc,alpha,f_bcr)\n",
      "    f = 0.5*(fp+fm)\n",
      "    return f\n",
      "def F(y,dx):\n",
      "    \"\"\"\n",
      "    local divergence\n",
      "    \"\"\"\n",
      "    #assume walls for now\n",
      "    def f_bcl(y,alpha):\n",
      "        return 0.0\n",
      "    def f_bcr(y,alpha):\n",
      "        return 0.0\n",
      "    y_bcl = y[0]; y_bcr=y[-1]\n",
      "    f = flux_llf(y,y_bcl,y_bcr,f_bcl,f_bcr)\n",
      "    #return np.zeros(y.shape,'d')\n",
      "    return -(f[1:]-f[:-1])/dx\n"
     ],
     "language": "python",
     "metadata": {},
     "outputs": [],
     "prompt_number": 3
    },
    {
     "cell_type": "code",
     "collapsed": false,
     "input": [
      "def choose_dt(y,target_cfl,dx):\n",
      "    \"\"\"\n",
      "    pick timestep to obey\n",
      "    \n",
      "    dt < target_cfl*min_{i}(\\Delta x /|f^'(y_i)|)\n",
      "    \n",
      "    hard coded for Burgers equation\n",
      "    \"\"\"\n",
      "    a_fprime = np.absolute(y)\n",
      "    tmp = np.where(a_fprime > 0.0,dx/a_fprime,1.0e33)\n",
      "    dt = target_cfl*np.min(tmp)\n",
      "    return dt"
     ],
     "language": "python",
     "metadata": {},
     "outputs": [],
     "prompt_number": 4
    },
    {
     "cell_type": "markdown",
     "metadata": {},
     "source": [
      "Define the spatial domain"
     ]
    },
    {
     "cell_type": "code",
     "collapsed": false,
     "input": [
      "#spatial interval\n",
      "xL=0.0; Lx=2.0\n",
      "#time interval\n",
      "T=0.5\n",
      "#viscosity\n",
      "nu = 1.0e-4\n",
      "#if deciding to use Dirichlet values\n",
      "#boundary values\n",
      "y_l=1.0\n",
      "y_r=0.0\n",
      "use_dirichlet = False"
     ],
     "language": "python",
     "metadata": {},
     "outputs": [],
     "prompt_number": 5
    },
    {
     "cell_type": "code",
     "collapsed": false,
     "input": [
      "#number of cells in grid\n",
      "n = 100\n",
      "#define a linear spatial operator for now\n",
      "dx= Lx/float(n); dxinv = float(n)/Lx\n",
      "x = np.linspace(xL+0.5*dx,xL+Lx-dx,n)\n"
     ],
     "language": "python",
     "metadata": {},
     "outputs": [],
     "prompt_number": 6
    },
    {
     "cell_type": "markdown",
     "metadata": {},
     "source": [
      "Define the diffusive operator. This goes on the left hand side now"
     ]
    },
    {
     "cell_type": "code",
     "collapsed": false,
     "input": [
      "#interior\n",
      "A = np.zeros((n,n))\n",
      "I = np.arange(n)\n",
      "A[I,I]=2.0*nu*dxinv**2\n",
      "A[I[1:],I[1:]-1]=-nu*dxinv**2\n",
      "A[I[0:-1],I[0:-1]+1]=-nu*dxinv**2\n"
     ],
     "language": "python",
     "metadata": {},
     "outputs": [],
     "prompt_number": 7
    },
    {
     "cell_type": "code",
     "collapsed": false,
     "input": [
      "#boundary condition contributions. This goes on the right hand side\n",
      "\n",
      "#For dirichlet\n",
      "dirbc = np.zeros(n,'d')\n",
      "dirbc[0] =nu*y_l*dxinv**2\n",
      "dirbc[-1]=nu*y_r*dxinv**2\n",
      "\n",
      "#for Walls (zero Neuman flux)\n",
      "if not use_dirichlet:\n",
      "    A[0,0] = nu*dxinv**2\n",
      "    A[-1,-1] = nu*dxinv**2\n",
      "    "
     ],
     "language": "python",
     "metadata": {},
     "outputs": [],
     "prompt_number": 8
    },
    {
     "cell_type": "code",
     "collapsed": false,
     "input": [
      "#initial condition\n",
      "def ic(x,y_l=1.0,y_r=0.):\n",
      "    return np.where(x < Lx*0.25,y_l,y_r)\n"
     ],
     "language": "python",
     "metadata": {},
     "outputs": [],
     "prompt_number": 9
    },
    {
     "cell_type": "code",
     "collapsed": false,
     "input": [
      "#time stepping information  \n",
      "target_cfl = 0.45\n",
      "#how often to record output\n",
      "istep = 1\n",
      "t0=0.\n",
      "t=t0\n",
      "tnList = []\n",
      "#initial condition\n",
      "y_l=1.0; y_r=0.0\n",
      "y0 = ic(x,y_l,y_r)"
     ],
     "language": "python",
     "metadata": {},
     "outputs": [],
     "prompt_number": 10
    },
    {
     "cell_type": "markdown",
     "metadata": {},
     "source": [
      "### Check the initial condition, linear, and nonlinear terms"
     ]
    },
    {
     "cell_type": "code",
     "collapsed": false,
     "input": [
      "%pdb on"
     ],
     "language": "python",
     "metadata": {},
     "outputs": [
      {
       "output_type": "stream",
       "stream": "stdout",
       "text": [
        "Automatic pdb calling has been turned ON\n"
       ]
      }
     ],
     "prompt_number": 11
    },
    {
     "cell_type": "code",
     "collapsed": false,
     "input": [
      "##Define the iteration matrix and right hand side vector"
     ],
     "language": "python",
     "metadata": {},
     "outputs": [],
     "prompt_number": 12
    },
    {
     "cell_type": "code",
     "collapsed": false,
     "input": [
      "M = A.copy()\n",
      "b = np.zeros(y0.shape,'d')"
     ],
     "language": "python",
     "metadata": {},
     "outputs": [],
     "prompt_number": 13
    },
    {
     "cell_type": "code",
     "collapsed": false,
     "input": [
      "f_non = F(y0,dx)\n",
      "f_lin = np.dot(A,y0);\n",
      "if use_dirichlet:\n",
      "    f_lin += dirbc"
     ],
     "language": "python",
     "metadata": {},
     "outputs": [],
     "prompt_number": 14
    },
    {
     "cell_type": "code",
     "collapsed": false,
     "input": [],
     "language": "python",
     "metadata": {},
     "outputs": [],
     "prompt_number": 14
    },
    {
     "cell_type": "code",
     "collapsed": false,
     "input": [
      "fig = plt.figure()\n",
      "ax = fig.gca()\n",
      "ax.plot(x,y0,'b',x,f_non,'r',x,f_lin,'g')\n",
      "plt.xlabel('x')\n",
      "plt.ylabel('y')\n",
      "leg=ax.legend(['$y^0$','$f_{nl}$','$f_{l}$'],loc=3)"
     ],
     "language": "python",
     "metadata": {},
     "outputs": [
      {
       "metadata": {},
       "output_type": "display_data",
       "png": "[encoded data removed]",
       "text": [
        "<matplotlib.figure.Figure at 0x7f14091f3850>"
       ]
      }
     ],
     "prompt_number": 15
    },
    {
     "cell_type": "markdown",
     "metadata": {},
     "source": [
      "##Generate Snapshots"
     ]
    },
    {
     "cell_type": "markdown",
     "metadata": {},
     "source": [
      "###\"Run\" forward problem\n",
      "March from $[0,T]$ assuming a target Courant number"
     ]
    },
    {
     "cell_type": "code",
     "collapsed": false,
     "input": [
      "t = t0\n",
      "tnList = [t]\n",
      "y = y0.copy()\n",
      "dt = choose_dt(y0,target_cfl,dx)\n",
      "nstep = 0; max_steps=10000\n",
      "Ysnap=np.zeros((n,max_steps+1))\n",
      "Ysnap[:,0]=y0\n",
      "while t < T and nstep < max_steps:\n",
      "    \"\"\"\n",
      "    (I/dt + A)y^{n+1} = y^n/dt + F^n + d_{bc}\n",
      "    \"\"\"\n",
      "    b[:] = F(y,dx)\n",
      "    if use_dirichlet:\n",
      "        b+= dirbc\n",
      "    assert dt > 0.\n",
      "    b += y/dt\n",
      "    M.fill(0.)\n",
      "    M[I,I] = 1.0/dt\n",
      "    M += A.copy()\n",
      "    \n",
      "    yp = np.linalg.solve(M,b)\n",
      "    \n",
      "    y[:] = yp\n",
      "    t += dt\n",
      "    dt = choose_dt(y,target_cfl,dx)\n",
      "    nstep += 1\n",
      "    tnList.append(t)\n",
      "    if nstep % istep == 0 and nstep < max_steps+1:\n",
      "        Ysnap[:,nstep]=y\n",
      "#\n",
      "n_t = nstep\n",
      "n_snap=nstep"
     ],
     "language": "python",
     "metadata": {},
     "outputs": [],
     "prompt_number": 34
    },
    {
     "cell_type": "code",
     "collapsed": false,
     "input": [
      "n_snap"
     ],
     "language": "python",
     "metadata": {},
     "outputs": [
      {
       "metadata": {},
       "output_type": "pyout",
       "prompt_number": 35,
       "text": [
        "55"
       ]
      }
     ],
     "prompt_number": 35
    },
    {
     "cell_type": "markdown",
     "metadata": {},
     "source": [
      "Collect snapshots"
     ]
    },
    {
     "cell_type": "code",
     "collapsed": false,
     "input": [
      "Fsnap=np.zeros((n,n_snap))\n",
      "for j in range(n_snap):    \n",
      "    Fsnap[:,j]=F(Ysnap[:,j],dx)"
     ],
     "language": "python",
     "metadata": {},
     "outputs": [],
     "prompt_number": 36
    },
    {
     "cell_type": "markdown",
     "metadata": {},
     "source": [
      "Just check the solutions at different times"
     ]
    },
    {
     "cell_type": "code",
     "collapsed": false,
     "input": [
      "index = n_t-1#2#n_t-10\n",
      "\n",
      "fig = plt.figure()\n",
      "ax = fig.gca()\n",
      "ax.plot(x,Ysnap[:,index],'b',x,Fsnap[:,index],'r')\n",
      "plt.xlabel('x')\n",
      "plt.ylabel('y')\n",
      "plt.title('Snapshots at time $t^i=%12.3f$' % (index*dt))\n",
      "leg=ax.legend(['$y^i$','$F(y^i)$'],loc=2)"
     ],
     "language": "python",
     "metadata": {},
     "outputs": [
      {
       "metadata": {},
       "output_type": "display_data",
       "png": "[encoded data removed]",
       "text": [
        "<matplotlib.figure.Figure at 0x7f1408809390>"
       ]
      }
     ],
     "prompt_number": 37
    },
    {
     "cell_type": "code",
     "collapsed": false,
     "input": [
      "from IPython.html import widgets\n",
      "from IPython.display import display"
     ],
     "language": "python",
     "metadata": {},
     "outputs": [],
     "prompt_number": 38
    },
    {
     "cell_type": "code",
     "collapsed": false,
     "input": [
      "def plot_k(index):\n",
      "    plt.plot(x,Ysnap[:,index],'b')\n",
      "    plt.xlabel('x'); plt.ylabel('y')\n",
      "    plt.title('full solutions at time $t^i=%12.3f$' % (tnList[index-1]))\n",
      "    leg=plt.legend(['$y^i$','$\\hat{y}^i$'],loc=1)\n",
      "\n",
      "wid = widgets.interact(plot_k,\n",
      "                       index=widgets.IntSliderWidget(min=0,max=n_snap))\n",
      "display(wid)"
     ],
     "language": "python",
     "metadata": {},
     "outputs": [
      {
       "metadata": {},
       "output_type": "display_data",
       "png": "[encoded data removed]",
       "text": [
        "<matplotlib.figure.Figure at 0x7f140885f190>"
       ]
      }
     ],
     "prompt_number": 39
    },
    {
     "cell_type": "markdown",
     "metadata": {},
     "source": [
      "##Singular Value Decompositions"
     ]
    },
    {
     "cell_type": "markdown",
     "metadata": {},
     "source": [
      "Perform SVD for both snapshots\n",
      "$$\n",
      "\\mathbf{VSW}^{T} = \\mathbf{Y}\n",
      "$$\n",
      "and \n",
      "$$\n",
      "\\mathbf{U}\\mathbf{S}_F\\mathbf{W}_F^T=\\mathbf{F}\n",
      "$$"
     ]
    },
    {
     "cell_type": "code",
     "collapsed": false,
     "input": [
      "V,S,W = np.linalg.svd(Ysnap,full_matrices=True)"
     ],
     "language": "python",
     "metadata": {},
     "outputs": [],
     "prompt_number": 40
    },
    {
     "cell_type": "code",
     "collapsed": false,
     "input": [
      "U,Sf,Wf=np.linalg.svd(Fsnap,full_matrices=True)"
     ],
     "language": "python",
     "metadata": {},
     "outputs": [],
     "prompt_number": 41
    },
    {
     "cell_type": "markdown",
     "metadata": {},
     "source": [
      "Look at the eigenvalues for the decompositions"
     ]
    },
    {
     "cell_type": "code",
     "collapsed": false,
     "input": [
      "fig=plt.figure()\n",
      "ax = fig.gca()\n",
      "plt.subplot(1,2,1)\n",
      "plt.plot(np.log(S),'b*',label='S')\n",
      "plt.ylabel('singular values, $\\mathbf{Y}$')\n",
      "plt.subplot(1,2,2)\n",
      "plt.plot(np.log(Sf),'r*',label='$S_f$')\n",
      "plt.ylabel('singular values, $\\mathbf{F}$')\n"
     ],
     "language": "python",
     "metadata": {},
     "outputs": [
      {
       "metadata": {},
       "output_type": "pyout",
       "prompt_number": 42,
       "text": [
        "<matplotlib.text.Text at 0x7f14091dfe10>"
       ]
      },
      {
       "metadata": {},
       "output_type": "display_data",
       "png": "[encoded data removed]",
       "text": [
        "<matplotlib.figure.Figure at 0x7f14090285d0>"
       ]
      }
     ],
     "prompt_number": 42
    },
    {
     "cell_type": "markdown",
     "metadata": {},
     "source": [
      "Test reduced representation"
     ]
    },
    {
     "cell_type": "code",
     "collapsed": false,
     "input": [
      "#truncate solution snapshots\n",
      "n_k = 10\n",
      "V_k = V[:,0:n_k]\n",
      "V_kT= V_k.conj().T\n",
      "V_kT.shape"
     ],
     "language": "python",
     "metadata": {},
     "outputs": [
      {
       "metadata": {},
       "output_type": "pyout",
       "prompt_number": 43,
       "text": [
        "(10, 100)"
       ]
      }
     ],
     "prompt_number": 43
    },
    {
     "cell_type": "markdown",
     "metadata": {},
     "source": [
      "##Evolve the reduced system \n",
      "\n",
      "###compute the reduced linear part\n",
      "$$\n",
      "\\hat{\\mathbf{A}} = \\mathbf{V}_k^{T}\\mathbf{A}\\mathbf{V}_k\n",
      "$$"
     ]
    },
    {
     "cell_type": "code",
     "collapsed": false,
     "input": [
      "Ahat=V_kT.dot(np.dot(A,V_k))\n",
      "dirbc_hat=V_kT.dot(dirbc)"
     ],
     "language": "python",
     "metadata": {},
     "outputs": [],
     "prompt_number": 45
    },
    {
     "cell_type": "markdown",
     "metadata": {},
     "source": [
      "##define a brute force evaluation on the fine grid"
     ]
    },
    {
     "cell_type": "code",
     "collapsed": false,
     "input": [
      "def Ff2c(yc,dx):\n",
      "    \"\"\"\n",
      "    evaluate F for the reduced model by projecting to the fine grid, evaluating, \n",
      "    and then restricting\n",
      "\n",
      "    \"\"\"\n",
      "    yf = np.dot(V_k,yc)\n",
      "    return F(yf,dx)\n"
     ],
     "language": "python",
     "metadata": {},
     "outputs": [],
     "prompt_number": 45
    },
    {
     "cell_type": "markdown",
     "metadata": {},
     "source": [
      "###integrate forward in time"
     ]
    },
    {
     "cell_type": "code",
     "collapsed": false,
     "input": [
      "yc0 = np.dot(V_kT,y0)\n",
      "t = t0\n",
      "tnList = [t]\n",
      "yf0 = np.dot(V_k,yc0)\n",
      "dt = choose_dt(yf0,target_cfl,dx)\n",
      "yc = yc0.copy()\n",
      "#\n",
      "Mhat = Ahat.copy()\n",
      "Ihat = np.arange(n_k)\n",
      "bhat = np.zeros(n_k,'d')\n",
      "#\n",
      "nstep = 0; max_steps=10000\n",
      "Yc_snap=np.zeros((n_k,max_steps+1))\n",
      "Yc_snap[:,0]=yc0\n",
      "while t < T and nstep < max_steps:\n",
      "    \"\"\"\n",
      "    (I/dt + \\hat{A})\\hat{y}^{n+1} = \\hat{y}^n/dt + F^n(V_k \\hat{y}^n) + \\hat{d}_{bc}\n",
      "    \"\"\"\n",
      "    bhat[:] = Ff2c(yc,dx)\n",
      "    if use_dirichlet:\n",
      "        bhat+= dirbc_hat\n",
      "    assert dt > 0.\n",
      "    bhat += yc/dt\n",
      "    Mhat.fill(0.)\n",
      "    Mhat[Ihat,Ihat] = 1.0/dt\n",
      "    Mhat += Ahat.copy()\n",
      "    \n",
      "    ypc = np.linalg.solve(Mhat,bhat)\n",
      "    \n",
      "    yc[:] = ypc\n",
      "    t += dt\n",
      "    dt = choose_dt(y,target_cfl,dx)\n",
      "    nstep += 1\n",
      "    tnList.append(t)\n",
      "    if nstep % istep == 0 and nstep < max_steps+1:\n",
      "        Ysnap[:,nstep]=y\n",
      "#\n",
      "n_t = nstep\n",
      "n_snap=nstep\n",
      "\n"
     ],
     "language": "python",
     "metadata": {},
     "outputs": [],
     "prompt_number": 46
    },
    {
     "cell_type": "markdown",
     "metadata": {},
     "source": [
      "##project back to fine grid for comparison\n",
      "\n",
      "Recall output of `odeint` is (n_t+1) x n_k"
     ]
    },
    {
     "cell_type": "code",
     "collapsed": false,
     "input": [
      "yc2f = np.zeros((yc.shape[0],n))\n",
      "for i in range(yc.shape[0]):\n",
      "    yc2f[i,:] = np.dot(V_k,yc[i,:])\n",
      "    "
     ],
     "language": "python",
     "metadata": {},
     "outputs": [],
     "prompt_number": 47
    },
    {
     "cell_type": "markdown",
     "metadata": {},
     "source": [
      "##compare reduced solution to fine grid for different times\n"
     ]
    },
    {
     "cell_type": "code",
     "collapsed": false,
     "input": [
      "index = n_t-2#2#n_t-10\n",
      "#note y,y2cf are (n_t+1) x n which is transpose of snapshots\n",
      "fig = plt.figure()\n",
      "ax = fig.gca()\n",
      "ax.plot(x,y[index,:],'b',x,yc2f[index,:],'r')\n",
      "plt.xlabel('x')\n",
      "plt.ylabel('y')\n",
      "plt.title('solutions at time $t^i=%12.3f$' % (tnList[index]))\n",
      "leg=ax.legend(['$y^i$','$\\hat{y}^i$'],loc=1)"
     ],
     "language": "python",
     "metadata": {},
     "outputs": [
      {
       "metadata": {},
       "output_type": "display_data",
       "png": "[encoded data removed]",
       "text": [
        "<matplotlib.figure.Figure at 0x7f4e36ccae50>"
       ]
      }
     ],
     "prompt_number": 48
    },
    {
     "cell_type": "markdown",
     "metadata": {},
     "source": [
      "###try a widget for practice"
     ]
    },
    {
     "cell_type": "code",
     "collapsed": false,
     "input": [
      "from IPython.html import widgets\n",
      "from IPython.display import display"
     ],
     "language": "python",
     "metadata": {},
     "outputs": [],
     "prompt_number": 49
    },
    {
     "cell_type": "code",
     "collapsed": false,
     "input": [
      "widgets.interact?"
     ],
     "language": "python",
     "metadata": {},
     "outputs": [],
     "prompt_number": 50
    },
    {
     "cell_type": "code",
     "collapsed": false,
     "input": [
      "def plot_k(index):\n",
      "    plt.plot(x,y[index,:],'b',x,yc2f[index,:],'r')\n",
      "    plt.xlabel('x'); plt.ylabel('y')\n",
      "    plt.title('POD and full solutions at time $t^i=%12.3f$' % (tnList[index]))\n",
      "    leg=plt.legend(['$y^i$','$\\hat{y}^i$'],loc=1)\n",
      "\n",
      "wid = widgets.interact(plot_k,\n",
      "                       index=widgets.IntSliderWidget(min=0,max=n_t))\n",
      "display(wid)"
     ],
     "language": "python",
     "metadata": {},
     "outputs": [
      {
       "metadata": {},
       "output_type": "display_data",
       "png": "[encoded data removed]",
       "text": [
        "<matplotlib.figure.Figure at 0x7f4e36a46890>"
       ]
      }
     ],
     "prompt_number": 51
    },
    {
     "cell_type": "markdown",
     "metadata": {},
     "source": [
      "##Now actually try DEIM for evaluating nonlinearity"
     ]
    },
    {
     "cell_type": "markdown",
     "metadata": {},
     "source": [
      "###Basic procedure\n",
      "\n",
      "- pick $m$, dimension for $F$ reduced basis $\\mathbf{U}_m$\n",
      "- call DEIM algorithm to determine $\\vec \\rho$. \n",
      "- build $\\mathbf{P}$ from $\\rho$ as \n",
      "$$\n",
      "\\mathbf{P} = [\\vec e_{\\rho_1},\\vec e_{\\rho_2},\\dots,\\vec e_{\\rho_m}]\n",
      "$$\n",
      "- invert $\\mathbf{P}^T\\mathbf{U}_m$\n",
      "- set $\\mathbf{P}_F=\\mathbf{U}_m(\\mathbf{P}^T\\mathbf{U}_m)^{-1}$\n",
      "- During evolution\n",
      "    - project to fine grid $\\vec y = \\mathbf{V}_k \\vec y_c$\n",
      "    - evaluate $\\vec F(V_k\\vec y_c)$ at indices in $\\vec \\rho \\rightarrow \\vec c$\n",
      "    - apply DEIM interpolant $\\vec F_c = \\mathbf{V}_k^T\\mathbf{P}_F\\vec c$\n",
      "    - use $\\vec F_c$ in right hand side of reduced ODE"
     ]
    },
    {
     "cell_type": "code",
     "collapsed": false,
     "input": [
      "def DEIM(Uin):\n",
      "    \"\"\"\n",
      "    input: Uin n x m array of basis vectors for nonlinear function snapshots\n",
      "    output: rho, m vector of indices \\rho_i for extracting $\\vec F$ values\n",
      "\n",
      "    \"\"\"\n",
      "    n,m=Uin.shape\n",
      "    rind = np.argmax(np.absolute(Uin[:,0]))\n",
      "    U=np.array(Uin[:,0])\n",
      "    rho=np.array([rind],'i')\n",
      "    #Pt = np.zeros((1,n),'d')\n",
      "    #P[0,rind]=1.0\n",
      "    for j in range(1,m):\n",
      "        u = Uin[:,j]        \n",
      "        Up=U[rho]#Up= np.dot(Pt,U)\n",
      "        up=u[rho]#up= np.dot(Pt,u)\n",
      "        if j==1:\n",
      "            c=up/Up\n",
      "            r=u-U*c\n",
      "        else:\n",
      "            c =np.linalg.solve(Up,up)\n",
      "            r=u-np.dot(U,c)          \n",
      "        rind=np.argmax(np.absolute(r))\n",
      "        rho_new = np.zeros(j+1,'i'); \n",
      "        rho_new[:-1]=rho; rho_new[-1]=rind; rho = rho_new\n",
      "        U_new=np.zeros((n,j+1),'d')\n",
      "        U_new[:,:-1]=U.reshape(n,j); U_new[:,-1]=u\n",
      "        U=U_new\n",
      "    #\n",
      "    return rho"
     ],
     "language": "python",
     "metadata": {},
     "outputs": [],
     "prompt_number": 52
    },
    {
     "cell_type": "code",
     "collapsed": false,
     "input": [
      "#truncate basis\n",
      "m = 2\n",
      "Um = U[:,0:m]\n",
      "\n"
     ],
     "language": "python",
     "metadata": {},
     "outputs": [],
     "prompt_number": 53
    },
    {
     "cell_type": "code",
     "collapsed": false,
     "input": [
      "rho = DEIM(Um)\n",
      "print 'after calling DEIM, rho=',rho"
     ],
     "language": "python",
     "metadata": {},
     "outputs": [
      {
       "output_type": "stream",
       "stream": "stdout",
       "text": [
        "after calling DEIM, rho= [0 4]\n"
       ]
      }
     ],
     "prompt_number": 54
    },
    {
     "cell_type": "markdown",
     "metadata": {},
     "source": [
      "###Calculate $\\mathbf{P}^T\\mathbf{U}_m$ by just extracting rows in numpy \n",
      "\n",
      "###Then invert and set $\\mathbf{P}_F=\\mathbf{U}_m (\\mathbf{P}^T\\mathbf{U}_m)^{-1})$"
     ]
    },
    {
     "cell_type": "code",
     "collapsed": false,
     "input": [
      "PtUm = Um[rho]\n",
      "assert PtUm.shape == (m,m)\n",
      "\n",
      "PtUmInv = np.linalg.inv(PtUm)\n",
      "PF= np.dot(Um,PtUmInv)"
     ],
     "language": "python",
     "metadata": {},
     "outputs": [],
     "prompt_number": 55
    },
    {
     "cell_type": "markdown",
     "metadata": {},
     "source": [
      "##Now define the right hand side term that uses DEIM"
     ]
    },
    {
     "cell_type": "code",
     "collapsed": false,
     "input": [
      "def Fdeim(yc):\n",
      "    \"\"\"\n",
      "    evaluate F for the reduced model by DEIM interpolant \n",
      "    and then restricting\n",
      "    \n",
      "    compute projection of coarse to fine grid\n",
      "    extracts DEIM indices in rho from nonlinear function of F\n",
      "    \n",
      "    Then projects this back up\n",
      "    \n",
      "    returns V_k^T P_F V_k \\hat{y}    \n",
      "    \"\"\"\n",
      "    yf = np.dot(V_k,yc)#projection to fine\n",
      "    Ff = F(yf[rho]) #calculate value of F at DEIM indices on fine grid\n",
      "    return np.dot(V_kT,np.dot(PF,Ff))\n"
     ],
     "language": "python",
     "metadata": {},
     "outputs": [],
     "prompt_number": 56
    },
    {
     "cell_type": "markdown",
     "metadata": {},
     "source": [
      "##perform the evolution"
     ]
    },
    {
     "cell_type": "code",
     "collapsed": false,
     "input": [
      "yc0 = np.dot(V_kT,y0)\n",
      "yc_deim,infodict = integrate.odeint(rhs,yc0,tnList,(Ahat,bhat,Fdeim,),full_output=True)"
     ],
     "language": "python",
     "metadata": {},
     "outputs": [],
     "prompt_number": 57
    },
    {
     "cell_type": "code",
     "collapsed": false,
     "input": [
      "yc2f_deim = np.zeros((yc_deim.shape[0],n))\n",
      "for i in range(yc_deim.shape[0]):\n",
      "    yc2f_deim[i,:] = np.dot(V_k,yc_deim[i,:])\n"
     ],
     "language": "python",
     "metadata": {},
     "outputs": [],
     "prompt_number": 58
    },
    {
     "cell_type": "code",
     "collapsed": false,
     "input": [
      "index = n_t-2#2#n_t-10\n",
      "#note y,y2cf are (n_t+1) x n which is transpose of snapshots\n",
      "fig = plt.figure()\n",
      "ax = fig.gca()\n",
      "ax.plot(x,y[index,:],'b',x,yc2f_deim[index,:],'r')\n",
      "plt.xlabel('x')\n",
      "plt.ylabel('y')\n",
      "plt.title('DEIM solutions at time $t^i=%12.3f$' % (tnList[index]))\n",
      "leg=ax.legend(['$y^i$','$\\hat{y}^i$'],loc=1)"
     ],
     "language": "python",
     "metadata": {},
     "outputs": [
      {
       "metadata": {},
       "output_type": "display_data",
       "png": "[encoded data removed]",
       "text": [
        "<matplotlib.figure.Figure at 0x7f4e3642d4d0>"
       ]
      }
     ],
     "prompt_number": 59
    },
    {
     "cell_type": "code",
     "collapsed": false,
     "input": [
      "def plot_k(index):\n",
      "    plt.plot(x,y[index,:],'b',x,yc2f_deim[index,:],'r')\n",
      "    plt.xlabel('x'); plt.ylabel('y')\n",
      "    plt.title('POD+DEIM and full solutions at time $t^i=%12.3f$' % (tnList[index]))\n",
      "    leg=plt.legend(['$y^i$','$\\hat{y}^i$'],loc=3)\n",
      "\n",
      "wid = widgets.interact(plot_k,\n",
      "                       index=widgets.IntSliderWidget(min=0,max=n_t))\n",
      "display(wid)"
     ],
     "language": "python",
     "metadata": {},
     "outputs": [
      {
       "metadata": {},
       "output_type": "display_data",
       "png": "[encoded data removed]",
       "text": [
        "<matplotlib.figure.Figure at 0x7f4e366733d0>"
       ]
      }
     ],
     "prompt_number": 60
    },
    {
     "cell_type": "code",
     "collapsed": false,
     "input": [],
     "language": "python",
     "metadata": {},
     "outputs": []
    },
    {
     "cell_type": "code",
     "collapsed": false,
     "input": [],
     "language": "python",
     "metadata": {},
     "outputs": []
    },
    {
     "cell_type": "code",
     "collapsed": false,
     "input": [],
     "language": "python",
     "metadata": {},
     "outputs": []
    }
   ],
   "metadata": {}
  }
 ]
}