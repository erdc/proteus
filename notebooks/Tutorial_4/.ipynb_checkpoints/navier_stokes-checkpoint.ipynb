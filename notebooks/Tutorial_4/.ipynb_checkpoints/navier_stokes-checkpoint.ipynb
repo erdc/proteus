{
 "cells": [
  {
   "cell_type": "markdown",
   "metadata": {},
   "source": [
    "### Introduction - Navier-Stokes driven cavity problem with PETSc in Proteus.\n",
    "\n",
    "\n",
    "This notebook illustrates how to setup, solve and visualize a steady-state Navier-Stokes driven-cavity problem in Proteus using solver tools from the PETSc linear algebra library.\n",
    "\n",
    "\n",
    "The driven-cavity problem is a standard benchmark for modeling Stokes and Navier-Stokes equations.  The simulation models a self-contained (e.g. no inflow or outflow) tank of fluid with an external force generating a velocity along the top of the tank.  For example, one could imagine a fan blowing over the top of an open fish tank full of water, causing the water along the surface to have an initial velocity. One (there are many others) nice reference for information about NSE and the driven-cavity problem is \"Finite Elements and Faster Iterative Solvers\" by Elman, Silvester and Wathen.\n",
    "\n",
    "\n",
    "The governing equations for our problem are the well-known Navier-Stokes equations which we present in non-dimensional form.  Let $p: \\Omega \\rightarrow \\mathbf{R}$, $\\mathbf{v}:\\Omega \\rightarrow \\mathbf{R} \\times \\mathbf{R}^n$ denote the unknown pressure and velocity of the system.  The Navier-Stokes equation relate these quantities through\n",
    "$$\n",
    "\\nabla \\cdot \\mathbf{v}  = 0 \n",
    "$$\n",
    "$$\n",
    "- \\dfrac{1}{Re} \\nabla \\cdot (\\nabla \\mathbf{v}) + \\mathbf{v} \\cdot \\nabla \\mathbf{v} + \\nabla p = \\mathbf{f}.\n",
    "$$\n",
    "$Re$ is known as the Reynolds number.  As $Re$ increases, the non-linear convection term becomes more dominate to the system's behavior while as $Re$ decreases the the diffusion term will become more important to the system's behavior.  In many real world problems, $Re$ assumes a very large value, which results in convection dominated systems that are very challenging to solve numerically.\n",
    "\n",
    "In this example, we are interested in solving this system with $Re$ on the order of 1000.  We will discuss more about this later in the tutorial.\n",
    "\n",
    "Our domain of interest is a square 2D tank\n",
    "$$\n",
    "\\Omega = [-1,1]^{2}\n",
    "$$\n",
    " with the Dirichlet boundary conditons\n",
    "$$\n",
    "\\mathbf{v} = 1 \\text{ when } y = 1 \n",
    "$$\n",
    "and\n",
    "$$\n",
    "\\mathbf{v} = 0 \\text{ elsewhere on the boundary.}\n",
    "$$\n"
   ]
  },
  {
   "cell_type": "markdown",
   "metadata": {},
   "source": [
    "### Initialze Proteus Library\n",
    "\n",
    "This first block of code loads and initialzes the libraries required to run the simulation.  numpy and petsc4py are non-proteus libraries that will allow us to use external python libraries for our linear algebra.  The proteus.iproteus command loads the interacitve proteus library.\n",
    "\n",
    "The profiling commands enable output allowing us to track the progress of our simulation.  Increasing the log level will display more output."
   ]
  },
  {
   "cell_type": "code",
   "execution_count": 1,
   "metadata": {
    "collapsed": false
   },
   "outputs": [],
   "source": [
    "import numpy as np\n",
    "import petsc4py as petsc4py\n",
    "from proteus.iproteus import * \n",
    "\n",
    "Profiling.logLevel = 3\n",
    "Profiling.verbose = True"
   ]
  },
  {
   "cell_type": "markdown",
   "metadata": {
    "collapsed": true
   },
   "source": [
    "### The Navier-Stokes Class\n",
    "\n",
    "Once the necessary libraries have been loaded, the next step is to create the NavierStokes class.  \n",
    "\n",
    "In the initialization function (\\__init\\__), all the terms needed to define the Navier Stokes problem are specified.  Next in the evaluate function, we specify the terms required to evaluate the inner products that appear in the problem description.\n",
    "\n",
    "Within the Proteus library, a large number of problem classes are already defined and for many simulations the user will not to define the particulars of this class.  We present this mainly for illustrative purposes."
   ]
  },
  {
   "cell_type": "code",
   "execution_count": 2,
   "metadata": {
    "collapsed": false
   },
   "outputs": [],
   "source": [
    "class NavierStokes_1(TransportCoefficients.TC_base):\n",
    "    \"\"\"\n",
    "    Coefficients for the NS problem\n",
    "    \"\"\"\n",
    "    from proteus.ctransportCoefficients import NavierStokes_2D_Evaluate\n",
    "    import numpy as np\n",
    "    def __init__(self,rho=1.0,nu=1.0,g=[0.0,0.0],nd=2):\n",
    "        self.rho = rho\n",
    "        self.nu  = nu\n",
    "        self.g   = np.array(g)\n",
    "        self.nd  = nd\n",
    "        mass = {}\n",
    "        advection = {}\n",
    "        diffusion = {}\n",
    "        potential = {}\n",
    "        reaction = {}\n",
    "        hamiltonian = {}\n",
    "        if nd==2:\n",
    "            variableNames = ['p','u','v']\n",
    "            mass = {1:{1:'linear'},\n",
    "                    2:{2:'linear'}}\n",
    "            advection = {0:{1:'linear',\n",
    "                            2:'linear'},\n",
    "                         1:{1:'nonlinear',\n",
    "                            2:'nonlinear'},\n",
    "                         2:{1:'nonlinear',\n",
    "                            2:'nonlinear'}}\n",
    "            diffusion = {0:{0:{0:'constant'}},\n",
    "                         1:{1:{1:'constant'}},\n",
    "                         2:{2:{2:'constant'}}}\n",
    "            potential = {0:{0:'u'},\n",
    "                         1:{1:'u'},\n",
    "                         2:{2:'u'}}\n",
    "            reaction = {1:{1:'constant'},\n",
    "                        2:{2:'constant'}}\n",
    "            hamiltonian = {1:{0:'linear'},\n",
    "                           2:{0:'linear'}}\n",
    "            TransportCoefficients.TC_base.__init__(self,\n",
    "                                                   3,        # number of components (2-velocities 1-pressure)\n",
    "                                                   mass,\n",
    "                                                   advection,\n",
    "                                                   diffusion,\n",
    "                                                   potential,\n",
    "                                                   reaction,\n",
    "                                                   hamiltonian,\n",
    "                                                   variableNames)\n",
    "            self.vectorComponents = [1,2]\n",
    "    def evaluate(self,t,c):\n",
    "        if self.nd==2:\n",
    "            self.NavierStokes_2D_Evaluate(self.rho,\n",
    "                                          self.nu,\n",
    "                                          self.g,\n",
    "                                          c[('u',0)],\n",
    "                                          c[('grad(u)',0)],\n",
    "                                          c[('u',1)],\n",
    "                                          c[('u',2)],\n",
    "                                          c[('m',1)],\n",
    "                                          c[('dm',1,1)],\n",
    "                                          c[('m',2)],\n",
    "                                          c[('dm',2,2)],\n",
    "                                          c[('f',0)],\n",
    "                                          c[('df',0,1)],\n",
    "                                          c[('df',0,2)],\n",
    "                                          c[('f',1)],\n",
    "                                          c[('df',1,1)],\n",
    "                                          c[('df',1,2)],\n",
    "                                          c[('f',2)],\n",
    "                                          c[('df',2,1)],\n",
    "                                          c[('df',2,2)],\n",
    "                                          c[('a',1,1)],\n",
    "                                          c[('a',2,2)],\n",
    "                                          c[('r',1)],\n",
    "                                          c[('r',2)],\n",
    "                                          c[('H',1)],\n",
    "                                          c[('dH',1,0)],\n",
    "                                          c[('H',2)],\n",
    "                                          c[('dH',2,0)])"
   ]
  },
  {
   "cell_type": "markdown",
   "metadata": {
    "collapsed": true
   },
   "source": [
    "### Boundary Conditions\n",
    "\n",
    "Boundary conditions are an important part of any numeric PDE solver.  In the next block of code we define two functions that will help use to specify problems boundary conditions. "
   ]
  },
  {
   "cell_type": "code",
   "execution_count": 3,
   "metadata": {
    "collapsed": true
   },
   "outputs": [],
   "source": [
    "\n",
    "class uTrue:\n",
    "    def __init__(self):\n",
    "        pass\n",
    "    def uOfX(self,x):\n",
    "        return 1.\n",
    "    def uOfXT(self,x,t):\n",
    "        if t==1.0:\n",
    "            return 1.\n",
    "        if t==2.0:\n",
    "            return 10.\n",
    "        if t==3.0:\n",
    "            return 100.\n",
    "        if t==4.0:\n",
    "            return 200.\n",
    "        \n",
    "class vTrue:\n",
    "    def __init__(self):\n",
    "        pass\n",
    "    def vOfX(self,x):\n",
    "        return 0.\n",
    "    def vOfXT(self,x,t):\n",
    "        return self.vOfX(x)\n"
   ]
  },
  {
   "cell_type": "markdown",
   "metadata": {},
   "source": [
    "### The Proteus Phliosophy\n",
    "\n",
    "Next we start getting into the particulars of setting up a simulation in Proteus.\n",
    "\n",
    "Before proceeding, it is worth noting that Proteus aims to seperate the physics and the numerics of a problem as much as possible.  This compartmentalization allows researchers to focus on the particulars of their particular problem.\n",
    "\n",
    "In order to facilate this seperation, each simulation is seperated into a set of physical and numerical parameters.\n"
   ]
  },
  {
   "cell_type": "markdown",
   "metadata": {},
   "source": [
    "### Define the Physics\n",
    "\n",
    "The first step in defining a problem's physics is to initialize our physics to default_p.  default_p is a collection of default values for the varies physics parameters the Proteus solver expects.  Once the physics has been initialized, we can then go about specifying the problem as we'd like.\n",
    "\n",
    "In the code box below we override the Proteus defaults to build the driven cavity NS problem we are interested in solving.  See the inline comments for further details.\n"
   ]
  },
  {
   "cell_type": "code",
   "execution_count": 4,
   "metadata": {
    "collapsed": false
   },
   "outputs": [],
   "source": [
    "physics = default_p\n",
    "physics.name = \"nse_driven_cavity\"\n",
    "\n",
    "# this specifies the problem's dimension\n",
    "physics.nd = 2\n",
    "\n",
    "# There are several ways to specify a mesh in Proteus.  Perhaps the eaiset is to initialize\n",
    "# a coordinate for the bottom left corner of the mesh (.x0) and the length of each coordinate\n",
    "# axis (.L).\n",
    "# Thus, the commands below creates a mesh with length 1 in the x and y direction with its bottom \n",
    "# left corner at the origin.\n",
    "physics.x0 = [0.0,0.0]\n",
    "physics.L = [1.0,1.0]\n",
    "\n",
    "# Here we specify the simulation coefficients will come from a NavierStokes problem.  To illustrate\n",
    "# its construction, the construction of this class is shown above.  Note that the Proteus library has\n",
    "# prewritten classes for most common physics problems.\n",
    "physics.coefficients = NavierStokes_1(rho=1.0,nu=1.0,g=[0.0,0.0],nd=2)\n",
    "\n",
    "# Next we define functions for our problems boundary conditions.  Note that these functions\n",
    "# refer to the earlier boundary condition functions and are not memebers of the the physics class.\n",
    "def getDBCp(x,flag):\n",
    "    pass\n",
    "\n",
    "def getDBCu(x,flag):\n",
    "    if (x[0] == physics.x0[0] or x[0] == (physics.x0[0]+physics.L[0]) or x[1] == physics.x0[1]):\n",
    "        return lambda x,t: 0.0\n",
    "    elif (x[1] == (physics.x0[1] + physics.L[1])):\n",
    "        return lambda x,t: uTrue().uOfXT(x,t)\n",
    "\n",
    "def getDBCv(x,flag):\n",
    "    if (x[0] == physics.x0[0] or x[0] == (physics.x0[0]+physics.L[0]) or \\\n",
    "        x[1] == physics.x0[1] or x[1] == (physics.x0[1]+physics.L[1])):\n",
    "        return lambda x,t: 0.0\n",
    "\n",
    "def getAdvFluxBCp(x,flag):\n",
    "    pass\n",
    "    \n",
    "def getAdvFluxBCu(x,flag):\n",
    "    pass\n",
    "\n",
    "def getAdvFluxBCv(x,flag):\n",
    "    pass\n",
    "    \n",
    "# Here we attach the boundary condition functions written above to Proteus' physics class.  For this\n",
    "# problem, the boundary conditions are fully specified by the Dirichlet conditions along the boundary.\n",
    "# The boundary conditions corresponding to the advectiveFlux and pressure are just place holders.\n",
    "physics.dirichletConditions = {0:getDBCp, 1:getDBCu, 2:getDBCv}\n",
    "physics.advectiveFluxBoundaryConditions = {0:getAdvFluxBCp,1:getAdvFluxBCu,2:getAdvFluxBCv}"
   ]
  },
  {
   "cell_type": "markdown",
   "metadata": {
    "collapsed": true
   },
   "source": [
    "### Define the Numerics\n",
    "\n",
    "As with the phyiscs, we start defining the numerics by loading the default values.\n",
    "\n",
    "Following the initialization, there are three categories of information we specify: Mesh, FE Space and Linear Algebra and Solver Options.\n",
    "\n",
    "Mesh -\n",
    "\n",
    "While the dimensions and location of the domain are speicified as part of the simulation's physics, aspects of the refinment are speicifed as part of the simulation's numerics.  In this example, we specify that each coordinate axis of the mesh should have 41 nodes.  While other mesh options are avaliable, these will be demonstrated in other tutorials.\n",
    "\n",
    "FE Space -\n",
    "\n",
    "Proteus supports several choices of finite elements to solve Stokes and Navier-Stokes problems.  In this example we \n"
   ]
  },
  {
   "cell_type": "code",
   "execution_count": 5,
   "metadata": {
    "collapsed": false
   },
   "outputs": [],
   "source": [
    "numerics = default_n\n",
    "\n",
    "# ******* MESH ********\n",
    "# this specifies the number of mesh nodes in the x and y directions \n",
    "numerics.nn = 41\n",
    "\n",
    "# ******* FE SPACE *********\n",
    "# these options specify the finite element space used to approximate the solution\n",
    "\n",
    "numeric_scheme = \"THQuads\" #Options: TH or C0P1C0P1\n",
    "\n",
    "if numeric_scheme == \"TH\":\n",
    "    numerics.femSpaces = {0:FemTools.C0_AffineLinearOnSimplexWithNodalBasis, #pressure space\n",
    "                          1:FemTools.C0_AffineQuadraticOnSimplexWithNodalBasis,\n",
    "                          2:FemTools.C0_AffineQuadraticOnSimplexWithNodalBasis}  #velocity space\n",
    "\n",
    "elif numeric_scheme == \"C0P1C0P1\":\n",
    "    numerics.femSpaces = {0:FemTools.C0_AffineLinearOnSimplexWithNodalBasis,\n",
    "                          1:FemTools.C0_AffineLinearOnSimplexWithNodalBasis,\n",
    "                          2:FemTools.C0_AffineLinearOnSimplexWithNodalBasis}\n",
    "    numerics.subgridError = SubgridError.NavierStokesASGS_velocity_pressure(physics.coefficients,physics.nd,lag=False)\n",
    "\n",
    "elif numeric_scheme == \"THQuads\":\n",
    "    femSpaces = {0:FemTools.C0_AffineLinearOnCubeWithNodalBasis,\n",
    "                 1:FemTools.Q2,\n",
    "                 2:FemTools.Q2}\n",
    "\n",
    "if numeric_scheme == \"TH\" or numeric_scheme == \"C0P1C0P1\":\n",
    "    numerics.elementQuadrature = Quadrature.SimplexGaussQuadrature(physics.nd,4)\n",
    "    numerics.elementBoundaryQuadrature = Quadrature.SimplexGaussQuadrature(physics.nd-1,4)\n",
    "\n",
    "elif numeric_scheme == \"THQuads\":\n",
    "    numerics.elementQuadrature = Quadrature.CubeGaussQuadrature(physics.nd,4)\n",
    "    numerics.elementBoundaryQuadrature = Quadrature.CubeGaussQuadrature(physics.nd-1,4)\n",
    "    \n",
    "# ******** LINEAR ALGEBRA AND SOLVER OPTIONS ********\n",
    "    \n",
    "#numerics.numericalFluxType = NumericalFlux.Diffusion_IIPG_exterior\n",
    "numerics.matrix = LinearAlgebraTools.SparseMatrix\n",
    "\n",
    "numerics.multilevelNonlinearSolver = NonlinearSolvers.Newton\n",
    "numerics.levelNonlinearSolver = NonlinearSolvers.Newton\n",
    "numerics.maxNonlinearIts = 100\n",
    "numerics.maxLineSearches = 100\n",
    "\n",
    "numerics.linearSmoother = LinearSolvers.NavierStokes3D\n",
    "numerics.l_atol_res = 1.0e-8\n",
    "numerics.nl_atol_res = 1.0e-4\n",
    "\n",
    "solveIteratively = False\n",
    "iterativeSolver = 'direct'  # options: 'asm', 'schur', 'direct'\n",
    "\n",
    "if solveIteratively:\n",
    "    numerics.multilevelLinearSolver = LinearSolvers.KSP_petsc4py\n",
    "    numerics.levelLinearSolver = LinearSolvers.KSP_petsc4py\n",
    "    if iterativeSolver == 'asm':\n",
    "        petsc4py.PETSc.Options().setValue(\"ksp_type\",\"gmres\")\n",
    "        petsc4py.PETSc.Options().setValue(\"pc_type\",\"asm\")\n",
    "        petsc4py.PETSc.Options().setValue(\"sub_pc_type\",\"lu\")\n",
    "    if iterativeSolver == 'schur':\n",
    "        petsc4py.PETSc.Options().setValue(\"ksp_type\",\"fgmres\")\n",
    "        petsc4py.PETSc.Options().setValue(\"pc_type\",\"fieldsplit\")\n",
    "        petsc4py.PETSc.Options().setValue(\"pc_fieldsplit_type\",\"schur\")\n",
    "        petsc4py.PETSc.Options().setValue(\"pc_fieldsplit_schur_fact_type\",\"full\")\n",
    "        petsc4py.PETSc.Options().setValue(\"pc_fieldsplit_precondition\",\"selfp\")\n",
    "        petsc4py.PETSc.Options().setValue(\"fieldsplit_velocity_ksp_type\",\"preonly\")\n",
    "        petsc4py.PETSc.Options().setValue(\"fieldsplit_velocity_pc_type\",\"asm\")\n",
    "    #numerics.numericalFluxType = NumericalFlux.NavierStokes_Advection_DiagonalUpwind_Diffusion_IIPG_exterior\n",
    "    numerics.numericalFluxType = NumericalFlux.Diffusion_IIPG_exterior\n",
    "else:\n",
    "    numerics.multilevelLinearSolver = LinearSolvers.LU\n",
    "    numerics.levelLinearSolver = LinearSolvers.LU\n",
    "    numerics.numericalFluxType = NumericalFlux.Diffusion_IIPG_exterior\n",
    "#    numerics.numericalFluxType = None\n",
    "    \n"
   ]
  },
  {
   "cell_type": "markdown",
   "metadata": {},
   "source": [
    "### Initialize SO"
   ]
  },
  {
   "cell_type": "code",
   "execution_count": 6,
   "metadata": {
    "collapsed": true
   },
   "outputs": [],
   "source": [
    "so = default_so\n",
    "so.name = physics.name\n",
    "so.sList = [default_s]\n",
    "so.tnList = [0.0,1.0,2.0]\n",
    "#so.tnList = [0.0,1.0,2.0,3.0,4.0]"
   ]
  },
  {
   "cell_type": "markdown",
   "metadata": {},
   "source": [
    "### Solve the Problem"
   ]
  },
  {
   "cell_type": "code",
   "execution_count": 7,
   "metadata": {
    "collapsed": false
   },
   "outputs": [
    {
     "name": "stdout",
     "output_type": "stream",
     "text": [
      "[      12] Initializing NumericalSolution for nse_driven_cavity\n",
      " System includes: \n",
      "nse_driven_cavity\n",
      "\n",
      "[      12] Setting Archiver(s)\n",
      "[      12] Setting up MultilevelMesh\n",
      "[      12] Building one multilevel mesh for all models\n",
      "[      12] Generating mesh for nse_driven_cavity\n",
      "[      12] Building 41 x 41 rectangular mesh for nse_driven_cavity\n",
      "[      12] Partitioning mesh among 1 processors using partitioningType = 1\n",
      "[      12] Number of Subdomain Elements Owned= 3200\n",
      "[      12] Number of Subdomain Elements = 3200\n",
      "[      12] Number of Subdomain Nodes Owned= 1681\n",
      "[      12] Number of Subdomain Nodes = 1681\n",
      "[      12] Number of Subdomain elementBoundaries Owned= 4880\n",
      "[      12] Number of Subdomain elementBoundaries = 4880\n",
      "[      12] Number of Subdomain Edges Owned= 4880\n",
      "[      12] Number of Subdomain Edges = 4880\n",
      "[      12] Finished partitioning\n",
      "[      12] *** Global ***\n",
      "Number of triangles  : 3200\n",
      "Number of edges : 4880\n",
      "Number of nodes : 1681\n",
      "\n",
      "*** Local ***\n",
      "Number of triangles  : 3200\n",
      "Number of edges : 4880\n",
      "Number of nodes : 1681\n",
      "\n",
      "[      12] Numerical Solution Sparse diffusion information key (0, 0) = (array([0, 2, 4], dtype=int32), array([0, 1, 0, 1], dtype=int32))\n",
      "[      12] Numerical Solution Sparse diffusion information key (1, 1) = (array([0, 2, 4], dtype=int32), array([0, 1, 0, 1], dtype=int32))\n",
      "[      12] Numerical Solution Sparse diffusion information key (2, 2) = (array([0, 2, 4], dtype=int32), array([0, 1, 0, 1], dtype=int32))\n",
      "[      12] Setting up MultilevelTransport for nse_driven_cavity\n"
     ]
    },
    {
     "ename": "Exception",
     "evalue": "Proteus is trying to create a Multilevel Transport object with no trial space.  Make sure femSpaces is properly specified in your numerics.",
     "output_type": "error",
     "traceback": [
      "\u001b[0;31m---------------------------------------------------------------------------\u001b[0m",
      "\u001b[0;31mException\u001b[0m                                 Traceback (most recent call last)",
      "\u001b[0;32m<ipython-input-7-f97790026d4c>\u001b[0m in \u001b[0;36m<module>\u001b[0;34m()\u001b[0m\n\u001b[0;32m----> 1\u001b[0;31m \u001b[0mns\u001b[0m \u001b[0;34m=\u001b[0m \u001b[0mNumericalSolution\u001b[0m\u001b[0;34m.\u001b[0m\u001b[0mNS_base\u001b[0m\u001b[0;34m(\u001b[0m\u001b[0mso\u001b[0m\u001b[0;34m,\u001b[0m\u001b[0;34m[\u001b[0m\u001b[0mphysics\u001b[0m\u001b[0;34m]\u001b[0m\u001b[0;34m,\u001b[0m\u001b[0;34m[\u001b[0m\u001b[0mnumerics\u001b[0m\u001b[0;34m]\u001b[0m\u001b[0;34m,\u001b[0m\u001b[0mso\u001b[0m\u001b[0;34m.\u001b[0m\u001b[0msList\u001b[0m\u001b[0;34m,\u001b[0m\u001b[0mopts\u001b[0m\u001b[0;34m)\u001b[0m\u001b[0;34m\u001b[0m\u001b[0m\n\u001b[0m\u001b[1;32m      2\u001b[0m \u001b[0mns\u001b[0m\u001b[0;34m.\u001b[0m\u001b[0mcalculateSolution\u001b[0m\u001b[0;34m(\u001b[0m\u001b[0;34m'run1'\u001b[0m\u001b[0;34m)\u001b[0m\u001b[0;34m\u001b[0m\u001b[0m\n\u001b[1;32m      3\u001b[0m \u001b[0;34m\u001b[0m\u001b[0m\n\u001b[1;32m      4\u001b[0m \u001b[0;31m# save solution and grid data for plotting purposes\u001b[0m\u001b[0;34m\u001b[0m\u001b[0;34m\u001b[0m\u001b[0m\n\u001b[1;32m      5\u001b[0m \u001b[0mx\u001b[0m \u001b[0;34m=\u001b[0m \u001b[0mns\u001b[0m\u001b[0;34m.\u001b[0m\u001b[0mmodelList\u001b[0m\u001b[0;34m[\u001b[0m\u001b[0;36m0\u001b[0m\u001b[0;34m]\u001b[0m\u001b[0;34m.\u001b[0m\u001b[0mlevelModelList\u001b[0m\u001b[0;34m[\u001b[0m\u001b[0;34m-\u001b[0m\u001b[0;36m1\u001b[0m\u001b[0;34m]\u001b[0m\u001b[0;34m.\u001b[0m\u001b[0mmesh\u001b[0m\u001b[0;34m.\u001b[0m\u001b[0mnodeArray\u001b[0m\u001b[0;34m[\u001b[0m\u001b[0;34m:\u001b[0m\u001b[0;34m,\u001b[0m\u001b[0;36m0\u001b[0m\u001b[0;34m]\u001b[0m\u001b[0;34m\u001b[0m\u001b[0m\n",
      "\u001b[0;32m/home/alistair/proteus/proteus/NumericalSolution.pyc\u001b[0m in \u001b[0;36m__init__\u001b[0;34m(self, so, pList, nList, sList, opts, simFlagsList)\u001b[0m\n\u001b[1;32m    481\u001b[0m \u001b[0;34m\u001b[0m\u001b[0m\n\u001b[1;32m    482\u001b[0m             \u001b[0mlogEvent\u001b[0m\u001b[0;34m(\u001b[0m\u001b[0;34m\"Setting up MultilevelTransport for \"\u001b[0m\u001b[0;34m+\u001b[0m\u001b[0mp\u001b[0m\u001b[0;34m.\u001b[0m\u001b[0mname\u001b[0m\u001b[0;34m)\u001b[0m\u001b[0;34m\u001b[0m\u001b[0m\n\u001b[0;32m--> 483\u001b[0;31m             \u001b[0mmodel\u001b[0m \u001b[0;34m=\u001b[0m \u001b[0mTransport\u001b[0m\u001b[0;34m.\u001b[0m\u001b[0mMultilevelTransport\u001b[0m\u001b[0;34m(\u001b[0m\u001b[0mp\u001b[0m\u001b[0;34m,\u001b[0m\u001b[0mn\u001b[0m\u001b[0;34m,\u001b[0m\u001b[0mmlMesh\u001b[0m\u001b[0;34m,\u001b[0m\u001b[0mOneLevelTransportType\u001b[0m\u001b[0;34m=\u001b[0m\u001b[0mp\u001b[0m\u001b[0;34m.\u001b[0m\u001b[0mLevelModelType\u001b[0m\u001b[0;34m)\u001b[0m\u001b[0;34m\u001b[0m\u001b[0m\n\u001b[0m\u001b[1;32m    484\u001b[0m             \u001b[0mself\u001b[0m\u001b[0;34m.\u001b[0m\u001b[0mmodelList\u001b[0m\u001b[0;34m.\u001b[0m\u001b[0mappend\u001b[0m\u001b[0;34m(\u001b[0m\u001b[0mmodel\u001b[0m\u001b[0;34m)\u001b[0m\u001b[0;34m\u001b[0m\u001b[0m\n\u001b[1;32m    485\u001b[0m             \u001b[0mmodel\u001b[0m\u001b[0;34m.\u001b[0m\u001b[0mname\u001b[0m \u001b[0;34m=\u001b[0m \u001b[0mp\u001b[0m\u001b[0;34m.\u001b[0m\u001b[0mname\u001b[0m\u001b[0;34m\u001b[0m\u001b[0m\n",
      "\u001b[0;32m/home/alistair/proteus/proteus/Transport.pyc\u001b[0m in \u001b[0;36m__init__\u001b[0;34m(self, problem, numerics, mlMesh, OneLevelTransportType)\u001b[0m\n\u001b[1;32m   6146\u001b[0m             \u001b[0mproblem\u001b[0m\u001b[0;34m.\u001b[0m\u001b[0msd\u001b[0m\u001b[0;34m,\u001b[0m\u001b[0;34m\u001b[0m\u001b[0m\n\u001b[1;32m   6147\u001b[0m             \u001b[0mproblem\u001b[0m\u001b[0;34m.\u001b[0m\u001b[0mmovingDomain\u001b[0m\u001b[0;34m,\u001b[0m\u001b[0;34m\u001b[0m\u001b[0m\n\u001b[0;32m-> 6148\u001b[0;31m             PhiSpaceTypeDict=phiSpaces)\n\u001b[0m\u001b[1;32m   6149\u001b[0m     def initialize(self,\n\u001b[1;32m   6150\u001b[0m                    \u001b[0mnd\u001b[0m\u001b[0;34m,\u001b[0m\u001b[0;34m\u001b[0m\u001b[0m\n",
      "\u001b[0;32m/home/alistair/proteus/proteus/Transport.pyc\u001b[0m in \u001b[0;36minitialize\u001b[0;34m(self, nd, mlMesh, TrialSpaceTypeDict, TestSpaceTypeDict, matType, dirichletConditionsSetterDict, coefficients, quadratureDict, elementBoundaryQuadratureDict, fluxBoundaryConditionsDict, advectiveFluxBoundaryConditionsSetterDict, diffusiveFluxBoundaryConditionsSetterDictDict, stressFluxBoundaryConditionsSetterDict, stabilization, shockCapturing, conservativeFlux, numericalFluxType, TimeIntegrationClass, massLumping, reactionLumping, weakDirichletConditions, options, useSparseDiffusion, movingDomain, PhiSpaceTypeDict)\u001b[0m\n\u001b[1;32m   6179\u001b[0m \u001b[0;34m\u001b[0m\u001b[0m\n\u001b[1;32m   6180\u001b[0m         \u001b[0;32mif\u001b[0m \u001b[0mbool\u001b[0m\u001b[0;34m(\u001b[0m\u001b[0mTrialSpaceTypeDict\u001b[0m\u001b[0;34m)\u001b[0m \u001b[0;34m==\u001b[0m \u001b[0mFalse\u001b[0m\u001b[0;34m:\u001b[0m\u001b[0;34m\u001b[0m\u001b[0m\n\u001b[0;32m-> 6181\u001b[0;31m             \u001b[0;32mraise\u001b[0m \u001b[0mException\u001b[0m\u001b[0;34m,\u001b[0m  \u001b[0;34m'Proteus is trying to create a'\u001b[0m\u001b[0;31m \u001b[0m\u001b[0;31m\\\u001b[0m\u001b[0;34m\u001b[0m\u001b[0m\n\u001b[0m\u001b[1;32m   6182\u001b[0m             \u001b[0;34m' Multilevel Transport object with no trial space.  Make'\u001b[0m\u001b[0;31m \u001b[0m\u001b[0;31m\\\u001b[0m\u001b[0;34m\u001b[0m\u001b[0m\n\u001b[1;32m   6183\u001b[0m             \u001b[0;34m' sure femSpaces is properly specified in your numerics.'\u001b[0m\u001b[0;34m\u001b[0m\u001b[0m\n",
      "\u001b[0;31mException\u001b[0m: Proteus is trying to create a Multilevel Transport object with no trial space.  Make sure femSpaces is properly specified in your numerics."
     ]
    }
   ],
   "source": [
    "ns = NumericalSolution.NS_base(so,[physics],[numerics],so.sList,opts)\n",
    "ns.calculateSolution('run1')\n",
    "\n",
    "# save solution and grid data for plotting purposes\n",
    "x = ns.modelList[0].levelModelList[-1].mesh.nodeArray[:,0]\n",
    "y = ns.modelList[0].levelModelList[-1].mesh.nodeArray[:,1]\n",
    "triangles = ns.modelList[0].levelModelList[-1].mesh.elementNodesArray\n",
    "p = ns.modelList[0].levelModelList[-1].u[0].dof\n",
    "u = ns.modelList[0].levelModelList[-1].u[1].dof\n",
    "v = ns.modelList[0].levelModelList[-1].u[2].dof"
   ]
  },
  {
   "cell_type": "markdown",
   "metadata": {},
   "source": [
    "### Visualize the Solution"
   ]
  },
  {
   "cell_type": "code",
   "execution_count": null,
   "metadata": {
    "collapsed": false
   },
   "outputs": [],
   "source": [
    "%pylab inline"
   ]
  },
  {
   "cell_type": "code",
   "execution_count": null,
   "metadata": {
    "collapsed": false
   },
   "outputs": [],
   "source": [
    "import matplotlib.pyplot as plt\n",
    "plt.clf()\n",
    "plt.tricontourf(x,y,triangles,u[:x.shape[0]])\n",
    "plt.xlabel('x'); plt.ylabel('y')\n",
    "plt.title('NSE Driven Cavity Solution Approximation'); plt.colorbar()\n",
    "plt.show()"
   ]
  },
  {
   "cell_type": "code",
   "execution_count": null,
   "metadata": {
    "collapsed": false
   },
   "outputs": [],
   "source": [
    "import matplotlib.pyplot as plt\n",
    "plt.clf()\n",
    "plt.tricontourf(x,y,triangles,v[:x.shape[0]])\n",
    "plt.xlabel('x'); plt.ylabel('y')\n",
    "plt.title('NSE Driven Cavity Solution Approximation'); plt.colorbar()\n",
    "plt.show()"
   ]
  },
  {
   "cell_type": "code",
   "execution_count": null,
   "metadata": {
    "collapsed": false
   },
   "outputs": [],
   "source": [
    "import matplotlib.pyplot as plt\n",
    "plt.clf()\n",
    "plt.tricontourf(x,y,triangles,p[:x.shape[0]])\n",
    "plt.xlabel('x'); plt.ylabel('y')\n",
    "plt.title('NSE Driven Cavity Solution Approximation'); plt.colorbar()\n",
    "plt.show()"
   ]
  },
  {
   "cell_type": "code",
   "execution_count": null,
   "metadata": {
    "collapsed": true
   },
   "outputs": [],
   "source": []
  },
  {
   "cell_type": "code",
   "execution_count": null,
   "metadata": {
    "collapsed": true
   },
   "outputs": [],
   "source": []
  }
 ],
 "metadata": {
  "kernelspec": {
   "display_name": "Python 2",
   "language": "python",
   "name": "python2"
  },
  "language_info": {
   "codemirror_mode": {
    "name": "ipython",
    "version": 2
   },
   "file_extension": ".py",
   "mimetype": "text/x-python",
   "name": "python",
   "nbconvert_exporter": "python",
   "pygments_lexer": "ipython2",
   "version": "2.7.11"
  }
 },
 "nbformat": 4,
 "nbformat_minor": 0
}
