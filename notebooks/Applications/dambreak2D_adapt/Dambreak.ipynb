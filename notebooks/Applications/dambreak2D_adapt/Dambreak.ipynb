{
 "cells": [
  {
   "cell_type": "markdown",
   "metadata": {
    "slideshow": {
     "slide_type": "slide"
    }
   },
   "source": [
    "Dambreak with Mesh Adaptivity (2D Version)\n",
    "==============================\n",
    "This is a notebook that borrows heavily from the wavetank2D notebook to demonstrate the mesh adaptation feature."
   ]
  },
  {
   "cell_type": "markdown",
   "metadata": {},
   "source": [
    "<img src=\"dambreak_T0p0.png\" alt=\"T=0s\" style=\"width: 400px\"/><img src=\"dambreak_T0p31.png\" alt=\"T=0.31s\"style=\"width: 400px\"/>"
   ]
  },
  {
   "cell_type": "markdown",
   "metadata": {
    "slideshow": {
     "slide_type": "fragment"
    }
   },
   "source": [
    "Notes:\n",
    "---------\n",
    "\n",
    "- Proteus runs with logging that records verying amounts of information by setting logLevel from 1 to 11\n",
    "- The log is stored  in a .log file, which can be downloaded\n",
    "- If Profiling.verbose is set  to True thebn logging will show up in certain output cells of the notebook, which is usually not what you want"
   ]
  },
  {
   "cell_type": "markdown",
   "metadata": {},
   "source": [
    "Define the dambreak geometry\n",
    "=========================\n",
    "The geometry and mesh are provided in \"Dambreak.geo\" and \"Dambreak.msh\", respectively.\n",
    "The MeshAdaptPUMI class should not be initialized more than once else the kernel fails.\n",
    "The following cell exposes the inputs to the MeshAdaptPUMI class that handles the loading of the model and mesh and ultimately the mesh adaptation."
   ]
  },
  {
   "cell_type": "code",
   "execution_count": 1,
   "metadata": {},
   "outputs": [
    {
     "name": "stdout",
     "output_type": "stream",
     "text": [
      "Overwriting modelmesh.py\n"
     ]
    }
   ],
   "source": [
    "%%writefile modelmesh.py\n",
    "from proteus import Domain\n",
    "import proteus.MeshTools\n",
    "from proteus.MeshAdaptPUMI import MeshAdaptPUMI\n",
    "\n",
    "nd = 2 #number of dimensions in the problem\n",
    "parallelPartitioningType = proteus.MeshTools.MeshParallelPartitioningTypes.element #type of partitioning if parallel\n",
    "nLayersOfOverlapForParallel = 0 #amount of ghosting if parallel\n",
    "boundaries=['left','right','bottom','top'] #boundary tag dictionary\n",
    "boundaryTags=dict([(key,i+1) for (i,key) in enumerate(boundaries)])\n",
    "\n",
    "domain = Domain.PUMIDomain(dim=nd) #initialize the domain\n",
    "domain.faceList=[[11],[13],[14],[12]] #model entities associated wtih boundary tags\n",
    "adaptMesh = True #adapt the mesh?\n",
    "adaptMesh_nSteps = 5 #amount of time steps before checking error?\n",
    "\n",
    "hMax = 0.08\n",
    "hMin = 0.00625\n",
    "adaptMesh_numIter = 2 #number of iterations for mesh adaptation\n",
    "errorType=\"ERM\" #only just ERM at the moment\n",
    "logSwitch=\"off\" #on or off\n",
    "target_error = 10.0 \n",
    "target_element_count = 8000\n",
    "\n",
    "domain.PUMIMesh=MeshAdaptPUMI.MeshAdaptPUMI(hmax=hMax, \n",
    "                                            hmin=hMin, \n",
    "                                            numIter=adaptMesh_numIter,\n",
    "                                            sfConfig=errorType,\n",
    "                                            logType=logSwitch,\n",
    "                                            targetError=target_error,\n",
    "                                            targetElementCount=target_element_count)\n",
    "\n",
    "domain.PUMIMesh.loadModelAndMesh(\"Dambreak.null\",\"Dambreak.msh\")\n"
   ]
  },
  {
   "cell_type": "markdown",
   "metadata": {},
   "source": [
    "# Simulation Options"
   ]
  },
  {
   "cell_type": "markdown",
   "metadata": {},
   "source": [
    "The options are controlled by the opts class. "
   ]
  },
  {
   "cell_type": "code",
   "execution_count": 2,
   "metadata": {},
   "outputs": [],
   "source": [
    "import sys\n",
    "import proteus\n",
    "# Required imports\n",
    "from proteus.iproteus import * \n",
    "from proteus import default_n, default_s, default_so\n",
    "Profiling.logLevel=5\n",
    "Profiling.verbose=False"
   ]
  },
  {
   "cell_type": "code",
   "execution_count": 3,
   "metadata": {},
   "outputs": [],
   "source": [
    "import dambreak_so\n",
    "from proteus import Comm\n",
    "from petsc4py import PETSc\n",
    "\n",
    "so = dambreak_so\n",
    "so.tnList = so.tnList\n",
    "pList=[]\n",
    "nList=[]\n",
    "so.sList=[]\n",
    "OptDB = PETSc.Options()\n",
    "for (p,n) in so.pnList:\n",
    "    so.sList.append(default_s)\n",
    "    pList.append(__import__(p))\n",
    "    reload(pList[-1])\n",
    "    nList.append(__import__(n))\n",
    "    reload(nList[-1])\n",
    "    pList[-1].name = p\n",
    "    nList[-1].multilevelLinearSolver = default_n.KSP_petsc4py\n",
    "    nList[-1].levelLinearSolver = default_n.KSP_petsc4py\n",
    "    OptDB.setValue(nList[-1].linear_solver_options_prefix+\"ksp_type\", \"preonly\")\n",
    "    OptDB.setValue(nList[-1].linear_solver_options_prefix+\"pc_type\", \"lu\")\n",
    "    OptDB.setValue(nList[-1].linear_solver_options_prefix+\"pc_factor_mat_solver_package\",\"superlu_dist\")\n",
    "opts.save_dof = True\n",
    "opts.dataDir='.'\n",
    "opts.probDir='.'\n",
    "opts.logLevel=7\n",
    "opts.verbose=True"
   ]
  },
  {
   "cell_type": "markdown",
   "metadata": {
    "slideshow": {
     "slide_type": "slide"
    }
   },
   "source": [
    "Run the simulation\n",
    "==========\n",
    "The simulation will be initiated by initializing the ```NumericalSolution.NS_base()``` class followed by wrapping the ```calculateSolution()``` in a thread for ease of management.\n"
   ]
  },
  {
   "cell_type": "code",
   "execution_count": 4,
   "metadata": {},
   "outputs": [
    {
     "name": "stderr",
     "output_type": "stream",
     "text": [
      "/home/cekees/proteus/linux2/lib/python2.7/site-packages/h5py/__init__.py:36: FutureWarning: Conversion of the second argument of issubdtype from `float` to `np.floating` is deprecated. In future, it will be treated as `np.float64 == np.dtype(float).type`.\n",
      "  from ._conv import register_converters as _register_converters\n"
     ]
    }
   ],
   "source": [
    "ns = NumericalSolution.NS_base(so, pList, nList, so.sList, opts)"
   ]
  },
  {
   "cell_type": "code",
   "execution_count": 5,
   "metadata": {},
   "outputs": [],
   "source": [
    "from threading import Thread\n",
    "# Create a thread wrapper for the simulation.  The target must be an argument-less\n",
    "# function so we wrap the call to `calculateSolution` in a simple lambda:\n",
    "simulation_thread = Thread(target = lambda : ns.calculateSolution('run1'))"
   ]
  },
  {
   "cell_type": "code",
   "execution_count": 6,
   "metadata": {},
   "outputs": [],
   "source": [
    "simulation_thread.start()"
   ]
  },
  {
   "cell_type": "markdown",
   "metadata": {},
   "source": [
    "# Visualizing the Mesh Adaptation"
   ]
  },
  {
   "cell_type": "markdown",
   "metadata": {},
   "source": [
    "At the moment, the way to visualize the mesh adaptation process is to use Paraview to view the simulation data up until the current time step. ```gatherTimes``` is a utility that gathers the data up until the current step into a separate file for viewing. For simplicity, a paraview state file is provided. Do not close the Paraview window!"
   ]
  },
  {
   "cell_type": "code",
   "execution_count": 8,
   "metadata": {},
   "outputs": [
    {
     "name": "stdout",
     "output_type": "stream",
     "text": [
      "Starting job # 2 in a separate thread.\n"
     ]
    }
   ],
   "source": [
    "%%script bash --bg\n",
    "\n",
    "gatherTimes.py -f dambreak_p\n",
    "paraview --state=dambreak_p.pvsm"
   ]
  },
  {
   "cell_type": "markdown",
   "metadata": {},
   "source": [
    "To update the Paraview file, rerun the following cell and hit ```F5``` in Paraview to reload the file"
   ]
  },
  {
   "cell_type": "code",
   "execution_count": null,
   "metadata": {},
   "outputs": [],
   "source": [
    "%%bash\n",
    "gatherTimes.py -f dambreak_p"
   ]
  },
  {
   "cell_type": "markdown",
   "metadata": {},
   "source": [
    "If reloading the file doesn't yield any result, then the simulation has completed and you can run open the completed ```dambreak_p.xmf``` file. For simplicity, we can just rename ```dambreak_p.xmf``` to ```dambreak_p_completed.xmf``` and reload the Paraview file"
   ]
  },
  {
   "cell_type": "code",
   "execution_count": null,
   "metadata": {},
   "outputs": [],
   "source": [
    "%%bash\n",
    "cp dambreak_p.xmf dambreak_p_complete.xmf"
   ]
  }
 ],
 "metadata": {
  "kernelspec": {
   "display_name": "Python 2",
   "language": "python",
   "name": "python2"
  },
  "language_info": {
   "codemirror_mode": {
    "name": "ipython",
    "version": 2
   },
   "file_extension": ".py",
   "mimetype": "text/x-python",
   "name": "python",
   "nbconvert_exporter": "python",
   "pygments_lexer": "ipython2",
   "version": "2.7.11"
  }
 },
 "nbformat": 4,
 "nbformat_minor": 1
}
