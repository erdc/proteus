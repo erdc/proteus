{
 "cells": [
  {
   "cell_type": "markdown",
   "metadata": {
    "slideshow": {
     "slide_type": "slide"
    }
   },
   "source": [
    "Dambreak with Mesh Adaptivity (2D Version)\n",
    "==============================\n",
    "This is a notebook that borrows heavily from the wavetank2D notebook to demonstrate the mesh adaptation feature"
   ]
  },
  {
   "cell_type": "markdown",
   "metadata": {
    "slideshow": {
     "slide_type": "slide"
    }
   },
   "source": [
    "Load Proteus\n",
    "==========\n",
    "\n",
    "Proteus is a Python package consiting of multiple modules. We are going to define a problem and run a simulation interactively, so we pull in the iproteus (interactive proteus) module to set up a basic environment."
   ]
  },
  {
   "cell_type": "markdown",
   "metadata": {
    "slideshow": {
     "slide_type": "fragment"
    }
   },
   "source": [
    "Notes:\n",
    "---------\n",
    "\n",
    "- Proteus runs with logging that records verying amounts of information by setting logLevel from 1 to 11\n",
    "- The log is stored  in a .log file, which can be downloaded\n",
    "- If Profiling.verbose is set  to True then logging will show up in certain output cells of the notebook, which is usually not what you want"
   ]
  },
  {
   "cell_type": "code",
   "execution_count": null,
   "metadata": {
    "collapsed": false
   },
   "outputs": [],
   "source": [
    "import sys\n",
    "import proteus\n",
    "# Required imports\n",
    "from proteus.iproteus import * \n",
    "from proteus import default_n, default_s, default_so\n",
    "Profiling.logLevel=5\n",
    "Profiling.verbose=False"
   ]
  },
  {
   "cell_type": "code",
   "execution_count": null,
   "metadata": {
    "collapsed": false
   },
   "outputs": [],
   "source": [
    "print comm\n",
    "print NumericalSolution"
   ]
  },
  {
   "cell_type": "markdown",
   "metadata": {
    "slideshow": {
     "slide_type": "slide"
    }
   },
   "source": [
    "Define the dambreak geometry\n",
    "=========================\n",
    "The geometry and mesh are provided in \"Dambreak.geo\" and \"Dambreak.msh\", respectively.\n",
    "The MeshAdaptPUMI class should not be initialized more than once else the kernel fails."
   ]
  },
  {
   "cell_type": "code",
   "execution_count": null,
   "metadata": {
    "collapsed": false
   },
   "outputs": [],
   "source": [
    "from proteus import Domain\n",
    "import proteus.MeshTools\n",
    "#from proteus import Comm\n",
    "from proteus.MeshAdaptPUMI import MeshAdaptPUMI\n",
    "nd = 2\n",
    "\n",
    "boundaries=['left','right','bottom','top']\n",
    "boundaryTags=dict([(key,i+1) for (i,key) in enumerate(boundaries)])\n",
    "\n",
    "L = (0.584,0.70)\n",
    "nLevels = 1\n",
    "parallelPartitioningType = proteus.MeshTools.MeshParallelPartitioningTypes.element\n",
    "nLayersOfOverlapForParallel = 0\n",
    "\n",
    "domain = Domain.PUMIDomain(dim=nd) #initialize the domain\n",
    "domain.faceList=[[11],[13],[14],[12]]\n",
    "adaptMesh = True\n",
    "adaptMesh_nSteps = 5\n",
    "adaptMesh_numIter = 2\n",
    "print adaptMesh\n",
    "#comm = Comm.init()\n",
    "domain.PUMIMesh=MeshAdaptPUMI.MeshAdaptPUMI(hmax=0.08, hmin=0.00625,\n",
    "    numIter=adaptMesh_numIter,sfConfig=\"ERM\",logType=\"on\",targetError=10.0,targetElementCount=20000)\n"
   ]
  },
  {
   "cell_type": "code",
   "execution_count": null,
   "metadata": {
    "collapsed": false
   },
   "outputs": [],
   "source": [
    "#read the geometry and mesh\n",
    "domain.PUMIMesh.loadModelAndMesh(\"Dambreak.null\",\"Dambreak.msh\")"
   ]
  },
  {
   "cell_type": "markdown",
   "metadata": {},
   "source": [
    "# Define the initial free surface\n",
    "\n",
    "Provide a function that gives the signed distance to the air/water interface"
   ]
  },
  {
   "cell_type": "code",
   "execution_count": null,
   "metadata": {
    "collapsed": false
   },
   "outputs": [],
   "source": [
    "#%%px\n",
    "#def newSignedDistance(x):\n",
    "#    return (x[0]**2 + x[1]**2)**(0.5) - 0.2\n",
    "#tank.signedDistance = newSignedDistance"
   ]
  },
  {
   "cell_type": "markdown",
   "metadata": {
    "slideshow": {
     "slide_type": "slide"
    }
   },
   "source": [
    "Physics and Numerics\n",
    "=================\n",
    "\n",
    "Load the modules the define the equations to be solved and the numerical methods to use."
   ]
  },
  {
   "cell_type": "code",
   "execution_count": null,
   "metadata": {
    "collapsed": false,
    "slideshow": {
     "slide_type": "fragment"
    }
   },
   "outputs": [],
   "source": [
    "#%%px\n",
    "#print comm\n",
    "import dambreak_so\n",
    "#print comm\n",
    "#from proteus import Comm\n",
    "from petsc4py import PETSc\n",
    "\n",
    "so = dambreak_so\n",
    "so.tnList = so.tnList\n",
    "pList=[]\n",
    "nList=[]\n",
    "so.sList=[]\n",
    "OptDB = PETSc.Options()\n",
    "for (p,n) in so.pnList:\n",
    "    so.sList.append(default_s)\n",
    "    pList.append(__import__(p))\n",
    "    reload(pList[-1])\n",
    "    nList.append(__import__(n))\n",
    "    reload(nList[-1])\n",
    "    pList[-1].name = p\n",
    "    nList[-1].multilevelLinearSolver = default_n.KSP_petsc4py\n",
    "    nList[-1].levelLinearSolver = default_n.KSP_petsc4py\n",
    "    OptDB.setValue(nList[-1].linear_solver_options_prefix+\"ksp_type\", \"preonly\")\n",
    "    OptDB.setValue(nList[-1].linear_solver_options_prefix+\"pc_type\", \"lu\")\n",
    "    OptDB.setValue(nList[-1].linear_solver_options_prefix+\"pc_factor_mat_solver_package\",\"superlu_dist\")\n",
    "opts.save_dof = True\n",
    "opts.dataDir='.'\n",
    "opts.probDir='.'\n",
    "opts.logLevel=7\n",
    "opts.verbose=True"
   ]
  },
  {
   "cell_type": "markdown",
   "metadata": {
    "slideshow": {
     "slide_type": "slide"
    }
   },
   "source": [
    "Numerical Solution Object\n",
    "====================\n",
    "\n",
    "No we create an the numerical wavetank object and set it up to run in a thread on each engine."
   ]
  },
  {
   "cell_type": "code",
   "execution_count": null,
   "metadata": {
    "collapsed": false,
    "slideshow": {
     "slide_type": "fragment"
    }
   },
   "outputs": [],
   "source": [
    "#%%px\n",
    "#print boundaryTags\n",
    "#from proteus import NumericalSolution\n",
    "ns = NumericalSolution.NS_base(so, pList, nList, so.sList, opts)\n",
    "print ns"
   ]
  },
  {
   "cell_type": "code",
   "execution_count": null,
   "metadata": {
    "collapsed": true
   },
   "outputs": [],
   "source": [
    "ns.calculateSolution"
   ]
  },
  {
   "cell_type": "code",
   "execution_count": null,
   "metadata": {
    "collapsed": false,
    "slideshow": {
     "slide_type": "slide"
    }
   },
   "outputs": [],
   "source": [
    "#%%px --noblock\n",
    "from threading import Thread\n",
    "# Create a thread wrapper for the simulation.  The target must be an argument-less\n",
    "# function so we wrap the call to `calculateSolution` in a simple lambda:\n",
    "simulation_thread = Thread(target = lambda : ns.calculateSolution('dambreak_p'))"
   ]
  },
  {
   "cell_type": "markdown",
   "metadata": {
    "slideshow": {
     "slide_type": "slide"
    }
   },
   "source": [
    "Run the tank\n",
    "=========="
   ]
  },
  {
   "cell_type": "code",
   "execution_count": null,
   "metadata": {
    "collapsed": false,
    "slideshow": {
     "slide_type": "fragment"
    }
   },
   "outputs": [],
   "source": [
    "#%px \n",
    "simulation_thread.start()"
   ]
  },
  {
   "cell_type": "code",
   "execution_count": null,
   "metadata": {
    "collapsed": true
   },
   "outputs": [],
   "source": []
  }
 ],
 "metadata": {
  "kernelspec": {
   "display_name": "Python 2",
   "language": "python",
   "name": "python2"
  },
  "language_info": {
   "codemirror_mode": {
    "name": "ipython",
    "version": 2
   },
   "file_extension": ".py",
   "mimetype": "text/x-python",
   "name": "python",
   "nbconvert_exporter": "python",
   "pygments_lexer": "ipython2",
   "version": "2.7.11"
  }
 },
 "nbformat": 4,
 "nbformat_minor": 0
}
