{
 "cells": [
  {
   "cell_type": "code",
   "execution_count": 1,
   "metadata": {
    "collapsed": false
   },
   "outputs": [
    {
     "data": {
      "application/vnd.jupyter.widget-view+json": {
       "model_id": "4eaacd66eeed4bba89a4b6c543707dc5"
      }
     },
     "metadata": {},
     "output_type": "display_data"
    }
   ],
   "source": [
    "from pythreejs import *\n",
    "from IPython.display import display\n",
    "import sys, os, random, time\n",
    "from math import *\n",
    "\n",
    "def draw_sphere(c,r):\n",
    "    \"\"\"Draw an DEM Sphere\n",
    "    \"\"\"\n",
    "    widget = Mesh(geometry=SphereGeometry(radius=r),\n",
    "                  material=LambertMaterial(color='red'),\n",
    "                  position=[c[0],c[2],c[1]])\n",
    "    return widget\n",
    "\n",
    "\n",
    "x = 0\n",
    "y = 0\n",
    "width = 640\n",
    "height = 480\n",
    "\n",
    "spheres =[]\n",
    "\n",
    "# Some variables used inside the simulation loop\n",
    "fps = 20\n",
    "dt = 1.0/fps\n",
    "running = True\n",
    "state = 0\n",
    "counter = 0\n",
    "objcount = 0\n",
    "lasttime = time.time()\n",
    "from DEM import DEM\n",
    "dem=DEM(\"two_particles.yaml\")\n",
    "import numpy as np\n",
    "F=np.zeros((2,3),'d')\n",
    "M=np.zeros((2,3),'d')\n",
    "dem.step(F,M,dt)\n",
    "\n",
    "for c,r in zip(dem.get_center_array(),dem.get_radius_array()):\n",
    "    spheres.append(draw_sphere(c,r))\n",
    "\n",
    "scene = Scene(children=spheres)\n",
    "c = PerspectiveCamera(position=[0,0,7], up=[0,1,0], children=[DirectionalLight(color='white', \n",
    "                                                                             position=[3,5,1], \n",
    "                                                                             intensity=0.5)])\n",
    "renderer = Renderer(camera=c, scene = scene, controls=[OrbitControls(controlling=c)])\n",
    "ar = float(renderer.height)/float(renderer.width)\n",
    "renderer.width = u'600'\n",
    "renderer.height = `ar*600`\n",
    "display(renderer)\n",
    "lasttime = time.time()\n",
    "for i in range(299):\n",
    "    t = dt - (time.time() - lasttime)\n",
    "    if (t > 0):\n",
    "        time.sleep(t)\n",
    "        dem.step(F,M,dt)\n",
    "        for c,widget in zip(dem.get_center_array(),spheres):\n",
    "            widget.position=(c[0],c[2],c[1])\n",
    "    lasttime = time.time()"
   ]
  },
  {
   "cell_type": "code",
   "execution_count": null,
   "metadata": {
    "collapsed": true
   },
   "outputs": [],
   "source": []
  }
 ],
 "metadata": {
  "kernelspec": {
   "display_name": "Python 2",
   "language": "python",
   "name": "python2"
  },
  "language_info": {
   "codemirror_mode": {
    "name": "ipython",
    "version": 2
   },
   "file_extension": ".py",
   "mimetype": "text/x-python",
   "name": "python",
   "nbconvert_exporter": "python",
   "pygments_lexer": "ipython2",
   "version": "2.7.11"
  },
  "widgets": {
   "application/vnd.jupyter.widget-state+json": {
    "state": {
     "0d521e81c3a24485852ac6ca31b4e2cb": {
      "model_module": "jupyter-threejs",
      "model_module_version": "*",
      "model_name": "MeshModel",
      "state": {
       "_model_module_version": "*",
       "_view_module_version": "*",
       "castShadow": false,
       "children": [],
       "geometry": "IPY_MODEL_bb2a5374ff6d4e4f837be13e3143f829",
       "material": "IPY_MODEL_10624666f1dc494dace24e819eeb8b98",
       "msg_throttle": 1,
       "position": [
        0.17389072044067067,
        -0.8973914472301997,
        0
       ],
       "quaternion": [],
       "receiveShadow": false,
       "scale": [
        1,
        1,
        1
       ],
       "up": [
        0,
        1,
        0
       ],
       "visible": true
      }
     },
     "10624666f1dc494dace24e819eeb8b98": {
      "model_module": "jupyter-threejs",
      "model_module_version": "*",
      "model_name": "LambertMaterialModel",
      "state": {
       "_model_module_version": "*",
       "_view_module_version": "*",
       "color": "red",
       "msg_throttle": 1
      }
     },
     "21fa451cc80c456ea8d11a7eeb66152c": {
      "model_module": "jupyter-threejs",
      "model_module_version": "*",
      "model_name": "DirectionalLightModel",
      "state": {
       "_model_module_version": "*",
       "_view_module_version": "*",
       "castShadow": false,
       "children": [],
       "intensity": 0.5,
       "msg_throttle": 1,
       "position": [
        3,
        5,
        1
       ],
       "quaternion": [],
       "receiveShadow": false,
       "scale": [
        1,
        1,
        1
       ],
       "up": [
        0,
        1,
        0
       ],
       "visible": true
      }
     },
     "319a328124fb4cd980d9141d5d7c6fbc": {
      "model_module": "jupyter-js-widgets",
      "model_module_version": "~2.1.4",
      "model_name": "LayoutModel",
      "state": {
       "_model_module_version": "~2.1.4",
       "_view_module_version": "~2.1.4"
      }
     },
     "4eaacd66eeed4bba89a4b6c543707dc5": {
      "model_module": "jupyter-threejs",
      "model_module_version": "*",
      "model_name": "RendererModel",
      "state": {
       "_dom_classes": [],
       "_model_module_version": "*",
       "_view_module_version": "*",
       "camera": "IPY_MODEL_de79f3a2083a42ddb6dbeb3230a1ef02",
       "controls": [
        "IPY_MODEL_64d91b005e5a4bf9ab77806ff9252289"
       ],
       "height": "400.0",
       "layout": "IPY_MODEL_319a328124fb4cd980d9141d5d7c6fbc",
       "msg_throttle": 1,
       "scene": "IPY_MODEL_6433758ab2cf411aa9394fd059dfcaa5",
       "width": "600"
      }
     },
     "5b4ca98f7d3847f5bde974f438f92ef3": {
      "model_module": "jupyter-threejs",
      "model_module_version": "*",
      "model_name": "MeshModel",
      "state": {
       "_model_module_version": "*",
       "_view_module_version": "*",
       "castShadow": false,
       "children": [],
       "geometry": "IPY_MODEL_ccf9e1c3158d4d4999449a9f31f416b0",
       "material": "IPY_MODEL_c0d03486b7794e8587c3806a837dacb0",
       "msg_throttle": 1,
       "position": [
        -0.676265604048177,
        -0.8990907352281877,
        0
       ],
       "quaternion": [],
       "receiveShadow": false,
       "scale": [
        1,
        1,
        1
       ],
       "up": [
        0,
        1,
        0
       ],
       "visible": true
      }
     },
     "6433758ab2cf411aa9394fd059dfcaa5": {
      "model_module": "jupyter-threejs",
      "model_module_version": "*",
      "model_name": "SceneModel",
      "state": {
       "_model_module_version": "*",
       "_view_module_version": "*",
       "castShadow": false,
       "children": [
        "IPY_MODEL_5b4ca98f7d3847f5bde974f438f92ef3",
        "IPY_MODEL_0d521e81c3a24485852ac6ca31b4e2cb"
       ],
       "msg_throttle": 1,
       "position": [
        0,
        0,
        0
       ],
       "quaternion": [],
       "receiveShadow": false,
       "scale": [
        1,
        1,
        1
       ],
       "up": [
        0,
        1,
        0
       ],
       "visible": true
      }
     },
     "64d91b005e5a4bf9ab77806ff9252289": {
      "model_module": "jupyter-threejs",
      "model_module_version": "*",
      "model_name": "OrbitControlsModel",
      "state": {
       "_model_module_version": "*",
       "_view_module_version": "*",
       "controlling": "IPY_MODEL_de79f3a2083a42ddb6dbeb3230a1ef02",
       "msg_throttle": 1
      }
     },
     "bb2a5374ff6d4e4f837be13e3143f829": {
      "model_module": "jupyter-threejs",
      "model_module_version": "*",
      "model_name": "SphereGeometryModel",
      "state": {
       "_model_module_version": "*",
       "_view_module_version": "*",
       "msg_throttle": 1,
       "radius": 0.1
      }
     },
     "c0d03486b7794e8587c3806a837dacb0": {
      "model_module": "jupyter-threejs",
      "model_module_version": "*",
      "model_name": "LambertMaterialModel",
      "state": {
       "_model_module_version": "*",
       "_view_module_version": "*",
       "color": "red",
       "msg_throttle": 1
      }
     },
     "ccf9e1c3158d4d4999449a9f31f416b0": {
      "model_module": "jupyter-threejs",
      "model_module_version": "*",
      "model_name": "SphereGeometryModel",
      "state": {
       "_model_module_version": "*",
       "_view_module_version": "*",
       "msg_throttle": 1,
       "radius": 0.1
      }
     },
     "de79f3a2083a42ddb6dbeb3230a1ef02": {
      "model_module": "jupyter-threejs",
      "model_module_version": "*",
      "model_name": "PerspectiveCameraModel",
      "state": {
       "_model_module_version": "*",
       "_view_module_version": "*",
       "castShadow": false,
       "children": [
        "IPY_MODEL_21fa451cc80c456ea8d11a7eeb66152c"
       ],
       "msg_throttle": 1,
       "position": [
        0,
        0,
        7
       ],
       "quaternion": [],
       "receiveShadow": false,
       "scale": [
        1,
        1,
        1
       ],
       "up": [
        0,
        1,
        0
       ],
       "visible": true
      }
     }
    },
    "version_major": 1,
    "version_minor": 0
   }
  }
 },
 "nbformat": 4,
 "nbformat_minor": 1
}
