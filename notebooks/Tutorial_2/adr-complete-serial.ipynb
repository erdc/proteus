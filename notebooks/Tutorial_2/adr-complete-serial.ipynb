{
 "cells": [
  {
   "cell_type": "markdown",
   "metadata": {
    "slideshow": {
     "slide_type": "slide"
    }
   },
   "source": [
    "# Advection-Diffusion-Reaction Model\n",
    "\n",
    "This notebook demonstrates how to\n",
    "- Define the equation you want to solve\n",
    "- Setup up and initial-boundary value problem\n",
    "- Choose a particular set of numerics\n",
    "- Post-process the solution\n",
    "\n",
    "$\n",
    "\\newcommand{\\grad}{\\nabla}\n",
    "$"
   ]
  },
  {
   "cell_type": "code",
   "execution_count": 1,
   "metadata": {
    "collapsed": false,
    "slideshow": {
     "slide_type": "subslide"
    }
   },
   "outputs": [],
   "source": [
    "%matplotlib inline\n",
    "from proteus.iproteus import * \n",
    "Profiling.logLevel=7\n",
    "Profiling.verbose=False"
   ]
  },
  {
   "cell_type": "markdown",
   "metadata": {
    "slideshow": {
     "slide_type": "slide"
    }
   },
   "source": [
    "# Defining an equation\n",
    "The equation we want to solve is\n",
    "\\begin{equation*}\n",
    "m_t + \\nabla \\cdot \\left(\\mathbf{f} - \\mathbf{a} \\grad u \\right) + r = 0\n",
    "\\end{equation*}\n",
    "where $u$ is the unknown solution and the coefficients have the specific  forms\n",
    "\\begin{align}\n",
    "m(u) &= M u \\\\\n",
    "f(u) &= \\mathbf{B} u \\\\\n",
    "a(u) &= \\mathbf{A} \\\\\n",
    "r(u) &= C u \\\\\n",
    "\\end{align}"
   ]
  },
  {
   "cell_type": "markdown",
   "metadata": {
    "slideshow": {
     "slide_type": "fragment"
    }
   },
   "source": [
    "# Proteus template equation\n",
    "\\begin{equation}\n",
    "\\mathbf{u} = \\left[ u^0,u^1,\\ldots,u^{nc-1} \\right]\n",
    "\\end{equation}\n",
    "\\begin{equation*}\n",
    "m^i_t + \\nabla \\cdot \\left(\\mathbf{f}^i - \\sum_k^{nc-1} \\mathbf{a}^{i,k} \\nabla \\phi^k(\\mathbf{u}) \\right) + r^i + H^i(\\nabla u^i)= 0 \\qquad \\mbox{for } i=0,\\ldots,nc-1\n",
    "\\end{equation*}\n",
    "\n",
    "- $m$ is \"mass\"\n",
    "- $\\mathbf{f}$ is advection\n",
    "- $\\mathbf{a}$ is diffution\n",
    "- $\\phi$ is potential\n",
    "- $H$ is Hamiltonian\n",
    "- $r$ is reaction\n",
    "\n",
    "Example: non-conservative advection\n",
    "\\begin{equation}\n",
    "u_t + \\mathbf{v} \\cdot \\nabla u = 0\n",
    "\\end{equation}\n",
    "\n",
    "What is $m$?\n",
    "What is $f$?\n",
    "What is $H$?"
   ]
  },
  {
   "cell_type": "code",
   "execution_count": 2,
   "metadata": {
    "collapsed": false,
    "slideshow": {
     "slide_type": "slide"
    }
   },
   "outputs": [],
   "source": [
    "class LADR(TransportCoefficients.TC_base):\n",
    "    \"\"\"\n",
    "    The coefficients of the linear advection-diffusion equation\n",
    "    \"\"\"\n",
    "    def __init__(self,M,A,B,C):\n",
    "        TransportCoefficients.TC_base.__init__(self,\n",
    "                                               nc=1, #number of components\n",
    "                                               variableNames=['u'],\n",
    "                                               mass      = {0:{0:'linear'}},\n",
    "                                               advection = {0:{0:'linear'}},\n",
    "                                               diffusion = {0:{0:{0:'constant'}}},\n",
    "                                               potential = {0:{0:'u'}},\n",
    "                                               reaction  = {0:{0:'linear'}})\n",
    "                                            \n",
    "        self.M=M;\n",
    "        self.A=A;\n",
    "        self.B=B;\n",
    "        self.C=C;\n",
    "    def evaluate(self,t,c):\n",
    "        c[('m',0)][:]         = self.M*c[('u',0)]  \n",
    "        c[('dm',0,0)][:]      = self.M\n",
    "        c[('f',0)][...,0]     = self.B[0]*c[('u',0)]\n",
    "        c[('f',0)][...,1]     = self.B[1]*c[('u',0)]\n",
    "        c[('df',0,0)][...,0]  = self.B[0]\n",
    "        c[('df',0,0)][...,1]  = self.B[1]\n",
    "        c[('a',0,0)][...,0,0] = self.A[0][0]\n",
    "        c[('a',0,0)][...,1,1] = self.A[1][1]\n",
    "        c[('r',0)][:]         = self.C*c[('u',0)]  \n",
    "        c[('dr',0,0)][:]      = self.C\n"
   ]
  },
  {
   "cell_type": "markdown",
   "metadata": {
    "slideshow": {
     "slide_type": "slide"
    }
   },
   "source": [
    "# Physics"
   ]
  },
  {
   "cell_type": "code",
   "execution_count": 3,
   "metadata": {
    "collapsed": false,
    "slideshow": {
     "slide_type": "fragment"
    }
   },
   "outputs": [],
   "source": [
    "from proteus import default_p as p\n",
    "#physics\n",
    "p.name = \"ladr_2d\"\n",
    "p.nd = 2; #Two dimensions\n",
    "p.L=(1.0,1.0); \n",
    "p.T=1.0\n",
    "\n",
    "p.coefficients=LADR(M=1.0,\n",
    "                    A=[[0.001,0.0],\n",
    "                       [0.0,0.001]],\n",
    "                    B=[2.0,1.0],\n",
    "                    C=0.0)\n",
    "\n",
    "def getDBC(x,flag):\n",
    "    if x[0] == 0.0 or x[1] == 0.0:\n",
    "        return lambda x,t: 1.0\n",
    "    elif x[0] == p.L[0] or x[1] == p.L[1]:\n",
    "        return lambda x,t: 0.0\n",
    "    else:\n",
    "        return None\n",
    "    \n",
    "p.dirichletConditions = {0:getDBC}\n",
    "p.advectiveFluxBoundaryConditions = {}\n",
    "p.diffusiveFluxBoundaryConditions = {0:{}}\n",
    "p.periodicDirichletConditions = None\n",
    "class IC:\n",
    "    def __init__(self):\n",
    "        pass\n",
    "    def uOfXT(self,x,t):\n",
    "        if x[0] <= 0.0 or x[1] <= 0.0:\n",
    "            return 1.0\n",
    "        else:\n",
    "            return 0.0\n",
    "\n",
    "p.initialConditions  = {0:IC()}"
   ]
  },
  {
   "cell_type": "markdown",
   "metadata": {
    "slideshow": {
     "slide_type": "slide"
    }
   },
   "source": [
    "# Numerics"
   ]
  },
  {
   "cell_type": "code",
   "execution_count": 4,
   "metadata": {
    "collapsed": false,
    "slideshow": {
     "slide_type": "fragment"
    }
   },
   "outputs": [],
   "source": [
    "from proteus import default_n as n\n",
    "import proteus as pr\n",
    "n.timeIntegration = pr.TimeIntegration.BackwardEuler_cfl\n",
    "n.stepController = pr.StepControl.Min_dt_cfl_controller\n",
    "n.runCFL=1.0\n",
    "n.femSpaces = {0:pr.FemTools.C0_AffineLinearOnSimplexWithNodalBasis}\n",
    "n.elementQuadrature = pr.Quadrature.SimplexGaussQuadrature(p.nd,3)\n",
    "n.elementBoundaryQuadrature = pr.Quadrature.SimplexGaussQuadrature(p.nd-1,3)\n",
    "n.subgridError = pr.SubgridError.AdvectionDiffusionReaction_ASGS(p.coefficients,\n",
    "                                                                 p.nd,lag=False)\n",
    "n.shockCapturing = pr.ShockCapturing.ResGradQuad_SC(p.coefficients,\n",
    "                                                    p.nd,\n",
    "                                                    shockCapturingFactor=0.99,\n",
    "                                                    lag=True)\n",
    "n.numericalFluxType = pr.NumericalFlux.Advection_DiagonalUpwind_Diffusion_SIPG_exterior\n",
    "n.nnx=41; n.nny=41\n",
    "n.tnList=[float(i)/40.0 for i in range(11)]\n",
    "n.matrix = pr.LinearAlgebraTools.SparseMatrix\n",
    "n.multilevelLinearSolver = pr.LinearSolvers.KSP_petsc4py\n",
    "n.l_atol_res = 1.0e-8\n",
    "n.parallelPartitioningType = pr.MeshTools.MeshParallelPartitioningTypes.element\n",
    "n.nLayersOfOverlapForParallel = 1\n",
    "n.periodicDirichletConditions = None"
   ]
  },
  {
   "cell_type": "markdown",
   "metadata": {
    "slideshow": {
     "slide_type": "slide"
    }
   },
   "source": [
    "# Operator Splitting"
   ]
  },
  {
   "cell_type": "code",
   "execution_count": 5,
   "metadata": {
    "collapsed": false,
    "slideshow": {
     "slide_type": "fragment"
    }
   },
   "outputs": [],
   "source": [
    "from proteus import default_s,default_so\n",
    "so = default_so\n",
    "so.name = p.name \n",
    "so.sList=[default_s]\n",
    "so.tnList = n.tnList\n",
    "#so.systemStepControllerType = SplitOperator.Sequential_FixedStep\n",
    "so.systemStepControllerType = SplitOperator.Sequential_FixedStep_Simple\n",
    "so.systemStepExact= False\n",
    "so.dt_system_fixed= 0.01"
   ]
  },
  {
   "cell_type": "markdown",
   "metadata": {
    "slideshow": {
     "slide_type": "slide"
    }
   },
   "source": [
    "# Initialize Numerical Solution Object"
   ]
  },
  {
   "cell_type": "code",
   "execution_count": 6,
   "metadata": {
    "collapsed": false,
    "slideshow": {
     "slide_type": "fragment"
    }
   },
   "outputs": [],
   "source": [
    "ns = NumericalSolution.NS_base(so,[p],[n],so.sList,opts)"
   ]
  },
  {
   "cell_type": "markdown",
   "metadata": {
    "slideshow": {
     "slide_type": "slide"
    }
   },
   "source": [
    "# Calculate Solution"
   ]
  },
  {
   "cell_type": "code",
   "execution_count": 7,
   "metadata": {
    "collapsed": false,
    "slideshow": {
     "slide_type": "fragment"
    }
   },
   "outputs": [],
   "source": [
    "failed = ns.calculateSolution('ladr_run1')\n",
    "assert(not failed)"
   ]
  },
  {
   "cell_type": "code",
   "execution_count": 8,
   "metadata": {
    "collapsed": false,
    "slideshow": {
     "slide_type": "slide"
    }
   },
   "outputs": [
    {
     "data": {
      "image/png": "[encoded data removed]",
      "text/plain": [
       "<matplotlib.figure.Figure at 0x7f2c77edf990>"
      ]
     },
     "metadata": {},
     "output_type": "display_data"
    }
   ],
   "source": [
    "import pylab\n",
    "x = ns.modelList[0].levelModelList[-1].mesh.nodeArray[:,0]\n",
    "y = ns.modelList[0].levelModelList[-1].mesh.nodeArray[:,1]\n",
    "triangles = ns.modelList[0].levelModelList[-1].mesh.elementNodesArray\n",
    "u = ns.modelList[0].levelModelList[-1].u[0].dof\n",
    "pylab.tricontourf(x,y,triangles,u)\n",
    "pylab.show()"
   ]
  },
  {
   "cell_type": "markdown",
   "metadata": {},
   "source": [
    "You can view the log like this:"
   ]
  },
  {
   "cell_type": "code",
   "execution_count": 9,
   "metadata": {
    "collapsed": false
   },
   "outputs": [
    {
     "name": "stdout",
     "output_type": "stream",
     "text": [
      "[       7] Initializing NumericalSolution for ladr_2d\r\n",
      " System includes: \r\n",
      "ladr_2d\r\n",
      "\r\n",
      "[       7] Setting Archiver(s)\r\n",
      "[       7] Setting up MultilevelMesh\r\n",
      "[       7] Building one multilevel mesh for all models\r\n",
      "[       7] Generating mesh for ladr_2d\r\n",
      "[       7] Building 41 x 41 rectangular mesh for ladr_2d\r\n",
      "[       7] Partitioning mesh among 1 processors using partitioningType = 0\r\n",
      "[       7] Number of Subdomain Elements Owned= 3200\r\n",
      "[       7] Number of Subdomain Elements = 3200\r\n",
      "[       7] Number of Subdomain Nodes Owned= 1681\r\n",
      "[       7] Number of Subdomain Nodes = 1681\r\n",
      "[       7] Number of Subdomain elementBoundaries Owned= 4880\r\n",
      "[       7] Number of Subdomain elementBoundaries = 4880\r\n",
      "[       7] Number of Subdomain Edges Owned= 4880\r\n",
      "[       7] Number of Subdomain Edges = 4880\r\n",
      "[       7] Finished partitioning\r\n",
      "[       7] *** Global ***\r\n",
      "Number of triangles  : 3200\r\n",
      "Number of edges : 4880\r\n",
      "Number of nodes : 1681\r\n",
      "\r\n",
      "*** Local ***\r\n",
      "Number of triangles  : 3200\r\n",
      "Number of edges : 4880\r\n",
      "Number of nodes : 1681\r\n",
      "\r\n",
      "[       7] Numerical Solution Sparse diffusion information key (0, 0) = (array([0, 2, 4], dtype=int32), array([0, 1, 0, 1], dtype=int32))\r\n",
      "[       7] Setting up MultilevelTransport for ladr_2d\r\n",
      "[       7] Building Transport for each mesh\r\n",
      "[       7] Generating Trial Space\r\n",
      "[       7] Generating Test Space\r\n",
      "[       7] Allocating u\r\n",
      "[       7] Allocating phi\r\n",
      "[       7] Setting Boundary Conditions\r\n",
      "[       7] Setting Boundary Conditions-1\r\n",
      "[       7] Setting Boundary Conditions-2\r\n",
      "[       7] Setting Boundary Conditions-2a\r\n",
      "[       7] Setting Boundary Conditions-3\r\n",
      "[       7] Setting Boundary Conditions-4\r\n",
      "[       7] Initializing OneLevelTransport\r\n",
      "[       7] Sparse diffusion information key (0, 0) = (array([0, 2, 4], dtype=int32), array([0, 1, 0, 1], dtype=int32))\r\n",
      "[       7] Shallow copy of trial shape is being used for test shape w \r\n",
      "[       7] Shallow copy of trial shape is being used for test shape grad(w) \r\n",
      "[       7] Shallow copy of trial shape is being used for test shape Hess(w) \r\n",
      "[       7] Shallow copy of trial shape is being used for test shape w \r\n",
      "[       7] Updating local to global mappings\r\n",
      "[       7] Building time integration object\r\n",
      "[       7] Calculating numerical quadrature formulas\r\n",
      "[       7] Element Quadrature\r\n",
      "[       7] Element Boundary Quadrature\r\n",
      "[       7] Global Exterior Element Boundary Quadrature\r\n",
      "[       7] Allocating residual and solution vectors\r\n",
      "[       7] Allocating Jacobian\r\n",
      "[       7] Building sparse matrix structure\r\n",
      "[       7] Allocating parallel storage\r\n",
      "[       7] Allocating ghosted parallel vectors on rank 0\r\n",
      "[       7] Allocating un-ghosted parallel vectors on rank 0\r\n",
      "[       7] Allocating matrix on rank 0\r\n",
      "[       7] ParMat_petsc4py comm.rank= 0 blockSize = 1 par_n= 1681 par_N=1681 par_nghost=0 par_jacobian.getSizes()= ((1681, 1681), (1681, 1681)) \r\n",
      "[       7] Building Mesh Transfers\r\n",
      "[       7] Setting ladr_2d stepController to proteus.StepControl.Min_dt_cfl_controller\r\n",
      "[       7] Setting up MultilevelLinearSolver forladr_2d\r\n",
      "[       7] multilevelLinearSolverChooser type= proteus.LinearSolvers.KSP_petsc4py\r\n",
      "[       7] Setting up MultilevelNonLinearSolver for ladr_2d\r\n",
      "[       7] Finished setting up models and solvers\r\n",
      "[       7] Setting up SimTools for ladr_2d\r\n",
      "[       7] Using tnList from so = ladr_2d\r\n",
      "[       7] Time sequence[0.0, 0.025, 0.05, 0.075, 0.1, 0.125, 0.15, 0.175, 0.2, 0.225, 0.25]\r\n",
      "[       7] Setting ladr_2d systemStepController to object of type proteus.SplitOperator.Sequential_FixedStep_Simple\r\n",
      "[       7] Finished NumericalSolution initialization\r\n",
      "[       9] Setting initial conditions\r\n",
      "[       9] Setting initial conditions for ladr_2d\r\n",
      "[       9] Setting initial conditions on model ladr_2d\r\n",
      "[       9] Attaching models and running spin-up step if requested\r\n",
      "[       9] Attaching models to model ladr_2d\r\n",
      "[       9] Attaching models to model ladr_2d\r\n",
      "[       9] Archiving initial conditions\r\n",
      "[       9] Writing initial mesh for  model = ladr_2d\r\n",
      "[       9] Writing initial conditions for  model = ladr_2d\r\n",
      "[       9] Syncing Archive\r\n",
      "[       9] Gathering Archive Time step\r\n",
      "[       9] Done Gathering Archive Time Step\r\n",
      "[       9] Done Syncing Archive\r\n",
      "[       9] Estimating initial time derivative and initializing time history for model ladr_2d\r\n",
      "[       9] Choosing initial time step for model ladr_2d\r\n",
      "[       9] Initializing time step on model ladr_2d to dt =  2.23607e-02\r\n",
      "[       9] Initializing time history for model step controller\r\n",
      "[       9] Initializing time step on system Default System to dt =  2.50000e-02\r\n",
      "[       9] Initializing step sequence  for system Default System to [(0.025, <proteus.Transport.MultilevelTransport instance at 0x7f2c742afbd8>)]\r\n",
      "[       9] Auxiliary variable calculations for model ladr_2d\r\n",
      "[       9] Starting time stepping\r\n",
      "[       9] ==============================================================\r\n",
      "[       9] Solving over interval [ 0.00000e+00, 2.50000e-02]\r\n",
      "[       9] ==============================================================\r\n",
      "[       9] ===========================================================dt system orig0.025\r\n",
      "[       9] =========================================================dt system final0.025\r\n",
      "[       9] Min_dt_controller setSubsteps tList=[0.025] self.t_model=0.025 self.substeps= [0.025] \r\n",
      "[       9] System time step t= 2.50000e-02, dt= 2.50000e-02\r\n",
      "[       9] Split operator iteration 0\r\n",
      "[       9] Model: ladr_2d\r\n",
      "[       9] Fractional step  2.50000e-02 for model ladr_2d\r\n",
      "[       9] Step exact called for model ladr_2d\r\n",
      "[       9] StepControl base stepExact t_model= 0.025 tOut= 0.025 t_model_last= 0.0 dt_model= 0.025 setting to 0.025 \r\n",
      "[       9] Min_dt_controller setSubsteps tList=[0.025] self.t_model=0.025 self.substeps= [0.025] \r\n",
      "[       9] Model step t= 2.50000e-02, dt= 2.50000e-02 for model ladr_2d\r\n",
      "[       9] Model substep t= 2.50000e-02 for model ladr_2d\r\n",
      "[       9] Model substep t= 2.50000e-02 for model ladr_2d model.timeIntegration.t=  2.50000e-02\r\n",
      "[       9]    Newton it 0 norm(r) =  5.29530e+00  \t\t norm(r)/(rtol*norm(r0)+atol) = 5.029 test=r\r\n",
      "[       9] before ksp.rtol= 0.001 ksp.atol= 1e-08 ksp.converged= False ksp.its= 0 ksp.norm= 0.0 \r\n",
      "[       9] after ksp.rtol= 0.001 ksp.atol= 1e-08 ksp.converged= True ksp.its= 3 ksp.norm= 0.00256727364888 reason = 2\r\n",
      "[       9]    Newton it 1 norm(r) =  4.56251e-04  \t\t norm(r)/(rtol*norm(r0)+atol) =  4.33307e-04\r\n",
      "[       9] SO_base modelStepTaken for model= ladr_2d t_system_last= 0.0 t_model_last= 0.0  setting to t_stepSequence= 0.025 \r\n",
      "[       9] Step Taken, t_stepSequence= 0.025 Model step t= 2.50000e-02, dt= 2.50000e-02 for model ladr_2d\r\n",
      "[       9] Min_dt_controller setSubsteps tList=[0.047360679774997805] self.t_model=0.047360679775 self.substeps= [0.047360679774997805] \r\n",
      "[       9] Step Taken, System time step t= 5.00000e-02, dt= 2.50000e-02\r\n",
      "[       9] Step Taken, Model step t= 5.00000e-02, dt= 2.50000e-02 for model ladr_2d\r\n",
      "[       9] Writing mesh header for  model = ladr_2d at time t=0.025\r\n",
      "[       9] Writing solution for  model = ladr_2d\r\n",
      "[       9] Syncing Archive\r\n",
      "[       9] Gathering Archive Time step\r\n",
      "[       9] Done Gathering Archive Time Step\r\n",
      "[       9] Done Syncing Archive\r\n",
      "[       9] ==============================================================\r\n",
      "[       9] Solving over interval [ 2.50000e-02, 5.00000e-02]\r\n",
      "[       9] ==============================================================\r\n",
      "[       9] ===========================================================dt system orig0.025\r\n",
      "[       9] =========================================================dt system final0.025\r\n",
      "[       9] Min_dt_controller setSubsteps tList=[0.05] self.t_model=0.05 self.substeps= [0.05] \r\n",
      "[       9] System time step t= 5.00000e-02, dt= 2.50000e-02\r\n",
      "[       9] Split operator iteration 0\r\n",
      "[       9] Model: ladr_2d\r\n",
      "[       9] Fractional step  5.00000e-02 for model ladr_2d\r\n",
      "[       9] Step exact called for model ladr_2d\r\n",
      "[       9] StepControl base stepExact t_model= 0.05 tOut= 0.05 t_model_last= 0.025 dt_model= 0.025 setting to 0.025 \r\n",
      "[       9] Min_dt_controller setSubsteps tList=[0.05] self.t_model=0.05 self.substeps= [0.05] \r\n",
      "[       9] Model step t= 5.00000e-02, dt= 2.50000e-02 for model ladr_2d\r\n",
      "[       9] Model substep t= 5.00000e-02 for model ladr_2d\r\n",
      "[       9] Model substep t= 5.00000e-02 for model ladr_2d model.timeIntegration.t=  5.00000e-02\r\n",
      "[       9]    Newton it 0 norm(r) =  1.80921e-01  \t\t norm(r)/(rtol*norm(r0)+atol) = 0.180594 test=r\r\n",
      "[       9] before ksp.rtol= 0.001 ksp.atol= 1e-08 ksp.converged= False ksp.its= 3 ksp.norm= 0.00256727364888 \r\n",
      "[       9] after ksp.rtol= 0.001 ksp.atol= 1e-08 ksp.converged= True ksp.its= 3 ksp.norm= 0.000174444831388 reason = 2\r\n",
      "[       9]    Newton it 1 norm(r) =  2.19872e-05  \t\t norm(r)/(rtol*norm(r0)+atol) =  2.19475e-05\r\n",
      "[       9] SO_base modelStepTaken for model= ladr_2d t_system_last= 0.025 t_model_last= 0.025  setting to t_stepSequence= 0.05 \r\n",
      "[       9] Step Taken, t_stepSequence= 0.05 Model step t= 5.00000e-02, dt= 2.50000e-02 for model ladr_2d\r\n",
      "[       9] Min_dt_controller setSubsteps tList=[0.0723606797749978] self.t_model=0.072360679775 self.substeps= [0.0723606797749978] \r\n",
      "[       9] Step Taken, System time step t= 7.50000e-02, dt= 2.50000e-02\r\n",
      "[       9] Step Taken, Model step t= 7.50000e-02, dt= 2.50000e-02 for model ladr_2d\r\n",
      "[       9] Writing mesh header for  model = ladr_2d at time t=0.05\r\n",
      "[       9] Writing solution for  model = ladr_2d\r\n",
      "[       9] Syncing Archive\r\n",
      "[       9] Gathering Archive Time step\r\n",
      "[       9] Done Gathering Archive Time Step\r\n",
      "[       9] Done Syncing Archive\r\n",
      "[       9] ==============================================================\r\n",
      "[       9] Solving over interval [ 5.00000e-02, 7.50000e-02]\r\n",
      "[       9] ==============================================================\r\n",
      "[       9] ===========================================================dt system orig0.025\r\n",
      "[       9] =========================================================dt system final0.025\r\n",
      "[       9] Min_dt_controller setSubsteps tList=[0.075] self.t_model=0.075 self.substeps= [0.075] \r\n",
      "[       9] System time step t= 7.50000e-02, dt= 2.50000e-02\r\n",
      "[       9] Split operator iteration 0\r\n",
      "[       9] Model: ladr_2d\r\n",
      "[       9] Fractional step  7.50000e-02 for model ladr_2d\r\n",
      "[       9] Step exact called for model ladr_2d\r\n",
      "[       9] StepControl base stepExact t_model= 0.075 tOut= 0.075 t_model_last= 0.05 dt_model= 0.025 setting to 0.025 \r\n",
      "[       9] Min_dt_controller setSubsteps tList=[0.075] self.t_model=0.075 self.substeps= [0.075] \r\n",
      "[       9] Model step t= 7.50000e-02, dt= 2.50000e-02 for model ladr_2d\r\n",
      "[       9] Model substep t= 7.50000e-02 for model ladr_2d\r\n",
      "[       9] Model substep t= 7.50000e-02 for model ladr_2d model.timeIntegration.t=  7.50000e-02\r\n",
      "[       9]    Newton it 0 norm(r) =  1.26621e-01  \t\t norm(r)/(rtol*norm(r0)+atol) = 0.126461 test=r\r\n",
      "[       9] before ksp.rtol= 0.001 ksp.atol= 1e-08 ksp.converged= False ksp.its= 3 ksp.norm= 0.000174444831388 \r\n",
      "[       9] after ksp.rtol= 0.001 ksp.atol= 1e-08 ksp.converged= True ksp.its= 3 ksp.norm= 0.000350335458124 reason = 2\r\n",
      "[       9]    Newton it 1 norm(r) =  1.95297e-05  \t\t norm(r)/(rtol*norm(r0)+atol) =  1.95050e-05\r\n",
      "[       9] SO_base modelStepTaken for model= ladr_2d t_system_last= 0.05 t_model_last= 0.05  setting to t_stepSequence= 0.075 \r\n",
      "[       9] Step Taken, t_stepSequence= 0.075 Model step t= 7.50000e-02, dt= 2.50000e-02 for model ladr_2d\r\n",
      "[       9] Min_dt_controller setSubsteps tList=[0.0973606797749978] self.t_model=0.097360679775 self.substeps= [0.0973606797749978] \r\n",
      "[       9] Step Taken, System time step t= 1.00000e-01, dt= 2.50000e-02\r\n",
      "[       9] Step Taken, Model step t= 1.00000e-01, dt= 2.50000e-02 for model ladr_2d\r\n",
      "[       9] Writing mesh header for  model = ladr_2d at time t=0.075\r\n",
      "[       9] Writing solution for  model = ladr_2d\r\n",
      "[       9] Syncing Archive\r\n",
      "[       9] Gathering Archive Time step\r\n",
      "[       9] Done Gathering Archive Time Step\r\n",
      "[       9] Done Syncing Archive\r\n",
      "[       9] ==============================================================\r\n",
      "[       9] Solving over interval [ 7.50000e-02, 1.00000e-01]\r\n",
      "[       9] ==============================================================\r\n",
      "[       9] ===========================================================dt system orig0.025\r\n",
      "[       9] =========================================================dt system final0.025\r\n",
      "[       9] Min_dt_controller setSubsteps tList=[0.1] self.t_model=0.1 self.substeps= [0.1] \r\n",
      "[       9] System time step t= 1.00000e-01, dt= 2.50000e-02\r\n",
      "[       9] Split operator iteration 0\r\n",
      "[       9] Model: ladr_2d\r\n",
      "[       9] Fractional step  1.00000e-01 for model ladr_2d\r\n",
      "[       9] Step exact called for model ladr_2d\r\n",
      "[       9] StepControl base stepExact t_model= 0.1 tOut= 0.1 t_model_last= 0.075 dt_model= 0.025 setting to 0.025 \r\n",
      "[       9] Min_dt_controller setSubsteps tList=[0.1] self.t_model=0.1 self.substeps= [0.1] \r\n",
      "[       9] Model step t= 1.00000e-01, dt= 2.50000e-02 for model ladr_2d\r\n",
      "[       9] Model substep t= 1.00000e-01 for model ladr_2d\r\n",
      "[       9] Model substep t= 1.00000e-01 for model ladr_2d model.timeIntegration.t=  1.00000e-01\r\n",
      "[       9]    Newton it 0 norm(r) =  1.07828e-01  \t\t norm(r)/(rtol*norm(r0)+atol) = 0.107712 test=r\r\n",
      "[       9] before ksp.rtol= 0.001 ksp.atol= 1e-08 ksp.converged= False ksp.its= 3 ksp.norm= 0.000350335458124 \r\n",
      "[       9] after ksp.rtol= 0.001 ksp.atol= 1e-08 ksp.converged= True ksp.its= 3 ksp.norm= 0.000602902136397 reason = 2\r\n",
      "[       9]    Newton it 1 norm(r) =  2.80092e-05  \t\t norm(r)/(rtol*norm(r0)+atol) =  2.79791e-05\r\n",
      "[       9] SO_base modelStepTaken for model= ladr_2d t_system_last= 0.075 t_model_last= 0.075  setting to t_stepSequence= 0.1 \r\n",
      "[       9] Step Taken, t_stepSequence= 0.1 Model step t= 1.00000e-01, dt= 2.50000e-02 for model ladr_2d\r\n",
      "[       9] Min_dt_controller setSubsteps tList=[0.1223606797749978] self.t_model=0.122360679775 self.substeps= [0.1223606797749978] \r\n",
      "[       9] Step Taken, System time step t= 1.25000e-01, dt= 2.50000e-02\r\n",
      "[       9] Step Taken, Model step t= 1.25000e-01, dt= 2.50000e-02 for model ladr_2d\r\n",
      "[       9] Writing mesh header for  model = ladr_2d at time t=0.1\r\n",
      "[       9] Writing solution for  model = ladr_2d\r\n",
      "[       9] Syncing Archive\r\n",
      "[       9] Gathering Archive Time step\r\n",
      "[       9] Done Gathering Archive Time Step\r\n",
      "[       9] Done Syncing Archive\r\n",
      "[       9] ==============================================================\r\n",
      "[       9] Solving over interval [ 1.00000e-01, 1.25000e-01]\r\n",
      "[       9] ==============================================================\r\n",
      "[       9] ===========================================================dt system orig0.025\r\n",
      "[       9] =========================================================dt system final0.025\r\n",
      "[       9] Min_dt_controller setSubsteps tList=[0.125] self.t_model=0.125 self.substeps= [0.125] \r\n",
      "[       9] System time step t= 1.25000e-01, dt= 2.50000e-02\r\n",
      "[       9] Split operator iteration 0\r\n",
      "[       9] Model: ladr_2d\r\n",
      "[       9] Fractional step  1.25000e-01 for model ladr_2d\r\n",
      "[       9] Step exact called for model ladr_2d\r\n",
      "[       9] StepControl base stepExact t_model= 0.125 tOut= 0.125 t_model_last= 0.1 dt_model= 0.025 setting to 0.025 \r\n",
      "[       9] Min_dt_controller setSubsteps tList=[0.125] self.t_model=0.125 self.substeps= [0.125] \r\n",
      "[       9] Model step t= 1.25000e-01, dt= 2.50000e-02 for model ladr_2d\r\n",
      "[       9] Model substep t= 1.25000e-01 for model ladr_2d\r\n",
      "[       9] Model substep t= 1.25000e-01 for model ladr_2d model.timeIntegration.t=  1.25000e-01\r\n",
      "[       9]    Newton it 0 norm(r) =  9.66718e-02  \t\t norm(r)/(rtol*norm(r0)+atol) = 0.0965785 test=r\r\n",
      "[       9] before ksp.rtol= 0.001 ksp.atol= 1e-08 ksp.converged= False ksp.its= 3 ksp.norm= 0.000602902136397 \r\n",
      "[       9] after ksp.rtol= 0.001 ksp.atol= 1e-08 ksp.converged= True ksp.its= 3 ksp.norm= 0.000732389038733 reason = 2\r\n",
      "[       9]    Newton it 1 norm(r) =  3.29678e-05  \t\t norm(r)/(rtol*norm(r0)+atol) =  3.29360e-05\r\n",
      "[       9] SO_base modelStepTaken for model= ladr_2d t_system_last= 0.1 t_model_last= 0.1  setting to t_stepSequence= 0.125 \r\n",
      "[       9] Step Taken, t_stepSequence= 0.125 Model step t= 1.25000e-01, dt= 2.50000e-02 for model ladr_2d\r\n",
      "[       9] Min_dt_controller setSubsteps tList=[0.1473606797749978] self.t_model=0.147360679775 self.substeps= [0.1473606797749978] \r\n",
      "[       9] Step Taken, System time step t= 1.50000e-01, dt= 2.50000e-02\r\n",
      "[       9] Step Taken, Model step t= 1.50000e-01, dt= 2.50000e-02 for model ladr_2d\r\n",
      "[       9] Writing mesh header for  model = ladr_2d at time t=0.125\r\n",
      "[       9] Writing solution for  model = ladr_2d\r\n",
      "[       9] Syncing Archive\r\n",
      "[       9] Gathering Archive Time step\r\n",
      "[       9] Done Gathering Archive Time Step\r\n",
      "[       9] Done Syncing Archive\r\n",
      "[       9] ==============================================================\r\n",
      "[       9] Solving over interval [ 1.25000e-01, 1.50000e-01]\r\n",
      "[       9] ==============================================================\r\n",
      "[       9] ===========================================================dt system orig0.025\r\n",
      "[       9] =========================================================dt system final0.025\r\n",
      "[       9] Min_dt_controller setSubsteps tList=[0.15] self.t_model=0.15 self.substeps= [0.15] \r\n",
      "[       9] System time step t= 1.50000e-01, dt= 2.50000e-02\r\n",
      "[       9] Split operator iteration 0\r\n",
      "[       9] Model: ladr_2d\r\n",
      "[       9] Fractional step  1.50000e-01 for model ladr_2d\r\n",
      "[       9] Step exact called for model ladr_2d\r\n",
      "[       9] StepControl base stepExact t_model= 0.15 tOut= 0.15 t_model_last= 0.125 dt_model= 0.025 setting to 0.025 \r\n",
      "[       9] Min_dt_controller setSubsteps tList=[0.15] self.t_model=0.15 self.substeps= [0.15] \r\n",
      "[       9] Model step t= 1.50000e-01, dt= 2.50000e-02 for model ladr_2d\r\n",
      "[       9] Model substep t= 1.50000e-01 for model ladr_2d\r\n",
      "[       9] Model substep t= 1.50000e-01 for model ladr_2d model.timeIntegration.t=  1.50000e-01\r\n",
      "[       9]    Newton it 0 norm(r) =  8.86300e-02  \t\t norm(r)/(rtol*norm(r0)+atol) = 0.0885516 test=r\r\n",
      "[       9] before ksp.rtol= 0.001 ksp.atol= 1e-08 ksp.converged= False ksp.its= 3 ksp.norm= 0.000732389038733 \r\n",
      "[       9] after ksp.rtol= 0.001 ksp.atol= 1e-08 ksp.converged= True ksp.its= 3 ksp.norm= 0.000777472508832 reason = 2\r\n",
      "[       9]    Newton it 1 norm(r) =  3.70134e-05  \t\t norm(r)/(rtol*norm(r0)+atol) =  3.69807e-05\r\n",
      "[       9] SO_base modelStepTaken for model= ladr_2d t_system_last= 0.125 t_model_last= 0.125  setting to t_stepSequence= 0.15 \r\n",
      "[       9] Step Taken, t_stepSequence= 0.15 Model step t= 1.50000e-01, dt= 2.50000e-02 for model ladr_2d\r\n",
      "[       9] Min_dt_controller setSubsteps tList=[0.1723606797749978] self.t_model=0.172360679775 self.substeps= [0.1723606797749978] \r\n",
      "[       9] Step Taken, System time step t= 1.75000e-01, dt= 2.50000e-02\r\n",
      "[       9] Step Taken, Model step t= 1.75000e-01, dt= 2.50000e-02 for model ladr_2d\r\n",
      "[       9] Writing mesh header for  model = ladr_2d at time t=0.15\r\n",
      "[       9] Writing solution for  model = ladr_2d\r\n",
      "[       9] Syncing Archive\r\n",
      "[       9] Gathering Archive Time step\r\n",
      "[       9] Done Gathering Archive Time Step\r\n",
      "[       9] Done Syncing Archive\r\n",
      "[       9] ==============================================================\r\n",
      "[       9] Solving over interval [ 1.50000e-01, 1.75000e-01]\r\n",
      "[       9] ==============================================================\r\n",
      "[       9] ===========================================================dt system orig0.025\r\n",
      "[       9] =========================================================dt system final0.025\r\n",
      "[       9] Min_dt_controller setSubsteps tList=[0.175] self.t_model=0.175 self.substeps= [0.175] \r\n",
      "[       9] System time step t= 1.75000e-01, dt= 2.50000e-02\r\n",
      "[       9] Split operator iteration 0\r\n",
      "[       9] Model: ladr_2d\r\n",
      "[       9] Fractional step  1.75000e-01 for model ladr_2d\r\n",
      "[       9] Step exact called for model ladr_2d\r\n",
      "[       9] StepControl base stepExact t_model= 0.175 tOut= 0.175 t_model_last= 0.15 dt_model= 0.025 setting to 0.025 \r\n",
      "[       9] Min_dt_controller setSubsteps tList=[0.175] self.t_model=0.175 self.substeps= [0.175] \r\n",
      "[       9] Model step t= 1.75000e-01, dt= 2.50000e-02 for model ladr_2d\r\n",
      "[       9] Model substep t= 1.75000e-01 for model ladr_2d\r\n",
      "[       9] Model substep t= 1.75000e-01 for model ladr_2d model.timeIntegration.t=  1.75000e-01\r\n",
      "[       9]    Newton it 0 norm(r) =  8.23469e-02  \t\t norm(r)/(rtol*norm(r0)+atol) = 0.0822792 test=r\r\n",
      "[       9] before ksp.rtol= 0.001 ksp.atol= 1e-08 ksp.converged= False ksp.its= 3 ksp.norm= 0.000777472508832 \r\n",
      "[       9] after ksp.rtol= 0.001 ksp.atol= 1e-08 ksp.converged= True ksp.its= 3 ksp.norm= 0.000815888860838 reason = 2\r\n",
      "[       9]    Newton it 1 norm(r) =  3.98207e-05  \t\t norm(r)/(rtol*norm(r0)+atol) =  3.97880e-05\r\n",
      "[       9] SO_base modelStepTaken for model= ladr_2d t_system_last= 0.15 t_model_last= 0.15  setting to t_stepSequence= 0.175 \r\n",
      "[       9] Step Taken, t_stepSequence= 0.175 Model step t= 1.75000e-01, dt= 2.50000e-02 for model ladr_2d\r\n",
      "[       9] Min_dt_controller setSubsteps tList=[0.1973606797749978] self.t_model=0.197360679775 self.substeps= [0.1973606797749978] \r\n",
      "[       9] Step Taken, System time step t= 2.00000e-01, dt= 2.50000e-02\r\n",
      "[       9] Step Taken, Model step t= 2.00000e-01, dt= 2.50000e-02 for model ladr_2d\r\n",
      "[       9] Writing mesh header for  model = ladr_2d at time t=0.175\r\n",
      "[       9] Writing solution for  model = ladr_2d\r\n",
      "[       9] Syncing Archive\r\n",
      "[       9] Gathering Archive Time step\r\n",
      "[       9] Done Gathering Archive Time Step\r\n",
      "[       9] Done Syncing Archive\r\n",
      "[       9] ==============================================================\r\n",
      "[       9] Solving over interval [ 1.75000e-01, 2.00000e-01]\r\n",
      "[       9] ==============================================================\r\n",
      "[       9] ===========================================================dt system orig0.025\r\n",
      "[       9] =========================================================dt system final0.025\r\n",
      "[       9] Min_dt_controller setSubsteps tList=[0.2] self.t_model=0.2 self.substeps= [0.2] \r\n",
      "[       9] System time step t= 2.00000e-01, dt= 2.50000e-02\r\n",
      "[       9] Split operator iteration 0\r\n",
      "[       9] Model: ladr_2d\r\n",
      "[       9] Fractional step  2.00000e-01 for model ladr_2d\r\n",
      "[       9] Step exact called for model ladr_2d\r\n",
      "[       9] StepControl base stepExact t_model= 0.2 tOut= 0.2 t_model_last= 0.175 dt_model= 0.025 setting to 0.025 \r\n",
      "[       9] Min_dt_controller setSubsteps tList=[0.2] self.t_model=0.2 self.substeps= [0.2] \r\n",
      "[       9] Model step t= 2.00000e-01, dt= 2.50000e-02 for model ladr_2d\r\n",
      "[       9] Model substep t= 2.00000e-01 for model ladr_2d\r\n",
      "[       9] Model substep t= 2.00000e-01 for model ladr_2d model.timeIntegration.t=  2.00000e-01\r\n",
      "[       9]    Newton it 0 norm(r) =  7.71455e-02  \t\t norm(r)/(rtol*norm(r0)+atol) = 0.077086 test=r\r\n",
      "[       9] before ksp.rtol= 0.001 ksp.atol= 1e-08 ksp.converged= False ksp.its= 3 ksp.norm= 0.000815888860838 \r\n",
      "[       9] after ksp.rtol= 0.001 ksp.atol= 1e-08 ksp.converged= True ksp.its= 3 ksp.norm= 0.000844346041696 reason = 2\r\n",
      "[       9]    Newton it 1 norm(r) =  4.14653e-05  \t\t norm(r)/(rtol*norm(r0)+atol) =  4.14334e-05\r\n",
      "[       9] SO_base modelStepTaken for model= ladr_2d t_system_last= 0.175 t_model_last= 0.175  setting to t_stepSequence= 0.2 \r\n",
      "[       9] Step Taken, t_stepSequence= 0.2 Model step t= 2.00000e-01, dt= 2.50000e-02 for model ladr_2d\r\n",
      "[       9] Min_dt_controller setSubsteps tList=[0.22236067977499782] self.t_model=0.222360679775 self.substeps= [0.22236067977499782] \r\n",
      "[       9] Step Taken, System time step t= 2.25000e-01, dt= 2.50000e-02\r\n",
      "[       9] Step Taken, Model step t= 2.25000e-01, dt= 2.50000e-02 for model ladr_2d\r\n",
      "[       9] Writing mesh header for  model = ladr_2d at time t=0.2\r\n",
      "[       9] Writing solution for  model = ladr_2d\r\n",
      "[       9] Syncing Archive\r\n",
      "[       9] Gathering Archive Time step\r\n",
      "[       9] Done Gathering Archive Time Step\r\n",
      "[       9] Done Syncing Archive\r\n",
      "[       9] ==============================================================\r\n",
      "[       9] Solving over interval [ 2.00000e-01, 2.25000e-01]\r\n",
      "[       9] ==============================================================\r\n",
      "[       9] ===========================================================dt system orig0.025\r\n",
      "[       9] =========================================================dt system final0.025\r\n",
      "[       9] Min_dt_controller setSubsteps tList=[0.225] self.t_model=0.225 self.substeps= [0.225] \r\n",
      "[       9] System time step t= 2.25000e-01, dt= 2.50000e-02\r\n",
      "[       9] Split operator iteration 0\r\n",
      "[       9] Model: ladr_2d\r\n",
      "[       9] Fractional step  2.25000e-01 for model ladr_2d\r\n",
      "[       9] Step exact called for model ladr_2d\r\n",
      "[       9] StepControl base stepExact t_model= 0.225 tOut= 0.225 t_model_last= 0.2 dt_model= 0.025 setting to 0.025 \r\n",
      "[       9] Min_dt_controller setSubsteps tList=[0.225] self.t_model=0.225 self.substeps= [0.225] \r\n",
      "[       9] Model step t= 2.25000e-01, dt= 2.50000e-02 for model ladr_2d\r\n",
      "[       9] Model su"
     ]
    }
   ],
   "source": [
    "!cat proteus.log"
   ]
  },
  {
   "cell_type": "code",
   "execution_count": null,
   "metadata": {
    "collapsed": true
   },
   "outputs": [],
   "source": []
  },
  {
   "cell_type": "code",
   "execution_count": null,
   "metadata": {
    "collapsed": true
   },
   "outputs": [],
   "source": []
  }
 ],
 "metadata": {
  "kernelspec": {
   "display_name": "Python 2",
   "language": "python",
   "name": "python2"
  },
  "language_info": {
   "codemirror_mode": {
    "name": "ipython",
    "version": 2
   },
   "file_extension": ".py",
   "mimetype": "text/x-python",
   "name": "python",
   "nbconvert_exporter": "python",
   "pygments_lexer": "ipython2",
   "version": "2.7.11"
  }
 },
 "nbformat": 4,
 "nbformat_minor": 0
}
