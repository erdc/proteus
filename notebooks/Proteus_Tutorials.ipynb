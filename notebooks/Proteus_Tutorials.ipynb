{
 "cells": [
  {
   "cell_type": "markdown",
   "metadata": {
    "extensions": {
     "jupyter_dashboards": {
      "version": 1,
      "views": {
       "grid_default": {
        "col": 0,
        "height": 4,
        "hidden": false,
        "row": 0,
        "width": 12
       },
       "report_default": {
        "hidden": false
       }
      }
     }
    }
   },
   "source": [
    "# Proteus Tutorials Main Page\n",
    "\n",
    "Welcome to the main page Proteus tutorials page! Here you will find links to examples that will help you get started using Proteus to solve problems!"
   ]
  },
  {
   "cell_type": "markdown",
   "metadata": {
    "extensions": {
     "jupyter_dashboards": {
      "version": 1,
      "views": {
       "grid_default": {
        "col": 0,
        "height": 12,
        "hidden": false,
        "row": 4,
        "width": 12
       },
       "report_default": {
        "hidden": true
       }
      }
     }
    }
   },
   "source": [
    "## Introductory Examples\n",
    "\n",
    "### Tutorial_1 - [Introduction](Tutorial_1/Introduction.ipynb)\n",
    "\n",
    "#### What is Proteus and does it do?\n",
    "\n",
    "Prerequesites - None\n",
    "\n",
    "### Tutorial_2 - [adr_complete_serial](Tutorial_2/adr-complete-serial.ipynb)\n",
    "\n",
    "#### Setup, solve and post-process a basic advection-diffusion-reaction model.\n",
    "\n",
    "Prerequesites - None\n",
    "\n",
    "### Tutorial_3 - [adr_complete_parallel](Tutorial_3/adr-complete-parallel.ipynb)\n",
    "\n",
    "#### Use MPI to solve the problem in Tutorial_2 in parallel. \n",
    "\n",
    "Prerequesites - Tutorial_2"
   ]
  },
  {
   "cell_type": "markdown",
   "metadata": {
    "collapsed": true,
    "extensions": {
     "jupyter_dashboards": {
      "version": 1,
      "views": {
       "grid_default": {
        "hidden": true
       },
       "report_default": {}
      }
     }
    }
   },
   "source": [
    "## Fluid Dynamics Examples\n",
    "\n",
    "### Tutorial_4 - [Navier-Stokes](Tutorial_4/navier_stokes.ipynb)\n",
    "\n",
    "#### Set up and solve a Navier-Stokes driven cavity flow in Proteus. \n",
    "\n",
    "Keywords - PETSc, Navier-Stokes.\n",
    "\n",
    "Prerequesites - Tutorial_2 could be helpful."
   ]
  },
  {
   "cell_type": "code",
   "execution_count": null,
   "metadata": {
    "collapsed": true
   },
   "outputs": [],
   "source": []
  }
 ],
 "metadata": {
  "extensions": {
   "jupyter_dashboards": {
    "activeView": "grid_default",
    "version": 1,
    "views": {
     "grid_default": {
      "cellMargin": 10,
      "defaultCellHeight": 20,
      "maxColumns": 12,
      "name": "grid",
      "type": "grid"
     },
     "report_default": {
      "name": "report",
      "type": "report"
     }
    }
   }
  },
  "kernelspec": {
   "display_name": "Python 2",
   "language": "python",
   "name": "python2"
  },
  "language_info": {
   "codemirror_mode": {
    "name": "ipython",
    "version": 2
   },
   "file_extension": ".py",
   "mimetype": "text/x-python",
   "name": "python",
   "nbconvert_exporter": "python",
   "pygments_lexer": "ipython2",
   "version": "2.7.11"
  }
 },
 "nbformat": 4,
 "nbformat_minor": 2
}
