{
 "cells": [
  {
   "cell_type": "markdown",
   "metadata": {},
   "source": [
    "# Welcome Proteus Notebooks!!"
   ]
  },
  {
   "cell_type": "markdown",
   "metadata": {},
   "source": [
    "If you are a new user interested learning how to use Proteus, please checkout our [Tutorials](Tutorials/Proteus_Tutorials.ipynb)!\n",
    "\n",
    "If you are an experienced user looking for examples of different applications, please checkout our [Applications](Applications/Proteus_Applications.ipynb)!"
   ]
  },
  {
   "cell_type": "markdown",
   "metadata": {},
   "source": [
    "## Tutorials\n",
    "\n",
    "### Tutorial_1 - [Introduction](Tutorials/Tutorial_1/Introduction.ipynb)\n",
    "\n",
    "#### What is Proteus and does it do?\n",
    "\n",
    "Prerequesites - None\n",
    "\n",
    "### Tutorial_2 - [adr_complete_serial](Tutorials/Tutorial_2/adr-complete-serial.ipynb)\n",
    "\n",
    "#### Setup, solve and post-process a basic advection-diffusion-reaction model.\n",
    "\n",
    "Prerequesites - None\n",
    "\n",
    "### Tutorial_3 - [adr_complete_parallel](Tutorials/Tutorial_3/adr-complete-parallel.ipynb)\n",
    "\n",
    "#### Use MPI to solve the problem in Tutorial_2 in parallel. \n",
    "\n",
    "Prerequesites - Tutorial_2\n",
    "\n",
    "### Tutorial_4 - [Navier-Stokes](Tutorials/Tutorial_4/navier_stokes.ipynb)\n",
    "\n",
    "#### Set up and solve a Navier-Stokes driven cavity flow in Proteus. \n",
    "\n",
    "Keywords - PETSc, Navier-Stokes.\n",
    "\n",
    "Prerequesites - Tutorial_2 could be helpful."
   ]
  },
  {
   "cell_type": "markdown",
   "metadata": {},
   "source": [
    "## Applications\n",
    "\n",
    "## Wave Tank Examples\n",
    "\n",
    "### [wavetank2d](Applications/wavetank2d/Flume.ipynb)   \n",
    "#### This notebook provides a numerical model (2D vertical slice) of an experimental wave tank"
   ]
  }
 ],
 "metadata": {
  "kernelspec": {
   "display_name": "Python 2",
   "language": "python",
   "name": "python2"
  },
  "language_info": {
   "codemirror_mode": {
    "name": "ipython",
    "version": 2
   },
   "file_extension": ".py",
   "mimetype": "text/x-python",
   "name": "python",
   "nbconvert_exporter": "python",
   "pygments_lexer": "ipython2",
   "version": "2.7.11"
  }
 },
 "nbformat": 4,
 "nbformat_minor": 2
}
