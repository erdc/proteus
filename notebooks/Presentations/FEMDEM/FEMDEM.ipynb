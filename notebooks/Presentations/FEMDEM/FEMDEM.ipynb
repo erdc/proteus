{
 "cells": [
  {
   "cell_type": "markdown",
   "metadata": {
    "hideCode": false,
    "hidePrompt": false,
    "slideshow": {
     "slide_type": "slide"
    }
   },
   "source": [
    "### Coupled FEM-DEM Methods for Modeling Variably Saturated Granular Media\n",
    "\n",
    "\n",
    "---\n",
    "\n",
    "\n",
    "#### Chris Kees and Matthew Farthing\n",
    "\n",
    "<a href=\"mailto:christopher.e.kees@usace.army.mil\"> christopher.e.kees@usace.army.mil</a>\n",
    "\n",
    "##### Coastal and Hydraulics Laboratory\n",
    "##### US Army Engineer Research and Development Center\n",
    "\n",
    "\n",
    "***SIAM CS&E, March 2, 2017***\n",
    "\n",
    "<img src=\"https://rawgit.com/erdc-cm/proteus/add_fem_dem/notebooks/Presentations/FEMDEM/corps_logo_scale.svg\" alt=\"corps_logo\" width=\"150\">"
   ]
  },
  {
   "cell_type": "markdown",
   "metadata": {
    "hideCode": false,
    "hidePrompt": false,
    "slideshow": {
     "slide_type": "slide"
    }
   },
   "source": [
    "### Acknowledgements\n",
    "---\n",
    "- Quezada de Luna, Song (ERDC)\n",
    "- Bentley, Jenkins, Irvin (Clemson)\n",
    "- Dimakopoulos, de Lataillade, and Cozzuto (HR Wallingford)\n",
    "- Dawson (UT)\n",
    "- Mattis (TU Munich)\n",
    "- Myers (ARO)\n",
    "- Guermond, Popov, Patty (TAMU)\n",
    "- Sahni, Zhang, Shepherd, Ibanez (RPI): \n",
    "- Scovazzi (Duke)\n"
   ]
  },
  {
   "cell_type": "markdown",
   "metadata": {
    "hideCode": false,
    "hidePrompt": false,
    "slideshow": {
     "slide_type": "slide"
    }
   },
   "source": [
    "### Application Contexts"
   ]
  },
  {
   "cell_type": "markdown",
   "metadata": {
    "hideCode": false,
    "hidePrompt": false,
    "slideshow": {
     "slide_type": "slide"
    }
   },
   "source": [
    "### Vessel-wave-sea ice interactions\n",
    "---\n",
    "<img src=\"https://rawgit.com/erdc-cm/proteus/add_fem_dem/notebooks/Presentations/FEMDEM/icebreaker25.png\" alt=\"icebreaker\" width=\"800\">"
   ]
  },
  {
   "cell_type": "markdown",
   "metadata": {
    "hideCode": false,
    "hidePrompt": false,
    "slideshow": {
     "slide_type": "slide"
    }
   },
   "source": [
    "### Variably Saturated Granular Media\n",
    "---\n",
    "<img src=\"https://rawgit.com/erdc-cm/proteus/add_fem_dem/notebooks/Presentations/FEMDEM/leveeCartoon.svg\" alt=\"leveeCartoon\" width=\"800\">"
   ]
  },
  {
   "cell_type": "markdown",
   "metadata": {
    "hideCode": false,
    "hidePrompt": false,
    "slideshow": {
     "slide_type": "slide"
    }
   },
   "source": [
    "### Breakwater armoring\n",
    "---\n",
    "<img src=\"https://rawgit.com/erdc-cm/proteus/add_fem_dem/notebooks/Presentations/FEMDEM/azoresBreakwaterWide.png\" alt=\"azores\" width=\"700\">"
   ]
  },
  {
   "cell_type": "markdown",
   "metadata": {
    "hideCode": false,
    "hidePrompt": false,
    "slideshow": {
     "slide_type": "slide"
    }
   },
   "source": [
    "### Multiphase Incompressible Flow\n",
    "---\n",
    "\n",
    "$$\n",
    "\\begin{eqnarray*}\n",
    "  \\nabla \\cdot \\mathbf v &=& 0 \\\\ \n",
    "  \\frac{\\partial \\mathbf v }{\\partial t} + \\nabla \\cdot \\left[ \\mathbf v \\otimes \\mathbf v -  \\boldsymbol{\\tau}(\\phi)  \\right] &=& \\mathbf g - \\frac{\\nabla p}{\\rho(\\phi)}  \\\\\n",
    "\\frac{\\partial \\phi }{\\partial t} + \\nabla \\mathbf v  \\cdot \\nabla \\phi &=& 0 \\\\\n",
    "\\ldots\n",
    "\\end{eqnarray*}\n",
    "$$\n",
    "\n",
    "Many formulations possible. For this work see [Kees et al. 2011]"
   ]
  },
  {
   "cell_type": "markdown",
   "metadata": {
    "hideCode": false,
    "hidePrompt": false,
    "slideshow": {
     "slide_type": "slide"
    }
   },
   "source": [
    "### Rigid Body Motion\n",
    "---\n",
    "$$\n",
    "\\begin{eqnarray}\n",
    "\\frac{d (m \\mathbf{v}^c_s)}{d t} &=& \\mathbf{F} \\\\\n",
    "\\frac{d (J_t \\boldsymbol{\\omega}_s)}{d t} &=& \\mathbf{M}\n",
    "\\end{eqnarray}\n",
    "$$\n",
    "where\n",
    "$$\n",
    "\\begin{eqnarray}\n",
    "\\mathbf{F} = mg + \\int_{\\partial \\Omega_s} \\boldsymbol{\\sigma} \\cdot \\mathbf{n} dS + \\mbox{contact force}\\\\\n",
    "\\mathbf{M} = \\int_{\\partial \\Omega_s} (\\mathbf{x} - \\mathbf{x}^c) \\times \\boldsymbol{\\sigma} \\cdot \\mathbf{n} dS + \\mbox{contact moment}\n",
    "\\end{eqnarray}\n",
    "$$\n",
    "Where $\\boldsymbol{\\sigma} = p \\mathbf{I} - \\tau(\\phi)$. For equations of motion and algorithms see [Tasora et al. 2008]\n"
   ]
  },
  {
   "cell_type": "markdown",
   "metadata": {
    "hideCode": false,
    "hidePrompt": false,
    "slideshow": {
     "slide_type": "slide"
    }
   },
   "source": [
    "### Discrete Element Methods and LS-DEM\n",
    "---\n",
    "- Multi-body motion requires computing contacts\n",
    "- If bodies collide, then the fluid domain topology changes  \n",
    "- Complicated rigid body shapes create additional difficulties\n",
    "- *The level set geometry description seems like a good tool*\n",
    "- For *non-colliding*, *nice* geometries like ships we have adaptive ALE \n",
    "  - **Onkar Sahni, MS315, Fri,11:20** Mesh Motion and Adaptation for Two-Phase Flow Problems with Moving Objects,\n",
    "\n",
    "See [Kawamoto etal. 2016] on LS-DEM"
   ]
  },
  {
   "cell_type": "markdown",
   "metadata": {
    "hideCode": false,
    "hidePrompt": false,
    "slideshow": {
     "slide_type": "slide"
    }
   },
   "source": [
    "### Fluid-Solid Coupling (Jump Conditions)\n",
    "---\n",
    "- The fluid is viscous so $\\mathbf{v} = \\mathbf{v}_s$ along $\\Omega_s$\n",
    "- The fluid traction at the boundary is $\\boldsymbol{\\sigma} \\cdot \\mathbf{n}$\n",
    "- We need to enforce a Dirichlet condition on fluid velocity\n",
    "- We need to integrate the tractions to extract forces and moments for each particle"
   ]
  },
  {
   "cell_type": "markdown",
   "metadata": {
    "hideCode": false,
    "hidePrompt": false,
    "slideshow": {
     "slide_type": "slide"
    }
   },
   "source": [
    "### Nitsche's Method (Weak Dirichlet Conditions)\n",
    "---\n",
    "- Integrate by parts on fluid momentum with no-slip only on $\\Omega_s$:\n",
    "$$\\tiny \\int_{\\Omega_f} \\left\\{ \\left[\\frac{\\partial \\mathbf v }{\\partial t} - \\mathbf g + \\frac{\\nabla p}{\\rho(\\phi)}\\right] \\mathbf{w}  - \\left[ \\mathbf v \\otimes \\mathbf v -  \\boldsymbol{\\tau}(\\phi)  \\right] \\cdot \\nabla \\mathbf w \\right\\}dV  - \\int_{\\partial \\Omega_s} \\boldsymbol{\\nu} \\frac{\\partial \\mathbf v}{\\partial \\mathbf n} \\mathbf{w} dS = 0$$\n",
    "- Nitsche 71 showed how to enforce Dirichlet conditions consistently via penalty:\n",
    "$$\\tiny \\int_{\\Omega_f} \\left\\{ \\left[\\frac{\\partial \\mathbf v }{\\partial t} - \\mathbf g + \\frac{\\nabla p}{\\rho(\\phi)}\\right] \\mathbf{w}  - \\left[ \\mathbf v \\otimes \\mathbf v -  \\boldsymbol{\\tau}(\\phi)  \\right] \\cdot \\nabla \\mathbf w \\right\\} dV  - \\int_{\\partial \\Omega_s} \\left[ \\nu(\\phi) \\frac{\\partial \\mathbf v}{\\partial \\mathbf n} \\mathbf{w} + \\nu(\\phi)\\frac{\\partial \\mathbf w}{\\partial \\mathbf n} \\mathbf{v} + C(h_e)(\\mathbf v-\\mathbf v_s)\\mathbf w\\right]dS = 0$$\n"
   ]
  },
  {
   "cell_type": "markdown",
   "metadata": {
    "hideCode": false,
    "hidePrompt": false,
    "slideshow": {
     "slide_type": "slide"
    }
   },
   "source": [
    "### Surface Integrals to Volume Integrals\n",
    "---\n",
    "- For now we avoid explicitly meshing $\\partial \\Omega_s$ by using the level set tools:\n",
    "$$\\int_{\\partial \\Omega_s} f dS = \\int_{\\Omega} \\delta(\\phi_s) f dV \\approx \\int_{\\Omega} \\delta_{\\epsilon}(\\phi_s) f dV$$\n",
    "\n",
    "See [Osher and Fedkiw 2006]"
   ]
  },
  {
   "cell_type": "markdown",
   "metadata": {
    "hideCode": false,
    "hidePrompt": false,
    "slideshow": {
     "slide_type": "slide"
    }
   },
   "source": [
    "### Perturbations of existing terms\n",
    "---\n",
    "$$ \\tiny \\int_{\\Omega_f} \\left[\\frac{\\partial \\mathbf v }{\\partial t} - \\mathbf g + \\frac{\\nabla p}{\\rho(\\phi)} - \\delta_{\\epsilon}(\\phi_s) \\nu(\\phi) \\frac{\\partial \\mathbf v}{\\partial \\mathbf n} + \\delta_{\\epsilon}(\\phi_s) C(h_e)(\\mathbf v-\\mathbf v_s)\\right] \\mathbf{w} dV - \\int_{\\Omega_f} \\left[ \\mathbf v \\otimes \\mathbf v -  \\boldsymbol{\\tau}(\\phi)  - \\delta_{\\epsilon}(\\phi_s)\\nu(\\phi) \\mathbf{v} \\otimes \\mathbf{n} \\right] \\cdot \\nabla \\mathbf w dV  = 0$$\n",
    "\n",
    "- Implementation is straightforward, in existing loop over elements, update existing element integrals\n",
    "- At the same time, calculate $F_i$ and $M_i$ consistent with the Nitsche momentum flux"
   ]
  },
  {
   "cell_type": "markdown",
   "metadata": {
    "hideCode": false,
    "hidePrompt": false,
    "slideshow": {
     "slide_type": "slide"
    }
   },
   "source": [
    "### Air/water + DEM solid (sequential splitting)\n",
    "---\n",
    "1. $\\mathbf{v}^n,\\phi^n \\rightarrow \\phi^{n+1}$  (air/water interface)\n",
    "2. $\\mathbf{v}^n,\\phi^{n+1}, \\phi_{s,i}^n p^n \\rightarrow \\mathbf{v}^*, \\mathbf{F}^{n+1}_i, \\mathbf{M}^{n+1}_i$ (fluid flow)\n",
    "3. $\\mathbf{v}^* \\rightarrow \\mathbf{v}^{n+1}$ (velocity correction)\n",
    "4. $\\mathbf{v}^{n+1},p^{n} \\rightarrow p^{n+1}$ (pressure update)\n",
    "5. $\\mathbf{F}^{n+1}_i, \\mathbf{M}^{n+1}_i \\rightarrow \\phi_{s,i}$ (solid dynamics)\n",
    "\n",
    "1-4 are extensions of scheme from [Guermond and Salgado 2011]"
   ]
  },
  {
   "cell_type": "markdown",
   "metadata": {
    "hideCode": false,
    "hidePrompt": false,
    "slideshow": {
     "slide_type": "slide"
    }
   },
   "source": [
    "### Example 1: Wall\n",
    "---\n",
    "<video width=\"800\" src=\"https://rawgit.com/erdc-cm/proteus/add_fem_dem/notebooks/Presentations/FEMDEM/dambreakib.mp4\" controls>\n",
    "Your browser does not support the video tag\n",
    "</video>"
   ]
  },
  {
   "cell_type": "markdown",
   "metadata": {
    "hideCode": false,
    "hidePrompt": false,
    "slideshow": {
     "slide_type": "slide"
    }
   },
   "source": [
    "### Example 2: Flow around a cylinder\n",
    "---\n",
    "<video width=\"800\" src=\"https://rawgit.com/erdc-cm/proteus/add_fem_dem/notebooks/Presentations/FEMDEM/cylinder.mp4\" controls>\n",
    "Your browser does not support the video tag\n",
    "</video>"
   ]
  },
  {
   "cell_type": "markdown",
   "metadata": {
    "hideCode": false,
    "hidePrompt": false,
    "slideshow": {
     "slide_type": "slide"
    }
   },
   "source": [
    "### Conclusions\n",
    "---\n",
    "- Pro's:\n",
    " - Easy to implement\n",
    " - Fast\n",
    " - Straightforward evaluation consisent forces and moments\n",
    " - Works directly from general signed distance representation\n",
    "- Con's:\n",
    " - Probably $O(h)$\n",
    " - Requires resolution of solid boundary layer"
   ]
  },
  {
   "cell_type": "markdown",
   "metadata": {
    "hideCode": false,
    "hidePrompt": false,
    "slideshow": {
     "slide_type": "slide"
    }
   },
   "source": [
    "### Roadmap\n",
    "---\n",
    "- Complete coupling to project Chrono DEM and ERDC's in-house DEM\n",
    "- Investigate better smoothed/discrete Dirac functions, more analysis...\n",
    "- Re-enable surface tension and contact line motion\n",
    "- Thorough V&V suite for convergence and robustness\n",
    "- Extend implementation and compare to more sophisticated methods (e.g from this session, XFEM)\n",
    "- The code is open source https://github.com/erdc-cm/proteus\n",
    "- Post-doc and student internships are available"
   ]
  },
  {
   "cell_type": "markdown",
   "metadata": {
    "hideCode": false,
    "hidePrompt": false,
    "slideshow": {
     "slide_type": "slide"
    }
   },
   "source": [
    "### References"
   ]
  },
  {
   "cell_type": "markdown",
   "metadata": {
    "hideCode": false,
    "hidePrompt": false,
    "slideshow": {
     "slide_type": "slide"
    }
   },
   "source": [
    "###### C. E. Kees, I. Akkerman, M. W. Farthing, and Y. Bazilevs. \"A conservative level set method suitable for variable-order approximations and unstructured meshes\". J. Comput. Phys. 230, 12 (June 2011), 4536-4558.\n",
    "###### A. Tasora, D. Negrut, and M. Anitescu. \"Large-scale parallel multi-body dynamics with frictional contact on the graphical processing unit.\" Proceedings of the Institution of Mechanical Engineers, Part K: Journal of Multi-body Dynamics 222, no. 4 (2008): 315-326.\n",
    "###### R. Kawamoto, E. Ando, G. Viggiani, and J.E. Andrade, \"Level set discrete element method for three-dimensional computations with triaxial case study\"Journal of the Mechanics and Physics of Solids 91 (2016) 1–13\n",
    "###### J.Nitsche. \"Über ein Variationsprinzip zur Lösung von Dirichlet-Problemen bei Verwendung von Teilräumen, die keinen Randbedingungen unterworfen sind.\" Abhandlungen aus dem mathematischen Seminar der Universität Hamburg. Vol. 36. No. 1. Springer-Verlag, 1971.\n",
    "###### J.L. Guermond and A.J. Salgado, 2011. \"Error analysis of a fractional time-stepping technique for incompressible flows with variable density.\" SIAM Journal on Numerical Analysis, 49(3), pp.917-944.\n",
    "###### S. Osher, R. Fedkiw. **Level set methods and dynamic implicit surfaces.** Springer Science & Business Media; 2006 Apr 6."
   ]
  }
 ],
 "metadata": {
  "celltoolbar": "Hide code",
  "hide_code_all_hidden": false,
  "kernelspec": {
   "display_name": "Python 2",
   "language": "python",
   "name": "python2"
  },
  "language_info": {
   "codemirror_mode": {
    "name": "ipython",
    "version": 2
   },
   "file_extension": ".py",
   "mimetype": "text/x-python",
   "name": "python",
   "nbconvert_exporter": "python",
   "pygments_lexer": "ipython2",
   "version": "2.7.11"
  },
  "widgets": {
   "application/vnd.jupyter.widget-state+json": {
    "state": {
     "5e66221e19ab4e4290aa68d0b308fffa": {
      "model_module": "jupyter-js-widgets",
      "model_module_version": "~2.1.4",
      "model_name": "HTMLModel",
      "state": {
       "_model_module_version": "~2.1.4",
       "_view_module_version": "~2.1.4",
       "layout": "IPY_MODEL_b03f332c94d94627a2e96330175edb8b",
       "value": "<video width=\"800\" controls>\n<source type =\"video/mp4\" src=\"https://rawgit.com/erdc-cm/proteus/add_fem_dem/notebooks/Presentations/FEMDEM/cylinder.mp4\"/>\nYour browser does not support the video tag\n</video>"
      }
     },
     "b03f332c94d94627a2e96330175edb8b": {
      "model_module": "jupyter-js-widgets",
      "model_module_version": "~2.1.4",
      "model_name": "LayoutModel",
      "state": {
       "_model_module_version": "~2.1.4",
       "_view_module_version": "~2.1.4"
      }
     }
    },
    "version_major": 1,
    "version_minor": 0
   }
  }
 },
 "nbformat": 4,
 "nbformat_minor": 2
}
